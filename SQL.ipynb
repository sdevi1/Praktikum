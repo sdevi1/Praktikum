{
 "cells": [
  {
   "cell_type": "markdown",
   "metadata": {},
   "source": [
    "#  1. SQL запросы для получения данных"
   ]
  },
  {
   "cell_type": "markdown",
   "metadata": {},
   "source": [
    "1. Найдите количество рейсов на каждой модели самолёта с вылетом в сентябре 2018 года. Назовите получившееся поле flights_amount и выведите его. Также напечатайте на экране поле model.\n",
    "\n",
    "``` SQL\n",
    "SELECT\n",
    "    aircrafts.model AS model,\n",
    "    COUNT(flights.aircraft_code) AS flights_amount\n",
    "FROM\n",
    "    flights\n",
    "INNER JOIN aircrafts ON aircrafts.aircraft_code = flights.aircraft_code\n",
    "WHERE\n",
    "    departure_time::date BETWEEN '2018-09-01' AND '2018-09-30'\n",
    "GROUP BY\n",
    "    model\n",
    "```"
   ]
  },
  {
   "cell_type": "markdown",
   "metadata": {},
   "source": [
    "2. Посчитайте количество отправленных рейсов по всем моделям самолётов Boeing и Airbus в сентябре. Назовите получившуюся переменную flights_amount и выведите её.\n",
    "\n",
    "``` SQL\n",
    "SELECT\n",
    "    COUNT(flights.aircraft_code) AS flights_amount\n",
    "FROM\n",
    "    flights\n",
    "INNER JOIN aircrafts ON aircrafts.aircraft_code = flights.aircraft_code\n",
    "WHERE \n",
    "    (model LIKE 'Boeing%' OR model LIKE 'Airbus%')\n",
    "     AND EXTRACT(month from flights.departure_time :: date) = '09'\n",
    "```"
   ]
  },
  {
   "cell_type": "markdown",
   "metadata": {},
   "source": [
    "3. Посчитайте среднее количество прибывающих рейсов в день для каждого города за август 2018 года. Назовите получившееся поле average_flights, вместе с ним выведите столбец city.\n",
    "\n",
    "``` SQL\n",
    "SELECT\n",
    "    flights_august.city AS city,\n",
    "    AVG(flights_august.count_flights) AS average_flights\n",
    "FROM\n",
    "    (SELECT\n",
    "        COUNT(flights.flight_id) AS count_flights,\n",
    "        airports.city AS city,\n",
    "        flights.arrival_time::date AS date\n",
    "    FROM\n",
    "        airports\n",
    "    INNER JOIN flights ON airports.airport_code = flights.arrival_airport\n",
    "    WHERE\n",
    "        arrival_time::date BETWEEN '2018-08-01' AND '2018-08-31'\n",
    "    GROUP BY\n",
    "        city,\n",
    "        date) \n",
    "            AS flights_august\n",
    "GROUP BY\n",
    "    city\n",
    "```"
   ]
  },
  {
   "cell_type": "markdown",
   "metadata": {},
   "source": [
    "4. Установите фестивали, которые проходили с 23 июля по 30 сентября 2018 года в Москве, и номер недели, в которую они проходили. Выведите название фестиваля festival_name и номер недели festival_week.\n",
    "\n",
    "``` SQL\n",
    "SELECT\n",
    "    festival_name,\n",
    "    EXTRACT('week' FROM festival_date) AS festival_week\n",
    "FROM\n",
    "    festivals\n",
    "WHERE\n",
    "    festival_date BETWEEN '2018-07-23' AND '2018-09-30' AND festival_city = 'Москва'\n",
    "```"
   ]
  },
  {
   "cell_type": "markdown",
   "metadata": {},
   "source": [
    "5. Для каждой недели с 23 июля по 30 сентября 2018 года посчитайте количество приобретённых билетов в Москву. \n",
    "\n",
    "``` SQL\n",
    "SELECT \n",
    "\tT.week_number,\n",
    "\tT.ticket_amount,\n",
    "\tT.festival_week,\n",
    "\tT.festival_name\n",
    "FROM \n",
    "(\n",
    "(\n",
    "    SELECT\n",
    "        EXTRACT('week' FROM flights.arrival_time) AS week_number,\n",
    "        COUNT(ticket_flights.ticket_no) AS ticket_amount       \n",
    "    FROM\n",
    "       flights\n",
    "    INNER JOIN ticket_flights ON ticket_flights.flight_id= flights.flight_id\n",
    "    INNER JOIN airports ON airports.airport_code = flights.arrival_airport\n",
    "    WHERE\n",
    "        flights.departure_time::date BETWEEN '2018-07-23' AND '2018-09-30' \n",
    "        AND  airports.city = 'Москва'\n",
    "    GRoup BY\n",
    "        week_number\n",
    ") t\n",
    "LEFT JOIN \n",
    "(SELECT \t\t\n",
    "\t\tfestival_name,\t\n",
    "\t\tEXTRACT (week FROM festivals.festival_date) AS festival_week\n",
    "\tFROM \n",
    "\t\tfestivals\n",
    "\tWHERE\n",
    "\t\tfestival_city = 'Москва'\n",
    "\t  AND CAST(festivals.festival_date AS date) BETWEEN '2018-07-23' AND '2018-09-30'\n",
    ") t2 \n",
    "ON \n",
    "\tt.week_number = t2.festival_week\n",
    ") AS T;\n",
    "```"
   ]
  },
  {
   "cell_type": "markdown",
   "metadata": {},
   "source": [
    "**Аналитика средствами Python**\n",
    "\n",
    "У вас есть файлы, в которых содержатся результаты запросов из предыдущих заданий.\n",
    "\n",
    "**query_1.csv** — результат первого запроса. В нём содержится такая информация:\n",
    "\n",
    "- *model* — **модель самолета;\n",
    "- *flights_amount* — количество рейсов для каждой модели самолетов *model* в сентябре 2018 года.\n",
    "\n",
    "**query_3.csv** — результат третьего запроса. В нём содержится такая информация:\n",
    "\n",
    "- *city* — город;\n",
    "- *average_flights* — среднее количество рейсов, прибывающих в город (*city*) за день в сентябре 2018 года.\n",
    "\n",
    " Для этих двух наборов данных нужно:\n",
    "\n",
    "- импортировать файлы;\n",
    "- изучить данные в них;\n",
    "- проверить типы данных на корректность;\n",
    "- выбрать топ-10 городов по количеству рейсов;\n",
    "- построить графики: модели самолётов и количество рейсов, города и количество рейсов, топ-10 городов и количество рейсов;\n",
    "- сделать выводы по каждому из графиков, пояснить результат.\n",
    "\n",
    "**Шаг 2.  Проверка гипотезы средствами Python**\n",
    "\n",
    "**query_last.csv** — результат последнего запроса. В нём следующая информация:\n",
    "\n",
    "- *week_number* — **номер недели;\n",
    "- *ticket_amount* — количество проданных билетов за неделю;\n",
    "- *festival_week —* есть ли на этой неделе фестиваль;\n",
    "- *festival_name —* название фестиваля.\n",
    "\n",
    "Проверьте гипотезу: «Средний спрос на билеты во время фестивалей не отличается от среднего спроса на билеты в обычное время».\n",
    "\n",
    "Пороговое значение *alpha* задайте самостоятельно.\n",
    "\n",
    "Поясните:\n",
    "\n",
    "- Как вы формулировали нулевую и альтернативную гипотезы;\n",
    "- Какой критерий использовали для проверки гипотез и почему."
   ]
  },
  {
   "cell_type": "markdown",
   "metadata": {},
   "source": [
    "# 2. Аналитика"
   ]
  },
  {
   "cell_type": "markdown",
   "metadata": {},
   "source": [
    "pip install plotly==4.8.1 --user"
   ]
  },
  {
   "cell_type": "markdown",
   "metadata": {},
   "source": [
    "pip install chart_studio"
   ]
  },
  {
   "cell_type": "markdown",
   "metadata": {},
   "source": [
    "pip install cufflinks plotly --user"
   ]
  },
  {
   "cell_type": "code",
   "execution_count": 1,
   "metadata": {},
   "outputs": [
    {
     "data": {
      "text/html": [
       "        <script type=\"text/javascript\">\n",
       "        window.PlotlyConfig = {MathJaxConfig: 'local'};\n",
       "        if (window.MathJax) {MathJax.Hub.Config({SVG: {font: \"STIX-Web\"}});}\n",
       "        if (typeof require !== 'undefined') {\n",
       "        require.undef(\"plotly\");\n",
       "        requirejs.config({\n",
       "            paths: {\n",
       "                'plotly': ['https://cdn.plot.ly/plotly-latest.min']\n",
       "            }\n",
       "        });\n",
       "        require(['plotly'], function(Plotly) {\n",
       "            window._Plotly = Plotly;\n",
       "        });\n",
       "        }\n",
       "        </script>\n",
       "        "
      ]
     },
     "metadata": {},
     "output_type": "display_data"
    },
    {
     "data": {
      "text/html": [
       "        <script type=\"text/javascript\">\n",
       "        window.PlotlyConfig = {MathJaxConfig: 'local'};\n",
       "        if (window.MathJax) {MathJax.Hub.Config({SVG: {font: \"STIX-Web\"}});}\n",
       "        if (typeof require !== 'undefined') {\n",
       "        require.undef(\"plotly\");\n",
       "        requirejs.config({\n",
       "            paths: {\n",
       "                'plotly': ['https://cdn.plot.ly/plotly-latest.min']\n",
       "            }\n",
       "        });\n",
       "        require(['plotly'], function(Plotly) {\n",
       "            window._Plotly = Plotly;\n",
       "        });\n",
       "        }\n",
       "        </script>\n",
       "        "
      ]
     },
     "metadata": {},
     "output_type": "display_data"
    }
   ],
   "source": [
    "#ипортируем необходимые библиотеки\n",
    "import pandas as pd\n",
    "import seaborn as sns\n",
    "import matplotlib.pyplot as plt\n",
    "from scipy import stats as st\n",
    "\n",
    "# Стандартные импорты plotly\n",
    "import chart_studio.plotly as py\n",
    "import plotly.graph_objs as go\n",
    "from plotly.offline import iplot\n",
    "import cufflinks as cf\n",
    "cf.go_offline()\n",
    "import plotly.express as px\n",
    "# Устанавливаем глобальную тему \n",
    "cf.set_config_file(world_readable=True, theme='pearl', offline=True)"
   ]
  },
  {
   "cell_type": "code",
   "execution_count": 2,
   "metadata": {},
   "outputs": [],
   "source": [
    "#импортируем датасеты\n",
    "model_flights = pd.read_csv('/home/andrey/Datasets/query_1.csv')\n",
    "city_average = pd.read_csv('/home/andrey/Datasets/query_3.csv')\n",
    "last = pd.read_csv('//home/andrey/Datasets/query_last.csv')"
   ]
  },
  {
   "cell_type": "code",
   "execution_count": 3,
   "metadata": {},
   "outputs": [
    {
     "name": "stdout",
     "output_type": "stream",
     "text": [
      "<class 'pandas.core.frame.DataFrame'>\n",
      "RangeIndex: 8 entries, 0 to 7\n",
      "Data columns (total 2 columns):\n",
      " #   Column          Non-Null Count  Dtype \n",
      "---  ------          --------------  ----- \n",
      " 0   model           8 non-null      object\n",
      " 1   flights_amount  8 non-null      int64 \n",
      "dtypes: int64(1), object(1)\n",
      "memory usage: 256.0+ bytes\n",
      "None\n",
      "_____________________\n",
      "       flights_amount\n",
      "count        8.000000\n",
      "mean      2035.625000\n",
      "std       1965.203947\n",
      "min        300.000000\n",
      "25%        605.250000\n",
      "50%        795.000000\n",
      "75%       4250.250000\n",
      "max       4557.000000\n"
     ]
    },
    {
     "data": {
      "text/html": [
       "<div>\n",
       "<style scoped>\n",
       "    .dataframe tbody tr th:only-of-type {\n",
       "        vertical-align: middle;\n",
       "    }\n",
       "\n",
       "    .dataframe tbody tr th {\n",
       "        vertical-align: top;\n",
       "    }\n",
       "\n",
       "    .dataframe thead th {\n",
       "        text-align: right;\n",
       "    }\n",
       "</style>\n",
       "<table border=\"1\" class=\"dataframe\">\n",
       "  <thead>\n",
       "    <tr style=\"text-align: right;\">\n",
       "      <th></th>\n",
       "      <th>model</th>\n",
       "      <th>flights_amount</th>\n",
       "    </tr>\n",
       "  </thead>\n",
       "  <tbody>\n",
       "    <tr>\n",
       "      <th>0</th>\n",
       "      <td>Airbus A319-100</td>\n",
       "      <td>607</td>\n",
       "    </tr>\n",
       "    <tr>\n",
       "      <th>1</th>\n",
       "      <td>Airbus A321-200</td>\n",
       "      <td>960</td>\n",
       "    </tr>\n",
       "    <tr>\n",
       "      <th>2</th>\n",
       "      <td>Boeing 737-300</td>\n",
       "      <td>630</td>\n",
       "    </tr>\n",
       "    <tr>\n",
       "      <th>3</th>\n",
       "      <td>Boeing 767-300</td>\n",
       "      <td>600</td>\n",
       "    </tr>\n",
       "    <tr>\n",
       "      <th>4</th>\n",
       "      <td>Boeing 777-300</td>\n",
       "      <td>300</td>\n",
       "    </tr>\n",
       "    <tr>\n",
       "      <th>5</th>\n",
       "      <td>Bombardier CRJ-200</td>\n",
       "      <td>4446</td>\n",
       "    </tr>\n",
       "    <tr>\n",
       "      <th>6</th>\n",
       "      <td>Cessna 208 Caravan</td>\n",
       "      <td>4557</td>\n",
       "    </tr>\n",
       "    <tr>\n",
       "      <th>7</th>\n",
       "      <td>Sukhoi SuperJet-100</td>\n",
       "      <td>4185</td>\n",
       "    </tr>\n",
       "  </tbody>\n",
       "</table>\n",
       "</div>"
      ],
      "text/plain": [
       "                 model  flights_amount\n",
       "0      Airbus A319-100             607\n",
       "1      Airbus A321-200             960\n",
       "2       Boeing 737-300             630\n",
       "3       Boeing 767-300             600\n",
       "4       Boeing 777-300             300\n",
       "5   Bombardier CRJ-200            4446\n",
       "6   Cessna 208 Caravan            4557\n",
       "7  Sukhoi SuperJet-100            4185"
      ]
     },
     "execution_count": 3,
     "metadata": {},
     "output_type": "execute_result"
    }
   ],
   "source": [
    "#изучим данные\n",
    "print(model_flights.info())\n",
    "print('_____________________')\n",
    "print(model_flights.describe())\n",
    "model_flights.head(10)"
   ]
  },
  {
   "cell_type": "code",
   "execution_count": 4,
   "metadata": {},
   "outputs": [
    {
     "name": "stdout",
     "output_type": "stream",
     "text": [
      "<class 'pandas.core.frame.DataFrame'>\n",
      "RangeIndex: 101 entries, 0 to 100\n",
      "Data columns (total 2 columns):\n",
      " #   Column           Non-Null Count  Dtype  \n",
      "---  ------           --------------  -----  \n",
      " 0   city             101 non-null    object \n",
      " 1   average_flights  101 non-null    float64\n",
      "dtypes: float64(1), object(1)\n",
      "memory usage: 1.7+ KB\n",
      "None\n",
      "_____________________\n",
      "       average_flights\n",
      "count       101.000000\n",
      "mean          5.494189\n",
      "std          13.119790\n",
      "min           1.000000\n",
      "25%           2.000000\n",
      "50%           3.000000\n",
      "75%           5.870968\n",
      "max         129.774194\n"
     ]
    },
    {
     "data": {
      "text/html": [
       "<div>\n",
       "<style scoped>\n",
       "    .dataframe tbody tr th:only-of-type {\n",
       "        vertical-align: middle;\n",
       "    }\n",
       "\n",
       "    .dataframe tbody tr th {\n",
       "        vertical-align: top;\n",
       "    }\n",
       "\n",
       "    .dataframe thead th {\n",
       "        text-align: right;\n",
       "    }\n",
       "</style>\n",
       "<table border=\"1\" class=\"dataframe\">\n",
       "  <thead>\n",
       "    <tr style=\"text-align: right;\">\n",
       "      <th></th>\n",
       "      <th>city</th>\n",
       "      <th>average_flights</th>\n",
       "    </tr>\n",
       "  </thead>\n",
       "  <tbody>\n",
       "    <tr>\n",
       "      <th>0</th>\n",
       "      <td>Абакан</td>\n",
       "      <td>3.870968</td>\n",
       "    </tr>\n",
       "    <tr>\n",
       "      <th>1</th>\n",
       "      <td>Анадырь</td>\n",
       "      <td>1.000000</td>\n",
       "    </tr>\n",
       "    <tr>\n",
       "      <th>2</th>\n",
       "      <td>Анапа</td>\n",
       "      <td>2.161290</td>\n",
       "    </tr>\n",
       "    <tr>\n",
       "      <th>3</th>\n",
       "      <td>Архангельск</td>\n",
       "      <td>5.354839</td>\n",
       "    </tr>\n",
       "    <tr>\n",
       "      <th>4</th>\n",
       "      <td>Астрахань</td>\n",
       "      <td>2.451613</td>\n",
       "    </tr>\n",
       "  </tbody>\n",
       "</table>\n",
       "</div>"
      ],
      "text/plain": [
       "          city  average_flights\n",
       "0       Абакан         3.870968\n",
       "1      Анадырь         1.000000\n",
       "2        Анапа         2.161290\n",
       "3  Архангельск         5.354839\n",
       "4    Астрахань         2.451613"
      ]
     },
     "execution_count": 4,
     "metadata": {},
     "output_type": "execute_result"
    }
   ],
   "source": [
    "print(city_average.info())\n",
    "print('_____________________')\n",
    "print(city_average.describe())\n",
    "city_average.head()"
   ]
  },
  {
   "cell_type": "markdown",
   "metadata": {},
   "source": [
    "Есть 8 записей по моделям самолета, и 101 запись с городами, данные выглядят корректно. При этом, среднее количество полётов каждой модели достаточно сильно отличается."
   ]
  },
  {
   "cell_type": "code",
   "execution_count": 5,
   "metadata": {},
   "outputs": [
    {
     "name": "stdout",
     "output_type": "stream",
     "text": [
      "<class 'pandas.core.frame.DataFrame'>\n",
      "RangeIndex: 10 entries, 0 to 9\n",
      "Data columns (total 4 columns):\n",
      " #   Column         Non-Null Count  Dtype  \n",
      "---  ------         --------------  -----  \n",
      " 0   week_number    10 non-null     int64  \n",
      " 1   ticket_amount  10 non-null     int64  \n",
      " 2   festival_week  3 non-null      float64\n",
      " 3   festival_name  3 non-null      object \n",
      "dtypes: float64(1), int64(2), object(1)\n",
      "memory usage: 448.0+ bytes\n",
      "None\n",
      "_____________________\n",
      "       week_number  ticket_amount  festival_week\n",
      "count     10.00000      10.000000       3.000000\n",
      "mean      34.50000   50670.400000      32.333333\n",
      "std        3.02765    2502.752716       3.214550\n",
      "min       30.00000   43568.000000      30.000000\n",
      "25%       32.25000   51364.500000      30.500000\n",
      "50%       34.50000   51439.000000      31.000000\n",
      "75%       36.75000   51596.750000      33.500000\n",
      "max       39.00000   51675.000000      36.000000\n"
     ]
    },
    {
     "data": {
      "text/html": [
       "<div>\n",
       "<style scoped>\n",
       "    .dataframe tbody tr th:only-of-type {\n",
       "        vertical-align: middle;\n",
       "    }\n",
       "\n",
       "    .dataframe tbody tr th {\n",
       "        vertical-align: top;\n",
       "    }\n",
       "\n",
       "    .dataframe thead th {\n",
       "        text-align: right;\n",
       "    }\n",
       "</style>\n",
       "<table border=\"1\" class=\"dataframe\">\n",
       "  <thead>\n",
       "    <tr style=\"text-align: right;\">\n",
       "      <th></th>\n",
       "      <th>week_number</th>\n",
       "      <th>ticket_amount</th>\n",
       "      <th>festival_week</th>\n",
       "      <th>festival_name</th>\n",
       "    </tr>\n",
       "  </thead>\n",
       "  <tbody>\n",
       "    <tr>\n",
       "      <th>0</th>\n",
       "      <td>30</td>\n",
       "      <td>43568</td>\n",
       "      <td>30.0</td>\n",
       "      <td>Park Live</td>\n",
       "    </tr>\n",
       "    <tr>\n",
       "      <th>1</th>\n",
       "      <td>31</td>\n",
       "      <td>51034</td>\n",
       "      <td>31.0</td>\n",
       "      <td>Пикник Афиши</td>\n",
       "    </tr>\n",
       "    <tr>\n",
       "      <th>2</th>\n",
       "      <td>32</td>\n",
       "      <td>51675</td>\n",
       "      <td>NaN</td>\n",
       "      <td>NaN</td>\n",
       "    </tr>\n",
       "    <tr>\n",
       "      <th>3</th>\n",
       "      <td>33</td>\n",
       "      <td>51378</td>\n",
       "      <td>NaN</td>\n",
       "      <td>NaN</td>\n",
       "    </tr>\n",
       "    <tr>\n",
       "      <th>4</th>\n",
       "      <td>34</td>\n",
       "      <td>51492</td>\n",
       "      <td>NaN</td>\n",
       "      <td>NaN</td>\n",
       "    </tr>\n",
       "  </tbody>\n",
       "</table>\n",
       "</div>"
      ],
      "text/plain": [
       "   week_number  ticket_amount  festival_week festival_name\n",
       "0           30          43568           30.0     Park Live\n",
       "1           31          51034           31.0  Пикник Афиши\n",
       "2           32          51675            NaN           NaN\n",
       "3           33          51378            NaN           NaN\n",
       "4           34          51492            NaN           NaN"
      ]
     },
     "execution_count": 5,
     "metadata": {},
     "output_type": "execute_result"
    }
   ],
   "source": [
    "print(last.info())\n",
    "print('_____________________')\n",
    "print(last.describe())\n",
    "last.head()"
   ]
  },
  {
   "cell_type": "markdown",
   "metadata": {},
   "source": [
    "Только в третьем таблице (last) есть некорректный тип данных, в столбце festival_week тип данных указан как float64 заменим его на int64 пропущенные значения заменим на нули. "
   ]
  },
  {
   "cell_type": "code",
   "execution_count": 6,
   "metadata": {},
   "outputs": [],
   "source": [
    "last['festival_week'] = last['festival_week'].fillna(0).astype('int')"
   ]
  },
  {
   "cell_type": "code",
   "execution_count": 7,
   "metadata": {},
   "outputs": [
    {
     "data": {
      "text/html": [
       "<div>\n",
       "<style scoped>\n",
       "    .dataframe tbody tr th:only-of-type {\n",
       "        vertical-align: middle;\n",
       "    }\n",
       "\n",
       "    .dataframe tbody tr th {\n",
       "        vertical-align: top;\n",
       "    }\n",
       "\n",
       "    .dataframe thead th {\n",
       "        text-align: right;\n",
       "    }\n",
       "</style>\n",
       "<table border=\"1\" class=\"dataframe\">\n",
       "  <thead>\n",
       "    <tr style=\"text-align: right;\">\n",
       "      <th></th>\n",
       "      <th>city</th>\n",
       "      <th>average_flights</th>\n",
       "    </tr>\n",
       "  </thead>\n",
       "  <tbody>\n",
       "    <tr>\n",
       "      <th>43</th>\n",
       "      <td>Москва</td>\n",
       "      <td>129.774194</td>\n",
       "    </tr>\n",
       "    <tr>\n",
       "      <th>70</th>\n",
       "      <td>Санкт-Петербург</td>\n",
       "      <td>31.161290</td>\n",
       "    </tr>\n",
       "    <tr>\n",
       "      <th>54</th>\n",
       "      <td>Новосибирск</td>\n",
       "      <td>17.322581</td>\n",
       "    </tr>\n",
       "    <tr>\n",
       "      <th>33</th>\n",
       "      <td>Красноярск</td>\n",
       "      <td>11.580645</td>\n",
       "    </tr>\n",
       "    <tr>\n",
       "      <th>20</th>\n",
       "      <td>Екатеринбург</td>\n",
       "      <td>11.322581</td>\n",
       "    </tr>\n",
       "    <tr>\n",
       "      <th>67</th>\n",
       "      <td>Ростов-на-Дону</td>\n",
       "      <td>10.193548</td>\n",
       "    </tr>\n",
       "    <tr>\n",
       "      <th>63</th>\n",
       "      <td>Пермь</td>\n",
       "      <td>10.129032</td>\n",
       "    </tr>\n",
       "    <tr>\n",
       "      <th>10</th>\n",
       "      <td>Брянск</td>\n",
       "      <td>10.000000</td>\n",
       "    </tr>\n",
       "    <tr>\n",
       "      <th>74</th>\n",
       "      <td>Сочи</td>\n",
       "      <td>9.612903</td>\n",
       "    </tr>\n",
       "    <tr>\n",
       "      <th>84</th>\n",
       "      <td>Ульяновск</td>\n",
       "      <td>9.580645</td>\n",
       "    </tr>\n",
       "  </tbody>\n",
       "</table>\n",
       "</div>"
      ],
      "text/plain": [
       "               city  average_flights\n",
       "43           Москва       129.774194\n",
       "70  Санкт-Петербург        31.161290\n",
       "54      Новосибирск        17.322581\n",
       "33       Красноярск        11.580645\n",
       "20     Екатеринбург        11.322581\n",
       "67   Ростов-на-Дону        10.193548\n",
       "63            Пермь        10.129032\n",
       "10           Брянск        10.000000\n",
       "74             Сочи         9.612903\n",
       "84        Ульяновск         9.580645"
      ]
     },
     "execution_count": 7,
     "metadata": {},
     "output_type": "execute_result"
    }
   ],
   "source": [
    "#найдём топ 10 городов по количеству полётов.\n",
    "top_10_city = city_average.sort_values(by = \"average_flights\", ascending=False).head(10)\n",
    "top_10_city"
   ]
  },
  {
   "cell_type": "markdown",
   "metadata": {},
   "source": [
    "Весьма логично. что в топ вошли самые крупные Российские города. При этом Москва многократно опережает другие города."
   ]
  },
  {
   "cell_type": "code",
   "execution_count": 8,
   "metadata": {},
   "outputs": [
    {
     "data": {
      "application/vnd.plotly.v1+json": {
       "config": {
        "plotlyServerURL": "https://plot.ly"
       },
       "data": [
        {
         "alignmentgroup": "True",
         "hovertemplate": "model=%{x}<br>flights_amount=%{y}<extra></extra>",
         "legendgroup": "Airbus A319-100",
         "marker": {
          "color": "#636efa"
         },
         "name": "Airbus A319-100",
         "offsetgroup": "Airbus A319-100",
         "orientation": "v",
         "showlegend": true,
         "textposition": "auto",
         "type": "bar",
         "x": [
          "Airbus A319-100"
         ],
         "xaxis": "x",
         "y": [
          607
         ],
         "yaxis": "y"
        },
        {
         "alignmentgroup": "True",
         "hovertemplate": "model=%{x}<br>flights_amount=%{y}<extra></extra>",
         "legendgroup": "Airbus A321-200",
         "marker": {
          "color": "#EF553B"
         },
         "name": "Airbus A321-200",
         "offsetgroup": "Airbus A321-200",
         "orientation": "v",
         "showlegend": true,
         "textposition": "auto",
         "type": "bar",
         "x": [
          "Airbus A321-200"
         ],
         "xaxis": "x",
         "y": [
          960
         ],
         "yaxis": "y"
        },
        {
         "alignmentgroup": "True",
         "hovertemplate": "model=%{x}<br>flights_amount=%{y}<extra></extra>",
         "legendgroup": "Boeing 737-300",
         "marker": {
          "color": "#00cc96"
         },
         "name": "Boeing 737-300",
         "offsetgroup": "Boeing 737-300",
         "orientation": "v",
         "showlegend": true,
         "textposition": "auto",
         "type": "bar",
         "x": [
          "Boeing 737-300"
         ],
         "xaxis": "x",
         "y": [
          630
         ],
         "yaxis": "y"
        },
        {
         "alignmentgroup": "True",
         "hovertemplate": "model=%{x}<br>flights_amount=%{y}<extra></extra>",
         "legendgroup": "Boeing 767-300",
         "marker": {
          "color": "#ab63fa"
         },
         "name": "Boeing 767-300",
         "offsetgroup": "Boeing 767-300",
         "orientation": "v",
         "showlegend": true,
         "textposition": "auto",
         "type": "bar",
         "x": [
          "Boeing 767-300"
         ],
         "xaxis": "x",
         "y": [
          600
         ],
         "yaxis": "y"
        },
        {
         "alignmentgroup": "True",
         "hovertemplate": "model=%{x}<br>flights_amount=%{y}<extra></extra>",
         "legendgroup": "Boeing 777-300",
         "marker": {
          "color": "#FFA15A"
         },
         "name": "Boeing 777-300",
         "offsetgroup": "Boeing 777-300",
         "orientation": "v",
         "showlegend": true,
         "textposition": "auto",
         "type": "bar",
         "x": [
          "Boeing 777-300"
         ],
         "xaxis": "x",
         "y": [
          300
         ],
         "yaxis": "y"
        },
        {
         "alignmentgroup": "True",
         "hovertemplate": "model=%{x}<br>flights_amount=%{y}<extra></extra>",
         "legendgroup": "Bombardier CRJ-200",
         "marker": {
          "color": "#19d3f3"
         },
         "name": "Bombardier CRJ-200",
         "offsetgroup": "Bombardier CRJ-200",
         "orientation": "v",
         "showlegend": true,
         "textposition": "auto",
         "type": "bar",
         "x": [
          "Bombardier CRJ-200"
         ],
         "xaxis": "x",
         "y": [
          4446
         ],
         "yaxis": "y"
        },
        {
         "alignmentgroup": "True",
         "hovertemplate": "model=%{x}<br>flights_amount=%{y}<extra></extra>",
         "legendgroup": "Cessna 208 Caravan",
         "marker": {
          "color": "#FF6692"
         },
         "name": "Cessna 208 Caravan",
         "offsetgroup": "Cessna 208 Caravan",
         "orientation": "v",
         "showlegend": true,
         "textposition": "auto",
         "type": "bar",
         "x": [
          "Cessna 208 Caravan"
         ],
         "xaxis": "x",
         "y": [
          4557
         ],
         "yaxis": "y"
        },
        {
         "alignmentgroup": "True",
         "hovertemplate": "model=%{x}<br>flights_amount=%{y}<extra></extra>",
         "legendgroup": "Sukhoi SuperJet-100",
         "marker": {
          "color": "#B6E880"
         },
         "name": "Sukhoi SuperJet-100",
         "offsetgroup": "Sukhoi SuperJet-100",
         "orientation": "v",
         "showlegend": true,
         "textposition": "auto",
         "type": "bar",
         "x": [
          "Sukhoi SuperJet-100"
         ],
         "xaxis": "x",
         "y": [
          4185
         ],
         "yaxis": "y"
        }
       ],
       "layout": {
        "barmode": "relative",
        "height": 400,
        "legend": {
         "title": {
          "text": "model"
         },
         "tracegroupgap": 0
        },
        "template": {
         "data": {
          "bar": [
           {
            "error_x": {
             "color": "#2a3f5f"
            },
            "error_y": {
             "color": "#2a3f5f"
            },
            "marker": {
             "line": {
              "color": "#E5ECF6",
              "width": 0.5
             }
            },
            "type": "bar"
           }
          ],
          "barpolar": [
           {
            "marker": {
             "line": {
              "color": "#E5ECF6",
              "width": 0.5
             }
            },
            "type": "barpolar"
           }
          ],
          "carpet": [
           {
            "aaxis": {
             "endlinecolor": "#2a3f5f",
             "gridcolor": "white",
             "linecolor": "white",
             "minorgridcolor": "white",
             "startlinecolor": "#2a3f5f"
            },
            "baxis": {
             "endlinecolor": "#2a3f5f",
             "gridcolor": "white",
             "linecolor": "white",
             "minorgridcolor": "white",
             "startlinecolor": "#2a3f5f"
            },
            "type": "carpet"
           }
          ],
          "choropleth": [
           {
            "colorbar": {
             "outlinewidth": 0,
             "ticks": ""
            },
            "type": "choropleth"
           }
          ],
          "contour": [
           {
            "colorbar": {
             "outlinewidth": 0,
             "ticks": ""
            },
            "colorscale": [
             [
              0,
              "#0d0887"
             ],
             [
              0.1111111111111111,
              "#46039f"
             ],
             [
              0.2222222222222222,
              "#7201a8"
             ],
             [
              0.3333333333333333,
              "#9c179e"
             ],
             [
              0.4444444444444444,
              "#bd3786"
             ],
             [
              0.5555555555555556,
              "#d8576b"
             ],
             [
              0.6666666666666666,
              "#ed7953"
             ],
             [
              0.7777777777777778,
              "#fb9f3a"
             ],
             [
              0.8888888888888888,
              "#fdca26"
             ],
             [
              1,
              "#f0f921"
             ]
            ],
            "type": "contour"
           }
          ],
          "contourcarpet": [
           {
            "colorbar": {
             "outlinewidth": 0,
             "ticks": ""
            },
            "type": "contourcarpet"
           }
          ],
          "heatmap": [
           {
            "colorbar": {
             "outlinewidth": 0,
             "ticks": ""
            },
            "colorscale": [
             [
              0,
              "#0d0887"
             ],
             [
              0.1111111111111111,
              "#46039f"
             ],
             [
              0.2222222222222222,
              "#7201a8"
             ],
             [
              0.3333333333333333,
              "#9c179e"
             ],
             [
              0.4444444444444444,
              "#bd3786"
             ],
             [
              0.5555555555555556,
              "#d8576b"
             ],
             [
              0.6666666666666666,
              "#ed7953"
             ],
             [
              0.7777777777777778,
              "#fb9f3a"
             ],
             [
              0.8888888888888888,
              "#fdca26"
             ],
             [
              1,
              "#f0f921"
             ]
            ],
            "type": "heatmap"
           }
          ],
          "heatmapgl": [
           {
            "colorbar": {
             "outlinewidth": 0,
             "ticks": ""
            },
            "colorscale": [
             [
              0,
              "#0d0887"
             ],
             [
              0.1111111111111111,
              "#46039f"
             ],
             [
              0.2222222222222222,
              "#7201a8"
             ],
             [
              0.3333333333333333,
              "#9c179e"
             ],
             [
              0.4444444444444444,
              "#bd3786"
             ],
             [
              0.5555555555555556,
              "#d8576b"
             ],
             [
              0.6666666666666666,
              "#ed7953"
             ],
             [
              0.7777777777777778,
              "#fb9f3a"
             ],
             [
              0.8888888888888888,
              "#fdca26"
             ],
             [
              1,
              "#f0f921"
             ]
            ],
            "type": "heatmapgl"
           }
          ],
          "histogram": [
           {
            "marker": {
             "colorbar": {
              "outlinewidth": 0,
              "ticks": ""
             }
            },
            "type": "histogram"
           }
          ],
          "histogram2d": [
           {
            "colorbar": {
             "outlinewidth": 0,
             "ticks": ""
            },
            "colorscale": [
             [
              0,
              "#0d0887"
             ],
             [
              0.1111111111111111,
              "#46039f"
             ],
             [
              0.2222222222222222,
              "#7201a8"
             ],
             [
              0.3333333333333333,
              "#9c179e"
             ],
             [
              0.4444444444444444,
              "#bd3786"
             ],
             [
              0.5555555555555556,
              "#d8576b"
             ],
             [
              0.6666666666666666,
              "#ed7953"
             ],
             [
              0.7777777777777778,
              "#fb9f3a"
             ],
             [
              0.8888888888888888,
              "#fdca26"
             ],
             [
              1,
              "#f0f921"
             ]
            ],
            "type": "histogram2d"
           }
          ],
          "histogram2dcontour": [
           {
            "colorbar": {
             "outlinewidth": 0,
             "ticks": ""
            },
            "colorscale": [
             [
              0,
              "#0d0887"
             ],
             [
              0.1111111111111111,
              "#46039f"
             ],
             [
              0.2222222222222222,
              "#7201a8"
             ],
             [
              0.3333333333333333,
              "#9c179e"
             ],
             [
              0.4444444444444444,
              "#bd3786"
             ],
             [
              0.5555555555555556,
              "#d8576b"
             ],
             [
              0.6666666666666666,
              "#ed7953"
             ],
             [
              0.7777777777777778,
              "#fb9f3a"
             ],
             [
              0.8888888888888888,
              "#fdca26"
             ],
             [
              1,
              "#f0f921"
             ]
            ],
            "type": "histogram2dcontour"
           }
          ],
          "mesh3d": [
           {
            "colorbar": {
             "outlinewidth": 0,
             "ticks": ""
            },
            "type": "mesh3d"
           }
          ],
          "parcoords": [
           {
            "line": {
             "colorbar": {
              "outlinewidth": 0,
              "ticks": ""
             }
            },
            "type": "parcoords"
           }
          ],
          "pie": [
           {
            "automargin": true,
            "type": "pie"
           }
          ],
          "scatter": [
           {
            "marker": {
             "colorbar": {
              "outlinewidth": 0,
              "ticks": ""
             }
            },
            "type": "scatter"
           }
          ],
          "scatter3d": [
           {
            "line": {
             "colorbar": {
              "outlinewidth": 0,
              "ticks": ""
             }
            },
            "marker": {
             "colorbar": {
              "outlinewidth": 0,
              "ticks": ""
             }
            },
            "type": "scatter3d"
           }
          ],
          "scattercarpet": [
           {
            "marker": {
             "colorbar": {
              "outlinewidth": 0,
              "ticks": ""
             }
            },
            "type": "scattercarpet"
           }
          ],
          "scattergeo": [
           {
            "marker": {
             "colorbar": {
              "outlinewidth": 0,
              "ticks": ""
             }
            },
            "type": "scattergeo"
           }
          ],
          "scattergl": [
           {
            "marker": {
             "colorbar": {
              "outlinewidth": 0,
              "ticks": ""
             }
            },
            "type": "scattergl"
           }
          ],
          "scattermapbox": [
           {
            "marker": {
             "colorbar": {
              "outlinewidth": 0,
              "ticks": ""
             }
            },
            "type": "scattermapbox"
           }
          ],
          "scatterpolar": [
           {
            "marker": {
             "colorbar": {
              "outlinewidth": 0,
              "ticks": ""
             }
            },
            "type": "scatterpolar"
           }
          ],
          "scatterpolargl": [
           {
            "marker": {
             "colorbar": {
              "outlinewidth": 0,
              "ticks": ""
             }
            },
            "type": "scatterpolargl"
           }
          ],
          "scatterternary": [
           {
            "marker": {
             "colorbar": {
              "outlinewidth": 0,
              "ticks": ""
             }
            },
            "type": "scatterternary"
           }
          ],
          "surface": [
           {
            "colorbar": {
             "outlinewidth": 0,
             "ticks": ""
            },
            "colorscale": [
             [
              0,
              "#0d0887"
             ],
             [
              0.1111111111111111,
              "#46039f"
             ],
             [
              0.2222222222222222,
              "#7201a8"
             ],
             [
              0.3333333333333333,
              "#9c179e"
             ],
             [
              0.4444444444444444,
              "#bd3786"
             ],
             [
              0.5555555555555556,
              "#d8576b"
             ],
             [
              0.6666666666666666,
              "#ed7953"
             ],
             [
              0.7777777777777778,
              "#fb9f3a"
             ],
             [
              0.8888888888888888,
              "#fdca26"
             ],
             [
              1,
              "#f0f921"
             ]
            ],
            "type": "surface"
           }
          ],
          "table": [
           {
            "cells": {
             "fill": {
              "color": "#EBF0F8"
             },
             "line": {
              "color": "white"
             }
            },
            "header": {
             "fill": {
              "color": "#C8D4E3"
             },
             "line": {
              "color": "white"
             }
            },
            "type": "table"
           }
          ]
         },
         "layout": {
          "annotationdefaults": {
           "arrowcolor": "#2a3f5f",
           "arrowhead": 0,
           "arrowwidth": 1
          },
          "coloraxis": {
           "colorbar": {
            "outlinewidth": 0,
            "ticks": ""
           }
          },
          "colorscale": {
           "diverging": [
            [
             0,
             "#8e0152"
            ],
            [
             0.1,
             "#c51b7d"
            ],
            [
             0.2,
             "#de77ae"
            ],
            [
             0.3,
             "#f1b6da"
            ],
            [
             0.4,
             "#fde0ef"
            ],
            [
             0.5,
             "#f7f7f7"
            ],
            [
             0.6,
             "#e6f5d0"
            ],
            [
             0.7,
             "#b8e186"
            ],
            [
             0.8,
             "#7fbc41"
            ],
            [
             0.9,
             "#4d9221"
            ],
            [
             1,
             "#276419"
            ]
           ],
           "sequential": [
            [
             0,
             "#0d0887"
            ],
            [
             0.1111111111111111,
             "#46039f"
            ],
            [
             0.2222222222222222,
             "#7201a8"
            ],
            [
             0.3333333333333333,
             "#9c179e"
            ],
            [
             0.4444444444444444,
             "#bd3786"
            ],
            [
             0.5555555555555556,
             "#d8576b"
            ],
            [
             0.6666666666666666,
             "#ed7953"
            ],
            [
             0.7777777777777778,
             "#fb9f3a"
            ],
            [
             0.8888888888888888,
             "#fdca26"
            ],
            [
             1,
             "#f0f921"
            ]
           ],
           "sequentialminus": [
            [
             0,
             "#0d0887"
            ],
            [
             0.1111111111111111,
             "#46039f"
            ],
            [
             0.2222222222222222,
             "#7201a8"
            ],
            [
             0.3333333333333333,
             "#9c179e"
            ],
            [
             0.4444444444444444,
             "#bd3786"
            ],
            [
             0.5555555555555556,
             "#d8576b"
            ],
            [
             0.6666666666666666,
             "#ed7953"
            ],
            [
             0.7777777777777778,
             "#fb9f3a"
            ],
            [
             0.8888888888888888,
             "#fdca26"
            ],
            [
             1,
             "#f0f921"
            ]
           ]
          },
          "colorway": [
           "#636efa",
           "#EF553B",
           "#00cc96",
           "#ab63fa",
           "#FFA15A",
           "#19d3f3",
           "#FF6692",
           "#B6E880",
           "#FF97FF",
           "#FECB52"
          ],
          "font": {
           "color": "#2a3f5f"
          },
          "geo": {
           "bgcolor": "white",
           "lakecolor": "white",
           "landcolor": "#E5ECF6",
           "showlakes": true,
           "showland": true,
           "subunitcolor": "white"
          },
          "hoverlabel": {
           "align": "left"
          },
          "hovermode": "closest",
          "mapbox": {
           "style": "light"
          },
          "paper_bgcolor": "white",
          "plot_bgcolor": "#E5ECF6",
          "polar": {
           "angularaxis": {
            "gridcolor": "white",
            "linecolor": "white",
            "ticks": ""
           },
           "bgcolor": "#E5ECF6",
           "radialaxis": {
            "gridcolor": "white",
            "linecolor": "white",
            "ticks": ""
           }
          },
          "scene": {
           "xaxis": {
            "backgroundcolor": "#E5ECF6",
            "gridcolor": "white",
            "gridwidth": 2,
            "linecolor": "white",
            "showbackground": true,
            "ticks": "",
            "zerolinecolor": "white"
           },
           "yaxis": {
            "backgroundcolor": "#E5ECF6",
            "gridcolor": "white",
            "gridwidth": 2,
            "linecolor": "white",
            "showbackground": true,
            "ticks": "",
            "zerolinecolor": "white"
           },
           "zaxis": {
            "backgroundcolor": "#E5ECF6",
            "gridcolor": "white",
            "gridwidth": 2,
            "linecolor": "white",
            "showbackground": true,
            "ticks": "",
            "zerolinecolor": "white"
           }
          },
          "shapedefaults": {
           "line": {
            "color": "#2a3f5f"
           }
          },
          "ternary": {
           "aaxis": {
            "gridcolor": "white",
            "linecolor": "white",
            "ticks": ""
           },
           "baxis": {
            "gridcolor": "white",
            "linecolor": "white",
            "ticks": ""
           },
           "bgcolor": "#E5ECF6",
           "caxis": {
            "gridcolor": "white",
            "linecolor": "white",
            "ticks": ""
           }
          },
          "title": {
           "x": 0.05
          },
          "xaxis": {
           "automargin": true,
           "gridcolor": "white",
           "linecolor": "white",
           "ticks": "",
           "title": {
            "standoff": 15
           },
           "zerolinecolor": "white",
           "zerolinewidth": 2
          },
          "yaxis": {
           "automargin": true,
           "gridcolor": "white",
           "linecolor": "white",
           "ticks": "",
           "title": {
            "standoff": 15
           },
           "zerolinecolor": "white",
           "zerolinewidth": 2
          }
         }
        },
        "title": {
         "text": "Модель самолёта и количество совершенных рейсов"
        },
        "xaxis": {
         "anchor": "y",
         "categoryarray": [
          "Airbus A319-100",
          "Airbus A321-200",
          "Boeing 737-300",
          "Boeing 767-300",
          "Boeing 777-300",
          "Bombardier CRJ-200",
          "Cessna 208 Caravan",
          "Sukhoi SuperJet-100"
         ],
         "categoryorder": "array",
         "domain": [
          0,
          1
         ],
         "title": {
          "text": "model"
         }
        },
        "yaxis": {
         "anchor": "x",
         "domain": [
          0,
          1
         ],
         "title": {
          "text": "flights_amount"
         }
        }
       }
      },
      "text/html": [
       "<div>\n",
       "        \n",
       "        \n",
       "            <div id=\"080a945a-040c-47b7-8671-b4d65f75e661\" class=\"plotly-graph-div\" style=\"height:400px; width:100%;\"></div>\n",
       "            <script type=\"text/javascript\">\n",
       "                require([\"plotly\"], function(Plotly) {\n",
       "                    window.PLOTLYENV=window.PLOTLYENV || {};\n",
       "                    \n",
       "                if (document.getElementById(\"080a945a-040c-47b7-8671-b4d65f75e661\")) {\n",
       "                    Plotly.newPlot(\n",
       "                        '080a945a-040c-47b7-8671-b4d65f75e661',\n",
       "                        [{\"alignmentgroup\": \"True\", \"hovertemplate\": \"model=%{x}<br>flights_amount=%{y}<extra></extra>\", \"legendgroup\": \"Airbus A319-100\", \"marker\": {\"color\": \"#636efa\"}, \"name\": \"Airbus A319-100\", \"offsetgroup\": \"Airbus A319-100\", \"orientation\": \"v\", \"showlegend\": true, \"textposition\": \"auto\", \"type\": \"bar\", \"x\": [\"Airbus A319-100\"], \"xaxis\": \"x\", \"y\": [607], \"yaxis\": \"y\"}, {\"alignmentgroup\": \"True\", \"hovertemplate\": \"model=%{x}<br>flights_amount=%{y}<extra></extra>\", \"legendgroup\": \"Airbus A321-200\", \"marker\": {\"color\": \"#EF553B\"}, \"name\": \"Airbus A321-200\", \"offsetgroup\": \"Airbus A321-200\", \"orientation\": \"v\", \"showlegend\": true, \"textposition\": \"auto\", \"type\": \"bar\", \"x\": [\"Airbus A321-200\"], \"xaxis\": \"x\", \"y\": [960], \"yaxis\": \"y\"}, {\"alignmentgroup\": \"True\", \"hovertemplate\": \"model=%{x}<br>flights_amount=%{y}<extra></extra>\", \"legendgroup\": \"Boeing 737-300\", \"marker\": {\"color\": \"#00cc96\"}, \"name\": \"Boeing 737-300\", \"offsetgroup\": \"Boeing 737-300\", \"orientation\": \"v\", \"showlegend\": true, \"textposition\": \"auto\", \"type\": \"bar\", \"x\": [\"Boeing 737-300\"], \"xaxis\": \"x\", \"y\": [630], \"yaxis\": \"y\"}, {\"alignmentgroup\": \"True\", \"hovertemplate\": \"model=%{x}<br>flights_amount=%{y}<extra></extra>\", \"legendgroup\": \"Boeing 767-300\", \"marker\": {\"color\": \"#ab63fa\"}, \"name\": \"Boeing 767-300\", \"offsetgroup\": \"Boeing 767-300\", \"orientation\": \"v\", \"showlegend\": true, \"textposition\": \"auto\", \"type\": \"bar\", \"x\": [\"Boeing 767-300\"], \"xaxis\": \"x\", \"y\": [600], \"yaxis\": \"y\"}, {\"alignmentgroup\": \"True\", \"hovertemplate\": \"model=%{x}<br>flights_amount=%{y}<extra></extra>\", \"legendgroup\": \"Boeing 777-300\", \"marker\": {\"color\": \"#FFA15A\"}, \"name\": \"Boeing 777-300\", \"offsetgroup\": \"Boeing 777-300\", \"orientation\": \"v\", \"showlegend\": true, \"textposition\": \"auto\", \"type\": \"bar\", \"x\": [\"Boeing 777-300\"], \"xaxis\": \"x\", \"y\": [300], \"yaxis\": \"y\"}, {\"alignmentgroup\": \"True\", \"hovertemplate\": \"model=%{x}<br>flights_amount=%{y}<extra></extra>\", \"legendgroup\": \"Bombardier CRJ-200\", \"marker\": {\"color\": \"#19d3f3\"}, \"name\": \"Bombardier CRJ-200\", \"offsetgroup\": \"Bombardier CRJ-200\", \"orientation\": \"v\", \"showlegend\": true, \"textposition\": \"auto\", \"type\": \"bar\", \"x\": [\"Bombardier CRJ-200\"], \"xaxis\": \"x\", \"y\": [4446], \"yaxis\": \"y\"}, {\"alignmentgroup\": \"True\", \"hovertemplate\": \"model=%{x}<br>flights_amount=%{y}<extra></extra>\", \"legendgroup\": \"Cessna 208 Caravan\", \"marker\": {\"color\": \"#FF6692\"}, \"name\": \"Cessna 208 Caravan\", \"offsetgroup\": \"Cessna 208 Caravan\", \"orientation\": \"v\", \"showlegend\": true, \"textposition\": \"auto\", \"type\": \"bar\", \"x\": [\"Cessna 208 Caravan\"], \"xaxis\": \"x\", \"y\": [4557], \"yaxis\": \"y\"}, {\"alignmentgroup\": \"True\", \"hovertemplate\": \"model=%{x}<br>flights_amount=%{y}<extra></extra>\", \"legendgroup\": \"Sukhoi SuperJet-100\", \"marker\": {\"color\": \"#B6E880\"}, \"name\": \"Sukhoi SuperJet-100\", \"offsetgroup\": \"Sukhoi SuperJet-100\", \"orientation\": \"v\", \"showlegend\": true, \"textposition\": \"auto\", \"type\": \"bar\", \"x\": [\"Sukhoi SuperJet-100\"], \"xaxis\": \"x\", \"y\": [4185], \"yaxis\": \"y\"}],\n",
       "                        {\"barmode\": \"relative\", \"height\": 400, \"legend\": {\"title\": {\"text\": \"model\"}, \"tracegroupgap\": 0}, \"template\": {\"data\": {\"bar\": [{\"error_x\": {\"color\": \"#2a3f5f\"}, \"error_y\": {\"color\": \"#2a3f5f\"}, \"marker\": {\"line\": {\"color\": \"#E5ECF6\", \"width\": 0.5}}, \"type\": \"bar\"}], \"barpolar\": [{\"marker\": {\"line\": {\"color\": \"#E5ECF6\", \"width\": 0.5}}, \"type\": \"barpolar\"}], \"carpet\": [{\"aaxis\": {\"endlinecolor\": \"#2a3f5f\", \"gridcolor\": \"white\", \"linecolor\": \"white\", \"minorgridcolor\": \"white\", \"startlinecolor\": \"#2a3f5f\"}, \"baxis\": {\"endlinecolor\": \"#2a3f5f\", \"gridcolor\": \"white\", \"linecolor\": \"white\", \"minorgridcolor\": \"white\", \"startlinecolor\": \"#2a3f5f\"}, \"type\": \"carpet\"}], \"choropleth\": [{\"colorbar\": {\"outlinewidth\": 0, \"ticks\": \"\"}, \"type\": \"choropleth\"}], \"contour\": [{\"colorbar\": {\"outlinewidth\": 0, \"ticks\": \"\"}, \"colorscale\": [[0.0, \"#0d0887\"], [0.1111111111111111, \"#46039f\"], [0.2222222222222222, \"#7201a8\"], [0.3333333333333333, \"#9c179e\"], [0.4444444444444444, \"#bd3786\"], [0.5555555555555556, \"#d8576b\"], [0.6666666666666666, \"#ed7953\"], [0.7777777777777778, \"#fb9f3a\"], [0.8888888888888888, \"#fdca26\"], [1.0, \"#f0f921\"]], \"type\": \"contour\"}], \"contourcarpet\": [{\"colorbar\": {\"outlinewidth\": 0, \"ticks\": \"\"}, \"type\": \"contourcarpet\"}], \"heatmap\": [{\"colorbar\": {\"outlinewidth\": 0, \"ticks\": \"\"}, \"colorscale\": [[0.0, \"#0d0887\"], [0.1111111111111111, \"#46039f\"], [0.2222222222222222, \"#7201a8\"], [0.3333333333333333, \"#9c179e\"], [0.4444444444444444, \"#bd3786\"], [0.5555555555555556, \"#d8576b\"], [0.6666666666666666, \"#ed7953\"], [0.7777777777777778, \"#fb9f3a\"], [0.8888888888888888, \"#fdca26\"], [1.0, \"#f0f921\"]], \"type\": \"heatmap\"}], \"heatmapgl\": [{\"colorbar\": {\"outlinewidth\": 0, \"ticks\": \"\"}, \"colorscale\": [[0.0, \"#0d0887\"], [0.1111111111111111, \"#46039f\"], [0.2222222222222222, \"#7201a8\"], [0.3333333333333333, \"#9c179e\"], [0.4444444444444444, \"#bd3786\"], [0.5555555555555556, \"#d8576b\"], [0.6666666666666666, \"#ed7953\"], [0.7777777777777778, \"#fb9f3a\"], [0.8888888888888888, \"#fdca26\"], [1.0, \"#f0f921\"]], \"type\": \"heatmapgl\"}], \"histogram\": [{\"marker\": {\"colorbar\": {\"outlinewidth\": 0, \"ticks\": \"\"}}, \"type\": \"histogram\"}], \"histogram2d\": [{\"colorbar\": {\"outlinewidth\": 0, \"ticks\": \"\"}, \"colorscale\": [[0.0, \"#0d0887\"], [0.1111111111111111, \"#46039f\"], [0.2222222222222222, \"#7201a8\"], [0.3333333333333333, \"#9c179e\"], [0.4444444444444444, \"#bd3786\"], [0.5555555555555556, \"#d8576b\"], [0.6666666666666666, \"#ed7953\"], [0.7777777777777778, \"#fb9f3a\"], [0.8888888888888888, \"#fdca26\"], [1.0, \"#f0f921\"]], \"type\": \"histogram2d\"}], \"histogram2dcontour\": [{\"colorbar\": {\"outlinewidth\": 0, \"ticks\": \"\"}, \"colorscale\": [[0.0, \"#0d0887\"], [0.1111111111111111, \"#46039f\"], [0.2222222222222222, \"#7201a8\"], [0.3333333333333333, \"#9c179e\"], [0.4444444444444444, \"#bd3786\"], [0.5555555555555556, \"#d8576b\"], [0.6666666666666666, \"#ed7953\"], [0.7777777777777778, \"#fb9f3a\"], [0.8888888888888888, \"#fdca26\"], [1.0, \"#f0f921\"]], \"type\": \"histogram2dcontour\"}], \"mesh3d\": [{\"colorbar\": {\"outlinewidth\": 0, \"ticks\": \"\"}, \"type\": \"mesh3d\"}], \"parcoords\": [{\"line\": {\"colorbar\": {\"outlinewidth\": 0, \"ticks\": \"\"}}, \"type\": \"parcoords\"}], \"pie\": [{\"automargin\": true, \"type\": \"pie\"}], \"scatter\": [{\"marker\": {\"colorbar\": {\"outlinewidth\": 0, \"ticks\": \"\"}}, \"type\": \"scatter\"}], \"scatter3d\": [{\"line\": {\"colorbar\": {\"outlinewidth\": 0, \"ticks\": \"\"}}, \"marker\": {\"colorbar\": {\"outlinewidth\": 0, \"ticks\": \"\"}}, \"type\": \"scatter3d\"}], \"scattercarpet\": [{\"marker\": {\"colorbar\": {\"outlinewidth\": 0, \"ticks\": \"\"}}, \"type\": \"scattercarpet\"}], \"scattergeo\": [{\"marker\": {\"colorbar\": {\"outlinewidth\": 0, \"ticks\": \"\"}}, \"type\": \"scattergeo\"}], \"scattergl\": [{\"marker\": {\"colorbar\": {\"outlinewidth\": 0, \"ticks\": \"\"}}, \"type\": \"scattergl\"}], \"scattermapbox\": [{\"marker\": {\"colorbar\": {\"outlinewidth\": 0, \"ticks\": \"\"}}, \"type\": \"scattermapbox\"}], \"scatterpolar\": [{\"marker\": {\"colorbar\": {\"outlinewidth\": 0, \"ticks\": \"\"}}, \"type\": \"scatterpolar\"}], \"scatterpolargl\": [{\"marker\": {\"colorbar\": {\"outlinewidth\": 0, \"ticks\": \"\"}}, \"type\": \"scatterpolargl\"}], \"scatterternary\": [{\"marker\": {\"colorbar\": {\"outlinewidth\": 0, \"ticks\": \"\"}}, \"type\": \"scatterternary\"}], \"surface\": [{\"colorbar\": {\"outlinewidth\": 0, \"ticks\": \"\"}, \"colorscale\": [[0.0, \"#0d0887\"], [0.1111111111111111, \"#46039f\"], [0.2222222222222222, \"#7201a8\"], [0.3333333333333333, \"#9c179e\"], [0.4444444444444444, \"#bd3786\"], [0.5555555555555556, \"#d8576b\"], [0.6666666666666666, \"#ed7953\"], [0.7777777777777778, \"#fb9f3a\"], [0.8888888888888888, \"#fdca26\"], [1.0, \"#f0f921\"]], \"type\": \"surface\"}], \"table\": [{\"cells\": {\"fill\": {\"color\": \"#EBF0F8\"}, \"line\": {\"color\": \"white\"}}, \"header\": {\"fill\": {\"color\": \"#C8D4E3\"}, \"line\": {\"color\": \"white\"}}, \"type\": \"table\"}]}, \"layout\": {\"annotationdefaults\": {\"arrowcolor\": \"#2a3f5f\", \"arrowhead\": 0, \"arrowwidth\": 1}, \"coloraxis\": {\"colorbar\": {\"outlinewidth\": 0, \"ticks\": \"\"}}, \"colorscale\": {\"diverging\": [[0, \"#8e0152\"], [0.1, \"#c51b7d\"], [0.2, \"#de77ae\"], [0.3, \"#f1b6da\"], [0.4, \"#fde0ef\"], [0.5, \"#f7f7f7\"], [0.6, \"#e6f5d0\"], [0.7, \"#b8e186\"], [0.8, \"#7fbc41\"], [0.9, \"#4d9221\"], [1, \"#276419\"]], \"sequential\": [[0.0, \"#0d0887\"], [0.1111111111111111, \"#46039f\"], [0.2222222222222222, \"#7201a8\"], [0.3333333333333333, \"#9c179e\"], [0.4444444444444444, \"#bd3786\"], [0.5555555555555556, \"#d8576b\"], [0.6666666666666666, \"#ed7953\"], [0.7777777777777778, \"#fb9f3a\"], [0.8888888888888888, \"#fdca26\"], [1.0, \"#f0f921\"]], \"sequentialminus\": [[0.0, \"#0d0887\"], [0.1111111111111111, \"#46039f\"], [0.2222222222222222, \"#7201a8\"], [0.3333333333333333, \"#9c179e\"], [0.4444444444444444, \"#bd3786\"], [0.5555555555555556, \"#d8576b\"], [0.6666666666666666, \"#ed7953\"], [0.7777777777777778, \"#fb9f3a\"], [0.8888888888888888, \"#fdca26\"], [1.0, \"#f0f921\"]]}, \"colorway\": [\"#636efa\", \"#EF553B\", \"#00cc96\", \"#ab63fa\", \"#FFA15A\", \"#19d3f3\", \"#FF6692\", \"#B6E880\", \"#FF97FF\", \"#FECB52\"], \"font\": {\"color\": \"#2a3f5f\"}, \"geo\": {\"bgcolor\": \"white\", \"lakecolor\": \"white\", \"landcolor\": \"#E5ECF6\", \"showlakes\": true, \"showland\": true, \"subunitcolor\": \"white\"}, \"hoverlabel\": {\"align\": \"left\"}, \"hovermode\": \"closest\", \"mapbox\": {\"style\": \"light\"}, \"paper_bgcolor\": \"white\", \"plot_bgcolor\": \"#E5ECF6\", \"polar\": {\"angularaxis\": {\"gridcolor\": \"white\", \"linecolor\": \"white\", \"ticks\": \"\"}, \"bgcolor\": \"#E5ECF6\", \"radialaxis\": {\"gridcolor\": \"white\", \"linecolor\": \"white\", \"ticks\": \"\"}}, \"scene\": {\"xaxis\": {\"backgroundcolor\": \"#E5ECF6\", \"gridcolor\": \"white\", \"gridwidth\": 2, \"linecolor\": \"white\", \"showbackground\": true, \"ticks\": \"\", \"zerolinecolor\": \"white\"}, \"yaxis\": {\"backgroundcolor\": \"#E5ECF6\", \"gridcolor\": \"white\", \"gridwidth\": 2, \"linecolor\": \"white\", \"showbackground\": true, \"ticks\": \"\", \"zerolinecolor\": \"white\"}, \"zaxis\": {\"backgroundcolor\": \"#E5ECF6\", \"gridcolor\": \"white\", \"gridwidth\": 2, \"linecolor\": \"white\", \"showbackground\": true, \"ticks\": \"\", \"zerolinecolor\": \"white\"}}, \"shapedefaults\": {\"line\": {\"color\": \"#2a3f5f\"}}, \"ternary\": {\"aaxis\": {\"gridcolor\": \"white\", \"linecolor\": \"white\", \"ticks\": \"\"}, \"baxis\": {\"gridcolor\": \"white\", \"linecolor\": \"white\", \"ticks\": \"\"}, \"bgcolor\": \"#E5ECF6\", \"caxis\": {\"gridcolor\": \"white\", \"linecolor\": \"white\", \"ticks\": \"\"}}, \"title\": {\"x\": 0.05}, \"xaxis\": {\"automargin\": true, \"gridcolor\": \"white\", \"linecolor\": \"white\", \"ticks\": \"\", \"title\": {\"standoff\": 15}, \"zerolinecolor\": \"white\", \"zerolinewidth\": 2}, \"yaxis\": {\"automargin\": true, \"gridcolor\": \"white\", \"linecolor\": \"white\", \"ticks\": \"\", \"title\": {\"standoff\": 15}, \"zerolinecolor\": \"white\", \"zerolinewidth\": 2}}}, \"title\": {\"text\": \"\\u041c\\u043e\\u0434\\u0435\\u043b\\u044c \\u0441\\u0430\\u043c\\u043e\\u043b\\u0451\\u0442\\u0430 \\u0438 \\u043a\\u043e\\u043b\\u0438\\u0447\\u0435\\u0441\\u0442\\u0432\\u043e \\u0441\\u043e\\u0432\\u0435\\u0440\\u0448\\u0435\\u043d\\u043d\\u044b\\u0445 \\u0440\\u0435\\u0439\\u0441\\u043e\\u0432\"}, \"xaxis\": {\"anchor\": \"y\", \"categoryarray\": [\"Airbus A319-100\", \"Airbus A321-200\", \"Boeing 737-300\", \"Boeing 767-300\", \"Boeing 777-300\", \"Bombardier CRJ-200\", \"Cessna 208 Caravan\", \"Sukhoi SuperJet-100\"], \"categoryorder\": \"array\", \"domain\": [0.0, 1.0], \"title\": {\"text\": \"model\"}}, \"yaxis\": {\"anchor\": \"x\", \"domain\": [0.0, 1.0], \"title\": {\"text\": \"flights_amount\"}}},\n",
       "                        {\"responsive\": true}\n",
       "                    ).then(function(){\n",
       "                            \n",
       "var gd = document.getElementById('080a945a-040c-47b7-8671-b4d65f75e661');\n",
       "var x = new MutationObserver(function (mutations, observer) {{\n",
       "        var display = window.getComputedStyle(gd).display;\n",
       "        if (!display || display === 'none') {{\n",
       "            console.log([gd, 'removed!']);\n",
       "            Plotly.purge(gd);\n",
       "            observer.disconnect();\n",
       "        }}\n",
       "}});\n",
       "\n",
       "// Listen for the removal of the full notebook cells\n",
       "var notebookContainer = gd.closest('#notebook-container');\n",
       "if (notebookContainer) {{\n",
       "    x.observe(notebookContainer, {childList: true});\n",
       "}}\n",
       "\n",
       "// Listen for the clearing of the current output cell\n",
       "var outputEl = gd.closest('.output');\n",
       "if (outputEl) {{\n",
       "    x.observe(outputEl, {childList: true});\n",
       "}}\n",
       "\n",
       "                        })\n",
       "                };\n",
       "                });\n",
       "            </script>\n",
       "        </div>"
      ]
     },
     "metadata": {},
     "output_type": "display_data"
    }
   ],
   "source": [
    "#построим график модели самолетов и количество рейсов\n",
    "model_flights\n",
    "fig = px.bar(model_flights, x='model', y='flights_amount',\n",
    "             title=\"Модель самолёта и количество совершенных рейсов\",\n",
    "              color='model',\n",
    "              height=400)\n",
    "fig.show()"
   ]
  },
  {
   "cell_type": "markdown",
   "metadata": {},
   "source": [
    "Из полученного выше графика видно, что большинство рейсов совершается на \"маленьких\" самолётах, что скорее всего связано с короткими региональными перелётами, которые выполняются по несколько раз в день одним самолётом и общим большим количеством таких самолётов, когда в свою очередь более крупные и дорогие Boeing и Airbus совершают в день максимум 1-2 перелёта."
   ]
  },
  {
   "cell_type": "code",
   "execution_count": 9,
   "metadata": {},
   "outputs": [
    {
     "data": {
      "application/vnd.plotly.v1+json": {
       "config": {
        "plotlyServerURL": "https://plot.ly"
       },
       "data": [
        {
         "alignmentgroup": "True",
         "hovertemplate": "city=%{x}<br>average_flights=%{y}<extra></extra>",
         "legendgroup": "Абакан",
         "marker": {
          "color": "#636efa"
         },
         "name": "Абакан",
         "offsetgroup": "Абакан",
         "orientation": "v",
         "showlegend": true,
         "textposition": "auto",
         "type": "bar",
         "x": [
          "Абакан"
         ],
         "xaxis": "x",
         "y": [
          3.870967741935484
         ],
         "yaxis": "y"
        },
        {
         "alignmentgroup": "True",
         "hovertemplate": "city=%{x}<br>average_flights=%{y}<extra></extra>",
         "legendgroup": "Анадырь",
         "marker": {
          "color": "#EF553B"
         },
         "name": "Анадырь",
         "offsetgroup": "Анадырь",
         "orientation": "v",
         "showlegend": true,
         "textposition": "auto",
         "type": "bar",
         "x": [
          "Анадырь"
         ],
         "xaxis": "x",
         "y": [
          1
         ],
         "yaxis": "y"
        },
        {
         "alignmentgroup": "True",
         "hovertemplate": "city=%{x}<br>average_flights=%{y}<extra></extra>",
         "legendgroup": "Анапа",
         "marker": {
          "color": "#00cc96"
         },
         "name": "Анапа",
         "offsetgroup": "Анапа",
         "orientation": "v",
         "showlegend": true,
         "textposition": "auto",
         "type": "bar",
         "x": [
          "Анапа"
         ],
         "xaxis": "x",
         "y": [
          2.161290322580645
         ],
         "yaxis": "y"
        },
        {
         "alignmentgroup": "True",
         "hovertemplate": "city=%{x}<br>average_flights=%{y}<extra></extra>",
         "legendgroup": "Архангельск",
         "marker": {
          "color": "#ab63fa"
         },
         "name": "Архангельск",
         "offsetgroup": "Архангельск",
         "orientation": "v",
         "showlegend": true,
         "textposition": "auto",
         "type": "bar",
         "x": [
          "Архангельск"
         ],
         "xaxis": "x",
         "y": [
          5.354838709677419
         ],
         "yaxis": "y"
        },
        {
         "alignmentgroup": "True",
         "hovertemplate": "city=%{x}<br>average_flights=%{y}<extra></extra>",
         "legendgroup": "Астрахань",
         "marker": {
          "color": "#FFA15A"
         },
         "name": "Астрахань",
         "offsetgroup": "Астрахань",
         "orientation": "v",
         "showlegend": true,
         "textposition": "auto",
         "type": "bar",
         "x": [
          "Астрахань"
         ],
         "xaxis": "x",
         "y": [
          2.4516129032258065
         ],
         "yaxis": "y"
        },
        {
         "alignmentgroup": "True",
         "hovertemplate": "city=%{x}<br>average_flights=%{y}<extra></extra>",
         "legendgroup": "Барнаул",
         "marker": {
          "color": "#19d3f3"
         },
         "name": "Барнаул",
         "offsetgroup": "Барнаул",
         "orientation": "v",
         "showlegend": true,
         "textposition": "auto",
         "type": "bar",
         "x": [
          "Барнаул"
         ],
         "xaxis": "x",
         "y": [
          2.612903225806452
         ],
         "yaxis": "y"
        },
        {
         "alignmentgroup": "True",
         "hovertemplate": "city=%{x}<br>average_flights=%{y}<extra></extra>",
         "legendgroup": "Белгород",
         "marker": {
          "color": "#FF6692"
         },
         "name": "Белгород",
         "offsetgroup": "Белгород",
         "orientation": "v",
         "showlegend": true,
         "textposition": "auto",
         "type": "bar",
         "x": [
          "Белгород"
         ],
         "xaxis": "x",
         "y": [
          6
         ],
         "yaxis": "y"
        },
        {
         "alignmentgroup": "True",
         "hovertemplate": "city=%{x}<br>average_flights=%{y}<extra></extra>",
         "legendgroup": "Белоярский",
         "marker": {
          "color": "#B6E880"
         },
         "name": "Белоярский",
         "offsetgroup": "Белоярский",
         "orientation": "v",
         "showlegend": true,
         "textposition": "auto",
         "type": "bar",
         "x": [
          "Белоярский"
         ],
         "xaxis": "x",
         "y": [
          2
         ],
         "yaxis": "y"
        },
        {
         "alignmentgroup": "True",
         "hovertemplate": "city=%{x}<br>average_flights=%{y}<extra></extra>",
         "legendgroup": "Благовещенск",
         "marker": {
          "color": "#FF97FF"
         },
         "name": "Благовещенск",
         "offsetgroup": "Благовещенск",
         "orientation": "v",
         "showlegend": true,
         "textposition": "auto",
         "type": "bar",
         "x": [
          "Благовещенск"
         ],
         "xaxis": "x",
         "y": [
          1
         ],
         "yaxis": "y"
        },
        {
         "alignmentgroup": "True",
         "hovertemplate": "city=%{x}<br>average_flights=%{y}<extra></extra>",
         "legendgroup": "Братск",
         "marker": {
          "color": "#FECB52"
         },
         "name": "Братск",
         "offsetgroup": "Братск",
         "orientation": "v",
         "showlegend": true,
         "textposition": "auto",
         "type": "bar",
         "x": [
          "Братск"
         ],
         "xaxis": "x",
         "y": [
          1
         ],
         "yaxis": "y"
        },
        {
         "alignmentgroup": "True",
         "hovertemplate": "city=%{x}<br>average_flights=%{y}<extra></extra>",
         "legendgroup": "Брянск",
         "marker": {
          "color": "#636efa"
         },
         "name": "Брянск",
         "offsetgroup": "Брянск",
         "orientation": "v",
         "showlegend": true,
         "textposition": "auto",
         "type": "bar",
         "x": [
          "Брянск"
         ],
         "xaxis": "x",
         "y": [
          10
         ],
         "yaxis": "y"
        },
        {
         "alignmentgroup": "True",
         "hovertemplate": "city=%{x}<br>average_flights=%{y}<extra></extra>",
         "legendgroup": "Бугульма",
         "marker": {
          "color": "#EF553B"
         },
         "name": "Бугульма",
         "offsetgroup": "Бугульма",
         "orientation": "v",
         "showlegend": true,
         "textposition": "auto",
         "type": "bar",
         "x": [
          "Бугульма"
         ],
         "xaxis": "x",
         "y": [
          3
         ],
         "yaxis": "y"
        },
        {
         "alignmentgroup": "True",
         "hovertemplate": "city=%{x}<br>average_flights=%{y}<extra></extra>",
         "legendgroup": "Владивосток",
         "marker": {
          "color": "#00cc96"
         },
         "name": "Владивосток",
         "offsetgroup": "Владивосток",
         "orientation": "v",
         "showlegend": true,
         "textposition": "auto",
         "type": "bar",
         "x": [
          "Владивосток"
         ],
         "xaxis": "x",
         "y": [
          3
         ],
         "yaxis": "y"
        },
        {
         "alignmentgroup": "True",
         "hovertemplate": "city=%{x}<br>average_flights=%{y}<extra></extra>",
         "legendgroup": "Владикавказ",
         "marker": {
          "color": "#ab63fa"
         },
         "name": "Владикавказ",
         "offsetgroup": "Владикавказ",
         "orientation": "v",
         "showlegend": true,
         "textposition": "auto",
         "type": "bar",
         "x": [
          "Владикавказ"
         ],
         "xaxis": "x",
         "y": [
          2
         ],
         "yaxis": "y"
        },
        {
         "alignmentgroup": "True",
         "hovertemplate": "city=%{x}<br>average_flights=%{y}<extra></extra>",
         "legendgroup": "Волгоград",
         "marker": {
          "color": "#FFA15A"
         },
         "name": "Волгоград",
         "offsetgroup": "Волгоград",
         "orientation": "v",
         "showlegend": true,
         "textposition": "auto",
         "type": "bar",
         "x": [
          "Волгоград"
         ],
         "xaxis": "x",
         "y": [
          5.129032258064516
         ],
         "yaxis": "y"
        },
        {
         "alignmentgroup": "True",
         "hovertemplate": "city=%{x}<br>average_flights=%{y}<extra></extra>",
         "legendgroup": "Воркута",
         "marker": {
          "color": "#19d3f3"
         },
         "name": "Воркута",
         "offsetgroup": "Воркута",
         "orientation": "v",
         "showlegend": true,
         "textposition": "auto",
         "type": "bar",
         "x": [
          "Воркута"
         ],
         "xaxis": "x",
         "y": [
          4.580645161290322
         ],
         "yaxis": "y"
        },
        {
         "alignmentgroup": "True",
         "hovertemplate": "city=%{x}<br>average_flights=%{y}<extra></extra>",
         "legendgroup": "Воронеж",
         "marker": {
          "color": "#FF6692"
         },
         "name": "Воронеж",
         "offsetgroup": "Воронеж",
         "orientation": "v",
         "showlegend": true,
         "textposition": "auto",
         "type": "bar",
         "x": [
          "Воронеж"
         ],
         "xaxis": "x",
         "y": [
          2
         ],
         "yaxis": "y"
        },
        {
         "alignmentgroup": "True",
         "hovertemplate": "city=%{x}<br>average_flights=%{y}<extra></extra>",
         "legendgroup": "Геленджик",
         "marker": {
          "color": "#B6E880"
         },
         "name": "Геленджик",
         "offsetgroup": "Геленджик",
         "orientation": "v",
         "showlegend": true,
         "textposition": "auto",
         "type": "bar",
         "x": [
          "Геленджик"
         ],
         "xaxis": "x",
         "y": [
          2.590909090909091
         ],
         "yaxis": "y"
        },
        {
         "alignmentgroup": "True",
         "hovertemplate": "city=%{x}<br>average_flights=%{y}<extra></extra>",
         "legendgroup": "Горно-Алтайск",
         "marker": {
          "color": "#FF97FF"
         },
         "name": "Горно-Алтайск",
         "offsetgroup": "Горно-Алтайск",
         "orientation": "v",
         "showlegend": true,
         "textposition": "auto",
         "type": "bar",
         "x": [
          "Горно-Алтайск"
         ],
         "xaxis": "x",
         "y": [
          1.3870967741935485
         ],
         "yaxis": "y"
        },
        {
         "alignmentgroup": "True",
         "hovertemplate": "city=%{x}<br>average_flights=%{y}<extra></extra>",
         "legendgroup": "Грозный",
         "marker": {
          "color": "#FECB52"
         },
         "name": "Грозный",
         "offsetgroup": "Грозный",
         "orientation": "v",
         "showlegend": true,
         "textposition": "auto",
         "type": "bar",
         "x": [
          "Грозный"
         ],
         "xaxis": "x",
         "y": [
          1.129032258064516
         ],
         "yaxis": "y"
        },
        {
         "alignmentgroup": "True",
         "hovertemplate": "city=%{x}<br>average_flights=%{y}<extra></extra>",
         "legendgroup": "Екатеринбург",
         "marker": {
          "color": "#636efa"
         },
         "name": "Екатеринбург",
         "offsetgroup": "Екатеринбург",
         "orientation": "v",
         "showlegend": true,
         "textposition": "auto",
         "type": "bar",
         "x": [
          "Екатеринбург"
         ],
         "xaxis": "x",
         "y": [
          11.32258064516129
         ],
         "yaxis": "y"
        },
        {
         "alignmentgroup": "True",
         "hovertemplate": "city=%{x}<br>average_flights=%{y}<extra></extra>",
         "legendgroup": "Иваново",
         "marker": {
          "color": "#EF553B"
         },
         "name": "Иваново",
         "offsetgroup": "Иваново",
         "orientation": "v",
         "showlegend": true,
         "textposition": "auto",
         "type": "bar",
         "x": [
          "Иваново"
         ],
         "xaxis": "x",
         "y": [
          1
         ],
         "yaxis": "y"
        },
        {
         "alignmentgroup": "True",
         "hovertemplate": "city=%{x}<br>average_flights=%{y}<extra></extra>",
         "legendgroup": "Ижевск",
         "marker": {
          "color": "#00cc96"
         },
         "name": "Ижевск",
         "offsetgroup": "Ижевск",
         "orientation": "v",
         "showlegend": true,
         "textposition": "auto",
         "type": "bar",
         "x": [
          "Ижевск"
         ],
         "xaxis": "x",
         "y": [
          1
         ],
         "yaxis": "y"
        },
        {
         "alignmentgroup": "True",
         "hovertemplate": "city=%{x}<br>average_flights=%{y}<extra></extra>",
         "legendgroup": "Иркутск",
         "marker": {
          "color": "#ab63fa"
         },
         "name": "Иркутск",
         "offsetgroup": "Иркутск",
         "orientation": "v",
         "showlegend": true,
         "textposition": "auto",
         "type": "bar",
         "x": [
          "Иркутск"
         ],
         "xaxis": "x",
         "y": [
          6.032258064516129
         ],
         "yaxis": "y"
        },
        {
         "alignmentgroup": "True",
         "hovertemplate": "city=%{x}<br>average_flights=%{y}<extra></extra>",
         "legendgroup": "Йошкар-Ола",
         "marker": {
          "color": "#FFA15A"
         },
         "name": "Йошкар-Ола",
         "offsetgroup": "Йошкар-Ола",
         "orientation": "v",
         "showlegend": true,
         "textposition": "auto",
         "type": "bar",
         "x": [
          "Йошкар-Ола"
         ],
         "xaxis": "x",
         "y": [
          4.290322580645161
         ],
         "yaxis": "y"
        },
        {
         "alignmentgroup": "True",
         "hovertemplate": "city=%{x}<br>average_flights=%{y}<extra></extra>",
         "legendgroup": "Казань",
         "marker": {
          "color": "#19d3f3"
         },
         "name": "Казань",
         "offsetgroup": "Казань",
         "orientation": "v",
         "showlegend": true,
         "textposition": "auto",
         "type": "bar",
         "x": [
          "Казань"
         ],
         "xaxis": "x",
         "y": [
          7.741935483870966
         ],
         "yaxis": "y"
        },
        {
         "alignmentgroup": "True",
         "hovertemplate": "city=%{x}<br>average_flights=%{y}<extra></extra>",
         "legendgroup": "Калининград",
         "marker": {
          "color": "#FF6692"
         },
         "name": "Калининград",
         "offsetgroup": "Калининград",
         "orientation": "v",
         "showlegend": true,
         "textposition": "auto",
         "type": "bar",
         "x": [
          "Калининград"
         ],
         "xaxis": "x",
         "y": [
          2.5806451612903225
         ],
         "yaxis": "y"
        },
        {
         "alignmentgroup": "True",
         "hovertemplate": "city=%{x}<br>average_flights=%{y}<extra></extra>",
         "legendgroup": "Калуга",
         "marker": {
          "color": "#B6E880"
         },
         "name": "Калуга",
         "offsetgroup": "Калуга",
         "orientation": "v",
         "showlegend": true,
         "textposition": "auto",
         "type": "bar",
         "x": [
          "Калуга"
         ],
         "xaxis": "x",
         "y": [
          2.032258064516129
         ],
         "yaxis": "y"
        },
        {
         "alignmentgroup": "True",
         "hovertemplate": "city=%{x}<br>average_flights=%{y}<extra></extra>",
         "legendgroup": "Кемерово",
         "marker": {
          "color": "#FF97FF"
         },
         "name": "Кемерово",
         "offsetgroup": "Кемерово",
         "orientation": "v",
         "showlegend": true,
         "textposition": "auto",
         "type": "bar",
         "x": [
          "Кемерово"
         ],
         "xaxis": "x",
         "y": [
          2
         ],
         "yaxis": "y"
        },
        {
         "alignmentgroup": "True",
         "hovertemplate": "city=%{x}<br>average_flights=%{y}<extra></extra>",
         "legendgroup": "Киров",
         "marker": {
          "color": "#FECB52"
         },
         "name": "Киров",
         "offsetgroup": "Киров",
         "orientation": "v",
         "showlegend": true,
         "textposition": "auto",
         "type": "bar",
         "x": [
          "Киров"
         ],
         "xaxis": "x",
         "y": [
          6
         ],
         "yaxis": "y"
        },
        {
         "alignmentgroup": "True",
         "hovertemplate": "city=%{x}<br>average_flights=%{y}<extra></extra>",
         "legendgroup": "Когалым",
         "marker": {
          "color": "#636efa"
         },
         "name": "Когалым",
         "offsetgroup": "Когалым",
         "orientation": "v",
         "showlegend": true,
         "textposition": "auto",
         "type": "bar",
         "x": [
          "Когалым"
         ],
         "xaxis": "x",
         "y": [
          3.161290322580645
         ],
         "yaxis": "y"
        },
        {
         "alignmentgroup": "True",
         "hovertemplate": "city=%{x}<br>average_flights=%{y}<extra></extra>",
         "legendgroup": "Комсомольск-на-Амуре",
         "marker": {
          "color": "#EF553B"
         },
         "name": "Комсомольск-на-Амуре",
         "offsetgroup": "Комсомольск-на-Амуре",
         "orientation": "v",
         "showlegend": true,
         "textposition": "auto",
         "type": "bar",
         "x": [
          "Комсомольск-на-Амуре"
         ],
         "xaxis": "x",
         "y": [
          1
         ],
         "yaxis": "y"
        },
        {
         "alignmentgroup": "True",
         "hovertemplate": "city=%{x}<br>average_flights=%{y}<extra></extra>",
         "legendgroup": "Краснодар",
         "marker": {
          "color": "#00cc96"
         },
         "name": "Краснодар",
         "offsetgroup": "Краснодар",
         "orientation": "v",
         "showlegend": true,
         "textposition": "auto",
         "type": "bar",
         "x": [
          "Краснодар"
         ],
         "xaxis": "x",
         "y": [
          3.903225806451613
         ],
         "yaxis": "y"
        },
        {
         "alignmentgroup": "True",
         "hovertemplate": "city=%{x}<br>average_flights=%{y}<extra></extra>",
         "legendgroup": "Красноярск",
         "marker": {
          "color": "#ab63fa"
         },
         "name": "Красноярск",
         "offsetgroup": "Красноярск",
         "orientation": "v",
         "showlegend": true,
         "textposition": "auto",
         "type": "bar",
         "x": [
          "Красноярск"
         ],
         "xaxis": "x",
         "y": [
          11.580645161290322
         ],
         "yaxis": "y"
        },
        {
         "alignmentgroup": "True",
         "hovertemplate": "city=%{x}<br>average_flights=%{y}<extra></extra>",
         "legendgroup": "Курган",
         "marker": {
          "color": "#FFA15A"
         },
         "name": "Курган",
         "offsetgroup": "Курган",
         "orientation": "v",
         "showlegend": true,
         "textposition": "auto",
         "type": "bar",
         "x": [
          "Курган"
         ],
         "xaxis": "x",
         "y": [
          3.419354838709677
         ],
         "yaxis": "y"
        },
        {
         "alignmentgroup": "True",
         "hovertemplate": "city=%{x}<br>average_flights=%{y}<extra></extra>",
         "legendgroup": "Курск",
         "marker": {
          "color": "#19d3f3"
         },
         "name": "Курск",
         "offsetgroup": "Курск",
         "orientation": "v",
         "showlegend": true,
         "textposition": "auto",
         "type": "bar",
         "x": [
          "Курск"
         ],
         "xaxis": "x",
         "y": [
          2.290322580645161
         ],
         "yaxis": "y"
        },
        {
         "alignmentgroup": "True",
         "hovertemplate": "city=%{x}<br>average_flights=%{y}<extra></extra>",
         "legendgroup": "Кызыл",
         "marker": {
          "color": "#FF6692"
         },
         "name": "Кызыл",
         "offsetgroup": "Кызыл",
         "orientation": "v",
         "showlegend": true,
         "textposition": "auto",
         "type": "bar",
         "x": [
          "Кызыл"
         ],
         "xaxis": "x",
         "y": [
          1.277777777777778
         ],
         "yaxis": "y"
        },
        {
         "alignmentgroup": "True",
         "hovertemplate": "city=%{x}<br>average_flights=%{y}<extra></extra>",
         "legendgroup": "Липецк",
         "marker": {
          "color": "#B6E880"
         },
         "name": "Липецк",
         "offsetgroup": "Липецк",
         "orientation": "v",
         "showlegend": true,
         "textposition": "auto",
         "type": "bar",
         "x": [
          "Липецк"
         ],
         "xaxis": "x",
         "y": [
          1.2941176470588236
         ],
         "yaxis": "y"
        },
        {
         "alignmentgroup": "True",
         "hovertemplate": "city=%{x}<br>average_flights=%{y}<extra></extra>",
         "legendgroup": "Магадан",
         "marker": {
          "color": "#FF97FF"
         },
         "name": "Магадан",
         "offsetgroup": "Магадан",
         "orientation": "v",
         "showlegend": true,
         "textposition": "auto",
         "type": "bar",
         "x": [
          "Магадан"
         ],
         "xaxis": "x",
         "y": [
          1.3571428571428572
         ],
         "yaxis": "y"
        },
        {
         "alignmentgroup": "True",
         "hovertemplate": "city=%{x}<br>average_flights=%{y}<extra></extra>",
         "legendgroup": "Магнитогорск",
         "marker": {
          "color": "#FECB52"
         },
         "name": "Магнитогорск",
         "offsetgroup": "Магнитогорск",
         "orientation": "v",
         "showlegend": true,
         "textposition": "auto",
         "type": "bar",
         "x": [
          "Магнитогорск"
         ],
         "xaxis": "x",
         "y": [
          4
         ],
         "yaxis": "y"
        },
        {
         "alignmentgroup": "True",
         "hovertemplate": "city=%{x}<br>average_flights=%{y}<extra></extra>",
         "legendgroup": "Махачкала",
         "marker": {
          "color": "#636efa"
         },
         "name": "Махачкала",
         "offsetgroup": "Махачкала",
         "orientation": "v",
         "showlegend": true,
         "textposition": "auto",
         "type": "bar",
         "x": [
          "Махачкала"
         ],
         "xaxis": "x",
         "y": [
          3.290322580645161
         ],
         "yaxis": "y"
        },
        {
         "alignmentgroup": "True",
         "hovertemplate": "city=%{x}<br>average_flights=%{y}<extra></extra>",
         "legendgroup": "Минеральные Воды",
         "marker": {
          "color": "#EF553B"
         },
         "name": "Минеральные Воды",
         "offsetgroup": "Минеральные Воды",
         "orientation": "v",
         "showlegend": true,
         "textposition": "auto",
         "type": "bar",
         "x": [
          "Минеральные Воды"
         ],
         "xaxis": "x",
         "y": [
          3.419354838709677
         ],
         "yaxis": "y"
        },
        {
         "alignmentgroup": "True",
         "hovertemplate": "city=%{x}<br>average_flights=%{y}<extra></extra>",
         "legendgroup": "Мирный",
         "marker": {
          "color": "#00cc96"
         },
         "name": "Мирный",
         "offsetgroup": "Мирный",
         "orientation": "v",
         "showlegend": true,
         "textposition": "auto",
         "type": "bar",
         "x": [
          "Мирный"
         ],
         "xaxis": "x",
         "y": [
          6.290322580645161
         ],
         "yaxis": "y"
        },
        {
         "alignmentgroup": "True",
         "hovertemplate": "city=%{x}<br>average_flights=%{y}<extra></extra>",
         "legendgroup": "Москва",
         "marker": {
          "color": "#ab63fa"
         },
         "name": "Москва",
         "offsetgroup": "Москва",
         "orientation": "v",
         "showlegend": true,
         "textposition": "auto",
         "type": "bar",
         "x": [
          "Москва"
         ],
         "xaxis": "x",
         "y": [
          129.77419354838707
         ],
         "yaxis": "y"
        },
        {
         "alignmentgroup": "True",
         "hovertemplate": "city=%{x}<br>average_flights=%{y}<extra></extra>",
         "legendgroup": "Мурманск",
         "marker": {
          "color": "#FFA15A"
         },
         "name": "Мурманск",
         "offsetgroup": "Мурманск",
         "orientation": "v",
         "showlegend": true,
         "textposition": "auto",
         "type": "bar",
         "x": [
          "Мурманск"
         ],
         "xaxis": "x",
         "y": [
          2
         ],
         "yaxis": "y"
        },
        {
         "alignmentgroup": "True",
         "hovertemplate": "city=%{x}<br>average_flights=%{y}<extra></extra>",
         "legendgroup": "Надым",
         "marker": {
          "color": "#19d3f3"
         },
         "name": "Надым",
         "offsetgroup": "Надым",
         "orientation": "v",
         "showlegend": true,
         "textposition": "auto",
         "type": "bar",
         "x": [
          "Надым"
         ],
         "xaxis": "x",
         "y": [
          2.290322580645161
         ],
         "yaxis": "y"
        },
        {
         "alignmentgroup": "True",
         "hovertemplate": "city=%{x}<br>average_flights=%{y}<extra></extra>",
         "legendgroup": "Нальчик",
         "marker": {
          "color": "#FF6692"
         },
         "name": "Нальчик",
         "offsetgroup": "Нальчик",
         "orientation": "v",
         "showlegend": true,
         "textposition": "auto",
         "type": "bar",
         "x": [
          "Нальчик"
         ],
         "xaxis": "x",
         "y": [
          3
         ],
         "yaxis": "y"
        },
        {
         "alignmentgroup": "True",
         "hovertemplate": "city=%{x}<br>average_flights=%{y}<extra></extra>",
         "legendgroup": "Нарьян-Мар",
         "marker": {
          "color": "#B6E880"
         },
         "name": "Нарьян-Мар",
         "offsetgroup": "Нарьян-Мар",
         "orientation": "v",
         "showlegend": true,
         "textposition": "auto",
         "type": "bar",
         "x": [
          "Нарьян-Мар"
         ],
         "xaxis": "x",
         "y": [
          2.612903225806452
         ],
         "yaxis": "y"
        },
        {
         "alignmentgroup": "True",
         "hovertemplate": "city=%{x}<br>average_flights=%{y}<extra></extra>",
         "legendgroup": "Нерюнгри",
         "marker": {
          "color": "#FF97FF"
         },
         "name": "Нерюнгри",
         "offsetgroup": "Нерюнгри",
         "orientation": "v",
         "showlegend": true,
         "textposition": "auto",
         "type": "bar",
         "x": [
          "Нерюнгри"
         ],
         "xaxis": "x",
         "y": [
          2.5806451612903225
         ],
         "yaxis": "y"
        },
        {
         "alignmentgroup": "True",
         "hovertemplate": "city=%{x}<br>average_flights=%{y}<extra></extra>",
         "legendgroup": "Нефтеюганск",
         "marker": {
          "color": "#FECB52"
         },
         "name": "Нефтеюганск",
         "offsetgroup": "Нефтеюганск",
         "orientation": "v",
         "showlegend": true,
         "textposition": "auto",
         "type": "bar",
         "x": [
          "Нефтеюганск"
         ],
         "xaxis": "x",
         "y": [
          1
         ],
         "yaxis": "y"
        },
        {
         "alignmentgroup": "True",
         "hovertemplate": "city=%{x}<br>average_flights=%{y}<extra></extra>",
         "legendgroup": "Нижневартовск",
         "marker": {
          "color": "#636efa"
         },
         "name": "Нижневартовск",
         "offsetgroup": "Нижневартовск",
         "orientation": "v",
         "showlegend": true,
         "textposition": "auto",
         "type": "bar",
         "x": [
          "Нижневартовск"
         ],
         "xaxis": "x",
         "y": [
          3.129032258064516
         ],
         "yaxis": "y"
        },
        {
         "alignmentgroup": "True",
         "hovertemplate": "city=%{x}<br>average_flights=%{y}<extra></extra>",
         "legendgroup": "Нижнекамск",
         "marker": {
          "color": "#EF553B"
         },
         "name": "Нижнекамск",
         "offsetgroup": "Нижнекамск",
         "orientation": "v",
         "showlegend": true,
         "textposition": "auto",
         "type": "bar",
         "x": [
          "Нижнекамск"
         ],
         "xaxis": "x",
         "y": [
          3.741935483870968
         ],
         "yaxis": "y"
        },
        {
         "alignmentgroup": "True",
         "hovertemplate": "city=%{x}<br>average_flights=%{y}<extra></extra>",
         "legendgroup": "Нижний Новгород",
         "marker": {
          "color": "#00cc96"
         },
         "name": "Нижний Новгород",
         "offsetgroup": "Нижний Новгород",
         "orientation": "v",
         "showlegend": true,
         "textposition": "auto",
         "type": "bar",
         "x": [
          "Нижний Новгород"
         ],
         "xaxis": "x",
         "y": [
          5.870967741935484
         ],
         "yaxis": "y"
        },
        {
         "alignmentgroup": "True",
         "hovertemplate": "city=%{x}<br>average_flights=%{y}<extra></extra>",
         "legendgroup": "Новокузнецк",
         "marker": {
          "color": "#ab63fa"
         },
         "name": "Новокузнецк",
         "offsetgroup": "Новокузнецк",
         "orientation": "v",
         "showlegend": true,
         "textposition": "auto",
         "type": "bar",
         "x": [
          "Новокузнецк"
         ],
         "xaxis": "x",
         "y": [
          6.032258064516129
         ],
         "yaxis": "y"
        },
        {
         "alignmentgroup": "True",
         "hovertemplate": "city=%{x}<br>average_flights=%{y}<extra></extra>",
         "legendgroup": "Новосибирск",
         "marker": {
          "color": "#FFA15A"
         },
         "name": "Новосибирск",
         "offsetgroup": "Новосибирск",
         "orientation": "v",
         "showlegend": true,
         "textposition": "auto",
         "type": "bar",
         "x": [
          "Новосибирск"
         ],
         "xaxis": "x",
         "y": [
          17.32258064516129
         ],
         "yaxis": "y"
        },
        {
         "alignmentgroup": "True",
         "hovertemplate": "city=%{x}<br>average_flights=%{y}<extra></extra>",
         "legendgroup": "Новый Уренгой",
         "marker": {
          "color": "#19d3f3"
         },
         "name": "Новый Уренгой",
         "offsetgroup": "Новый Уренгой",
         "orientation": "v",
         "showlegend": true,
         "textposition": "auto",
         "type": "bar",
         "x": [
          "Новый Уренгой"
         ],
         "xaxis": "x",
         "y": [
          8.290322580645162
         ],
         "yaxis": "y"
        },
        {
         "alignmentgroup": "True",
         "hovertemplate": "city=%{x}<br>average_flights=%{y}<extra></extra>",
         "legendgroup": "Норильск",
         "marker": {
          "color": "#FF6692"
         },
         "name": "Норильск",
         "offsetgroup": "Норильск",
         "orientation": "v",
         "showlegend": true,
         "textposition": "auto",
         "type": "bar",
         "x": [
          "Норильск"
         ],
         "xaxis": "x",
         "y": [
          2.290322580645161
         ],
         "yaxis": "y"
        },
        {
         "alignmentgroup": "True",
         "hovertemplate": "city=%{x}<br>average_flights=%{y}<extra></extra>",
         "legendgroup": "Ноябрьск",
         "marker": {
          "color": "#B6E880"
         },
         "name": "Ноябрьск",
         "offsetgroup": "Ноябрьск",
         "orientation": "v",
         "showlegend": true,
         "textposition": "auto",
         "type": "bar",
         "x": [
          "Ноябрьск"
         ],
         "xaxis": "x",
         "y": [
          3
         ],
         "yaxis": "y"
        },
        {
         "alignmentgroup": "True",
         "hovertemplate": "city=%{x}<br>average_flights=%{y}<extra></extra>",
         "legendgroup": "Нягань",
         "marker": {
          "color": "#FF97FF"
         },
         "name": "Нягань",
         "offsetgroup": "Нягань",
         "orientation": "v",
         "showlegend": true,
         "textposition": "auto",
         "type": "bar",
         "x": [
          "Нягань"
         ],
         "xaxis": "x",
         "y": [
          1
         ],
         "yaxis": "y"
        },
        {
         "alignmentgroup": "True",
         "hovertemplate": "city=%{x}<br>average_flights=%{y}<extra></extra>",
         "legendgroup": "Омск",
         "marker": {
          "color": "#FECB52"
         },
         "name": "Омск",
         "offsetgroup": "Омск",
         "orientation": "v",
         "showlegend": true,
         "textposition": "auto",
         "type": "bar",
         "x": [
          "Омск"
         ],
         "xaxis": "x",
         "y": [
          3.290322580645161
         ],
         "yaxis": "y"
        },
        {
         "alignmentgroup": "True",
         "hovertemplate": "city=%{x}<br>average_flights=%{y}<extra></extra>",
         "legendgroup": "Оренбург",
         "marker": {
          "color": "#636efa"
         },
         "name": "Оренбург",
         "offsetgroup": "Оренбург",
         "orientation": "v",
         "showlegend": true,
         "textposition": "auto",
         "type": "bar",
         "x": [
          "Оренбург"
         ],
         "xaxis": "x",
         "y": [
          5
         ],
         "yaxis": "y"
        },
        {
         "alignmentgroup": "True",
         "hovertemplate": "city=%{x}<br>average_flights=%{y}<extra></extra>",
         "legendgroup": "Орск",
         "marker": {
          "color": "#EF553B"
         },
         "name": "Орск",
         "offsetgroup": "Орск",
         "orientation": "v",
         "showlegend": true,
         "textposition": "auto",
         "type": "bar",
         "x": [
          "Орск"
         ],
         "xaxis": "x",
         "y": [
          1.5909090909090908
         ],
         "yaxis": "y"
        },
        {
         "alignmentgroup": "True",
         "hovertemplate": "city=%{x}<br>average_flights=%{y}<extra></extra>",
         "legendgroup": "Пенза",
         "marker": {
          "color": "#00cc96"
         },
         "name": "Пенза",
         "offsetgroup": "Пенза",
         "orientation": "v",
         "showlegend": true,
         "textposition": "auto",
         "type": "bar",
         "x": [
          "Пенза"
         ],
         "xaxis": "x",
         "y": [
          4
         ],
         "yaxis": "y"
        },
        {
         "alignmentgroup": "True",
         "hovertemplate": "city=%{x}<br>average_flights=%{y}<extra></extra>",
         "legendgroup": "Пермь",
         "marker": {
          "color": "#ab63fa"
         },
         "name": "Пермь",
         "offsetgroup": "Пермь",
         "orientation": "v",
         "showlegend": true,
         "textposition": "auto",
         "type": "bar",
         "x": [
          "Пермь"
         ],
         "xaxis": "x",
         "y": [
          10.129032258064516
         ],
         "yaxis": "y"
        },
        {
         "alignmentgroup": "True",
         "hovertemplate": "city=%{x}<br>average_flights=%{y}<extra></extra>",
         "legendgroup": "Петрозаводск",
         "marker": {
          "color": "#FFA15A"
         },
         "name": "Петрозаводск",
         "offsetgroup": "Петрозаводск",
         "orientation": "v",
         "showlegend": true,
         "textposition": "auto",
         "type": "bar",
         "x": [
          "Петрозаводск"
         ],
         "xaxis": "x",
         "y": [
          5.870967741935484
         ],
         "yaxis": "y"
        },
        {
         "alignmentgroup": "True",
         "hovertemplate": "city=%{x}<br>average_flights=%{y}<extra></extra>",
         "legendgroup": "Петропавловск-Камчатский",
         "marker": {
          "color": "#19d3f3"
         },
         "name": "Петропавловск-Камчатский",
         "offsetgroup": "Петропавловск-Камчатский",
         "orientation": "v",
         "showlegend": true,
         "textposition": "auto",
         "type": "bar",
         "x": [
          "Петропавловск-Камчатский"
         ],
         "xaxis": "x",
         "y": [
          1
         ],
         "yaxis": "y"
        },
        {
         "alignmentgroup": "True",
         "hovertemplate": "city=%{x}<br>average_flights=%{y}<extra></extra>",
         "legendgroup": "Псков",
         "marker": {
          "color": "#FF6692"
         },
         "name": "Псков",
         "offsetgroup": "Псков",
         "orientation": "v",
         "showlegend": true,
         "textposition": "auto",
         "type": "bar",
         "x": [
          "Псков"
         ],
         "xaxis": "x",
         "y": [
          1.5483870967741935
         ],
         "yaxis": "y"
        },
        {
         "alignmentgroup": "True",
         "hovertemplate": "city=%{x}<br>average_flights=%{y}<extra></extra>",
         "legendgroup": "Ростов-на-Дону",
         "marker": {
          "color": "#B6E880"
         },
         "name": "Ростов-на-Дону",
         "offsetgroup": "Ростов-на-Дону",
         "orientation": "v",
         "showlegend": true,
         "textposition": "auto",
         "type": "bar",
         "x": [
          "Ростов-на-Дону"
         ],
         "xaxis": "x",
         "y": [
          10.193548387096774
         ],
         "yaxis": "y"
        },
        {
         "alignmentgroup": "True",
         "hovertemplate": "city=%{x}<br>average_flights=%{y}<extra></extra>",
         "legendgroup": "Салехард",
         "marker": {
          "color": "#FF97FF"
         },
         "name": "Салехард",
         "offsetgroup": "Салехард",
         "orientation": "v",
         "showlegend": true,
         "textposition": "auto",
         "type": "bar",
         "x": [
          "Салехард"
         ],
         "xaxis": "x",
         "y": [
          2
         ],
         "yaxis": "y"
        },
        {
         "alignmentgroup": "True",
         "hovertemplate": "city=%{x}<br>average_flights=%{y}<extra></extra>",
         "legendgroup": "Самара",
         "marker": {
          "color": "#FECB52"
         },
         "name": "Самара",
         "offsetgroup": "Самара",
         "orientation": "v",
         "showlegend": true,
         "textposition": "auto",
         "type": "bar",
         "x": [
          "Самара"
         ],
         "xaxis": "x",
         "y": [
          3
         ],
         "yaxis": "y"
        },
        {
         "alignmentgroup": "True",
         "hovertemplate": "city=%{x}<br>average_flights=%{y}<extra></extra>",
         "legendgroup": "Санкт-Петербург",
         "marker": {
          "color": "#636efa"
         },
         "name": "Санкт-Петербург",
         "offsetgroup": "Санкт-Петербург",
         "orientation": "v",
         "showlegend": true,
         "textposition": "auto",
         "type": "bar",
         "x": [
          "Санкт-Петербург"
         ],
         "xaxis": "x",
         "y": [
          31.161290322580648
         ],
         "yaxis": "y"
        },
        {
         "alignmentgroup": "True",
         "hovertemplate": "city=%{x}<br>average_flights=%{y}<extra></extra>",
         "legendgroup": "Саранск",
         "marker": {
          "color": "#EF553B"
         },
         "name": "Саранск",
         "offsetgroup": "Саранск",
         "orientation": "v",
         "showlegend": true,
         "textposition": "auto",
         "type": "bar",
         "x": [
          "Саранск"
         ],
         "xaxis": "x",
         "y": [
          2
         ],
         "yaxis": "y"
        },
        {
         "alignmentgroup": "True",
         "hovertemplate": "city=%{x}<br>average_flights=%{y}<extra></extra>",
         "legendgroup": "Саратов",
         "marker": {
          "color": "#00cc96"
         },
         "name": "Саратов",
         "offsetgroup": "Саратов",
         "orientation": "v",
         "showlegend": true,
         "textposition": "auto",
         "type": "bar",
         "x": [
          "Саратов"
         ],
         "xaxis": "x",
         "y": [
          4
         ],
         "yaxis": "y"
        },
        {
         "alignmentgroup": "True",
         "hovertemplate": "city=%{x}<br>average_flights=%{y}<extra></extra>",
         "legendgroup": "Советский",
         "marker": {
          "color": "#ab63fa"
         },
         "name": "Советский",
         "offsetgroup": "Советский",
         "orientation": "v",
         "showlegend": true,
         "textposition": "auto",
         "type": "bar",
         "x": [
          "Советский"
         ],
         "xaxis": "x",
         "y": [
          9
         ],
         "yaxis": "y"
        },
        {
         "alignmentgroup": "True",
         "hovertemplate": "city=%{x}<br>average_flights=%{y}<extra></extra>",
         "legendgroup": "Сочи",
         "marker": {
          "color": "#FFA15A"
         },
         "name": "Сочи",
         "offsetgroup": "Сочи",
         "orientation": "v",
         "showlegend": true,
         "textposition": "auto",
         "type": "bar",
         "x": [
          "Сочи"
         ],
         "xaxis": "x",
         "y": [
          9.612903225806452
         ],
         "yaxis": "y"
        },
        {
         "alignmentgroup": "True",
         "hovertemplate": "city=%{x}<br>average_flights=%{y}<extra></extra>",
         "legendgroup": "Ставрополь",
         "marker": {
          "color": "#19d3f3"
         },
         "name": "Ставрополь",
         "offsetgroup": "Ставрополь",
         "orientation": "v",
         "showlegend": true,
         "textposition": "auto",
         "type": "bar",
         "x": [
          "Ставрополь"
         ],
         "xaxis": "x",
         "y": [
          2
         ],
         "yaxis": "y"
        },
        {
         "alignmentgroup": "True",
         "hovertemplate": "city=%{x}<br>average_flights=%{y}<extra></extra>",
         "legendgroup": "Стрежевой",
         "marker": {
          "color": "#FF6692"
         },
         "name": "Стрежевой",
         "offsetgroup": "Стрежевой",
         "orientation": "v",
         "showlegend": true,
         "textposition": "auto",
         "type": "bar",
         "x": [
          "Стрежевой"
         ],
         "xaxis": "x",
         "y": [
          1
         ],
         "yaxis": "y"
        },
        {
         "alignmentgroup": "True",
         "hovertemplate": "city=%{x}<br>average_flights=%{y}<extra></extra>",
         "legendgroup": "Сургут",
         "marker": {
          "color": "#B6E880"
         },
         "name": "Сургут",
         "offsetgroup": "Сургут",
         "orientation": "v",
         "showlegend": true,
         "textposition": "auto",
         "type": "bar",
         "x": [
          "Сургут"
         ],
         "xaxis": "x",
         "y": [
          8.741935483870966
         ],
         "yaxis": "y"
        },
        {
         "alignmentgroup": "True",
         "hovertemplate": "city=%{x}<br>average_flights=%{y}<extra></extra>",
         "legendgroup": "Сыктывкар",
         "marker": {
          "color": "#FF97FF"
         },
         "name": "Сыктывкар",
         "offsetgroup": "Сыктывкар",
         "orientation": "v",
         "showlegend": true,
         "textposition": "auto",
         "type": "bar",
         "x": [
          "Сыктывкар"
         ],
         "xaxis": "x",
         "y": [
          4.129032258064516
         ],
         "yaxis": "y"
        },
        {
         "alignmentgroup": "True",
         "hovertemplate": "city=%{x}<br>average_flights=%{y}<extra></extra>",
         "legendgroup": "Тамбов",
         "marker": {
          "color": "#FECB52"
         },
         "name": "Тамбов",
         "offsetgroup": "Тамбов",
         "orientation": "v",
         "showlegend": true,
         "textposition": "auto",
         "type": "bar",
         "x": [
          "Тамбов"
         ],
         "xaxis": "x",
         "y": [
          4
         ],
         "yaxis": "y"
        },
        {
         "alignmentgroup": "True",
         "hovertemplate": "city=%{x}<br>average_flights=%{y}<extra></extra>",
         "legendgroup": "Томск",
         "marker": {
          "color": "#636efa"
         },
         "name": "Томск",
         "offsetgroup": "Томск",
         "orientation": "v",
         "showlegend": true,
         "textposition": "auto",
         "type": "bar",
         "x": [
          "Томск"
         ],
         "xaxis": "x",
         "y": [
          4.193548387096774
         ],
         "yaxis": "y"
        },
        {
         "alignmentgroup": "True",
         "hovertemplate": "city=%{x}<br>average_flights=%{y}<extra></extra>",
         "legendgroup": "Тюмень",
         "marker": {
          "color": "#EF553B"
         },
         "name": "Тюмень",
         "offsetgroup": "Тюмень",
         "orientation": "v",
         "showlegend": true,
         "textposition": "auto",
         "type": "bar",
         "x": [
          "Тюмень"
         ],
         "xaxis": "x",
         "y": [
          6.967741935483871
         ],
         "yaxis": "y"
        },
        {
         "alignmentgroup": "True",
         "hovertemplate": "city=%{x}<br>average_flights=%{y}<extra></extra>",
         "legendgroup": "Удачный",
         "marker": {
          "color": "#00cc96"
         },
         "name": "Удачный",
         "offsetgroup": "Удачный",
         "orientation": "v",
         "showlegend": true,
         "textposition": "auto",
         "type": "bar",
         "x": [
          "Удачный"
         ],
         "xaxis": "x",
         "y": [
          3
         ],
         "yaxis": "y"
        },
        {
         "alignmentgroup": "True",
         "hovertemplate": "city=%{x}<br>average_flights=%{y}<extra></extra>",
         "legendgroup": "Улан-Удэ",
         "marker": {
          "color": "#ab63fa"
         },
         "name": "Улан-Удэ",
         "offsetgroup": "Улан-Удэ",
         "orientation": "v",
         "showlegend": true,
         "textposition": "auto",
         "type": "bar",
         "x": [
          "Улан-Удэ"
         ],
         "xaxis": "x",
         "y": [
          1.608695652173913
         ],
         "yaxis": "y"
        },
        {
         "alignmentgroup": "True",
         "hovertemplate": "city=%{x}<br>average_flights=%{y}<extra></extra>",
         "legendgroup": "Ульяновск",
         "marker": {
          "color": "#FFA15A"
         },
         "name": "Ульяновск",
         "offsetgroup": "Ульяновск",
         "orientation": "v",
         "showlegend": true,
         "textposition": "auto",
         "type": "bar",
         "x": [
          "Ульяновск"
         ],
         "xaxis": "x",
         "y": [
          9.580645161290322
         ],
         "yaxis": "y"
        },
        {
         "alignmentgroup": "True",
         "hovertemplate": "city=%{x}<br>average_flights=%{y}<extra></extra>",
         "legendgroup": "Урай",
         "marker": {
          "color": "#19d3f3"
         },
         "name": "Урай",
         "offsetgroup": "Урай",
         "orientation": "v",
         "showlegend": true,
         "textposition": "auto",
         "type": "bar",
         "x": [
          "Урай"
         ],
         "xaxis": "x",
         "y": [
          2
         ],
         "yaxis": "y"
        },
        {
         "alignmentgroup": "True",
         "hovertemplate": "city=%{x}<br>average_flights=%{y}<extra></extra>",
         "legendgroup": "Усинск",
         "marker": {
          "color": "#FF6692"
         },
         "name": "Усинск",
         "offsetgroup": "Усинск",
         "orientation": "v",
         "showlegend": true,
         "textposition": "auto",
         "type": "bar",
         "x": [
          "Усинск"
         ],
         "xaxis": "x",
         "y": [
          1
         ],
         "yaxis": "y"
        },
        {
         "alignmentgroup": "True",
         "hovertemplate": "city=%{x}<br>average_flights=%{y}<extra></extra>",
         "legendgroup": "Усть-Илимск",
         "marker": {
          "color": "#B6E880"
         },
         "name": "Усть-Илимск",
         "offsetgroup": "Усть-Илимск",
         "orientation": "v",
         "showlegend": true,
         "textposition": "auto",
         "type": "bar",
         "x": [
          "Усть-Илимск"
         ],
         "xaxis": "x",
         "y": [
          2.870967741935484
         ],
         "yaxis": "y"
        },
        {
         "alignmentgroup": "True",
         "hovertemplate": "city=%{x}<br>average_flights=%{y}<extra></extra>",
         "legendgroup": "Усть-Кут",
         "marker": {
          "color": "#FF97FF"
         },
         "name": "Усть-Кут",
         "offsetgroup": "Усть-Кут",
         "orientation": "v",
         "showlegend": true,
         "textposition": "auto",
         "type": "bar",
         "x": [
          "Усть-Кут"
         ],
         "xaxis": "x",
         "y": [
          1
         ],
         "yaxis": "y"
        },
        {
         "alignmentgroup": "True",
         "hovertemplate": "city=%{x}<br>average_flights=%{y}<extra></extra>",
         "legendgroup": "Уфа",
         "marker": {
          "color": "#FECB52"
         },
         "name": "Уфа",
         "offsetgroup": "Уфа",
         "orientation": "v",
         "showlegend": true,
         "textposition": "auto",
         "type": "bar",
         "x": [
          "Уфа"
         ],
         "xaxis": "x",
         "y": [
          6.290322580645161
         ],
         "yaxis": "y"
        },
        {
         "alignmentgroup": "True",
         "hovertemplate": "city=%{x}<br>average_flights=%{y}<extra></extra>",
         "legendgroup": "Ухта",
         "marker": {
          "color": "#636efa"
         },
         "name": "Ухта",
         "offsetgroup": "Ухта",
         "orientation": "v",
         "showlegend": true,
         "textposition": "auto",
         "type": "bar",
         "x": [
          "Ухта"
         ],
         "xaxis": "x",
         "y": [
          3
         ],
         "yaxis": "y"
        },
        {
         "alignmentgroup": "True",
         "hovertemplate": "city=%{x}<br>average_flights=%{y}<extra></extra>",
         "legendgroup": "Хабаровск",
         "marker": {
          "color": "#EF553B"
         },
         "name": "Хабаровск",
         "offsetgroup": "Хабаровск",
         "orientation": "v",
         "showlegend": true,
         "textposition": "auto",
         "type": "bar",
         "x": [
          "Хабаровск"
         ],
         "xaxis": "x",
         "y": [
          6.548387096774194
         ],
         "yaxis": "y"
        },
        {
         "alignmentgroup": "True",
         "hovertemplate": "city=%{x}<br>average_flights=%{y}<extra></extra>",
         "legendgroup": "Ханты-Мансийск",
         "marker": {
          "color": "#00cc96"
         },
         "name": "Ханты-Мансийск",
         "offsetgroup": "Ханты-Мансийск",
         "orientation": "v",
         "showlegend": true,
         "textposition": "auto",
         "type": "bar",
         "x": [
          "Ханты-Мансийск"
         ],
         "xaxis": "x",
         "y": [
          8.419354838709676
         ],
         "yaxis": "y"
        },
        {
         "alignmentgroup": "True",
         "hovertemplate": "city=%{x}<br>average_flights=%{y}<extra></extra>",
         "legendgroup": "Чебоксары",
         "marker": {
          "color": "#ab63fa"
         },
         "name": "Чебоксары",
         "offsetgroup": "Чебоксары",
         "orientation": "v",
         "showlegend": true,
         "textposition": "auto",
         "type": "bar",
         "x": [
          "Чебоксары"
         ],
         "xaxis": "x",
         "y": [
          5
         ],
         "yaxis": "y"
        },
        {
         "alignmentgroup": "True",
         "hovertemplate": "city=%{x}<br>average_flights=%{y}<extra></extra>",
         "legendgroup": "Челябинск",
         "marker": {
          "color": "#FFA15A"
         },
         "name": "Челябинск",
         "offsetgroup": "Челябинск",
         "orientation": "v",
         "showlegend": true,
         "textposition": "auto",
         "type": "bar",
         "x": [
          "Челябинск"
         ],
         "xaxis": "x",
         "y": [
          6.709677419354839
         ],
         "yaxis": "y"
        },
        {
         "alignmentgroup": "True",
         "hovertemplate": "city=%{x}<br>average_flights=%{y}<extra></extra>",
         "legendgroup": "Череповец",
         "marker": {
          "color": "#19d3f3"
         },
         "name": "Череповец",
         "offsetgroup": "Череповец",
         "orientation": "v",
         "showlegend": true,
         "textposition": "auto",
         "type": "bar",
         "x": [
          "Череповец"
         ],
         "xaxis": "x",
         "y": [
          2.161290322580645
         ],
         "yaxis": "y"
        },
        {
         "alignmentgroup": "True",
         "hovertemplate": "city=%{x}<br>average_flights=%{y}<extra></extra>",
         "legendgroup": "Чита",
         "marker": {
          "color": "#FF6692"
         },
         "name": "Чита",
         "offsetgroup": "Чита",
         "orientation": "v",
         "showlegend": true,
         "textposition": "auto",
         "type": "bar",
         "x": [
          "Чита"
         ],
         "xaxis": "x",
         "y": [
          1.5806451612903225
         ],
         "yaxis": "y"
        },
        {
         "alignmentgroup": "True",
         "hovertemplate": "city=%{x}<br>average_flights=%{y}<extra></extra>",
         "legendgroup": "Элиста",
         "marker": {
          "color": "#B6E880"
         },
         "name": "Элиста",
         "offsetgroup": "Элиста",
         "orientation": "v",
         "showlegend": true,
         "textposition": "auto",
         "type": "bar",
         "x": [
          "Элиста"
         ],
         "xaxis": "x",
         "y": [
          4.870967741935484
         ],
         "yaxis": "y"
        },
        {
         "alignmentgroup": "True",
         "hovertemplate": "city=%{x}<br>average_flights=%{y}<extra></extra>",
         "legendgroup": "Южно-Сахалинск",
         "marker": {
          "color": "#FF97FF"
         },
         "name": "Южно-Сахалинск",
         "offsetgroup": "Южно-Сахалинск",
         "orientation": "v",
         "showlegend": true,
         "textposition": "auto",
         "type": "bar",
         "x": [
          "Южно-Сахалинск"
         ],
         "xaxis": "x",
         "y": [
          4.290322580645161
         ],
         "yaxis": "y"
        },
        {
         "alignmentgroup": "True",
         "hovertemplate": "city=%{x}<br>average_flights=%{y}<extra></extra>",
         "legendgroup": "Якутск",
         "marker": {
          "color": "#FECB52"
         },
         "name": "Якутск",
         "offsetgroup": "Якутск",
         "orientation": "v",
         "showlegend": true,
         "textposition": "auto",
         "type": "bar",
         "x": [
          "Якутск"
         ],
         "xaxis": "x",
         "y": [
          2.741935483870968
         ],
         "yaxis": "y"
        },
        {
         "alignmentgroup": "True",
         "hovertemplate": "city=%{x}<br>average_flights=%{y}<extra></extra>",
         "legendgroup": "Ярославль",
         "marker": {
          "color": "#636efa"
         },
         "name": "Ярославль",
         "offsetgroup": "Ярославль",
         "orientation": "v",
         "showlegend": true,
         "textposition": "auto",
         "type": "bar",
         "x": [
          "Ярославль"
         ],
         "xaxis": "x",
         "y": [
          1.3225806451612905
         ],
         "yaxis": "y"
        }
       ],
       "layout": {
        "barmode": "relative",
        "height": 400,
        "legend": {
         "title": {
          "text": "city"
         },
         "tracegroupgap": 0
        },
        "template": {
         "data": {
          "bar": [
           {
            "error_x": {
             "color": "#2a3f5f"
            },
            "error_y": {
             "color": "#2a3f5f"
            },
            "marker": {
             "line": {
              "color": "#E5ECF6",
              "width": 0.5
             }
            },
            "type": "bar"
           }
          ],
          "barpolar": [
           {
            "marker": {
             "line": {
              "color": "#E5ECF6",
              "width": 0.5
             }
            },
            "type": "barpolar"
           }
          ],
          "carpet": [
           {
            "aaxis": {
             "endlinecolor": "#2a3f5f",
             "gridcolor": "white",
             "linecolor": "white",
             "minorgridcolor": "white",
             "startlinecolor": "#2a3f5f"
            },
            "baxis": {
             "endlinecolor": "#2a3f5f",
             "gridcolor": "white",
             "linecolor": "white",
             "minorgridcolor": "white",
             "startlinecolor": "#2a3f5f"
            },
            "type": "carpet"
           }
          ],
          "choropleth": [
           {
            "colorbar": {
             "outlinewidth": 0,
             "ticks": ""
            },
            "type": "choropleth"
           }
          ],
          "contour": [
           {
            "colorbar": {
             "outlinewidth": 0,
             "ticks": ""
            },
            "colorscale": [
             [
              0,
              "#0d0887"
             ],
             [
              0.1111111111111111,
              "#46039f"
             ],
             [
              0.2222222222222222,
              "#7201a8"
             ],
             [
              0.3333333333333333,
              "#9c179e"
             ],
             [
              0.4444444444444444,
              "#bd3786"
             ],
             [
              0.5555555555555556,
              "#d8576b"
             ],
             [
              0.6666666666666666,
              "#ed7953"
             ],
             [
              0.7777777777777778,
              "#fb9f3a"
             ],
             [
              0.8888888888888888,
              "#fdca26"
             ],
             [
              1,
              "#f0f921"
             ]
            ],
            "type": "contour"
           }
          ],
          "contourcarpet": [
           {
            "colorbar": {
             "outlinewidth": 0,
             "ticks": ""
            },
            "type": "contourcarpet"
           }
          ],
          "heatmap": [
           {
            "colorbar": {
             "outlinewidth": 0,
             "ticks": ""
            },
            "colorscale": [
             [
              0,
              "#0d0887"
             ],
             [
              0.1111111111111111,
              "#46039f"
             ],
             [
              0.2222222222222222,
              "#7201a8"
             ],
             [
              0.3333333333333333,
              "#9c179e"
             ],
             [
              0.4444444444444444,
              "#bd3786"
             ],
             [
              0.5555555555555556,
              "#d8576b"
             ],
             [
              0.6666666666666666,
              "#ed7953"
             ],
             [
              0.7777777777777778,
              "#fb9f3a"
             ],
             [
              0.8888888888888888,
              "#fdca26"
             ],
             [
              1,
              "#f0f921"
             ]
            ],
            "type": "heatmap"
           }
          ],
          "heatmapgl": [
           {
            "colorbar": {
             "outlinewidth": 0,
             "ticks": ""
            },
            "colorscale": [
             [
              0,
              "#0d0887"
             ],
             [
              0.1111111111111111,
              "#46039f"
             ],
             [
              0.2222222222222222,
              "#7201a8"
             ],
             [
              0.3333333333333333,
              "#9c179e"
             ],
             [
              0.4444444444444444,
              "#bd3786"
             ],
             [
              0.5555555555555556,
              "#d8576b"
             ],
             [
              0.6666666666666666,
              "#ed7953"
             ],
             [
              0.7777777777777778,
              "#fb9f3a"
             ],
             [
              0.8888888888888888,
              "#fdca26"
             ],
             [
              1,
              "#f0f921"
             ]
            ],
            "type": "heatmapgl"
           }
          ],
          "histogram": [
           {
            "marker": {
             "colorbar": {
              "outlinewidth": 0,
              "ticks": ""
             }
            },
            "type": "histogram"
           }
          ],
          "histogram2d": [
           {
            "colorbar": {
             "outlinewidth": 0,
             "ticks": ""
            },
            "colorscale": [
             [
              0,
              "#0d0887"
             ],
             [
              0.1111111111111111,
              "#46039f"
             ],
             [
              0.2222222222222222,
              "#7201a8"
             ],
             [
              0.3333333333333333,
              "#9c179e"
             ],
             [
              0.4444444444444444,
              "#bd3786"
             ],
             [
              0.5555555555555556,
              "#d8576b"
             ],
             [
              0.6666666666666666,
              "#ed7953"
             ],
             [
              0.7777777777777778,
              "#fb9f3a"
             ],
             [
              0.8888888888888888,
              "#fdca26"
             ],
             [
              1,
              "#f0f921"
             ]
            ],
            "type": "histogram2d"
           }
          ],
          "histogram2dcontour": [
           {
            "colorbar": {
             "outlinewidth": 0,
             "ticks": ""
            },
            "colorscale": [
             [
              0,
              "#0d0887"
             ],
             [
              0.1111111111111111,
              "#46039f"
             ],
             [
              0.2222222222222222,
              "#7201a8"
             ],
             [
              0.3333333333333333,
              "#9c179e"
             ],
             [
              0.4444444444444444,
              "#bd3786"
             ],
             [
              0.5555555555555556,
              "#d8576b"
             ],
             [
              0.6666666666666666,
              "#ed7953"
             ],
             [
              0.7777777777777778,
              "#fb9f3a"
             ],
             [
              0.8888888888888888,
              "#fdca26"
             ],
             [
              1,
              "#f0f921"
             ]
            ],
            "type": "histogram2dcontour"
           }
          ],
          "mesh3d": [
           {
            "colorbar": {
             "outlinewidth": 0,
             "ticks": ""
            },
            "type": "mesh3d"
           }
          ],
          "parcoords": [
           {
            "line": {
             "colorbar": {
              "outlinewidth": 0,
              "ticks": ""
             }
            },
            "type": "parcoords"
           }
          ],
          "pie": [
           {
            "automargin": true,
            "type": "pie"
           }
          ],
          "scatter": [
           {
            "marker": {
             "colorbar": {
              "outlinewidth": 0,
              "ticks": ""
             }
            },
            "type": "scatter"
           }
          ],
          "scatter3d": [
           {
            "line": {
             "colorbar": {
              "outlinewidth": 0,
              "ticks": ""
             }
            },
            "marker": {
             "colorbar": {
              "outlinewidth": 0,
              "ticks": ""
             }
            },
            "type": "scatter3d"
           }
          ],
          "scattercarpet": [
           {
            "marker": {
             "colorbar": {
              "outlinewidth": 0,
              "ticks": ""
             }
            },
            "type": "scattercarpet"
           }
          ],
          "scattergeo": [
           {
            "marker": {
             "colorbar": {
              "outlinewidth": 0,
              "ticks": ""
             }
            },
            "type": "scattergeo"
           }
          ],
          "scattergl": [
           {
            "marker": {
             "colorbar": {
              "outlinewidth": 0,
              "ticks": ""
             }
            },
            "type": "scattergl"
           }
          ],
          "scattermapbox": [
           {
            "marker": {
             "colorbar": {
              "outlinewidth": 0,
              "ticks": ""
             }
            },
            "type": "scattermapbox"
           }
          ],
          "scatterpolar": [
           {
            "marker": {
             "colorbar": {
              "outlinewidth": 0,
              "ticks": ""
             }
            },
            "type": "scatterpolar"
           }
          ],
          "scatterpolargl": [
           {
            "marker": {
             "colorbar": {
              "outlinewidth": 0,
              "ticks": ""
             }
            },
            "type": "scatterpolargl"
           }
          ],
          "scatterternary": [
           {
            "marker": {
             "colorbar": {
              "outlinewidth": 0,
              "ticks": ""
             }
            },
            "type": "scatterternary"
           }
          ],
          "surface": [
           {
            "colorbar": {
             "outlinewidth": 0,
             "ticks": ""
            },
            "colorscale": [
             [
              0,
              "#0d0887"
             ],
             [
              0.1111111111111111,
              "#46039f"
             ],
             [
              0.2222222222222222,
              "#7201a8"
             ],
             [
              0.3333333333333333,
              "#9c179e"
             ],
             [
              0.4444444444444444,
              "#bd3786"
             ],
             [
              0.5555555555555556,
              "#d8576b"
             ],
             [
              0.6666666666666666,
              "#ed7953"
             ],
             [
              0.7777777777777778,
              "#fb9f3a"
             ],
             [
              0.8888888888888888,
              "#fdca26"
             ],
             [
              1,
              "#f0f921"
             ]
            ],
            "type": "surface"
           }
          ],
          "table": [
           {
            "cells": {
             "fill": {
              "color": "#EBF0F8"
             },
             "line": {
              "color": "white"
             }
            },
            "header": {
             "fill": {
              "color": "#C8D4E3"
             },
             "line": {
              "color": "white"
             }
            },
            "type": "table"
           }
          ]
         },
         "layout": {
          "annotationdefaults": {
           "arrowcolor": "#2a3f5f",
           "arrowhead": 0,
           "arrowwidth": 1
          },
          "coloraxis": {
           "colorbar": {
            "outlinewidth": 0,
            "ticks": ""
           }
          },
          "colorscale": {
           "diverging": [
            [
             0,
             "#8e0152"
            ],
            [
             0.1,
             "#c51b7d"
            ],
            [
             0.2,
             "#de77ae"
            ],
            [
             0.3,
             "#f1b6da"
            ],
            [
             0.4,
             "#fde0ef"
            ],
            [
             0.5,
             "#f7f7f7"
            ],
            [
             0.6,
             "#e6f5d0"
            ],
            [
             0.7,
             "#b8e186"
            ],
            [
             0.8,
             "#7fbc41"
            ],
            [
             0.9,
             "#4d9221"
            ],
            [
             1,
             "#276419"
            ]
           ],
           "sequential": [
            [
             0,
             "#0d0887"
            ],
            [
             0.1111111111111111,
             "#46039f"
            ],
            [
             0.2222222222222222,
             "#7201a8"
            ],
            [
             0.3333333333333333,
             "#9c179e"
            ],
            [
             0.4444444444444444,
             "#bd3786"
            ],
            [
             0.5555555555555556,
             "#d8576b"
            ],
            [
             0.6666666666666666,
             "#ed7953"
            ],
            [
             0.7777777777777778,
             "#fb9f3a"
            ],
            [
             0.8888888888888888,
             "#fdca26"
            ],
            [
             1,
             "#f0f921"
            ]
           ],
           "sequentialminus": [
            [
             0,
             "#0d0887"
            ],
            [
             0.1111111111111111,
             "#46039f"
            ],
            [
             0.2222222222222222,
             "#7201a8"
            ],
            [
             0.3333333333333333,
             "#9c179e"
            ],
            [
             0.4444444444444444,
             "#bd3786"
            ],
            [
             0.5555555555555556,
             "#d8576b"
            ],
            [
             0.6666666666666666,
             "#ed7953"
            ],
            [
             0.7777777777777778,
             "#fb9f3a"
            ],
            [
             0.8888888888888888,
             "#fdca26"
            ],
            [
             1,
             "#f0f921"
            ]
           ]
          },
          "colorway": [
           "#636efa",
           "#EF553B",
           "#00cc96",
           "#ab63fa",
           "#FFA15A",
           "#19d3f3",
           "#FF6692",
           "#B6E880",
           "#FF97FF",
           "#FECB52"
          ],
          "font": {
           "color": "#2a3f5f"
          },
          "geo": {
           "bgcolor": "white",
           "lakecolor": "white",
           "landcolor": "#E5ECF6",
           "showlakes": true,
           "showland": true,
           "subunitcolor": "white"
          },
          "hoverlabel": {
           "align": "left"
          },
          "hovermode": "closest",
          "mapbox": {
           "style": "light"
          },
          "paper_bgcolor": "white",
          "plot_bgcolor": "#E5ECF6",
          "polar": {
           "angularaxis": {
            "gridcolor": "white",
            "linecolor": "white",
            "ticks": ""
           },
           "bgcolor": "#E5ECF6",
           "radialaxis": {
            "gridcolor": "white",
            "linecolor": "white",
            "ticks": ""
           }
          },
          "scene": {
           "xaxis": {
            "backgroundcolor": "#E5ECF6",
            "gridcolor": "white",
            "gridwidth": 2,
            "linecolor": "white",
            "showbackground": true,
            "ticks": "",
            "zerolinecolor": "white"
           },
           "yaxis": {
            "backgroundcolor": "#E5ECF6",
            "gridcolor": "white",
            "gridwidth": 2,
            "linecolor": "white",
            "showbackground": true,
            "ticks": "",
            "zerolinecolor": "white"
           },
           "zaxis": {
            "backgroundcolor": "#E5ECF6",
            "gridcolor": "white",
            "gridwidth": 2,
            "linecolor": "white",
            "showbackground": true,
            "ticks": "",
            "zerolinecolor": "white"
           }
          },
          "shapedefaults": {
           "line": {
            "color": "#2a3f5f"
           }
          },
          "ternary": {
           "aaxis": {
            "gridcolor": "white",
            "linecolor": "white",
            "ticks": ""
           },
           "baxis": {
            "gridcolor": "white",
            "linecolor": "white",
            "ticks": ""
           },
           "bgcolor": "#E5ECF6",
           "caxis": {
            "gridcolor": "white",
            "linecolor": "white",
            "ticks": ""
           }
          },
          "title": {
           "x": 0.05
          },
          "xaxis": {
           "automargin": true,
           "gridcolor": "white",
           "linecolor": "white",
           "ticks": "",
           "title": {
            "standoff": 15
           },
           "zerolinecolor": "white",
           "zerolinewidth": 2
          },
          "yaxis": {
           "automargin": true,
           "gridcolor": "white",
           "linecolor": "white",
           "ticks": "",
           "title": {
            "standoff": 15
           },
           "zerolinecolor": "white",
           "zerolinewidth": 2
          }
         }
        },
        "title": {
         "text": "Город и количество рейсов"
        },
        "xaxis": {
         "anchor": "y",
         "categoryarray": [
          "Абакан",
          "Анадырь",
          "Анапа",
          "Архангельск",
          "Астрахань",
          "Барнаул",
          "Белгород",
          "Белоярский",
          "Благовещенск",
          "Братск",
          "Брянск",
          "Бугульма",
          "Владивосток",
          "Владикавказ",
          "Волгоград",
          "Воркута",
          "Воронеж",
          "Геленджик",
          "Горно-Алтайск",
          "Грозный",
          "Екатеринбург",
          "Иваново",
          "Ижевск",
          "Иркутск",
          "Йошкар-Ола",
          "Казань",
          "Калининград",
          "Калуга",
          "Кемерово",
          "Киров",
          "Когалым",
          "Комсомольск-на-Амуре",
          "Краснодар",
          "Красноярск",
          "Курган",
          "Курск",
          "Кызыл",
          "Липецк",
          "Магадан",
          "Магнитогорск",
          "Махачкала",
          "Минеральные Воды",
          "Мирный",
          "Москва",
          "Мурманск",
          "Надым",
          "Нальчик",
          "Нарьян-Мар",
          "Нерюнгри",
          "Нефтеюганск",
          "Нижневартовск",
          "Нижнекамск",
          "Нижний Новгород",
          "Новокузнецк",
          "Новосибирск",
          "Новый Уренгой",
          "Норильск",
          "Ноябрьск",
          "Нягань",
          "Омск",
          "Оренбург",
          "Орск",
          "Пенза",
          "Пермь",
          "Петрозаводск",
          "Петропавловск-Камчатский",
          "Псков",
          "Ростов-на-Дону",
          "Салехард",
          "Самара",
          "Санкт-Петербург",
          "Саранск",
          "Саратов",
          "Советский",
          "Сочи",
          "Ставрополь",
          "Стрежевой",
          "Сургут",
          "Сыктывкар",
          "Тамбов",
          "Томск",
          "Тюмень",
          "Удачный",
          "Улан-Удэ",
          "Ульяновск",
          "Урай",
          "Усинск",
          "Усть-Илимск",
          "Усть-Кут",
          "Уфа",
          "Ухта",
          "Хабаровск",
          "Ханты-Мансийск",
          "Чебоксары",
          "Челябинск",
          "Череповец",
          "Чита",
          "Элиста",
          "Южно-Сахалинск",
          "Якутск",
          "Ярославль"
         ],
         "categoryorder": "array",
         "domain": [
          0,
          1
         ],
         "title": {
          "text": "city"
         }
        },
        "yaxis": {
         "anchor": "x",
         "domain": [
          0,
          1
         ],
         "title": {
          "text": "average_flights"
         }
        }
       }
      },
      "text/html": [
       "<div>\n",
       "        \n",
       "        \n",
       "            <div id=\"68c3adef-fbc7-42ce-8628-b1f7b5253ab5\" class=\"plotly-graph-div\" style=\"height:400px; width:100%;\"></div>\n",
       "            <script type=\"text/javascript\">\n",
       "                require([\"plotly\"], function(Plotly) {\n",
       "                    window.PLOTLYENV=window.PLOTLYENV || {};\n",
       "                    \n",
       "                if (document.getElementById(\"68c3adef-fbc7-42ce-8628-b1f7b5253ab5\")) {\n",
       "                    Plotly.newPlot(\n",
       "                        '68c3adef-fbc7-42ce-8628-b1f7b5253ab5',\n",
       "                        [{\"alignmentgroup\": \"True\", \"hovertemplate\": \"city=%{x}<br>average_flights=%{y}<extra></extra>\", \"legendgroup\": \"\\u0410\\u0431\\u0430\\u043a\\u0430\\u043d\", \"marker\": {\"color\": \"#636efa\"}, \"name\": \"\\u0410\\u0431\\u0430\\u043a\\u0430\\u043d\", \"offsetgroup\": \"\\u0410\\u0431\\u0430\\u043a\\u0430\\u043d\", \"orientation\": \"v\", \"showlegend\": true, \"textposition\": \"auto\", \"type\": \"bar\", \"x\": [\"\\u0410\\u0431\\u0430\\u043a\\u0430\\u043d\"], \"xaxis\": \"x\", \"y\": [3.870967741935484], \"yaxis\": \"y\"}, {\"alignmentgroup\": \"True\", \"hovertemplate\": \"city=%{x}<br>average_flights=%{y}<extra></extra>\", \"legendgroup\": \"\\u0410\\u043d\\u0430\\u0434\\u044b\\u0440\\u044c\", \"marker\": {\"color\": \"#EF553B\"}, \"name\": \"\\u0410\\u043d\\u0430\\u0434\\u044b\\u0440\\u044c\", \"offsetgroup\": \"\\u0410\\u043d\\u0430\\u0434\\u044b\\u0440\\u044c\", \"orientation\": \"v\", \"showlegend\": true, \"textposition\": \"auto\", \"type\": \"bar\", \"x\": [\"\\u0410\\u043d\\u0430\\u0434\\u044b\\u0440\\u044c\"], \"xaxis\": \"x\", \"y\": [1.0], \"yaxis\": \"y\"}, {\"alignmentgroup\": \"True\", \"hovertemplate\": \"city=%{x}<br>average_flights=%{y}<extra></extra>\", \"legendgroup\": \"\\u0410\\u043d\\u0430\\u043f\\u0430\", \"marker\": {\"color\": \"#00cc96\"}, \"name\": \"\\u0410\\u043d\\u0430\\u043f\\u0430\", \"offsetgroup\": \"\\u0410\\u043d\\u0430\\u043f\\u0430\", \"orientation\": \"v\", \"showlegend\": true, \"textposition\": \"auto\", \"type\": \"bar\", \"x\": [\"\\u0410\\u043d\\u0430\\u043f\\u0430\"], \"xaxis\": \"x\", \"y\": [2.161290322580645], \"yaxis\": \"y\"}, {\"alignmentgroup\": \"True\", \"hovertemplate\": \"city=%{x}<br>average_flights=%{y}<extra></extra>\", \"legendgroup\": \"\\u0410\\u0440\\u0445\\u0430\\u043d\\u0433\\u0435\\u043b\\u044c\\u0441\\u043a\", \"marker\": {\"color\": \"#ab63fa\"}, \"name\": \"\\u0410\\u0440\\u0445\\u0430\\u043d\\u0433\\u0435\\u043b\\u044c\\u0441\\u043a\", \"offsetgroup\": \"\\u0410\\u0440\\u0445\\u0430\\u043d\\u0433\\u0435\\u043b\\u044c\\u0441\\u043a\", \"orientation\": \"v\", \"showlegend\": true, \"textposition\": \"auto\", \"type\": \"bar\", \"x\": [\"\\u0410\\u0440\\u0445\\u0430\\u043d\\u0433\\u0435\\u043b\\u044c\\u0441\\u043a\"], \"xaxis\": \"x\", \"y\": [5.354838709677419], \"yaxis\": \"y\"}, {\"alignmentgroup\": \"True\", \"hovertemplate\": \"city=%{x}<br>average_flights=%{y}<extra></extra>\", \"legendgroup\": \"\\u0410\\u0441\\u0442\\u0440\\u0430\\u0445\\u0430\\u043d\\u044c\", \"marker\": {\"color\": \"#FFA15A\"}, \"name\": \"\\u0410\\u0441\\u0442\\u0440\\u0430\\u0445\\u0430\\u043d\\u044c\", \"offsetgroup\": \"\\u0410\\u0441\\u0442\\u0440\\u0430\\u0445\\u0430\\u043d\\u044c\", \"orientation\": \"v\", \"showlegend\": true, \"textposition\": \"auto\", \"type\": \"bar\", \"x\": [\"\\u0410\\u0441\\u0442\\u0440\\u0430\\u0445\\u0430\\u043d\\u044c\"], \"xaxis\": \"x\", \"y\": [2.4516129032258065], \"yaxis\": \"y\"}, {\"alignmentgroup\": \"True\", \"hovertemplate\": \"city=%{x}<br>average_flights=%{y}<extra></extra>\", \"legendgroup\": \"\\u0411\\u0430\\u0440\\u043d\\u0430\\u0443\\u043b\", \"marker\": {\"color\": \"#19d3f3\"}, \"name\": \"\\u0411\\u0430\\u0440\\u043d\\u0430\\u0443\\u043b\", \"offsetgroup\": \"\\u0411\\u0430\\u0440\\u043d\\u0430\\u0443\\u043b\", \"orientation\": \"v\", \"showlegend\": true, \"textposition\": \"auto\", \"type\": \"bar\", \"x\": [\"\\u0411\\u0430\\u0440\\u043d\\u0430\\u0443\\u043b\"], \"xaxis\": \"x\", \"y\": [2.612903225806452], \"yaxis\": \"y\"}, {\"alignmentgroup\": \"True\", \"hovertemplate\": \"city=%{x}<br>average_flights=%{y}<extra></extra>\", \"legendgroup\": \"\\u0411\\u0435\\u043b\\u0433\\u043e\\u0440\\u043e\\u0434\", \"marker\": {\"color\": \"#FF6692\"}, \"name\": \"\\u0411\\u0435\\u043b\\u0433\\u043e\\u0440\\u043e\\u0434\", \"offsetgroup\": \"\\u0411\\u0435\\u043b\\u0433\\u043e\\u0440\\u043e\\u0434\", \"orientation\": \"v\", \"showlegend\": true, \"textposition\": \"auto\", \"type\": \"bar\", \"x\": [\"\\u0411\\u0435\\u043b\\u0433\\u043e\\u0440\\u043e\\u0434\"], \"xaxis\": \"x\", \"y\": [6.0], \"yaxis\": \"y\"}, {\"alignmentgroup\": \"True\", \"hovertemplate\": \"city=%{x}<br>average_flights=%{y}<extra></extra>\", \"legendgroup\": \"\\u0411\\u0435\\u043b\\u043e\\u044f\\u0440\\u0441\\u043a\\u0438\\u0439\", \"marker\": {\"color\": \"#B6E880\"}, \"name\": \"\\u0411\\u0435\\u043b\\u043e\\u044f\\u0440\\u0441\\u043a\\u0438\\u0439\", \"offsetgroup\": \"\\u0411\\u0435\\u043b\\u043e\\u044f\\u0440\\u0441\\u043a\\u0438\\u0439\", \"orientation\": \"v\", \"showlegend\": true, \"textposition\": \"auto\", \"type\": \"bar\", \"x\": [\"\\u0411\\u0435\\u043b\\u043e\\u044f\\u0440\\u0441\\u043a\\u0438\\u0439\"], \"xaxis\": \"x\", \"y\": [2.0], \"yaxis\": \"y\"}, {\"alignmentgroup\": \"True\", \"hovertemplate\": \"city=%{x}<br>average_flights=%{y}<extra></extra>\", \"legendgroup\": \"\\u0411\\u043b\\u0430\\u0433\\u043e\\u0432\\u0435\\u0449\\u0435\\u043d\\u0441\\u043a\", \"marker\": {\"color\": \"#FF97FF\"}, \"name\": \"\\u0411\\u043b\\u0430\\u0433\\u043e\\u0432\\u0435\\u0449\\u0435\\u043d\\u0441\\u043a\", \"offsetgroup\": \"\\u0411\\u043b\\u0430\\u0433\\u043e\\u0432\\u0435\\u0449\\u0435\\u043d\\u0441\\u043a\", \"orientation\": \"v\", \"showlegend\": true, \"textposition\": \"auto\", \"type\": \"bar\", \"x\": [\"\\u0411\\u043b\\u0430\\u0433\\u043e\\u0432\\u0435\\u0449\\u0435\\u043d\\u0441\\u043a\"], \"xaxis\": \"x\", \"y\": [1.0], \"yaxis\": \"y\"}, {\"alignmentgroup\": \"True\", \"hovertemplate\": \"city=%{x}<br>average_flights=%{y}<extra></extra>\", \"legendgroup\": \"\\u0411\\u0440\\u0430\\u0442\\u0441\\u043a\", \"marker\": {\"color\": \"#FECB52\"}, \"name\": \"\\u0411\\u0440\\u0430\\u0442\\u0441\\u043a\", \"offsetgroup\": \"\\u0411\\u0440\\u0430\\u0442\\u0441\\u043a\", \"orientation\": \"v\", \"showlegend\": true, \"textposition\": \"auto\", \"type\": \"bar\", \"x\": [\"\\u0411\\u0440\\u0430\\u0442\\u0441\\u043a\"], \"xaxis\": \"x\", \"y\": [1.0], \"yaxis\": \"y\"}, {\"alignmentgroup\": \"True\", \"hovertemplate\": \"city=%{x}<br>average_flights=%{y}<extra></extra>\", \"legendgroup\": \"\\u0411\\u0440\\u044f\\u043d\\u0441\\u043a\", \"marker\": {\"color\": \"#636efa\"}, \"name\": \"\\u0411\\u0440\\u044f\\u043d\\u0441\\u043a\", \"offsetgroup\": \"\\u0411\\u0440\\u044f\\u043d\\u0441\\u043a\", \"orientation\": \"v\", \"showlegend\": true, \"textposition\": \"auto\", \"type\": \"bar\", \"x\": [\"\\u0411\\u0440\\u044f\\u043d\\u0441\\u043a\"], \"xaxis\": \"x\", \"y\": [10.0], \"yaxis\": \"y\"}, {\"alignmentgroup\": \"True\", \"hovertemplate\": \"city=%{x}<br>average_flights=%{y}<extra></extra>\", \"legendgroup\": \"\\u0411\\u0443\\u0433\\u0443\\u043b\\u044c\\u043c\\u0430\", \"marker\": {\"color\": \"#EF553B\"}, \"name\": \"\\u0411\\u0443\\u0433\\u0443\\u043b\\u044c\\u043c\\u0430\", \"offsetgroup\": \"\\u0411\\u0443\\u0433\\u0443\\u043b\\u044c\\u043c\\u0430\", \"orientation\": \"v\", \"showlegend\": true, \"textposition\": \"auto\", \"type\": \"bar\", \"x\": [\"\\u0411\\u0443\\u0433\\u0443\\u043b\\u044c\\u043c\\u0430\"], \"xaxis\": \"x\", \"y\": [3.0], \"yaxis\": \"y\"}, {\"alignmentgroup\": \"True\", \"hovertemplate\": \"city=%{x}<br>average_flights=%{y}<extra></extra>\", \"legendgroup\": \"\\u0412\\u043b\\u0430\\u0434\\u0438\\u0432\\u043e\\u0441\\u0442\\u043e\\u043a\", \"marker\": {\"color\": \"#00cc96\"}, \"name\": \"\\u0412\\u043b\\u0430\\u0434\\u0438\\u0432\\u043e\\u0441\\u0442\\u043e\\u043a\", \"offsetgroup\": \"\\u0412\\u043b\\u0430\\u0434\\u0438\\u0432\\u043e\\u0441\\u0442\\u043e\\u043a\", \"orientation\": \"v\", \"showlegend\": true, \"textposition\": \"auto\", \"type\": \"bar\", \"x\": [\"\\u0412\\u043b\\u0430\\u0434\\u0438\\u0432\\u043e\\u0441\\u0442\\u043e\\u043a\"], \"xaxis\": \"x\", \"y\": [3.0], \"yaxis\": \"y\"}, {\"alignmentgroup\": \"True\", \"hovertemplate\": \"city=%{x}<br>average_flights=%{y}<extra></extra>\", \"legendgroup\": \"\\u0412\\u043b\\u0430\\u0434\\u0438\\u043a\\u0430\\u0432\\u043a\\u0430\\u0437\", \"marker\": {\"color\": \"#ab63fa\"}, \"name\": \"\\u0412\\u043b\\u0430\\u0434\\u0438\\u043a\\u0430\\u0432\\u043a\\u0430\\u0437\", \"offsetgroup\": \"\\u0412\\u043b\\u0430\\u0434\\u0438\\u043a\\u0430\\u0432\\u043a\\u0430\\u0437\", \"orientation\": \"v\", \"showlegend\": true, \"textposition\": \"auto\", \"type\": \"bar\", \"x\": [\"\\u0412\\u043b\\u0430\\u0434\\u0438\\u043a\\u0430\\u0432\\u043a\\u0430\\u0437\"], \"xaxis\": \"x\", \"y\": [2.0], \"yaxis\": \"y\"}, {\"alignmentgroup\": \"True\", \"hovertemplate\": \"city=%{x}<br>average_flights=%{y}<extra></extra>\", \"legendgroup\": \"\\u0412\\u043e\\u043b\\u0433\\u043e\\u0433\\u0440\\u0430\\u0434\", \"marker\": {\"color\": \"#FFA15A\"}, \"name\": \"\\u0412\\u043e\\u043b\\u0433\\u043e\\u0433\\u0440\\u0430\\u0434\", \"offsetgroup\": \"\\u0412\\u043e\\u043b\\u0433\\u043e\\u0433\\u0440\\u0430\\u0434\", \"orientation\": \"v\", \"showlegend\": true, \"textposition\": \"auto\", \"type\": \"bar\", \"x\": [\"\\u0412\\u043e\\u043b\\u0433\\u043e\\u0433\\u0440\\u0430\\u0434\"], \"xaxis\": \"x\", \"y\": [5.129032258064516], \"yaxis\": \"y\"}, {\"alignmentgroup\": \"True\", \"hovertemplate\": \"city=%{x}<br>average_flights=%{y}<extra></extra>\", \"legendgroup\": \"\\u0412\\u043e\\u0440\\u043a\\u0443\\u0442\\u0430\", \"marker\": {\"color\": \"#19d3f3\"}, \"name\": \"\\u0412\\u043e\\u0440\\u043a\\u0443\\u0442\\u0430\", \"offsetgroup\": \"\\u0412\\u043e\\u0440\\u043a\\u0443\\u0442\\u0430\", \"orientation\": \"v\", \"showlegend\": true, \"textposition\": \"auto\", \"type\": \"bar\", \"x\": [\"\\u0412\\u043e\\u0440\\u043a\\u0443\\u0442\\u0430\"], \"xaxis\": \"x\", \"y\": [4.580645161290322], \"yaxis\": \"y\"}, {\"alignmentgroup\": \"True\", \"hovertemplate\": \"city=%{x}<br>average_flights=%{y}<extra></extra>\", \"legendgroup\": \"\\u0412\\u043e\\u0440\\u043e\\u043d\\u0435\\u0436\", \"marker\": {\"color\": \"#FF6692\"}, \"name\": \"\\u0412\\u043e\\u0440\\u043e\\u043d\\u0435\\u0436\", \"offsetgroup\": \"\\u0412\\u043e\\u0440\\u043e\\u043d\\u0435\\u0436\", \"orientation\": \"v\", \"showlegend\": true, \"textposition\": \"auto\", \"type\": \"bar\", \"x\": [\"\\u0412\\u043e\\u0440\\u043e\\u043d\\u0435\\u0436\"], \"xaxis\": \"x\", \"y\": [2.0], \"yaxis\": \"y\"}, {\"alignmentgroup\": \"True\", \"hovertemplate\": \"city=%{x}<br>average_flights=%{y}<extra></extra>\", \"legendgroup\": \"\\u0413\\u0435\\u043b\\u0435\\u043d\\u0434\\u0436\\u0438\\u043a\", \"marker\": {\"color\": \"#B6E880\"}, \"name\": \"\\u0413\\u0435\\u043b\\u0435\\u043d\\u0434\\u0436\\u0438\\u043a\", \"offsetgroup\": \"\\u0413\\u0435\\u043b\\u0435\\u043d\\u0434\\u0436\\u0438\\u043a\", \"orientation\": \"v\", \"showlegend\": true, \"textposition\": \"auto\", \"type\": \"bar\", \"x\": [\"\\u0413\\u0435\\u043b\\u0435\\u043d\\u0434\\u0436\\u0438\\u043a\"], \"xaxis\": \"x\", \"y\": [2.590909090909091], \"yaxis\": \"y\"}, {\"alignmentgroup\": \"True\", \"hovertemplate\": \"city=%{x}<br>average_flights=%{y}<extra></extra>\", \"legendgroup\": \"\\u0413\\u043e\\u0440\\u043d\\u043e-\\u0410\\u043b\\u0442\\u0430\\u0439\\u0441\\u043a\", \"marker\": {\"color\": \"#FF97FF\"}, \"name\": \"\\u0413\\u043e\\u0440\\u043d\\u043e-\\u0410\\u043b\\u0442\\u0430\\u0439\\u0441\\u043a\", \"offsetgroup\": \"\\u0413\\u043e\\u0440\\u043d\\u043e-\\u0410\\u043b\\u0442\\u0430\\u0439\\u0441\\u043a\", \"orientation\": \"v\", \"showlegend\": true, \"textposition\": \"auto\", \"type\": \"bar\", \"x\": [\"\\u0413\\u043e\\u0440\\u043d\\u043e-\\u0410\\u043b\\u0442\\u0430\\u0439\\u0441\\u043a\"], \"xaxis\": \"x\", \"y\": [1.3870967741935485], \"yaxis\": \"y\"}, {\"alignmentgroup\": \"True\", \"hovertemplate\": \"city=%{x}<br>average_flights=%{y}<extra></extra>\", \"legendgroup\": \"\\u0413\\u0440\\u043e\\u0437\\u043d\\u044b\\u0439\", \"marker\": {\"color\": \"#FECB52\"}, \"name\": \"\\u0413\\u0440\\u043e\\u0437\\u043d\\u044b\\u0439\", \"offsetgroup\": \"\\u0413\\u0440\\u043e\\u0437\\u043d\\u044b\\u0439\", \"orientation\": \"v\", \"showlegend\": true, \"textposition\": \"auto\", \"type\": \"bar\", \"x\": [\"\\u0413\\u0440\\u043e\\u0437\\u043d\\u044b\\u0439\"], \"xaxis\": \"x\", \"y\": [1.129032258064516], \"yaxis\": \"y\"}, {\"alignmentgroup\": \"True\", \"hovertemplate\": \"city=%{x}<br>average_flights=%{y}<extra></extra>\", \"legendgroup\": \"\\u0415\\u043a\\u0430\\u0442\\u0435\\u0440\\u0438\\u043d\\u0431\\u0443\\u0440\\u0433\", \"marker\": {\"color\": \"#636efa\"}, \"name\": \"\\u0415\\u043a\\u0430\\u0442\\u0435\\u0440\\u0438\\u043d\\u0431\\u0443\\u0440\\u0433\", \"offsetgroup\": \"\\u0415\\u043a\\u0430\\u0442\\u0435\\u0440\\u0438\\u043d\\u0431\\u0443\\u0440\\u0433\", \"orientation\": \"v\", \"showlegend\": true, \"textposition\": \"auto\", \"type\": \"bar\", \"x\": [\"\\u0415\\u043a\\u0430\\u0442\\u0435\\u0440\\u0438\\u043d\\u0431\\u0443\\u0440\\u0433\"], \"xaxis\": \"x\", \"y\": [11.32258064516129], \"yaxis\": \"y\"}, {\"alignmentgroup\": \"True\", \"hovertemplate\": \"city=%{x}<br>average_flights=%{y}<extra></extra>\", \"legendgroup\": \"\\u0418\\u0432\\u0430\\u043d\\u043e\\u0432\\u043e\", \"marker\": {\"color\": \"#EF553B\"}, \"name\": \"\\u0418\\u0432\\u0430\\u043d\\u043e\\u0432\\u043e\", \"offsetgroup\": \"\\u0418\\u0432\\u0430\\u043d\\u043e\\u0432\\u043e\", \"orientation\": \"v\", \"showlegend\": true, \"textposition\": \"auto\", \"type\": \"bar\", \"x\": [\"\\u0418\\u0432\\u0430\\u043d\\u043e\\u0432\\u043e\"], \"xaxis\": \"x\", \"y\": [1.0], \"yaxis\": \"y\"}, {\"alignmentgroup\": \"True\", \"hovertemplate\": \"city=%{x}<br>average_flights=%{y}<extra></extra>\", \"legendgroup\": \"\\u0418\\u0436\\u0435\\u0432\\u0441\\u043a\", \"marker\": {\"color\": \"#00cc96\"}, \"name\": \"\\u0418\\u0436\\u0435\\u0432\\u0441\\u043a\", \"offsetgroup\": \"\\u0418\\u0436\\u0435\\u0432\\u0441\\u043a\", \"orientation\": \"v\", \"showlegend\": true, \"textposition\": \"auto\", \"type\": \"bar\", \"x\": [\"\\u0418\\u0436\\u0435\\u0432\\u0441\\u043a\"], \"xaxis\": \"x\", \"y\": [1.0], \"yaxis\": \"y\"}, {\"alignmentgroup\": \"True\", \"hovertemplate\": \"city=%{x}<br>average_flights=%{y}<extra></extra>\", \"legendgroup\": \"\\u0418\\u0440\\u043a\\u0443\\u0442\\u0441\\u043a\", \"marker\": {\"color\": \"#ab63fa\"}, \"name\": \"\\u0418\\u0440\\u043a\\u0443\\u0442\\u0441\\u043a\", \"offsetgroup\": \"\\u0418\\u0440\\u043a\\u0443\\u0442\\u0441\\u043a\", \"orientation\": \"v\", \"showlegend\": true, \"textposition\": \"auto\", \"type\": \"bar\", \"x\": [\"\\u0418\\u0440\\u043a\\u0443\\u0442\\u0441\\u043a\"], \"xaxis\": \"x\", \"y\": [6.032258064516129], \"yaxis\": \"y\"}, {\"alignmentgroup\": \"True\", \"hovertemplate\": \"city=%{x}<br>average_flights=%{y}<extra></extra>\", \"legendgroup\": \"\\u0419\\u043e\\u0448\\u043a\\u0430\\u0440-\\u041e\\u043b\\u0430\", \"marker\": {\"color\": \"#FFA15A\"}, \"name\": \"\\u0419\\u043e\\u0448\\u043a\\u0430\\u0440-\\u041e\\u043b\\u0430\", \"offsetgroup\": \"\\u0419\\u043e\\u0448\\u043a\\u0430\\u0440-\\u041e\\u043b\\u0430\", \"orientation\": \"v\", \"showlegend\": true, \"textposition\": \"auto\", \"type\": \"bar\", \"x\": [\"\\u0419\\u043e\\u0448\\u043a\\u0430\\u0440-\\u041e\\u043b\\u0430\"], \"xaxis\": \"x\", \"y\": [4.290322580645161], \"yaxis\": \"y\"}, {\"alignmentgroup\": \"True\", \"hovertemplate\": \"city=%{x}<br>average_flights=%{y}<extra></extra>\", \"legendgroup\": \"\\u041a\\u0430\\u0437\\u0430\\u043d\\u044c\", \"marker\": {\"color\": \"#19d3f3\"}, \"name\": \"\\u041a\\u0430\\u0437\\u0430\\u043d\\u044c\", \"offsetgroup\": \"\\u041a\\u0430\\u0437\\u0430\\u043d\\u044c\", \"orientation\": \"v\", \"showlegend\": true, \"textposition\": \"auto\", \"type\": \"bar\", \"x\": [\"\\u041a\\u0430\\u0437\\u0430\\u043d\\u044c\"], \"xaxis\": \"x\", \"y\": [7.741935483870966], \"yaxis\": \"y\"}, {\"alignmentgroup\": \"True\", \"hovertemplate\": \"city=%{x}<br>average_flights=%{y}<extra></extra>\", \"legendgroup\": \"\\u041a\\u0430\\u043b\\u0438\\u043d\\u0438\\u043d\\u0433\\u0440\\u0430\\u0434\", \"marker\": {\"color\": \"#FF6692\"}, \"name\": \"\\u041a\\u0430\\u043b\\u0438\\u043d\\u0438\\u043d\\u0433\\u0440\\u0430\\u0434\", \"offsetgroup\": \"\\u041a\\u0430\\u043b\\u0438\\u043d\\u0438\\u043d\\u0433\\u0440\\u0430\\u0434\", \"orientation\": \"v\", \"showlegend\": true, \"textposition\": \"auto\", \"type\": \"bar\", \"x\": [\"\\u041a\\u0430\\u043b\\u0438\\u043d\\u0438\\u043d\\u0433\\u0440\\u0430\\u0434\"], \"xaxis\": \"x\", \"y\": [2.5806451612903225], \"yaxis\": \"y\"}, {\"alignmentgroup\": \"True\", \"hovertemplate\": \"city=%{x}<br>average_flights=%{y}<extra></extra>\", \"legendgroup\": \"\\u041a\\u0430\\u043b\\u0443\\u0433\\u0430\", \"marker\": {\"color\": \"#B6E880\"}, \"name\": \"\\u041a\\u0430\\u043b\\u0443\\u0433\\u0430\", \"offsetgroup\": \"\\u041a\\u0430\\u043b\\u0443\\u0433\\u0430\", \"orientation\": \"v\", \"showlegend\": true, \"textposition\": \"auto\", \"type\": \"bar\", \"x\": [\"\\u041a\\u0430\\u043b\\u0443\\u0433\\u0430\"], \"xaxis\": \"x\", \"y\": [2.032258064516129], \"yaxis\": \"y\"}, {\"alignmentgroup\": \"True\", \"hovertemplate\": \"city=%{x}<br>average_flights=%{y}<extra></extra>\", \"legendgroup\": \"\\u041a\\u0435\\u043c\\u0435\\u0440\\u043e\\u0432\\u043e\", \"marker\": {\"color\": \"#FF97FF\"}, \"name\": \"\\u041a\\u0435\\u043c\\u0435\\u0440\\u043e\\u0432\\u043e\", \"offsetgroup\": \"\\u041a\\u0435\\u043c\\u0435\\u0440\\u043e\\u0432\\u043e\", \"orientation\": \"v\", \"showlegend\": true, \"textposition\": \"auto\", \"type\": \"bar\", \"x\": [\"\\u041a\\u0435\\u043c\\u0435\\u0440\\u043e\\u0432\\u043e\"], \"xaxis\": \"x\", \"y\": [2.0], \"yaxis\": \"y\"}, {\"alignmentgroup\": \"True\", \"hovertemplate\": \"city=%{x}<br>average_flights=%{y}<extra></extra>\", \"legendgroup\": \"\\u041a\\u0438\\u0440\\u043e\\u0432\", \"marker\": {\"color\": \"#FECB52\"}, \"name\": \"\\u041a\\u0438\\u0440\\u043e\\u0432\", \"offsetgroup\": \"\\u041a\\u0438\\u0440\\u043e\\u0432\", \"orientation\": \"v\", \"showlegend\": true, \"textposition\": \"auto\", \"type\": \"bar\", \"x\": [\"\\u041a\\u0438\\u0440\\u043e\\u0432\"], \"xaxis\": \"x\", \"y\": [6.0], \"yaxis\": \"y\"}, {\"alignmentgroup\": \"True\", \"hovertemplate\": \"city=%{x}<br>average_flights=%{y}<extra></extra>\", \"legendgroup\": \"\\u041a\\u043e\\u0433\\u0430\\u043b\\u044b\\u043c\", \"marker\": {\"color\": \"#636efa\"}, \"name\": \"\\u041a\\u043e\\u0433\\u0430\\u043b\\u044b\\u043c\", \"offsetgroup\": \"\\u041a\\u043e\\u0433\\u0430\\u043b\\u044b\\u043c\", \"orientation\": \"v\", \"showlegend\": true, \"textposition\": \"auto\", \"type\": \"bar\", \"x\": [\"\\u041a\\u043e\\u0433\\u0430\\u043b\\u044b\\u043c\"], \"xaxis\": \"x\", \"y\": [3.161290322580645], \"yaxis\": \"y\"}, {\"alignmentgroup\": \"True\", \"hovertemplate\": \"city=%{x}<br>average_flights=%{y}<extra></extra>\", \"legendgroup\": \"\\u041a\\u043e\\u043c\\u0441\\u043e\\u043c\\u043e\\u043b\\u044c\\u0441\\u043a-\\u043d\\u0430-\\u0410\\u043c\\u0443\\u0440\\u0435\", \"marker\": {\"color\": \"#EF553B\"}, \"name\": \"\\u041a\\u043e\\u043c\\u0441\\u043e\\u043c\\u043e\\u043b\\u044c\\u0441\\u043a-\\u043d\\u0430-\\u0410\\u043c\\u0443\\u0440\\u0435\", \"offsetgroup\": \"\\u041a\\u043e\\u043c\\u0441\\u043e\\u043c\\u043e\\u043b\\u044c\\u0441\\u043a-\\u043d\\u0430-\\u0410\\u043c\\u0443\\u0440\\u0435\", \"orientation\": \"v\", \"showlegend\": true, \"textposition\": \"auto\", \"type\": \"bar\", \"x\": [\"\\u041a\\u043e\\u043c\\u0441\\u043e\\u043c\\u043e\\u043b\\u044c\\u0441\\u043a-\\u043d\\u0430-\\u0410\\u043c\\u0443\\u0440\\u0435\"], \"xaxis\": \"x\", \"y\": [1.0], \"yaxis\": \"y\"}, {\"alignmentgroup\": \"True\", \"hovertemplate\": \"city=%{x}<br>average_flights=%{y}<extra></extra>\", \"legendgroup\": \"\\u041a\\u0440\\u0430\\u0441\\u043d\\u043e\\u0434\\u0430\\u0440\", \"marker\": {\"color\": \"#00cc96\"}, \"name\": \"\\u041a\\u0440\\u0430\\u0441\\u043d\\u043e\\u0434\\u0430\\u0440\", \"offsetgroup\": \"\\u041a\\u0440\\u0430\\u0441\\u043d\\u043e\\u0434\\u0430\\u0440\", \"orientation\": \"v\", \"showlegend\": true, \"textposition\": \"auto\", \"type\": \"bar\", \"x\": [\"\\u041a\\u0440\\u0430\\u0441\\u043d\\u043e\\u0434\\u0430\\u0440\"], \"xaxis\": \"x\", \"y\": [3.903225806451613], \"yaxis\": \"y\"}, {\"alignmentgroup\": \"True\", \"hovertemplate\": \"city=%{x}<br>average_flights=%{y}<extra></extra>\", \"legendgroup\": \"\\u041a\\u0440\\u0430\\u0441\\u043d\\u043e\\u044f\\u0440\\u0441\\u043a\", \"marker\": {\"color\": \"#ab63fa\"}, \"name\": \"\\u041a\\u0440\\u0430\\u0441\\u043d\\u043e\\u044f\\u0440\\u0441\\u043a\", \"offsetgroup\": \"\\u041a\\u0440\\u0430\\u0441\\u043d\\u043e\\u044f\\u0440\\u0441\\u043a\", \"orientation\": \"v\", \"showlegend\": true, \"textposition\": \"auto\", \"type\": \"bar\", \"x\": [\"\\u041a\\u0440\\u0430\\u0441\\u043d\\u043e\\u044f\\u0440\\u0441\\u043a\"], \"xaxis\": \"x\", \"y\": [11.580645161290322], \"yaxis\": \"y\"}, {\"alignmentgroup\": \"True\", \"hovertemplate\": \"city=%{x}<br>average_flights=%{y}<extra></extra>\", \"legendgroup\": \"\\u041a\\u0443\\u0440\\u0433\\u0430\\u043d\", \"marker\": {\"color\": \"#FFA15A\"}, \"name\": \"\\u041a\\u0443\\u0440\\u0433\\u0430\\u043d\", \"offsetgroup\": \"\\u041a\\u0443\\u0440\\u0433\\u0430\\u043d\", \"orientation\": \"v\", \"showlegend\": true, \"textposition\": \"auto\", \"type\": \"bar\", \"x\": [\"\\u041a\\u0443\\u0440\\u0433\\u0430\\u043d\"], \"xaxis\": \"x\", \"y\": [3.419354838709677], \"yaxis\": \"y\"}, {\"alignmentgroup\": \"True\", \"hovertemplate\": \"city=%{x}<br>average_flights=%{y}<extra></extra>\", \"legendgroup\": \"\\u041a\\u0443\\u0440\\u0441\\u043a\", \"marker\": {\"color\": \"#19d3f3\"}, \"name\": \"\\u041a\\u0443\\u0440\\u0441\\u043a\", \"offsetgroup\": \"\\u041a\\u0443\\u0440\\u0441\\u043a\", \"orientation\": \"v\", \"showlegend\": true, \"textposition\": \"auto\", \"type\": \"bar\", \"x\": [\"\\u041a\\u0443\\u0440\\u0441\\u043a\"], \"xaxis\": \"x\", \"y\": [2.290322580645161], \"yaxis\": \"y\"}, {\"alignmentgroup\": \"True\", \"hovertemplate\": \"city=%{x}<br>average_flights=%{y}<extra></extra>\", \"legendgroup\": \"\\u041a\\u044b\\u0437\\u044b\\u043b\", \"marker\": {\"color\": \"#FF6692\"}, \"name\": \"\\u041a\\u044b\\u0437\\u044b\\u043b\", \"offsetgroup\": \"\\u041a\\u044b\\u0437\\u044b\\u043b\", \"orientation\": \"v\", \"showlegend\": true, \"textposition\": \"auto\", \"type\": \"bar\", \"x\": [\"\\u041a\\u044b\\u0437\\u044b\\u043b\"], \"xaxis\": \"x\", \"y\": [1.277777777777778], \"yaxis\": \"y\"}, {\"alignmentgroup\": \"True\", \"hovertemplate\": \"city=%{x}<br>average_flights=%{y}<extra></extra>\", \"legendgroup\": \"\\u041b\\u0438\\u043f\\u0435\\u0446\\u043a\", \"marker\": {\"color\": \"#B6E880\"}, \"name\": \"\\u041b\\u0438\\u043f\\u0435\\u0446\\u043a\", \"offsetgroup\": \"\\u041b\\u0438\\u043f\\u0435\\u0446\\u043a\", \"orientation\": \"v\", \"showlegend\": true, \"textposition\": \"auto\", \"type\": \"bar\", \"x\": [\"\\u041b\\u0438\\u043f\\u0435\\u0446\\u043a\"], \"xaxis\": \"x\", \"y\": [1.2941176470588236], \"yaxis\": \"y\"}, {\"alignmentgroup\": \"True\", \"hovertemplate\": \"city=%{x}<br>average_flights=%{y}<extra></extra>\", \"legendgroup\": \"\\u041c\\u0430\\u0433\\u0430\\u0434\\u0430\\u043d\", \"marker\": {\"color\": \"#FF97FF\"}, \"name\": \"\\u041c\\u0430\\u0433\\u0430\\u0434\\u0430\\u043d\", \"offsetgroup\": \"\\u041c\\u0430\\u0433\\u0430\\u0434\\u0430\\u043d\", \"orientation\": \"v\", \"showlegend\": true, \"textposition\": \"auto\", \"type\": \"bar\", \"x\": [\"\\u041c\\u0430\\u0433\\u0430\\u0434\\u0430\\u043d\"], \"xaxis\": \"x\", \"y\": [1.3571428571428572], \"yaxis\": \"y\"}, {\"alignmentgroup\": \"True\", \"hovertemplate\": \"city=%{x}<br>average_flights=%{y}<extra></extra>\", \"legendgroup\": \"\\u041c\\u0430\\u0433\\u043d\\u0438\\u0442\\u043e\\u0433\\u043e\\u0440\\u0441\\u043a\", \"marker\": {\"color\": \"#FECB52\"}, \"name\": \"\\u041c\\u0430\\u0433\\u043d\\u0438\\u0442\\u043e\\u0433\\u043e\\u0440\\u0441\\u043a\", \"offsetgroup\": \"\\u041c\\u0430\\u0433\\u043d\\u0438\\u0442\\u043e\\u0433\\u043e\\u0440\\u0441\\u043a\", \"orientation\": \"v\", \"showlegend\": true, \"textposition\": \"auto\", \"type\": \"bar\", \"x\": [\"\\u041c\\u0430\\u0433\\u043d\\u0438\\u0442\\u043e\\u0433\\u043e\\u0440\\u0441\\u043a\"], \"xaxis\": \"x\", \"y\": [4.0], \"yaxis\": \"y\"}, {\"alignmentgroup\": \"True\", \"hovertemplate\": \"city=%{x}<br>average_flights=%{y}<extra></extra>\", \"legendgroup\": \"\\u041c\\u0430\\u0445\\u0430\\u0447\\u043a\\u0430\\u043b\\u0430\", \"marker\": {\"color\": \"#636efa\"}, \"name\": \"\\u041c\\u0430\\u0445\\u0430\\u0447\\u043a\\u0430\\u043b\\u0430\", \"offsetgroup\": \"\\u041c\\u0430\\u0445\\u0430\\u0447\\u043a\\u0430\\u043b\\u0430\", \"orientation\": \"v\", \"showlegend\": true, \"textposition\": \"auto\", \"type\": \"bar\", \"x\": [\"\\u041c\\u0430\\u0445\\u0430\\u0447\\u043a\\u0430\\u043b\\u0430\"], \"xaxis\": \"x\", \"y\": [3.290322580645161], \"yaxis\": \"y\"}, {\"alignmentgroup\": \"True\", \"hovertemplate\": \"city=%{x}<br>average_flights=%{y}<extra></extra>\", \"legendgroup\": \"\\u041c\\u0438\\u043d\\u0435\\u0440\\u0430\\u043b\\u044c\\u043d\\u044b\\u0435 \\u0412\\u043e\\u0434\\u044b\", \"marker\": {\"color\": \"#EF553B\"}, \"name\": \"\\u041c\\u0438\\u043d\\u0435\\u0440\\u0430\\u043b\\u044c\\u043d\\u044b\\u0435 \\u0412\\u043e\\u0434\\u044b\", \"offsetgroup\": \"\\u041c\\u0438\\u043d\\u0435\\u0440\\u0430\\u043b\\u044c\\u043d\\u044b\\u0435 \\u0412\\u043e\\u0434\\u044b\", \"orientation\": \"v\", \"showlegend\": true, \"textposition\": \"auto\", \"type\": \"bar\", \"x\": [\"\\u041c\\u0438\\u043d\\u0435\\u0440\\u0430\\u043b\\u044c\\u043d\\u044b\\u0435 \\u0412\\u043e\\u0434\\u044b\"], \"xaxis\": \"x\", \"y\": [3.419354838709677], \"yaxis\": \"y\"}, {\"alignmentgroup\": \"True\", \"hovertemplate\": \"city=%{x}<br>average_flights=%{y}<extra></extra>\", \"legendgroup\": \"\\u041c\\u0438\\u0440\\u043d\\u044b\\u0439\", \"marker\": {\"color\": \"#00cc96\"}, \"name\": \"\\u041c\\u0438\\u0440\\u043d\\u044b\\u0439\", \"offsetgroup\": \"\\u041c\\u0438\\u0440\\u043d\\u044b\\u0439\", \"orientation\": \"v\", \"showlegend\": true, \"textposition\": \"auto\", \"type\": \"bar\", \"x\": [\"\\u041c\\u0438\\u0440\\u043d\\u044b\\u0439\"], \"xaxis\": \"x\", \"y\": [6.290322580645161], \"yaxis\": \"y\"}, {\"alignmentgroup\": \"True\", \"hovertemplate\": \"city=%{x}<br>average_flights=%{y}<extra></extra>\", \"legendgroup\": \"\\u041c\\u043e\\u0441\\u043a\\u0432\\u0430\", \"marker\": {\"color\": \"#ab63fa\"}, \"name\": \"\\u041c\\u043e\\u0441\\u043a\\u0432\\u0430\", \"offsetgroup\": \"\\u041c\\u043e\\u0441\\u043a\\u0432\\u0430\", \"orientation\": \"v\", \"showlegend\": true, \"textposition\": \"auto\", \"type\": \"bar\", \"x\": [\"\\u041c\\u043e\\u0441\\u043a\\u0432\\u0430\"], \"xaxis\": \"x\", \"y\": [129.77419354838707], \"yaxis\": \"y\"}, {\"alignmentgroup\": \"True\", \"hovertemplate\": \"city=%{x}<br>average_flights=%{y}<extra></extra>\", \"legendgroup\": \"\\u041c\\u0443\\u0440\\u043c\\u0430\\u043d\\u0441\\u043a\", \"marker\": {\"color\": \"#FFA15A\"}, \"name\": \"\\u041c\\u0443\\u0440\\u043c\\u0430\\u043d\\u0441\\u043a\", \"offsetgroup\": \"\\u041c\\u0443\\u0440\\u043c\\u0430\\u043d\\u0441\\u043a\", \"orientation\": \"v\", \"showlegend\": true, \"textposition\": \"auto\", \"type\": \"bar\", \"x\": [\"\\u041c\\u0443\\u0440\\u043c\\u0430\\u043d\\u0441\\u043a\"], \"xaxis\": \"x\", \"y\": [2.0], \"yaxis\": \"y\"}, {\"alignmentgroup\": \"True\", \"hovertemplate\": \"city=%{x}<br>average_flights=%{y}<extra></extra>\", \"legendgroup\": \"\\u041d\\u0430\\u0434\\u044b\\u043c\", \"marker\": {\"color\": \"#19d3f3\"}, \"name\": \"\\u041d\\u0430\\u0434\\u044b\\u043c\", \"offsetgroup\": \"\\u041d\\u0430\\u0434\\u044b\\u043c\", \"orientation\": \"v\", \"showlegend\": true, \"textposition\": \"auto\", \"type\": \"bar\", \"x\": [\"\\u041d\\u0430\\u0434\\u044b\\u043c\"], \"xaxis\": \"x\", \"y\": [2.290322580645161], \"yaxis\": \"y\"}, {\"alignmentgroup\": \"True\", \"hovertemplate\": \"city=%{x}<br>average_flights=%{y}<extra></extra>\", \"legendgroup\": \"\\u041d\\u0430\\u043b\\u044c\\u0447\\u0438\\u043a\", \"marker\": {\"color\": \"#FF6692\"}, \"name\": \"\\u041d\\u0430\\u043b\\u044c\\u0447\\u0438\\u043a\", \"offsetgroup\": \"\\u041d\\u0430\\u043b\\u044c\\u0447\\u0438\\u043a\", \"orientation\": \"v\", \"showlegend\": true, \"textposition\": \"auto\", \"type\": \"bar\", \"x\": [\"\\u041d\\u0430\\u043b\\u044c\\u0447\\u0438\\u043a\"], \"xaxis\": \"x\", \"y\": [3.0], \"yaxis\": \"y\"}, {\"alignmentgroup\": \"True\", \"hovertemplate\": \"city=%{x}<br>average_flights=%{y}<extra></extra>\", \"legendgroup\": \"\\u041d\\u0430\\u0440\\u044c\\u044f\\u043d-\\u041c\\u0430\\u0440\", \"marker\": {\"color\": \"#B6E880\"}, \"name\": \"\\u041d\\u0430\\u0440\\u044c\\u044f\\u043d-\\u041c\\u0430\\u0440\", \"offsetgroup\": \"\\u041d\\u0430\\u0440\\u044c\\u044f\\u043d-\\u041c\\u0430\\u0440\", \"orientation\": \"v\", \"showlegend\": true, \"textposition\": \"auto\", \"type\": \"bar\", \"x\": [\"\\u041d\\u0430\\u0440\\u044c\\u044f\\u043d-\\u041c\\u0430\\u0440\"], \"xaxis\": \"x\", \"y\": [2.612903225806452], \"yaxis\": \"y\"}, {\"alignmentgroup\": \"True\", \"hovertemplate\": \"city=%{x}<br>average_flights=%{y}<extra></extra>\", \"legendgroup\": \"\\u041d\\u0435\\u0440\\u044e\\u043d\\u0433\\u0440\\u0438\", \"marker\": {\"color\": \"#FF97FF\"}, \"name\": \"\\u041d\\u0435\\u0440\\u044e\\u043d\\u0433\\u0440\\u0438\", \"offsetgroup\": \"\\u041d\\u0435\\u0440\\u044e\\u043d\\u0433\\u0440\\u0438\", \"orientation\": \"v\", \"showlegend\": true, \"textposition\": \"auto\", \"type\": \"bar\", \"x\": [\"\\u041d\\u0435\\u0440\\u044e\\u043d\\u0433\\u0440\\u0438\"], \"xaxis\": \"x\", \"y\": [2.5806451612903225], \"yaxis\": \"y\"}, {\"alignmentgroup\": \"True\", \"hovertemplate\": \"city=%{x}<br>average_flights=%{y}<extra></extra>\", \"legendgroup\": \"\\u041d\\u0435\\u0444\\u0442\\u0435\\u044e\\u0433\\u0430\\u043d\\u0441\\u043a\", \"marker\": {\"color\": \"#FECB52\"}, \"name\": \"\\u041d\\u0435\\u0444\\u0442\\u0435\\u044e\\u0433\\u0430\\u043d\\u0441\\u043a\", \"offsetgroup\": \"\\u041d\\u0435\\u0444\\u0442\\u0435\\u044e\\u0433\\u0430\\u043d\\u0441\\u043a\", \"orientation\": \"v\", \"showlegend\": true, \"textposition\": \"auto\", \"type\": \"bar\", \"x\": [\"\\u041d\\u0435\\u0444\\u0442\\u0435\\u044e\\u0433\\u0430\\u043d\\u0441\\u043a\"], \"xaxis\": \"x\", \"y\": [1.0], \"yaxis\": \"y\"}, {\"alignmentgroup\": \"True\", \"hovertemplate\": \"city=%{x}<br>average_flights=%{y}<extra></extra>\", \"legendgroup\": \"\\u041d\\u0438\\u0436\\u043d\\u0435\\u0432\\u0430\\u0440\\u0442\\u043e\\u0432\\u0441\\u043a\", \"marker\": {\"color\": \"#636efa\"}, \"name\": \"\\u041d\\u0438\\u0436\\u043d\\u0435\\u0432\\u0430\\u0440\\u0442\\u043e\\u0432\\u0441\\u043a\", \"offsetgroup\": \"\\u041d\\u0438\\u0436\\u043d\\u0435\\u0432\\u0430\\u0440\\u0442\\u043e\\u0432\\u0441\\u043a\", \"orientation\": \"v\", \"showlegend\": true, \"textposition\": \"auto\", \"type\": \"bar\", \"x\": [\"\\u041d\\u0438\\u0436\\u043d\\u0435\\u0432\\u0430\\u0440\\u0442\\u043e\\u0432\\u0441\\u043a\"], \"xaxis\": \"x\", \"y\": [3.129032258064516], \"yaxis\": \"y\"}, {\"alignmentgroup\": \"True\", \"hovertemplate\": \"city=%{x}<br>average_flights=%{y}<extra></extra>\", \"legendgroup\": \"\\u041d\\u0438\\u0436\\u043d\\u0435\\u043a\\u0430\\u043c\\u0441\\u043a\", \"marker\": {\"color\": \"#EF553B\"}, \"name\": \"\\u041d\\u0438\\u0436\\u043d\\u0435\\u043a\\u0430\\u043c\\u0441\\u043a\", \"offsetgroup\": \"\\u041d\\u0438\\u0436\\u043d\\u0435\\u043a\\u0430\\u043c\\u0441\\u043a\", \"orientation\": \"v\", \"showlegend\": true, \"textposition\": \"auto\", \"type\": \"bar\", \"x\": [\"\\u041d\\u0438\\u0436\\u043d\\u0435\\u043a\\u0430\\u043c\\u0441\\u043a\"], \"xaxis\": \"x\", \"y\": [3.741935483870968], \"yaxis\": \"y\"}, {\"alignmentgroup\": \"True\", \"hovertemplate\": \"city=%{x}<br>average_flights=%{y}<extra></extra>\", \"legendgroup\": \"\\u041d\\u0438\\u0436\\u043d\\u0438\\u0439 \\u041d\\u043e\\u0432\\u0433\\u043e\\u0440\\u043e\\u0434\", \"marker\": {\"color\": \"#00cc96\"}, \"name\": \"\\u041d\\u0438\\u0436\\u043d\\u0438\\u0439 \\u041d\\u043e\\u0432\\u0433\\u043e\\u0440\\u043e\\u0434\", \"offsetgroup\": \"\\u041d\\u0438\\u0436\\u043d\\u0438\\u0439 \\u041d\\u043e\\u0432\\u0433\\u043e\\u0440\\u043e\\u0434\", \"orientation\": \"v\", \"showlegend\": true, \"textposition\": \"auto\", \"type\": \"bar\", \"x\": [\"\\u041d\\u0438\\u0436\\u043d\\u0438\\u0439 \\u041d\\u043e\\u0432\\u0433\\u043e\\u0440\\u043e\\u0434\"], \"xaxis\": \"x\", \"y\": [5.870967741935484], \"yaxis\": \"y\"}, {\"alignmentgroup\": \"True\", \"hovertemplate\": \"city=%{x}<br>average_flights=%{y}<extra></extra>\", \"legendgroup\": \"\\u041d\\u043e\\u0432\\u043e\\u043a\\u0443\\u0437\\u043d\\u0435\\u0446\\u043a\", \"marker\": {\"color\": \"#ab63fa\"}, \"name\": \"\\u041d\\u043e\\u0432\\u043e\\u043a\\u0443\\u0437\\u043d\\u0435\\u0446\\u043a\", \"offsetgroup\": \"\\u041d\\u043e\\u0432\\u043e\\u043a\\u0443\\u0437\\u043d\\u0435\\u0446\\u043a\", \"orientation\": \"v\", \"showlegend\": true, \"textposition\": \"auto\", \"type\": \"bar\", \"x\": [\"\\u041d\\u043e\\u0432\\u043e\\u043a\\u0443\\u0437\\u043d\\u0435\\u0446\\u043a\"], \"xaxis\": \"x\", \"y\": [6.032258064516129], \"yaxis\": \"y\"}, {\"alignmentgroup\": \"True\", \"hovertemplate\": \"city=%{x}<br>average_flights=%{y}<extra></extra>\", \"legendgroup\": \"\\u041d\\u043e\\u0432\\u043e\\u0441\\u0438\\u0431\\u0438\\u0440\\u0441\\u043a\", \"marker\": {\"color\": \"#FFA15A\"}, \"name\": \"\\u041d\\u043e\\u0432\\u043e\\u0441\\u0438\\u0431\\u0438\\u0440\\u0441\\u043a\", \"offsetgroup\": \"\\u041d\\u043e\\u0432\\u043e\\u0441\\u0438\\u0431\\u0438\\u0440\\u0441\\u043a\", \"orientation\": \"v\", \"showlegend\": true, \"textposition\": \"auto\", \"type\": \"bar\", \"x\": [\"\\u041d\\u043e\\u0432\\u043e\\u0441\\u0438\\u0431\\u0438\\u0440\\u0441\\u043a\"], \"xaxis\": \"x\", \"y\": [17.32258064516129], \"yaxis\": \"y\"}, {\"alignmentgroup\": \"True\", \"hovertemplate\": \"city=%{x}<br>average_flights=%{y}<extra></extra>\", \"legendgroup\": \"\\u041d\\u043e\\u0432\\u044b\\u0439 \\u0423\\u0440\\u0435\\u043d\\u0433\\u043e\\u0439\", \"marker\": {\"color\": \"#19d3f3\"}, \"name\": \"\\u041d\\u043e\\u0432\\u044b\\u0439 \\u0423\\u0440\\u0435\\u043d\\u0433\\u043e\\u0439\", \"offsetgroup\": \"\\u041d\\u043e\\u0432\\u044b\\u0439 \\u0423\\u0440\\u0435\\u043d\\u0433\\u043e\\u0439\", \"orientation\": \"v\", \"showlegend\": true, \"textposition\": \"auto\", \"type\": \"bar\", \"x\": [\"\\u041d\\u043e\\u0432\\u044b\\u0439 \\u0423\\u0440\\u0435\\u043d\\u0433\\u043e\\u0439\"], \"xaxis\": \"x\", \"y\": [8.290322580645162], \"yaxis\": \"y\"}, {\"alignmentgroup\": \"True\", \"hovertemplate\": \"city=%{x}<br>average_flights=%{y}<extra></extra>\", \"legendgroup\": \"\\u041d\\u043e\\u0440\\u0438\\u043b\\u044c\\u0441\\u043a\", \"marker\": {\"color\": \"#FF6692\"}, \"name\": \"\\u041d\\u043e\\u0440\\u0438\\u043b\\u044c\\u0441\\u043a\", \"offsetgroup\": \"\\u041d\\u043e\\u0440\\u0438\\u043b\\u044c\\u0441\\u043a\", \"orientation\": \"v\", \"showlegend\": true, \"textposition\": \"auto\", \"type\": \"bar\", \"x\": [\"\\u041d\\u043e\\u0440\\u0438\\u043b\\u044c\\u0441\\u043a\"], \"xaxis\": \"x\", \"y\": [2.290322580645161], \"yaxis\": \"y\"}, {\"alignmentgroup\": \"True\", \"hovertemplate\": \"city=%{x}<br>average_flights=%{y}<extra></extra>\", \"legendgroup\": \"\\u041d\\u043e\\u044f\\u0431\\u0440\\u044c\\u0441\\u043a\", \"marker\": {\"color\": \"#B6E880\"}, \"name\": \"\\u041d\\u043e\\u044f\\u0431\\u0440\\u044c\\u0441\\u043a\", \"offsetgroup\": \"\\u041d\\u043e\\u044f\\u0431\\u0440\\u044c\\u0441\\u043a\", \"orientation\": \"v\", \"showlegend\": true, \"textposition\": \"auto\", \"type\": \"bar\", \"x\": [\"\\u041d\\u043e\\u044f\\u0431\\u0440\\u044c\\u0441\\u043a\"], \"xaxis\": \"x\", \"y\": [3.0], \"yaxis\": \"y\"}, {\"alignmentgroup\": \"True\", \"hovertemplate\": \"city=%{x}<br>average_flights=%{y}<extra></extra>\", \"legendgroup\": \"\\u041d\\u044f\\u0433\\u0430\\u043d\\u044c\", \"marker\": {\"color\": \"#FF97FF\"}, \"name\": \"\\u041d\\u044f\\u0433\\u0430\\u043d\\u044c\", \"offsetgroup\": \"\\u041d\\u044f\\u0433\\u0430\\u043d\\u044c\", \"orientation\": \"v\", \"showlegend\": true, \"textposition\": \"auto\", \"type\": \"bar\", \"x\": [\"\\u041d\\u044f\\u0433\\u0430\\u043d\\u044c\"], \"xaxis\": \"x\", \"y\": [1.0], \"yaxis\": \"y\"}, {\"alignmentgroup\": \"True\", \"hovertemplate\": \"city=%{x}<br>average_flights=%{y}<extra></extra>\", \"legendgroup\": \"\\u041e\\u043c\\u0441\\u043a\", \"marker\": {\"color\": \"#FECB52\"}, \"name\": \"\\u041e\\u043c\\u0441\\u043a\", \"offsetgroup\": \"\\u041e\\u043c\\u0441\\u043a\", \"orientation\": \"v\", \"showlegend\": true, \"textposition\": \"auto\", \"type\": \"bar\", \"x\": [\"\\u041e\\u043c\\u0441\\u043a\"], \"xaxis\": \"x\", \"y\": [3.290322580645161], \"yaxis\": \"y\"}, {\"alignmentgroup\": \"True\", \"hovertemplate\": \"city=%{x}<br>average_flights=%{y}<extra></extra>\", \"legendgroup\": \"\\u041e\\u0440\\u0435\\u043d\\u0431\\u0443\\u0440\\u0433\", \"marker\": {\"color\": \"#636efa\"}, \"name\": \"\\u041e\\u0440\\u0435\\u043d\\u0431\\u0443\\u0440\\u0433\", \"offsetgroup\": \"\\u041e\\u0440\\u0435\\u043d\\u0431\\u0443\\u0440\\u0433\", \"orientation\": \"v\", \"showlegend\": true, \"textposition\": \"auto\", \"type\": \"bar\", \"x\": [\"\\u041e\\u0440\\u0435\\u043d\\u0431\\u0443\\u0440\\u0433\"], \"xaxis\": \"x\", \"y\": [5.0], \"yaxis\": \"y\"}, {\"alignmentgroup\": \"True\", \"hovertemplate\": \"city=%{x}<br>average_flights=%{y}<extra></extra>\", \"legendgroup\": \"\\u041e\\u0440\\u0441\\u043a\", \"marker\": {\"color\": \"#EF553B\"}, \"name\": \"\\u041e\\u0440\\u0441\\u043a\", \"offsetgroup\": \"\\u041e\\u0440\\u0441\\u043a\", \"orientation\": \"v\", \"showlegend\": true, \"textposition\": \"auto\", \"type\": \"bar\", \"x\": [\"\\u041e\\u0440\\u0441\\u043a\"], \"xaxis\": \"x\", \"y\": [1.5909090909090908], \"yaxis\": \"y\"}, {\"alignmentgroup\": \"True\", \"hovertemplate\": \"city=%{x}<br>average_flights=%{y}<extra></extra>\", \"legendgroup\": \"\\u041f\\u0435\\u043d\\u0437\\u0430\", \"marker\": {\"color\": \"#00cc96\"}, \"name\": \"\\u041f\\u0435\\u043d\\u0437\\u0430\", \"offsetgroup\": \"\\u041f\\u0435\\u043d\\u0437\\u0430\", \"orientation\": \"v\", \"showlegend\": true, \"textposition\": \"auto\", \"type\": \"bar\", \"x\": [\"\\u041f\\u0435\\u043d\\u0437\\u0430\"], \"xaxis\": \"x\", \"y\": [4.0], \"yaxis\": \"y\"}, {\"alignmentgroup\": \"True\", \"hovertemplate\": \"city=%{x}<br>average_flights=%{y}<extra></extra>\", \"legendgroup\": \"\\u041f\\u0435\\u0440\\u043c\\u044c\", \"marker\": {\"color\": \"#ab63fa\"}, \"name\": \"\\u041f\\u0435\\u0440\\u043c\\u044c\", \"offsetgroup\": \"\\u041f\\u0435\\u0440\\u043c\\u044c\", \"orientation\": \"v\", \"showlegend\": true, \"textposition\": \"auto\", \"type\": \"bar\", \"x\": [\"\\u041f\\u0435\\u0440\\u043c\\u044c\"], \"xaxis\": \"x\", \"y\": [10.129032258064516], \"yaxis\": \"y\"}, {\"alignmentgroup\": \"True\", \"hovertemplate\": \"city=%{x}<br>average_flights=%{y}<extra></extra>\", \"legendgroup\": \"\\u041f\\u0435\\u0442\\u0440\\u043e\\u0437\\u0430\\u0432\\u043e\\u0434\\u0441\\u043a\", \"marker\": {\"color\": \"#FFA15A\"}, \"name\": \"\\u041f\\u0435\\u0442\\u0440\\u043e\\u0437\\u0430\\u0432\\u043e\\u0434\\u0441\\u043a\", \"offsetgroup\": \"\\u041f\\u0435\\u0442\\u0440\\u043e\\u0437\\u0430\\u0432\\u043e\\u0434\\u0441\\u043a\", \"orientation\": \"v\", \"showlegend\": true, \"textposition\": \"auto\", \"type\": \"bar\", \"x\": [\"\\u041f\\u0435\\u0442\\u0440\\u043e\\u0437\\u0430\\u0432\\u043e\\u0434\\u0441\\u043a\"], \"xaxis\": \"x\", \"y\": [5.870967741935484], \"yaxis\": \"y\"}, {\"alignmentgroup\": \"True\", \"hovertemplate\": \"city=%{x}<br>average_flights=%{y}<extra></extra>\", \"legendgroup\": \"\\u041f\\u0435\\u0442\\u0440\\u043e\\u043f\\u0430\\u0432\\u043b\\u043e\\u0432\\u0441\\u043a-\\u041a\\u0430\\u043c\\u0447\\u0430\\u0442\\u0441\\u043a\\u0438\\u0439\", \"marker\": {\"color\": \"#19d3f3\"}, \"name\": \"\\u041f\\u0435\\u0442\\u0440\\u043e\\u043f\\u0430\\u0432\\u043b\\u043e\\u0432\\u0441\\u043a-\\u041a\\u0430\\u043c\\u0447\\u0430\\u0442\\u0441\\u043a\\u0438\\u0439\", \"offsetgroup\": \"\\u041f\\u0435\\u0442\\u0440\\u043e\\u043f\\u0430\\u0432\\u043b\\u043e\\u0432\\u0441\\u043a-\\u041a\\u0430\\u043c\\u0447\\u0430\\u0442\\u0441\\u043a\\u0438\\u0439\", \"orientation\": \"v\", \"showlegend\": true, \"textposition\": \"auto\", \"type\": \"bar\", \"x\": [\"\\u041f\\u0435\\u0442\\u0440\\u043e\\u043f\\u0430\\u0432\\u043b\\u043e\\u0432\\u0441\\u043a-\\u041a\\u0430\\u043c\\u0447\\u0430\\u0442\\u0441\\u043a\\u0438\\u0439\"], \"xaxis\": \"x\", \"y\": [1.0], \"yaxis\": \"y\"}, {\"alignmentgroup\": \"True\", \"hovertemplate\": \"city=%{x}<br>average_flights=%{y}<extra></extra>\", \"legendgroup\": \"\\u041f\\u0441\\u043a\\u043e\\u0432\", \"marker\": {\"color\": \"#FF6692\"}, \"name\": \"\\u041f\\u0441\\u043a\\u043e\\u0432\", \"offsetgroup\": \"\\u041f\\u0441\\u043a\\u043e\\u0432\", \"orientation\": \"v\", \"showlegend\": true, \"textposition\": \"auto\", \"type\": \"bar\", \"x\": [\"\\u041f\\u0441\\u043a\\u043e\\u0432\"], \"xaxis\": \"x\", \"y\": [1.5483870967741935], \"yaxis\": \"y\"}, {\"alignmentgroup\": \"True\", \"hovertemplate\": \"city=%{x}<br>average_flights=%{y}<extra></extra>\", \"legendgroup\": \"\\u0420\\u043e\\u0441\\u0442\\u043e\\u0432-\\u043d\\u0430-\\u0414\\u043e\\u043d\\u0443\", \"marker\": {\"color\": \"#B6E880\"}, \"name\": \"\\u0420\\u043e\\u0441\\u0442\\u043e\\u0432-\\u043d\\u0430-\\u0414\\u043e\\u043d\\u0443\", \"offsetgroup\": \"\\u0420\\u043e\\u0441\\u0442\\u043e\\u0432-\\u043d\\u0430-\\u0414\\u043e\\u043d\\u0443\", \"orientation\": \"v\", \"showlegend\": true, \"textposition\": \"auto\", \"type\": \"bar\", \"x\": [\"\\u0420\\u043e\\u0441\\u0442\\u043e\\u0432-\\u043d\\u0430-\\u0414\\u043e\\u043d\\u0443\"], \"xaxis\": \"x\", \"y\": [10.193548387096774], \"yaxis\": \"y\"}, {\"alignmentgroup\": \"True\", \"hovertemplate\": \"city=%{x}<br>average_flights=%{y}<extra></extra>\", \"legendgroup\": \"\\u0421\\u0430\\u043b\\u0435\\u0445\\u0430\\u0440\\u0434\", \"marker\": {\"color\": \"#FF97FF\"}, \"name\": \"\\u0421\\u0430\\u043b\\u0435\\u0445\\u0430\\u0440\\u0434\", \"offsetgroup\": \"\\u0421\\u0430\\u043b\\u0435\\u0445\\u0430\\u0440\\u0434\", \"orientation\": \"v\", \"showlegend\": true, \"textposition\": \"auto\", \"type\": \"bar\", \"x\": [\"\\u0421\\u0430\\u043b\\u0435\\u0445\\u0430\\u0440\\u0434\"], \"xaxis\": \"x\", \"y\": [2.0], \"yaxis\": \"y\"}, {\"alignmentgroup\": \"True\", \"hovertemplate\": \"city=%{x}<br>average_flights=%{y}<extra></extra>\", \"legendgroup\": \"\\u0421\\u0430\\u043c\\u0430\\u0440\\u0430\", \"marker\": {\"color\": \"#FECB52\"}, \"name\": \"\\u0421\\u0430\\u043c\\u0430\\u0440\\u0430\", \"offsetgroup\": \"\\u0421\\u0430\\u043c\\u0430\\u0440\\u0430\", \"orientation\": \"v\", \"showlegend\": true, \"textposition\": \"auto\", \"type\": \"bar\", \"x\": [\"\\u0421\\u0430\\u043c\\u0430\\u0440\\u0430\"], \"xaxis\": \"x\", \"y\": [3.0], \"yaxis\": \"y\"}, {\"alignmentgroup\": \"True\", \"hovertemplate\": \"city=%{x}<br>average_flights=%{y}<extra></extra>\", \"legendgroup\": \"\\u0421\\u0430\\u043d\\u043a\\u0442-\\u041f\\u0435\\u0442\\u0435\\u0440\\u0431\\u0443\\u0440\\u0433\", \"marker\": {\"color\": \"#636efa\"}, \"name\": \"\\u0421\\u0430\\u043d\\u043a\\u0442-\\u041f\\u0435\\u0442\\u0435\\u0440\\u0431\\u0443\\u0440\\u0433\", \"offsetgroup\": \"\\u0421\\u0430\\u043d\\u043a\\u0442-\\u041f\\u0435\\u0442\\u0435\\u0440\\u0431\\u0443\\u0440\\u0433\", \"orientation\": \"v\", \"showlegend\": true, \"textposition\": \"auto\", \"type\": \"bar\", \"x\": [\"\\u0421\\u0430\\u043d\\u043a\\u0442-\\u041f\\u0435\\u0442\\u0435\\u0440\\u0431\\u0443\\u0440\\u0433\"], \"xaxis\": \"x\", \"y\": [31.161290322580648], \"yaxis\": \"y\"}, {\"alignmentgroup\": \"True\", \"hovertemplate\": \"city=%{x}<br>average_flights=%{y}<extra></extra>\", \"legendgroup\": \"\\u0421\\u0430\\u0440\\u0430\\u043d\\u0441\\u043a\", \"marker\": {\"color\": \"#EF553B\"}, \"name\": \"\\u0421\\u0430\\u0440\\u0430\\u043d\\u0441\\u043a\", \"offsetgroup\": \"\\u0421\\u0430\\u0440\\u0430\\u043d\\u0441\\u043a\", \"orientation\": \"v\", \"showlegend\": true, \"textposition\": \"auto\", \"type\": \"bar\", \"x\": [\"\\u0421\\u0430\\u0440\\u0430\\u043d\\u0441\\u043a\"], \"xaxis\": \"x\", \"y\": [2.0], \"yaxis\": \"y\"}, {\"alignmentgroup\": \"True\", \"hovertemplate\": \"city=%{x}<br>average_flights=%{y}<extra></extra>\", \"legendgroup\": \"\\u0421\\u0430\\u0440\\u0430\\u0442\\u043e\\u0432\", \"marker\": {\"color\": \"#00cc96\"}, \"name\": \"\\u0421\\u0430\\u0440\\u0430\\u0442\\u043e\\u0432\", \"offsetgroup\": \"\\u0421\\u0430\\u0440\\u0430\\u0442\\u043e\\u0432\", \"orientation\": \"v\", \"showlegend\": true, \"textposition\": \"auto\", \"type\": \"bar\", \"x\": [\"\\u0421\\u0430\\u0440\\u0430\\u0442\\u043e\\u0432\"], \"xaxis\": \"x\", \"y\": [4.0], \"yaxis\": \"y\"}, {\"alignmentgroup\": \"True\", \"hovertemplate\": \"city=%{x}<br>average_flights=%{y}<extra></extra>\", \"legendgroup\": \"\\u0421\\u043e\\u0432\\u0435\\u0442\\u0441\\u043a\\u0438\\u0439\", \"marker\": {\"color\": \"#ab63fa\"}, \"name\": \"\\u0421\\u043e\\u0432\\u0435\\u0442\\u0441\\u043a\\u0438\\u0439\", \"offsetgroup\": \"\\u0421\\u043e\\u0432\\u0435\\u0442\\u0441\\u043a\\u0438\\u0439\", \"orientation\": \"v\", \"showlegend\": true, \"textposition\": \"auto\", \"type\": \"bar\", \"x\": [\"\\u0421\\u043e\\u0432\\u0435\\u0442\\u0441\\u043a\\u0438\\u0439\"], \"xaxis\": \"x\", \"y\": [9.0], \"yaxis\": \"y\"}, {\"alignmentgroup\": \"True\", \"hovertemplate\": \"city=%{x}<br>average_flights=%{y}<extra></extra>\", \"legendgroup\": \"\\u0421\\u043e\\u0447\\u0438\", \"marker\": {\"color\": \"#FFA15A\"}, \"name\": \"\\u0421\\u043e\\u0447\\u0438\", \"offsetgroup\": \"\\u0421\\u043e\\u0447\\u0438\", \"orientation\": \"v\", \"showlegend\": true, \"textposition\": \"auto\", \"type\": \"bar\", \"x\": [\"\\u0421\\u043e\\u0447\\u0438\"], \"xaxis\": \"x\", \"y\": [9.612903225806452], \"yaxis\": \"y\"}, {\"alignmentgroup\": \"True\", \"hovertemplate\": \"city=%{x}<br>average_flights=%{y}<extra></extra>\", \"legendgroup\": \"\\u0421\\u0442\\u0430\\u0432\\u0440\\u043e\\u043f\\u043e\\u043b\\u044c\", \"marker\": {\"color\": \"#19d3f3\"}, \"name\": \"\\u0421\\u0442\\u0430\\u0432\\u0440\\u043e\\u043f\\u043e\\u043b\\u044c\", \"offsetgroup\": \"\\u0421\\u0442\\u0430\\u0432\\u0440\\u043e\\u043f\\u043e\\u043b\\u044c\", \"orientation\": \"v\", \"showlegend\": true, \"textposition\": \"auto\", \"type\": \"bar\", \"x\": [\"\\u0421\\u0442\\u0430\\u0432\\u0440\\u043e\\u043f\\u043e\\u043b\\u044c\"], \"xaxis\": \"x\", \"y\": [2.0], \"yaxis\": \"y\"}, {\"alignmentgroup\": \"True\", \"hovertemplate\": \"city=%{x}<br>average_flights=%{y}<extra></extra>\", \"legendgroup\": \"\\u0421\\u0442\\u0440\\u0435\\u0436\\u0435\\u0432\\u043e\\u0439\", \"marker\": {\"color\": \"#FF6692\"}, \"name\": \"\\u0421\\u0442\\u0440\\u0435\\u0436\\u0435\\u0432\\u043e\\u0439\", \"offsetgroup\": \"\\u0421\\u0442\\u0440\\u0435\\u0436\\u0435\\u0432\\u043e\\u0439\", \"orientation\": \"v\", \"showlegend\": true, \"textposition\": \"auto\", \"type\": \"bar\", \"x\": [\"\\u0421\\u0442\\u0440\\u0435\\u0436\\u0435\\u0432\\u043e\\u0439\"], \"xaxis\": \"x\", \"y\": [1.0], \"yaxis\": \"y\"}, {\"alignmentgroup\": \"True\", \"hovertemplate\": \"city=%{x}<br>average_flights=%{y}<extra></extra>\", \"legendgroup\": \"\\u0421\\u0443\\u0440\\u0433\\u0443\\u0442\", \"marker\": {\"color\": \"#B6E880\"}, \"name\": \"\\u0421\\u0443\\u0440\\u0433\\u0443\\u0442\", \"offsetgroup\": \"\\u0421\\u0443\\u0440\\u0433\\u0443\\u0442\", \"orientation\": \"v\", \"showlegend\": true, \"textposition\": \"auto\", \"type\": \"bar\", \"x\": [\"\\u0421\\u0443\\u0440\\u0433\\u0443\\u0442\"], \"xaxis\": \"x\", \"y\": [8.741935483870966], \"yaxis\": \"y\"}, {\"alignmentgroup\": \"True\", \"hovertemplate\": \"city=%{x}<br>average_flights=%{y}<extra></extra>\", \"legendgroup\": \"\\u0421\\u044b\\u043a\\u0442\\u044b\\u0432\\u043a\\u0430\\u0440\", \"marker\": {\"color\": \"#FF97FF\"}, \"name\": \"\\u0421\\u044b\\u043a\\u0442\\u044b\\u0432\\u043a\\u0430\\u0440\", \"offsetgroup\": \"\\u0421\\u044b\\u043a\\u0442\\u044b\\u0432\\u043a\\u0430\\u0440\", \"orientation\": \"v\", \"showlegend\": true, \"textposition\": \"auto\", \"type\": \"bar\", \"x\": [\"\\u0421\\u044b\\u043a\\u0442\\u044b\\u0432\\u043a\\u0430\\u0440\"], \"xaxis\": \"x\", \"y\": [4.129032258064516], \"yaxis\": \"y\"}, {\"alignmentgroup\": \"True\", \"hovertemplate\": \"city=%{x}<br>average_flights=%{y}<extra></extra>\", \"legendgroup\": \"\\u0422\\u0430\\u043c\\u0431\\u043e\\u0432\", \"marker\": {\"color\": \"#FECB52\"}, \"name\": \"\\u0422\\u0430\\u043c\\u0431\\u043e\\u0432\", \"offsetgroup\": \"\\u0422\\u0430\\u043c\\u0431\\u043e\\u0432\", \"orientation\": \"v\", \"showlegend\": true, \"textposition\": \"auto\", \"type\": \"bar\", \"x\": [\"\\u0422\\u0430\\u043c\\u0431\\u043e\\u0432\"], \"xaxis\": \"x\", \"y\": [4.0], \"yaxis\": \"y\"}, {\"alignmentgroup\": \"True\", \"hovertemplate\": \"city=%{x}<br>average_flights=%{y}<extra></extra>\", \"legendgroup\": \"\\u0422\\u043e\\u043c\\u0441\\u043a\", \"marker\": {\"color\": \"#636efa\"}, \"name\": \"\\u0422\\u043e\\u043c\\u0441\\u043a\", \"offsetgroup\": \"\\u0422\\u043e\\u043c\\u0441\\u043a\", \"orientation\": \"v\", \"showlegend\": true, \"textposition\": \"auto\", \"type\": \"bar\", \"x\": [\"\\u0422\\u043e\\u043c\\u0441\\u043a\"], \"xaxis\": \"x\", \"y\": [4.193548387096774], \"yaxis\": \"y\"}, {\"alignmentgroup\": \"True\", \"hovertemplate\": \"city=%{x}<br>average_flights=%{y}<extra></extra>\", \"legendgroup\": \"\\u0422\\u044e\\u043c\\u0435\\u043d\\u044c\", \"marker\": {\"color\": \"#EF553B\"}, \"name\": \"\\u0422\\u044e\\u043c\\u0435\\u043d\\u044c\", \"offsetgroup\": \"\\u0422\\u044e\\u043c\\u0435\\u043d\\u044c\", \"orientation\": \"v\", \"showlegend\": true, \"textposition\": \"auto\", \"type\": \"bar\", \"x\": [\"\\u0422\\u044e\\u043c\\u0435\\u043d\\u044c\"], \"xaxis\": \"x\", \"y\": [6.967741935483871], \"yaxis\": \"y\"}, {\"alignmentgroup\": \"True\", \"hovertemplate\": \"city=%{x}<br>average_flights=%{y}<extra></extra>\", \"legendgroup\": \"\\u0423\\u0434\\u0430\\u0447\\u043d\\u044b\\u0439\", \"marker\": {\"color\": \"#00cc96\"}, \"name\": \"\\u0423\\u0434\\u0430\\u0447\\u043d\\u044b\\u0439\", \"offsetgroup\": \"\\u0423\\u0434\\u0430\\u0447\\u043d\\u044b\\u0439\", \"orientation\": \"v\", \"showlegend\": true, \"textposition\": \"auto\", \"type\": \"bar\", \"x\": [\"\\u0423\\u0434\\u0430\\u0447\\u043d\\u044b\\u0439\"], \"xaxis\": \"x\", \"y\": [3.0], \"yaxis\": \"y\"}, {\"alignmentgroup\": \"True\", \"hovertemplate\": \"city=%{x}<br>average_flights=%{y}<extra></extra>\", \"legendgroup\": \"\\u0423\\u043b\\u0430\\u043d-\\u0423\\u0434\\u044d\", \"marker\": {\"color\": \"#ab63fa\"}, \"name\": \"\\u0423\\u043b\\u0430\\u043d-\\u0423\\u0434\\u044d\", \"offsetgroup\": \"\\u0423\\u043b\\u0430\\u043d-\\u0423\\u0434\\u044d\", \"orientation\": \"v\", \"showlegend\": true, \"textposition\": \"auto\", \"type\": \"bar\", \"x\": [\"\\u0423\\u043b\\u0430\\u043d-\\u0423\\u0434\\u044d\"], \"xaxis\": \"x\", \"y\": [1.608695652173913], \"yaxis\": \"y\"}, {\"alignmentgroup\": \"True\", \"hovertemplate\": \"city=%{x}<br>average_flights=%{y}<extra></extra>\", \"legendgroup\": \"\\u0423\\u043b\\u044c\\u044f\\u043d\\u043e\\u0432\\u0441\\u043a\", \"marker\": {\"color\": \"#FFA15A\"}, \"name\": \"\\u0423\\u043b\\u044c\\u044f\\u043d\\u043e\\u0432\\u0441\\u043a\", \"offsetgroup\": \"\\u0423\\u043b\\u044c\\u044f\\u043d\\u043e\\u0432\\u0441\\u043a\", \"orientation\": \"v\", \"showlegend\": true, \"textposition\": \"auto\", \"type\": \"bar\", \"x\": [\"\\u0423\\u043b\\u044c\\u044f\\u043d\\u043e\\u0432\\u0441\\u043a\"], \"xaxis\": \"x\", \"y\": [9.580645161290322], \"yaxis\": \"y\"}, {\"alignmentgroup\": \"True\", \"hovertemplate\": \"city=%{x}<br>average_flights=%{y}<extra></extra>\", \"legendgroup\": \"\\u0423\\u0440\\u0430\\u0439\", \"marker\": {\"color\": \"#19d3f3\"}, \"name\": \"\\u0423\\u0440\\u0430\\u0439\", \"offsetgroup\": \"\\u0423\\u0440\\u0430\\u0439\", \"orientation\": \"v\", \"showlegend\": true, \"textposition\": \"auto\", \"type\": \"bar\", \"x\": [\"\\u0423\\u0440\\u0430\\u0439\"], \"xaxis\": \"x\", \"y\": [2.0], \"yaxis\": \"y\"}, {\"alignmentgroup\": \"True\", \"hovertemplate\": \"city=%{x}<br>average_flights=%{y}<extra></extra>\", \"legendgroup\": \"\\u0423\\u0441\\u0438\\u043d\\u0441\\u043a\", \"marker\": {\"color\": \"#FF6692\"}, \"name\": \"\\u0423\\u0441\\u0438\\u043d\\u0441\\u043a\", \"offsetgroup\": \"\\u0423\\u0441\\u0438\\u043d\\u0441\\u043a\", \"orientation\": \"v\", \"showlegend\": true, \"textposition\": \"auto\", \"type\": \"bar\", \"x\": [\"\\u0423\\u0441\\u0438\\u043d\\u0441\\u043a\"], \"xaxis\": \"x\", \"y\": [1.0], \"yaxis\": \"y\"}, {\"alignmentgroup\": \"True\", \"hovertemplate\": \"city=%{x}<br>average_flights=%{y}<extra></extra>\", \"legendgroup\": \"\\u0423\\u0441\\u0442\\u044c-\\u0418\\u043b\\u0438\\u043c\\u0441\\u043a\", \"marker\": {\"color\": \"#B6E880\"}, \"name\": \"\\u0423\\u0441\\u0442\\u044c-\\u0418\\u043b\\u0438\\u043c\\u0441\\u043a\", \"offsetgroup\": \"\\u0423\\u0441\\u0442\\u044c-\\u0418\\u043b\\u0438\\u043c\\u0441\\u043a\", \"orientation\": \"v\", \"showlegend\": true, \"textposition\": \"auto\", \"type\": \"bar\", \"x\": [\"\\u0423\\u0441\\u0442\\u044c-\\u0418\\u043b\\u0438\\u043c\\u0441\\u043a\"], \"xaxis\": \"x\", \"y\": [2.870967741935484], \"yaxis\": \"y\"}, {\"alignmentgroup\": \"True\", \"hovertemplate\": \"city=%{x}<br>average_flights=%{y}<extra></extra>\", \"legendgroup\": \"\\u0423\\u0441\\u0442\\u044c-\\u041a\\u0443\\u0442\", \"marker\": {\"color\": \"#FF97FF\"}, \"name\": \"\\u0423\\u0441\\u0442\\u044c-\\u041a\\u0443\\u0442\", \"offsetgroup\": \"\\u0423\\u0441\\u0442\\u044c-\\u041a\\u0443\\u0442\", \"orientation\": \"v\", \"showlegend\": true, \"textposition\": \"auto\", \"type\": \"bar\", \"x\": [\"\\u0423\\u0441\\u0442\\u044c-\\u041a\\u0443\\u0442\"], \"xaxis\": \"x\", \"y\": [1.0], \"yaxis\": \"y\"}, {\"alignmentgroup\": \"True\", \"hovertemplate\": \"city=%{x}<br>average_flights=%{y}<extra></extra>\", \"legendgroup\": \"\\u0423\\u0444\\u0430\", \"marker\": {\"color\": \"#FECB52\"}, \"name\": \"\\u0423\\u0444\\u0430\", \"offsetgroup\": \"\\u0423\\u0444\\u0430\", \"orientation\": \"v\", \"showlegend\": true, \"textposition\": \"auto\", \"type\": \"bar\", \"x\": [\"\\u0423\\u0444\\u0430\"], \"xaxis\": \"x\", \"y\": [6.290322580645161], \"yaxis\": \"y\"}, {\"alignmentgroup\": \"True\", \"hovertemplate\": \"city=%{x}<br>average_flights=%{y}<extra></extra>\", \"legendgroup\": \"\\u0423\\u0445\\u0442\\u0430\", \"marker\": {\"color\": \"#636efa\"}, \"name\": \"\\u0423\\u0445\\u0442\\u0430\", \"offsetgroup\": \"\\u0423\\u0445\\u0442\\u0430\", \"orientation\": \"v\", \"showlegend\": true, \"textposition\": \"auto\", \"type\": \"bar\", \"x\": [\"\\u0423\\u0445\\u0442\\u0430\"], \"xaxis\": \"x\", \"y\": [3.0], \"yaxis\": \"y\"}, {\"alignmentgroup\": \"True\", \"hovertemplate\": \"city=%{x}<br>average_flights=%{y}<extra></extra>\", \"legendgroup\": \"\\u0425\\u0430\\u0431\\u0430\\u0440\\u043e\\u0432\\u0441\\u043a\", \"marker\": {\"color\": \"#EF553B\"}, \"name\": \"\\u0425\\u0430\\u0431\\u0430\\u0440\\u043e\\u0432\\u0441\\u043a\", \"offsetgroup\": \"\\u0425\\u0430\\u0431\\u0430\\u0440\\u043e\\u0432\\u0441\\u043a\", \"orientation\": \"v\", \"showlegend\": true, \"textposition\": \"auto\", \"type\": \"bar\", \"x\": [\"\\u0425\\u0430\\u0431\\u0430\\u0440\\u043e\\u0432\\u0441\\u043a\"], \"xaxis\": \"x\", \"y\": [6.548387096774194], \"yaxis\": \"y\"}, {\"alignmentgroup\": \"True\", \"hovertemplate\": \"city=%{x}<br>average_flights=%{y}<extra></extra>\", \"legendgroup\": \"\\u0425\\u0430\\u043d\\u0442\\u044b-\\u041c\\u0430\\u043d\\u0441\\u0438\\u0439\\u0441\\u043a\", \"marker\": {\"color\": \"#00cc96\"}, \"name\": \"\\u0425\\u0430\\u043d\\u0442\\u044b-\\u041c\\u0430\\u043d\\u0441\\u0438\\u0439\\u0441\\u043a\", \"offsetgroup\": \"\\u0425\\u0430\\u043d\\u0442\\u044b-\\u041c\\u0430\\u043d\\u0441\\u0438\\u0439\\u0441\\u043a\", \"orientation\": \"v\", \"showlegend\": true, \"textposition\": \"auto\", \"type\": \"bar\", \"x\": [\"\\u0425\\u0430\\u043d\\u0442\\u044b-\\u041c\\u0430\\u043d\\u0441\\u0438\\u0439\\u0441\\u043a\"], \"xaxis\": \"x\", \"y\": [8.419354838709676], \"yaxis\": \"y\"}, {\"alignmentgroup\": \"True\", \"hovertemplate\": \"city=%{x}<br>average_flights=%{y}<extra></extra>\", \"legendgroup\": \"\\u0427\\u0435\\u0431\\u043e\\u043a\\u0441\\u0430\\u0440\\u044b\", \"marker\": {\"color\": \"#ab63fa\"}, \"name\": \"\\u0427\\u0435\\u0431\\u043e\\u043a\\u0441\\u0430\\u0440\\u044b\", \"offsetgroup\": \"\\u0427\\u0435\\u0431\\u043e\\u043a\\u0441\\u0430\\u0440\\u044b\", \"orientation\": \"v\", \"showlegend\": true, \"textposition\": \"auto\", \"type\": \"bar\", \"x\": [\"\\u0427\\u0435\\u0431\\u043e\\u043a\\u0441\\u0430\\u0440\\u044b\"], \"xaxis\": \"x\", \"y\": [5.0], \"yaxis\": \"y\"}, {\"alignmentgroup\": \"True\", \"hovertemplate\": \"city=%{x}<br>average_flights=%{y}<extra></extra>\", \"legendgroup\": \"\\u0427\\u0435\\u043b\\u044f\\u0431\\u0438\\u043d\\u0441\\u043a\", \"marker\": {\"color\": \"#FFA15A\"}, \"name\": \"\\u0427\\u0435\\u043b\\u044f\\u0431\\u0438\\u043d\\u0441\\u043a\", \"offsetgroup\": \"\\u0427\\u0435\\u043b\\u044f\\u0431\\u0438\\u043d\\u0441\\u043a\", \"orientation\": \"v\", \"showlegend\": true, \"textposition\": \"auto\", \"type\": \"bar\", \"x\": [\"\\u0427\\u0435\\u043b\\u044f\\u0431\\u0438\\u043d\\u0441\\u043a\"], \"xaxis\": \"x\", \"y\": [6.709677419354839], \"yaxis\": \"y\"}, {\"alignmentgroup\": \"True\", \"hovertemplate\": \"city=%{x}<br>average_flights=%{y}<extra></extra>\", \"legendgroup\": \"\\u0427\\u0435\\u0440\\u0435\\u043f\\u043e\\u0432\\u0435\\u0446\", \"marker\": {\"color\": \"#19d3f3\"}, \"name\": \"\\u0427\\u0435\\u0440\\u0435\\u043f\\u043e\\u0432\\u0435\\u0446\", \"offsetgroup\": \"\\u0427\\u0435\\u0440\\u0435\\u043f\\u043e\\u0432\\u0435\\u0446\", \"orientation\": \"v\", \"showlegend\": true, \"textposition\": \"auto\", \"type\": \"bar\", \"x\": [\"\\u0427\\u0435\\u0440\\u0435\\u043f\\u043e\\u0432\\u0435\\u0446\"], \"xaxis\": \"x\", \"y\": [2.161290322580645], \"yaxis\": \"y\"}, {\"alignmentgroup\": \"True\", \"hovertemplate\": \"city=%{x}<br>average_flights=%{y}<extra></extra>\", \"legendgroup\": \"\\u0427\\u0438\\u0442\\u0430\", \"marker\": {\"color\": \"#FF6692\"}, \"name\": \"\\u0427\\u0438\\u0442\\u0430\", \"offsetgroup\": \"\\u0427\\u0438\\u0442\\u0430\", \"orientation\": \"v\", \"showlegend\": true, \"textposition\": \"auto\", \"type\": \"bar\", \"x\": [\"\\u0427\\u0438\\u0442\\u0430\"], \"xaxis\": \"x\", \"y\": [1.5806451612903225], \"yaxis\": \"y\"}, {\"alignmentgroup\": \"True\", \"hovertemplate\": \"city=%{x}<br>average_flights=%{y}<extra></extra>\", \"legendgroup\": \"\\u042d\\u043b\\u0438\\u0441\\u0442\\u0430\", \"marker\": {\"color\": \"#B6E880\"}, \"name\": \"\\u042d\\u043b\\u0438\\u0441\\u0442\\u0430\", \"offsetgroup\": \"\\u042d\\u043b\\u0438\\u0441\\u0442\\u0430\", \"orientation\": \"v\", \"showlegend\": true, \"textposition\": \"auto\", \"type\": \"bar\", \"x\": [\"\\u042d\\u043b\\u0438\\u0441\\u0442\\u0430\"], \"xaxis\": \"x\", \"y\": [4.870967741935484], \"yaxis\": \"y\"}, {\"alignmentgroup\": \"True\", \"hovertemplate\": \"city=%{x}<br>average_flights=%{y}<extra></extra>\", \"legendgroup\": \"\\u042e\\u0436\\u043d\\u043e-\\u0421\\u0430\\u0445\\u0430\\u043b\\u0438\\u043d\\u0441\\u043a\", \"marker\": {\"color\": \"#FF97FF\"}, \"name\": \"\\u042e\\u0436\\u043d\\u043e-\\u0421\\u0430\\u0445\\u0430\\u043b\\u0438\\u043d\\u0441\\u043a\", \"offsetgroup\": \"\\u042e\\u0436\\u043d\\u043e-\\u0421\\u0430\\u0445\\u0430\\u043b\\u0438\\u043d\\u0441\\u043a\", \"orientation\": \"v\", \"showlegend\": true, \"textposition\": \"auto\", \"type\": \"bar\", \"x\": [\"\\u042e\\u0436\\u043d\\u043e-\\u0421\\u0430\\u0445\\u0430\\u043b\\u0438\\u043d\\u0441\\u043a\"], \"xaxis\": \"x\", \"y\": [4.290322580645161], \"yaxis\": \"y\"}, {\"alignmentgroup\": \"True\", \"hovertemplate\": \"city=%{x}<br>average_flights=%{y}<extra></extra>\", \"legendgroup\": \"\\u042f\\u043a\\u0443\\u0442\\u0441\\u043a\", \"marker\": {\"color\": \"#FECB52\"}, \"name\": \"\\u042f\\u043a\\u0443\\u0442\\u0441\\u043a\", \"offsetgroup\": \"\\u042f\\u043a\\u0443\\u0442\\u0441\\u043a\", \"orientation\": \"v\", \"showlegend\": true, \"textposition\": \"auto\", \"type\": \"bar\", \"x\": [\"\\u042f\\u043a\\u0443\\u0442\\u0441\\u043a\"], \"xaxis\": \"x\", \"y\": [2.741935483870968], \"yaxis\": \"y\"}, {\"alignmentgroup\": \"True\", \"hovertemplate\": \"city=%{x}<br>average_flights=%{y}<extra></extra>\", \"legendgroup\": \"\\u042f\\u0440\\u043e\\u0441\\u043b\\u0430\\u0432\\u043b\\u044c\", \"marker\": {\"color\": \"#636efa\"}, \"name\": \"\\u042f\\u0440\\u043e\\u0441\\u043b\\u0430\\u0432\\u043b\\u044c\", \"offsetgroup\": \"\\u042f\\u0440\\u043e\\u0441\\u043b\\u0430\\u0432\\u043b\\u044c\", \"orientation\": \"v\", \"showlegend\": true, \"textposition\": \"auto\", \"type\": \"bar\", \"x\": [\"\\u042f\\u0440\\u043e\\u0441\\u043b\\u0430\\u0432\\u043b\\u044c\"], \"xaxis\": \"x\", \"y\": [1.3225806451612905], \"yaxis\": \"y\"}],\n",
       "                        {\"barmode\": \"relative\", \"height\": 400, \"legend\": {\"title\": {\"text\": \"city\"}, \"tracegroupgap\": 0}, \"template\": {\"data\": {\"bar\": [{\"error_x\": {\"color\": \"#2a3f5f\"}, \"error_y\": {\"color\": \"#2a3f5f\"}, \"marker\": {\"line\": {\"color\": \"#E5ECF6\", \"width\": 0.5}}, \"type\": \"bar\"}], \"barpolar\": [{\"marker\": {\"line\": {\"color\": \"#E5ECF6\", \"width\": 0.5}}, \"type\": \"barpolar\"}], \"carpet\": [{\"aaxis\": {\"endlinecolor\": \"#2a3f5f\", \"gridcolor\": \"white\", \"linecolor\": \"white\", \"minorgridcolor\": \"white\", \"startlinecolor\": \"#2a3f5f\"}, \"baxis\": {\"endlinecolor\": \"#2a3f5f\", \"gridcolor\": \"white\", \"linecolor\": \"white\", \"minorgridcolor\": \"white\", \"startlinecolor\": \"#2a3f5f\"}, \"type\": \"carpet\"}], \"choropleth\": [{\"colorbar\": {\"outlinewidth\": 0, \"ticks\": \"\"}, \"type\": \"choropleth\"}], \"contour\": [{\"colorbar\": {\"outlinewidth\": 0, \"ticks\": \"\"}, \"colorscale\": [[0.0, \"#0d0887\"], [0.1111111111111111, \"#46039f\"], [0.2222222222222222, \"#7201a8\"], [0.3333333333333333, \"#9c179e\"], [0.4444444444444444, \"#bd3786\"], [0.5555555555555556, \"#d8576b\"], [0.6666666666666666, \"#ed7953\"], [0.7777777777777778, \"#fb9f3a\"], [0.8888888888888888, \"#fdca26\"], [1.0, \"#f0f921\"]], \"type\": \"contour\"}], \"contourcarpet\": [{\"colorbar\": {\"outlinewidth\": 0, \"ticks\": \"\"}, \"type\": \"contourcarpet\"}], \"heatmap\": [{\"colorbar\": {\"outlinewidth\": 0, \"ticks\": \"\"}, \"colorscale\": [[0.0, \"#0d0887\"], [0.1111111111111111, \"#46039f\"], [0.2222222222222222, \"#7201a8\"], [0.3333333333333333, \"#9c179e\"], [0.4444444444444444, \"#bd3786\"], [0.5555555555555556, \"#d8576b\"], [0.6666666666666666, \"#ed7953\"], [0.7777777777777778, \"#fb9f3a\"], [0.8888888888888888, \"#fdca26\"], [1.0, \"#f0f921\"]], \"type\": \"heatmap\"}], \"heatmapgl\": [{\"colorbar\": {\"outlinewidth\": 0, \"ticks\": \"\"}, \"colorscale\": [[0.0, \"#0d0887\"], [0.1111111111111111, \"#46039f\"], [0.2222222222222222, \"#7201a8\"], [0.3333333333333333, \"#9c179e\"], [0.4444444444444444, \"#bd3786\"], [0.5555555555555556, \"#d8576b\"], [0.6666666666666666, \"#ed7953\"], [0.7777777777777778, \"#fb9f3a\"], [0.8888888888888888, \"#fdca26\"], [1.0, \"#f0f921\"]], \"type\": \"heatmapgl\"}], \"histogram\": [{\"marker\": {\"colorbar\": {\"outlinewidth\": 0, \"ticks\": \"\"}}, \"type\": \"histogram\"}], \"histogram2d\": [{\"colorbar\": {\"outlinewidth\": 0, \"ticks\": \"\"}, \"colorscale\": [[0.0, \"#0d0887\"], [0.1111111111111111, \"#46039f\"], [0.2222222222222222, \"#7201a8\"], [0.3333333333333333, \"#9c179e\"], [0.4444444444444444, \"#bd3786\"], [0.5555555555555556, \"#d8576b\"], [0.6666666666666666, \"#ed7953\"], [0.7777777777777778, \"#fb9f3a\"], [0.8888888888888888, \"#fdca26\"], [1.0, \"#f0f921\"]], \"type\": \"histogram2d\"}], \"histogram2dcontour\": [{\"colorbar\": {\"outlinewidth\": 0, \"ticks\": \"\"}, \"colorscale\": [[0.0, \"#0d0887\"], [0.1111111111111111, \"#46039f\"], [0.2222222222222222, \"#7201a8\"], [0.3333333333333333, \"#9c179e\"], [0.4444444444444444, \"#bd3786\"], [0.5555555555555556, \"#d8576b\"], [0.6666666666666666, \"#ed7953\"], [0.7777777777777778, \"#fb9f3a\"], [0.8888888888888888, \"#fdca26\"], [1.0, \"#f0f921\"]], \"type\": \"histogram2dcontour\"}], \"mesh3d\": [{\"colorbar\": {\"outlinewidth\": 0, \"ticks\": \"\"}, \"type\": \"mesh3d\"}], \"parcoords\": [{\"line\": {\"colorbar\": {\"outlinewidth\": 0, \"ticks\": \"\"}}, \"type\": \"parcoords\"}], \"pie\": [{\"automargin\": true, \"type\": \"pie\"}], \"scatter\": [{\"marker\": {\"colorbar\": {\"outlinewidth\": 0, \"ticks\": \"\"}}, \"type\": \"scatter\"}], \"scatter3d\": [{\"line\": {\"colorbar\": {\"outlinewidth\": 0, \"ticks\": \"\"}}, \"marker\": {\"colorbar\": {\"outlinewidth\": 0, \"ticks\": \"\"}}, \"type\": \"scatter3d\"}], \"scattercarpet\": [{\"marker\": {\"colorbar\": {\"outlinewidth\": 0, \"ticks\": \"\"}}, \"type\": \"scattercarpet\"}], \"scattergeo\": [{\"marker\": {\"colorbar\": {\"outlinewidth\": 0, \"ticks\": \"\"}}, \"type\": \"scattergeo\"}], \"scattergl\": [{\"marker\": {\"colorbar\": {\"outlinewidth\": 0, \"ticks\": \"\"}}, \"type\": \"scattergl\"}], \"scattermapbox\": [{\"marker\": {\"colorbar\": {\"outlinewidth\": 0, \"ticks\": \"\"}}, \"type\": \"scattermapbox\"}], \"scatterpolar\": [{\"marker\": {\"colorbar\": {\"outlinewidth\": 0, \"ticks\": \"\"}}, \"type\": \"scatterpolar\"}], \"scatterpolargl\": [{\"marker\": {\"colorbar\": {\"outlinewidth\": 0, \"ticks\": \"\"}}, \"type\": \"scatterpolargl\"}], \"scatterternary\": [{\"marker\": {\"colorbar\": {\"outlinewidth\": 0, \"ticks\": \"\"}}, \"type\": \"scatterternary\"}], \"surface\": [{\"colorbar\": {\"outlinewidth\": 0, \"ticks\": \"\"}, \"colorscale\": [[0.0, \"#0d0887\"], [0.1111111111111111, \"#46039f\"], [0.2222222222222222, \"#7201a8\"], [0.3333333333333333, \"#9c179e\"], [0.4444444444444444, \"#bd3786\"], [0.5555555555555556, \"#d8576b\"], [0.6666666666666666, \"#ed7953\"], [0.7777777777777778, \"#fb9f3a\"], [0.8888888888888888, \"#fdca26\"], [1.0, \"#f0f921\"]], \"type\": \"surface\"}], \"table\": [{\"cells\": {\"fill\": {\"color\": \"#EBF0F8\"}, \"line\": {\"color\": \"white\"}}, \"header\": {\"fill\": {\"color\": \"#C8D4E3\"}, \"line\": {\"color\": \"white\"}}, \"type\": \"table\"}]}, \"layout\": {\"annotationdefaults\": {\"arrowcolor\": \"#2a3f5f\", \"arrowhead\": 0, \"arrowwidth\": 1}, \"coloraxis\": {\"colorbar\": {\"outlinewidth\": 0, \"ticks\": \"\"}}, \"colorscale\": {\"diverging\": [[0, \"#8e0152\"], [0.1, \"#c51b7d\"], [0.2, \"#de77ae\"], [0.3, \"#f1b6da\"], [0.4, \"#fde0ef\"], [0.5, \"#f7f7f7\"], [0.6, \"#e6f5d0\"], [0.7, \"#b8e186\"], [0.8, \"#7fbc41\"], [0.9, \"#4d9221\"], [1, \"#276419\"]], \"sequential\": [[0.0, \"#0d0887\"], [0.1111111111111111, \"#46039f\"], [0.2222222222222222, \"#7201a8\"], [0.3333333333333333, \"#9c179e\"], [0.4444444444444444, \"#bd3786\"], [0.5555555555555556, \"#d8576b\"], [0.6666666666666666, \"#ed7953\"], [0.7777777777777778, \"#fb9f3a\"], [0.8888888888888888, \"#fdca26\"], [1.0, \"#f0f921\"]], \"sequentialminus\": [[0.0, \"#0d0887\"], [0.1111111111111111, \"#46039f\"], [0.2222222222222222, \"#7201a8\"], [0.3333333333333333, \"#9c179e\"], [0.4444444444444444, \"#bd3786\"], [0.5555555555555556, \"#d8576b\"], [0.6666666666666666, \"#ed7953\"], [0.7777777777777778, \"#fb9f3a\"], [0.8888888888888888, \"#fdca26\"], [1.0, \"#f0f921\"]]}, \"colorway\": [\"#636efa\", \"#EF553B\", \"#00cc96\", \"#ab63fa\", \"#FFA15A\", \"#19d3f3\", \"#FF6692\", \"#B6E880\", \"#FF97FF\", \"#FECB52\"], \"font\": {\"color\": \"#2a3f5f\"}, \"geo\": {\"bgcolor\": \"white\", \"lakecolor\": \"white\", \"landcolor\": \"#E5ECF6\", \"showlakes\": true, \"showland\": true, \"subunitcolor\": \"white\"}, \"hoverlabel\": {\"align\": \"left\"}, \"hovermode\": \"closest\", \"mapbox\": {\"style\": \"light\"}, \"paper_bgcolor\": \"white\", \"plot_bgcolor\": \"#E5ECF6\", \"polar\": {\"angularaxis\": {\"gridcolor\": \"white\", \"linecolor\": \"white\", \"ticks\": \"\"}, \"bgcolor\": \"#E5ECF6\", \"radialaxis\": {\"gridcolor\": \"white\", \"linecolor\": \"white\", \"ticks\": \"\"}}, \"scene\": {\"xaxis\": {\"backgroundcolor\": \"#E5ECF6\", \"gridcolor\": \"white\", \"gridwidth\": 2, \"linecolor\": \"white\", \"showbackground\": true, \"ticks\": \"\", \"zerolinecolor\": \"white\"}, \"yaxis\": {\"backgroundcolor\": \"#E5ECF6\", \"gridcolor\": \"white\", \"gridwidth\": 2, \"linecolor\": \"white\", \"showbackground\": true, \"ticks\": \"\", \"zerolinecolor\": \"white\"}, \"zaxis\": {\"backgroundcolor\": \"#E5ECF6\", \"gridcolor\": \"white\", \"gridwidth\": 2, \"linecolor\": \"white\", \"showbackground\": true, \"ticks\": \"\", \"zerolinecolor\": \"white\"}}, \"shapedefaults\": {\"line\": {\"color\": \"#2a3f5f\"}}, \"ternary\": {\"aaxis\": {\"gridcolor\": \"white\", \"linecolor\": \"white\", \"ticks\": \"\"}, \"baxis\": {\"gridcolor\": \"white\", \"linecolor\": \"white\", \"ticks\": \"\"}, \"bgcolor\": \"#E5ECF6\", \"caxis\": {\"gridcolor\": \"white\", \"linecolor\": \"white\", \"ticks\": \"\"}}, \"title\": {\"x\": 0.05}, \"xaxis\": {\"automargin\": true, \"gridcolor\": \"white\", \"linecolor\": \"white\", \"ticks\": \"\", \"title\": {\"standoff\": 15}, \"zerolinecolor\": \"white\", \"zerolinewidth\": 2}, \"yaxis\": {\"automargin\": true, \"gridcolor\": \"white\", \"linecolor\": \"white\", \"ticks\": \"\", \"title\": {\"standoff\": 15}, \"zerolinecolor\": \"white\", \"zerolinewidth\": 2}}}, \"title\": {\"text\": \"\\u0413\\u043e\\u0440\\u043e\\u0434 \\u0438 \\u043a\\u043e\\u043b\\u0438\\u0447\\u0435\\u0441\\u0442\\u0432\\u043e \\u0440\\u0435\\u0439\\u0441\\u043e\\u0432\"}, \"xaxis\": {\"anchor\": \"y\", \"categoryarray\": [\"\\u0410\\u0431\\u0430\\u043a\\u0430\\u043d\", \"\\u0410\\u043d\\u0430\\u0434\\u044b\\u0440\\u044c\", \"\\u0410\\u043d\\u0430\\u043f\\u0430\", \"\\u0410\\u0440\\u0445\\u0430\\u043d\\u0433\\u0435\\u043b\\u044c\\u0441\\u043a\", \"\\u0410\\u0441\\u0442\\u0440\\u0430\\u0445\\u0430\\u043d\\u044c\", \"\\u0411\\u0430\\u0440\\u043d\\u0430\\u0443\\u043b\", \"\\u0411\\u0435\\u043b\\u0433\\u043e\\u0440\\u043e\\u0434\", \"\\u0411\\u0435\\u043b\\u043e\\u044f\\u0440\\u0441\\u043a\\u0438\\u0439\", \"\\u0411\\u043b\\u0430\\u0433\\u043e\\u0432\\u0435\\u0449\\u0435\\u043d\\u0441\\u043a\", \"\\u0411\\u0440\\u0430\\u0442\\u0441\\u043a\", \"\\u0411\\u0440\\u044f\\u043d\\u0441\\u043a\", \"\\u0411\\u0443\\u0433\\u0443\\u043b\\u044c\\u043c\\u0430\", \"\\u0412\\u043b\\u0430\\u0434\\u0438\\u0432\\u043e\\u0441\\u0442\\u043e\\u043a\", \"\\u0412\\u043b\\u0430\\u0434\\u0438\\u043a\\u0430\\u0432\\u043a\\u0430\\u0437\", \"\\u0412\\u043e\\u043b\\u0433\\u043e\\u0433\\u0440\\u0430\\u0434\", \"\\u0412\\u043e\\u0440\\u043a\\u0443\\u0442\\u0430\", \"\\u0412\\u043e\\u0440\\u043e\\u043d\\u0435\\u0436\", \"\\u0413\\u0435\\u043b\\u0435\\u043d\\u0434\\u0436\\u0438\\u043a\", \"\\u0413\\u043e\\u0440\\u043d\\u043e-\\u0410\\u043b\\u0442\\u0430\\u0439\\u0441\\u043a\", \"\\u0413\\u0440\\u043e\\u0437\\u043d\\u044b\\u0439\", \"\\u0415\\u043a\\u0430\\u0442\\u0435\\u0440\\u0438\\u043d\\u0431\\u0443\\u0440\\u0433\", \"\\u0418\\u0432\\u0430\\u043d\\u043e\\u0432\\u043e\", \"\\u0418\\u0436\\u0435\\u0432\\u0441\\u043a\", \"\\u0418\\u0440\\u043a\\u0443\\u0442\\u0441\\u043a\", \"\\u0419\\u043e\\u0448\\u043a\\u0430\\u0440-\\u041e\\u043b\\u0430\", \"\\u041a\\u0430\\u0437\\u0430\\u043d\\u044c\", \"\\u041a\\u0430\\u043b\\u0438\\u043d\\u0438\\u043d\\u0433\\u0440\\u0430\\u0434\", \"\\u041a\\u0430\\u043b\\u0443\\u0433\\u0430\", \"\\u041a\\u0435\\u043c\\u0435\\u0440\\u043e\\u0432\\u043e\", \"\\u041a\\u0438\\u0440\\u043e\\u0432\", \"\\u041a\\u043e\\u0433\\u0430\\u043b\\u044b\\u043c\", \"\\u041a\\u043e\\u043c\\u0441\\u043e\\u043c\\u043e\\u043b\\u044c\\u0441\\u043a-\\u043d\\u0430-\\u0410\\u043c\\u0443\\u0440\\u0435\", \"\\u041a\\u0440\\u0430\\u0441\\u043d\\u043e\\u0434\\u0430\\u0440\", \"\\u041a\\u0440\\u0430\\u0441\\u043d\\u043e\\u044f\\u0440\\u0441\\u043a\", \"\\u041a\\u0443\\u0440\\u0433\\u0430\\u043d\", \"\\u041a\\u0443\\u0440\\u0441\\u043a\", \"\\u041a\\u044b\\u0437\\u044b\\u043b\", \"\\u041b\\u0438\\u043f\\u0435\\u0446\\u043a\", \"\\u041c\\u0430\\u0433\\u0430\\u0434\\u0430\\u043d\", \"\\u041c\\u0430\\u0433\\u043d\\u0438\\u0442\\u043e\\u0433\\u043e\\u0440\\u0441\\u043a\", \"\\u041c\\u0430\\u0445\\u0430\\u0447\\u043a\\u0430\\u043b\\u0430\", \"\\u041c\\u0438\\u043d\\u0435\\u0440\\u0430\\u043b\\u044c\\u043d\\u044b\\u0435 \\u0412\\u043e\\u0434\\u044b\", \"\\u041c\\u0438\\u0440\\u043d\\u044b\\u0439\", \"\\u041c\\u043e\\u0441\\u043a\\u0432\\u0430\", \"\\u041c\\u0443\\u0440\\u043c\\u0430\\u043d\\u0441\\u043a\", \"\\u041d\\u0430\\u0434\\u044b\\u043c\", \"\\u041d\\u0430\\u043b\\u044c\\u0447\\u0438\\u043a\", \"\\u041d\\u0430\\u0440\\u044c\\u044f\\u043d-\\u041c\\u0430\\u0440\", \"\\u041d\\u0435\\u0440\\u044e\\u043d\\u0433\\u0440\\u0438\", \"\\u041d\\u0435\\u0444\\u0442\\u0435\\u044e\\u0433\\u0430\\u043d\\u0441\\u043a\", \"\\u041d\\u0438\\u0436\\u043d\\u0435\\u0432\\u0430\\u0440\\u0442\\u043e\\u0432\\u0441\\u043a\", \"\\u041d\\u0438\\u0436\\u043d\\u0435\\u043a\\u0430\\u043c\\u0441\\u043a\", \"\\u041d\\u0438\\u0436\\u043d\\u0438\\u0439 \\u041d\\u043e\\u0432\\u0433\\u043e\\u0440\\u043e\\u0434\", \"\\u041d\\u043e\\u0432\\u043e\\u043a\\u0443\\u0437\\u043d\\u0435\\u0446\\u043a\", \"\\u041d\\u043e\\u0432\\u043e\\u0441\\u0438\\u0431\\u0438\\u0440\\u0441\\u043a\", \"\\u041d\\u043e\\u0432\\u044b\\u0439 \\u0423\\u0440\\u0435\\u043d\\u0433\\u043e\\u0439\", \"\\u041d\\u043e\\u0440\\u0438\\u043b\\u044c\\u0441\\u043a\", \"\\u041d\\u043e\\u044f\\u0431\\u0440\\u044c\\u0441\\u043a\", \"\\u041d\\u044f\\u0433\\u0430\\u043d\\u044c\", \"\\u041e\\u043c\\u0441\\u043a\", \"\\u041e\\u0440\\u0435\\u043d\\u0431\\u0443\\u0440\\u0433\", \"\\u041e\\u0440\\u0441\\u043a\", \"\\u041f\\u0435\\u043d\\u0437\\u0430\", \"\\u041f\\u0435\\u0440\\u043c\\u044c\", \"\\u041f\\u0435\\u0442\\u0440\\u043e\\u0437\\u0430\\u0432\\u043e\\u0434\\u0441\\u043a\", \"\\u041f\\u0435\\u0442\\u0440\\u043e\\u043f\\u0430\\u0432\\u043b\\u043e\\u0432\\u0441\\u043a-\\u041a\\u0430\\u043c\\u0447\\u0430\\u0442\\u0441\\u043a\\u0438\\u0439\", \"\\u041f\\u0441\\u043a\\u043e\\u0432\", \"\\u0420\\u043e\\u0441\\u0442\\u043e\\u0432-\\u043d\\u0430-\\u0414\\u043e\\u043d\\u0443\", \"\\u0421\\u0430\\u043b\\u0435\\u0445\\u0430\\u0440\\u0434\", \"\\u0421\\u0430\\u043c\\u0430\\u0440\\u0430\", \"\\u0421\\u0430\\u043d\\u043a\\u0442-\\u041f\\u0435\\u0442\\u0435\\u0440\\u0431\\u0443\\u0440\\u0433\", \"\\u0421\\u0430\\u0440\\u0430\\u043d\\u0441\\u043a\", \"\\u0421\\u0430\\u0440\\u0430\\u0442\\u043e\\u0432\", \"\\u0421\\u043e\\u0432\\u0435\\u0442\\u0441\\u043a\\u0438\\u0439\", \"\\u0421\\u043e\\u0447\\u0438\", \"\\u0421\\u0442\\u0430\\u0432\\u0440\\u043e\\u043f\\u043e\\u043b\\u044c\", \"\\u0421\\u0442\\u0440\\u0435\\u0436\\u0435\\u0432\\u043e\\u0439\", \"\\u0421\\u0443\\u0440\\u0433\\u0443\\u0442\", \"\\u0421\\u044b\\u043a\\u0442\\u044b\\u0432\\u043a\\u0430\\u0440\", \"\\u0422\\u0430\\u043c\\u0431\\u043e\\u0432\", \"\\u0422\\u043e\\u043c\\u0441\\u043a\", \"\\u0422\\u044e\\u043c\\u0435\\u043d\\u044c\", \"\\u0423\\u0434\\u0430\\u0447\\u043d\\u044b\\u0439\", \"\\u0423\\u043b\\u0430\\u043d-\\u0423\\u0434\\u044d\", \"\\u0423\\u043b\\u044c\\u044f\\u043d\\u043e\\u0432\\u0441\\u043a\", \"\\u0423\\u0440\\u0430\\u0439\", \"\\u0423\\u0441\\u0438\\u043d\\u0441\\u043a\", \"\\u0423\\u0441\\u0442\\u044c-\\u0418\\u043b\\u0438\\u043c\\u0441\\u043a\", \"\\u0423\\u0441\\u0442\\u044c-\\u041a\\u0443\\u0442\", \"\\u0423\\u0444\\u0430\", \"\\u0423\\u0445\\u0442\\u0430\", \"\\u0425\\u0430\\u0431\\u0430\\u0440\\u043e\\u0432\\u0441\\u043a\", \"\\u0425\\u0430\\u043d\\u0442\\u044b-\\u041c\\u0430\\u043d\\u0441\\u0438\\u0439\\u0441\\u043a\", \"\\u0427\\u0435\\u0431\\u043e\\u043a\\u0441\\u0430\\u0440\\u044b\", \"\\u0427\\u0435\\u043b\\u044f\\u0431\\u0438\\u043d\\u0441\\u043a\", \"\\u0427\\u0435\\u0440\\u0435\\u043f\\u043e\\u0432\\u0435\\u0446\", \"\\u0427\\u0438\\u0442\\u0430\", \"\\u042d\\u043b\\u0438\\u0441\\u0442\\u0430\", \"\\u042e\\u0436\\u043d\\u043e-\\u0421\\u0430\\u0445\\u0430\\u043b\\u0438\\u043d\\u0441\\u043a\", \"\\u042f\\u043a\\u0443\\u0442\\u0441\\u043a\", \"\\u042f\\u0440\\u043e\\u0441\\u043b\\u0430\\u0432\\u043b\\u044c\"], \"categoryorder\": \"array\", \"domain\": [0.0, 1.0], \"title\": {\"text\": \"city\"}}, \"yaxis\": {\"anchor\": \"x\", \"domain\": [0.0, 1.0], \"title\": {\"text\": \"average_flights\"}}},\n",
       "                        {\"responsive\": true}\n",
       "                    ).then(function(){\n",
       "                            \n",
       "var gd = document.getElementById('68c3adef-fbc7-42ce-8628-b1f7b5253ab5');\n",
       "var x = new MutationObserver(function (mutations, observer) {{\n",
       "        var display = window.getComputedStyle(gd).display;\n",
       "        if (!display || display === 'none') {{\n",
       "            console.log([gd, 'removed!']);\n",
       "            Plotly.purge(gd);\n",
       "            observer.disconnect();\n",
       "        }}\n",
       "}});\n",
       "\n",
       "// Listen for the removal of the full notebook cells\n",
       "var notebookContainer = gd.closest('#notebook-container');\n",
       "if (notebookContainer) {{\n",
       "    x.observe(notebookContainer, {childList: true});\n",
       "}}\n",
       "\n",
       "// Listen for the clearing of the current output cell\n",
       "var outputEl = gd.closest('.output');\n",
       "if (outputEl) {{\n",
       "    x.observe(outputEl, {childList: true});\n",
       "}}\n",
       "\n",
       "                        })\n",
       "                };\n",
       "                });\n",
       "            </script>\n",
       "        </div>"
      ]
     },
     "metadata": {},
     "output_type": "display_data"
    }
   ],
   "source": [
    "#Построим график города и количество рейсов\n",
    "model_flights\n",
    "fig = px.bar(city_average, x='city', y='average_flights',\n",
    "             title=\"Город и количество рейсов\",\n",
    "              color='city',\n",
    "              height=400)\n",
    "fig.show()"
   ]
  },
  {
   "cell_type": "markdown",
   "metadata": {},
   "source": [
    "Из полученного графика видно, что большинство рейсов прибывает в Москву и Санкт-Петербург, т.к. эти города являются крупными авиационными хабами, и довольно часто возникает ситуация когда между соседними городами нет прямого авиасообщения и пассажиры вынуждены лететь через Москву или Санкт-Петербург."
   ]
  },
  {
   "cell_type": "code",
   "execution_count": 10,
   "metadata": {},
   "outputs": [
    {
     "data": {
      "application/vnd.plotly.v1+json": {
       "config": {
        "plotlyServerURL": "https://plot.ly"
       },
       "data": [
        {
         "alignmentgroup": "True",
         "hovertemplate": "city=%{x}<br>average_flights=%{y}<extra></extra>",
         "legendgroup": "Москва",
         "marker": {
          "color": "#636efa"
         },
         "name": "Москва",
         "offsetgroup": "Москва",
         "orientation": "v",
         "showlegend": true,
         "textposition": "auto",
         "type": "bar",
         "x": [
          "Москва"
         ],
         "xaxis": "x",
         "y": [
          129.77419354838707
         ],
         "yaxis": "y"
        },
        {
         "alignmentgroup": "True",
         "hovertemplate": "city=%{x}<br>average_flights=%{y}<extra></extra>",
         "legendgroup": "Санкт-Петербург",
         "marker": {
          "color": "#EF553B"
         },
         "name": "Санкт-Петербург",
         "offsetgroup": "Санкт-Петербург",
         "orientation": "v",
         "showlegend": true,
         "textposition": "auto",
         "type": "bar",
         "x": [
          "Санкт-Петербург"
         ],
         "xaxis": "x",
         "y": [
          31.161290322580648
         ],
         "yaxis": "y"
        },
        {
         "alignmentgroup": "True",
         "hovertemplate": "city=%{x}<br>average_flights=%{y}<extra></extra>",
         "legendgroup": "Новосибирск",
         "marker": {
          "color": "#00cc96"
         },
         "name": "Новосибирск",
         "offsetgroup": "Новосибирск",
         "orientation": "v",
         "showlegend": true,
         "textposition": "auto",
         "type": "bar",
         "x": [
          "Новосибирск"
         ],
         "xaxis": "x",
         "y": [
          17.32258064516129
         ],
         "yaxis": "y"
        },
        {
         "alignmentgroup": "True",
         "hovertemplate": "city=%{x}<br>average_flights=%{y}<extra></extra>",
         "legendgroup": "Красноярск",
         "marker": {
          "color": "#ab63fa"
         },
         "name": "Красноярск",
         "offsetgroup": "Красноярск",
         "orientation": "v",
         "showlegend": true,
         "textposition": "auto",
         "type": "bar",
         "x": [
          "Красноярск"
         ],
         "xaxis": "x",
         "y": [
          11.580645161290322
         ],
         "yaxis": "y"
        },
        {
         "alignmentgroup": "True",
         "hovertemplate": "city=%{x}<br>average_flights=%{y}<extra></extra>",
         "legendgroup": "Екатеринбург",
         "marker": {
          "color": "#FFA15A"
         },
         "name": "Екатеринбург",
         "offsetgroup": "Екатеринбург",
         "orientation": "v",
         "showlegend": true,
         "textposition": "auto",
         "type": "bar",
         "x": [
          "Екатеринбург"
         ],
         "xaxis": "x",
         "y": [
          11.32258064516129
         ],
         "yaxis": "y"
        },
        {
         "alignmentgroup": "True",
         "hovertemplate": "city=%{x}<br>average_flights=%{y}<extra></extra>",
         "legendgroup": "Ростов-на-Дону",
         "marker": {
          "color": "#19d3f3"
         },
         "name": "Ростов-на-Дону",
         "offsetgroup": "Ростов-на-Дону",
         "orientation": "v",
         "showlegend": true,
         "textposition": "auto",
         "type": "bar",
         "x": [
          "Ростов-на-Дону"
         ],
         "xaxis": "x",
         "y": [
          10.193548387096774
         ],
         "yaxis": "y"
        },
        {
         "alignmentgroup": "True",
         "hovertemplate": "city=%{x}<br>average_flights=%{y}<extra></extra>",
         "legendgroup": "Пермь",
         "marker": {
          "color": "#FF6692"
         },
         "name": "Пермь",
         "offsetgroup": "Пермь",
         "orientation": "v",
         "showlegend": true,
         "textposition": "auto",
         "type": "bar",
         "x": [
          "Пермь"
         ],
         "xaxis": "x",
         "y": [
          10.129032258064516
         ],
         "yaxis": "y"
        },
        {
         "alignmentgroup": "True",
         "hovertemplate": "city=%{x}<br>average_flights=%{y}<extra></extra>",
         "legendgroup": "Брянск",
         "marker": {
          "color": "#B6E880"
         },
         "name": "Брянск",
         "offsetgroup": "Брянск",
         "orientation": "v",
         "showlegend": true,
         "textposition": "auto",
         "type": "bar",
         "x": [
          "Брянск"
         ],
         "xaxis": "x",
         "y": [
          10
         ],
         "yaxis": "y"
        },
        {
         "alignmentgroup": "True",
         "hovertemplate": "city=%{x}<br>average_flights=%{y}<extra></extra>",
         "legendgroup": "Сочи",
         "marker": {
          "color": "#FF97FF"
         },
         "name": "Сочи",
         "offsetgroup": "Сочи",
         "orientation": "v",
         "showlegend": true,
         "textposition": "auto",
         "type": "bar",
         "x": [
          "Сочи"
         ],
         "xaxis": "x",
         "y": [
          9.612903225806452
         ],
         "yaxis": "y"
        },
        {
         "alignmentgroup": "True",
         "hovertemplate": "city=%{x}<br>average_flights=%{y}<extra></extra>",
         "legendgroup": "Ульяновск",
         "marker": {
          "color": "#FECB52"
         },
         "name": "Ульяновск",
         "offsetgroup": "Ульяновск",
         "orientation": "v",
         "showlegend": true,
         "textposition": "auto",
         "type": "bar",
         "x": [
          "Ульяновск"
         ],
         "xaxis": "x",
         "y": [
          9.580645161290322
         ],
         "yaxis": "y"
        }
       ],
       "layout": {
        "barmode": "relative",
        "height": 400,
        "legend": {
         "title": {
          "text": "city"
         },
         "tracegroupgap": 0
        },
        "template": {
         "data": {
          "bar": [
           {
            "error_x": {
             "color": "#2a3f5f"
            },
            "error_y": {
             "color": "#2a3f5f"
            },
            "marker": {
             "line": {
              "color": "#E5ECF6",
              "width": 0.5
             }
            },
            "type": "bar"
           }
          ],
          "barpolar": [
           {
            "marker": {
             "line": {
              "color": "#E5ECF6",
              "width": 0.5
             }
            },
            "type": "barpolar"
           }
          ],
          "carpet": [
           {
            "aaxis": {
             "endlinecolor": "#2a3f5f",
             "gridcolor": "white",
             "linecolor": "white",
             "minorgridcolor": "white",
             "startlinecolor": "#2a3f5f"
            },
            "baxis": {
             "endlinecolor": "#2a3f5f",
             "gridcolor": "white",
             "linecolor": "white",
             "minorgridcolor": "white",
             "startlinecolor": "#2a3f5f"
            },
            "type": "carpet"
           }
          ],
          "choropleth": [
           {
            "colorbar": {
             "outlinewidth": 0,
             "ticks": ""
            },
            "type": "choropleth"
           }
          ],
          "contour": [
           {
            "colorbar": {
             "outlinewidth": 0,
             "ticks": ""
            },
            "colorscale": [
             [
              0,
              "#0d0887"
             ],
             [
              0.1111111111111111,
              "#46039f"
             ],
             [
              0.2222222222222222,
              "#7201a8"
             ],
             [
              0.3333333333333333,
              "#9c179e"
             ],
             [
              0.4444444444444444,
              "#bd3786"
             ],
             [
              0.5555555555555556,
              "#d8576b"
             ],
             [
              0.6666666666666666,
              "#ed7953"
             ],
             [
              0.7777777777777778,
              "#fb9f3a"
             ],
             [
              0.8888888888888888,
              "#fdca26"
             ],
             [
              1,
              "#f0f921"
             ]
            ],
            "type": "contour"
           }
          ],
          "contourcarpet": [
           {
            "colorbar": {
             "outlinewidth": 0,
             "ticks": ""
            },
            "type": "contourcarpet"
           }
          ],
          "heatmap": [
           {
            "colorbar": {
             "outlinewidth": 0,
             "ticks": ""
            },
            "colorscale": [
             [
              0,
              "#0d0887"
             ],
             [
              0.1111111111111111,
              "#46039f"
             ],
             [
              0.2222222222222222,
              "#7201a8"
             ],
             [
              0.3333333333333333,
              "#9c179e"
             ],
             [
              0.4444444444444444,
              "#bd3786"
             ],
             [
              0.5555555555555556,
              "#d8576b"
             ],
             [
              0.6666666666666666,
              "#ed7953"
             ],
             [
              0.7777777777777778,
              "#fb9f3a"
             ],
             [
              0.8888888888888888,
              "#fdca26"
             ],
             [
              1,
              "#f0f921"
             ]
            ],
            "type": "heatmap"
           }
          ],
          "heatmapgl": [
           {
            "colorbar": {
             "outlinewidth": 0,
             "ticks": ""
            },
            "colorscale": [
             [
              0,
              "#0d0887"
             ],
             [
              0.1111111111111111,
              "#46039f"
             ],
             [
              0.2222222222222222,
              "#7201a8"
             ],
             [
              0.3333333333333333,
              "#9c179e"
             ],
             [
              0.4444444444444444,
              "#bd3786"
             ],
             [
              0.5555555555555556,
              "#d8576b"
             ],
             [
              0.6666666666666666,
              "#ed7953"
             ],
             [
              0.7777777777777778,
              "#fb9f3a"
             ],
             [
              0.8888888888888888,
              "#fdca26"
             ],
             [
              1,
              "#f0f921"
             ]
            ],
            "type": "heatmapgl"
           }
          ],
          "histogram": [
           {
            "marker": {
             "colorbar": {
              "outlinewidth": 0,
              "ticks": ""
             }
            },
            "type": "histogram"
           }
          ],
          "histogram2d": [
           {
            "colorbar": {
             "outlinewidth": 0,
             "ticks": ""
            },
            "colorscale": [
             [
              0,
              "#0d0887"
             ],
             [
              0.1111111111111111,
              "#46039f"
             ],
             [
              0.2222222222222222,
              "#7201a8"
             ],
             [
              0.3333333333333333,
              "#9c179e"
             ],
             [
              0.4444444444444444,
              "#bd3786"
             ],
             [
              0.5555555555555556,
              "#d8576b"
             ],
             [
              0.6666666666666666,
              "#ed7953"
             ],
             [
              0.7777777777777778,
              "#fb9f3a"
             ],
             [
              0.8888888888888888,
              "#fdca26"
             ],
             [
              1,
              "#f0f921"
             ]
            ],
            "type": "histogram2d"
           }
          ],
          "histogram2dcontour": [
           {
            "colorbar": {
             "outlinewidth": 0,
             "ticks": ""
            },
            "colorscale": [
             [
              0,
              "#0d0887"
             ],
             [
              0.1111111111111111,
              "#46039f"
             ],
             [
              0.2222222222222222,
              "#7201a8"
             ],
             [
              0.3333333333333333,
              "#9c179e"
             ],
             [
              0.4444444444444444,
              "#bd3786"
             ],
             [
              0.5555555555555556,
              "#d8576b"
             ],
             [
              0.6666666666666666,
              "#ed7953"
             ],
             [
              0.7777777777777778,
              "#fb9f3a"
             ],
             [
              0.8888888888888888,
              "#fdca26"
             ],
             [
              1,
              "#f0f921"
             ]
            ],
            "type": "histogram2dcontour"
           }
          ],
          "mesh3d": [
           {
            "colorbar": {
             "outlinewidth": 0,
             "ticks": ""
            },
            "type": "mesh3d"
           }
          ],
          "parcoords": [
           {
            "line": {
             "colorbar": {
              "outlinewidth": 0,
              "ticks": ""
             }
            },
            "type": "parcoords"
           }
          ],
          "pie": [
           {
            "automargin": true,
            "type": "pie"
           }
          ],
          "scatter": [
           {
            "marker": {
             "colorbar": {
              "outlinewidth": 0,
              "ticks": ""
             }
            },
            "type": "scatter"
           }
          ],
          "scatter3d": [
           {
            "line": {
             "colorbar": {
              "outlinewidth": 0,
              "ticks": ""
             }
            },
            "marker": {
             "colorbar": {
              "outlinewidth": 0,
              "ticks": ""
             }
            },
            "type": "scatter3d"
           }
          ],
          "scattercarpet": [
           {
            "marker": {
             "colorbar": {
              "outlinewidth": 0,
              "ticks": ""
             }
            },
            "type": "scattercarpet"
           }
          ],
          "scattergeo": [
           {
            "marker": {
             "colorbar": {
              "outlinewidth": 0,
              "ticks": ""
             }
            },
            "type": "scattergeo"
           }
          ],
          "scattergl": [
           {
            "marker": {
             "colorbar": {
              "outlinewidth": 0,
              "ticks": ""
             }
            },
            "type": "scattergl"
           }
          ],
          "scattermapbox": [
           {
            "marker": {
             "colorbar": {
              "outlinewidth": 0,
              "ticks": ""
             }
            },
            "type": "scattermapbox"
           }
          ],
          "scatterpolar": [
           {
            "marker": {
             "colorbar": {
              "outlinewidth": 0,
              "ticks": ""
             }
            },
            "type": "scatterpolar"
           }
          ],
          "scatterpolargl": [
           {
            "marker": {
             "colorbar": {
              "outlinewidth": 0,
              "ticks": ""
             }
            },
            "type": "scatterpolargl"
           }
          ],
          "scatterternary": [
           {
            "marker": {
             "colorbar": {
              "outlinewidth": 0,
              "ticks": ""
             }
            },
            "type": "scatterternary"
           }
          ],
          "surface": [
           {
            "colorbar": {
             "outlinewidth": 0,
             "ticks": ""
            },
            "colorscale": [
             [
              0,
              "#0d0887"
             ],
             [
              0.1111111111111111,
              "#46039f"
             ],
             [
              0.2222222222222222,
              "#7201a8"
             ],
             [
              0.3333333333333333,
              "#9c179e"
             ],
             [
              0.4444444444444444,
              "#bd3786"
             ],
             [
              0.5555555555555556,
              "#d8576b"
             ],
             [
              0.6666666666666666,
              "#ed7953"
             ],
             [
              0.7777777777777778,
              "#fb9f3a"
             ],
             [
              0.8888888888888888,
              "#fdca26"
             ],
             [
              1,
              "#f0f921"
             ]
            ],
            "type": "surface"
           }
          ],
          "table": [
           {
            "cells": {
             "fill": {
              "color": "#EBF0F8"
             },
             "line": {
              "color": "white"
             }
            },
            "header": {
             "fill": {
              "color": "#C8D4E3"
             },
             "line": {
              "color": "white"
             }
            },
            "type": "table"
           }
          ]
         },
         "layout": {
          "annotationdefaults": {
           "arrowcolor": "#2a3f5f",
           "arrowhead": 0,
           "arrowwidth": 1
          },
          "coloraxis": {
           "colorbar": {
            "outlinewidth": 0,
            "ticks": ""
           }
          },
          "colorscale": {
           "diverging": [
            [
             0,
             "#8e0152"
            ],
            [
             0.1,
             "#c51b7d"
            ],
            [
             0.2,
             "#de77ae"
            ],
            [
             0.3,
             "#f1b6da"
            ],
            [
             0.4,
             "#fde0ef"
            ],
            [
             0.5,
             "#f7f7f7"
            ],
            [
             0.6,
             "#e6f5d0"
            ],
            [
             0.7,
             "#b8e186"
            ],
            [
             0.8,
             "#7fbc41"
            ],
            [
             0.9,
             "#4d9221"
            ],
            [
             1,
             "#276419"
            ]
           ],
           "sequential": [
            [
             0,
             "#0d0887"
            ],
            [
             0.1111111111111111,
             "#46039f"
            ],
            [
             0.2222222222222222,
             "#7201a8"
            ],
            [
             0.3333333333333333,
             "#9c179e"
            ],
            [
             0.4444444444444444,
             "#bd3786"
            ],
            [
             0.5555555555555556,
             "#d8576b"
            ],
            [
             0.6666666666666666,
             "#ed7953"
            ],
            [
             0.7777777777777778,
             "#fb9f3a"
            ],
            [
             0.8888888888888888,
             "#fdca26"
            ],
            [
             1,
             "#f0f921"
            ]
           ],
           "sequentialminus": [
            [
             0,
             "#0d0887"
            ],
            [
             0.1111111111111111,
             "#46039f"
            ],
            [
             0.2222222222222222,
             "#7201a8"
            ],
            [
             0.3333333333333333,
             "#9c179e"
            ],
            [
             0.4444444444444444,
             "#bd3786"
            ],
            [
             0.5555555555555556,
             "#d8576b"
            ],
            [
             0.6666666666666666,
             "#ed7953"
            ],
            [
             0.7777777777777778,
             "#fb9f3a"
            ],
            [
             0.8888888888888888,
             "#fdca26"
            ],
            [
             1,
             "#f0f921"
            ]
           ]
          },
          "colorway": [
           "#636efa",
           "#EF553B",
           "#00cc96",
           "#ab63fa",
           "#FFA15A",
           "#19d3f3",
           "#FF6692",
           "#B6E880",
           "#FF97FF",
           "#FECB52"
          ],
          "font": {
           "color": "#2a3f5f"
          },
          "geo": {
           "bgcolor": "white",
           "lakecolor": "white",
           "landcolor": "#E5ECF6",
           "showlakes": true,
           "showland": true,
           "subunitcolor": "white"
          },
          "hoverlabel": {
           "align": "left"
          },
          "hovermode": "closest",
          "mapbox": {
           "style": "light"
          },
          "paper_bgcolor": "white",
          "plot_bgcolor": "#E5ECF6",
          "polar": {
           "angularaxis": {
            "gridcolor": "white",
            "linecolor": "white",
            "ticks": ""
           },
           "bgcolor": "#E5ECF6",
           "radialaxis": {
            "gridcolor": "white",
            "linecolor": "white",
            "ticks": ""
           }
          },
          "scene": {
           "xaxis": {
            "backgroundcolor": "#E5ECF6",
            "gridcolor": "white",
            "gridwidth": 2,
            "linecolor": "white",
            "showbackground": true,
            "ticks": "",
            "zerolinecolor": "white"
           },
           "yaxis": {
            "backgroundcolor": "#E5ECF6",
            "gridcolor": "white",
            "gridwidth": 2,
            "linecolor": "white",
            "showbackground": true,
            "ticks": "",
            "zerolinecolor": "white"
           },
           "zaxis": {
            "backgroundcolor": "#E5ECF6",
            "gridcolor": "white",
            "gridwidth": 2,
            "linecolor": "white",
            "showbackground": true,
            "ticks": "",
            "zerolinecolor": "white"
           }
          },
          "shapedefaults": {
           "line": {
            "color": "#2a3f5f"
           }
          },
          "ternary": {
           "aaxis": {
            "gridcolor": "white",
            "linecolor": "white",
            "ticks": ""
           },
           "baxis": {
            "gridcolor": "white",
            "linecolor": "white",
            "ticks": ""
           },
           "bgcolor": "#E5ECF6",
           "caxis": {
            "gridcolor": "white",
            "linecolor": "white",
            "ticks": ""
           }
          },
          "title": {
           "x": 0.05
          },
          "xaxis": {
           "automargin": true,
           "gridcolor": "white",
           "linecolor": "white",
           "ticks": "",
           "title": {
            "standoff": 15
           },
           "zerolinecolor": "white",
           "zerolinewidth": 2
          },
          "yaxis": {
           "automargin": true,
           "gridcolor": "white",
           "linecolor": "white",
           "ticks": "",
           "title": {
            "standoff": 15
           },
           "zerolinecolor": "white",
           "zerolinewidth": 2
          }
         }
        },
        "title": {
         "text": "ТОП 10 городов по количеству прибывающих рейсов"
        },
        "xaxis": {
         "anchor": "y",
         "categoryarray": [
          "Москва",
          "Санкт-Петербург",
          "Новосибирск",
          "Красноярск",
          "Екатеринбург",
          "Ростов-на-Дону",
          "Пермь",
          "Брянск",
          "Сочи",
          "Ульяновск"
         ],
         "categoryorder": "array",
         "domain": [
          0,
          1
         ],
         "title": {
          "text": "city"
         }
        },
        "yaxis": {
         "anchor": "x",
         "domain": [
          0,
          1
         ],
         "title": {
          "text": "average_flights"
         }
        }
       }
      },
      "text/html": [
       "<div>\n",
       "        \n",
       "        \n",
       "            <div id=\"62e69fb9-763f-4d41-8db6-2622c235910e\" class=\"plotly-graph-div\" style=\"height:400px; width:100%;\"></div>\n",
       "            <script type=\"text/javascript\">\n",
       "                require([\"plotly\"], function(Plotly) {\n",
       "                    window.PLOTLYENV=window.PLOTLYENV || {};\n",
       "                    \n",
       "                if (document.getElementById(\"62e69fb9-763f-4d41-8db6-2622c235910e\")) {\n",
       "                    Plotly.newPlot(\n",
       "                        '62e69fb9-763f-4d41-8db6-2622c235910e',\n",
       "                        [{\"alignmentgroup\": \"True\", \"hovertemplate\": \"city=%{x}<br>average_flights=%{y}<extra></extra>\", \"legendgroup\": \"\\u041c\\u043e\\u0441\\u043a\\u0432\\u0430\", \"marker\": {\"color\": \"#636efa\"}, \"name\": \"\\u041c\\u043e\\u0441\\u043a\\u0432\\u0430\", \"offsetgroup\": \"\\u041c\\u043e\\u0441\\u043a\\u0432\\u0430\", \"orientation\": \"v\", \"showlegend\": true, \"textposition\": \"auto\", \"type\": \"bar\", \"x\": [\"\\u041c\\u043e\\u0441\\u043a\\u0432\\u0430\"], \"xaxis\": \"x\", \"y\": [129.77419354838707], \"yaxis\": \"y\"}, {\"alignmentgroup\": \"True\", \"hovertemplate\": \"city=%{x}<br>average_flights=%{y}<extra></extra>\", \"legendgroup\": \"\\u0421\\u0430\\u043d\\u043a\\u0442-\\u041f\\u0435\\u0442\\u0435\\u0440\\u0431\\u0443\\u0440\\u0433\", \"marker\": {\"color\": \"#EF553B\"}, \"name\": \"\\u0421\\u0430\\u043d\\u043a\\u0442-\\u041f\\u0435\\u0442\\u0435\\u0440\\u0431\\u0443\\u0440\\u0433\", \"offsetgroup\": \"\\u0421\\u0430\\u043d\\u043a\\u0442-\\u041f\\u0435\\u0442\\u0435\\u0440\\u0431\\u0443\\u0440\\u0433\", \"orientation\": \"v\", \"showlegend\": true, \"textposition\": \"auto\", \"type\": \"bar\", \"x\": [\"\\u0421\\u0430\\u043d\\u043a\\u0442-\\u041f\\u0435\\u0442\\u0435\\u0440\\u0431\\u0443\\u0440\\u0433\"], \"xaxis\": \"x\", \"y\": [31.161290322580648], \"yaxis\": \"y\"}, {\"alignmentgroup\": \"True\", \"hovertemplate\": \"city=%{x}<br>average_flights=%{y}<extra></extra>\", \"legendgroup\": \"\\u041d\\u043e\\u0432\\u043e\\u0441\\u0438\\u0431\\u0438\\u0440\\u0441\\u043a\", \"marker\": {\"color\": \"#00cc96\"}, \"name\": \"\\u041d\\u043e\\u0432\\u043e\\u0441\\u0438\\u0431\\u0438\\u0440\\u0441\\u043a\", \"offsetgroup\": \"\\u041d\\u043e\\u0432\\u043e\\u0441\\u0438\\u0431\\u0438\\u0440\\u0441\\u043a\", \"orientation\": \"v\", \"showlegend\": true, \"textposition\": \"auto\", \"type\": \"bar\", \"x\": [\"\\u041d\\u043e\\u0432\\u043e\\u0441\\u0438\\u0431\\u0438\\u0440\\u0441\\u043a\"], \"xaxis\": \"x\", \"y\": [17.32258064516129], \"yaxis\": \"y\"}, {\"alignmentgroup\": \"True\", \"hovertemplate\": \"city=%{x}<br>average_flights=%{y}<extra></extra>\", \"legendgroup\": \"\\u041a\\u0440\\u0430\\u0441\\u043d\\u043e\\u044f\\u0440\\u0441\\u043a\", \"marker\": {\"color\": \"#ab63fa\"}, \"name\": \"\\u041a\\u0440\\u0430\\u0441\\u043d\\u043e\\u044f\\u0440\\u0441\\u043a\", \"offsetgroup\": \"\\u041a\\u0440\\u0430\\u0441\\u043d\\u043e\\u044f\\u0440\\u0441\\u043a\", \"orientation\": \"v\", \"showlegend\": true, \"textposition\": \"auto\", \"type\": \"bar\", \"x\": [\"\\u041a\\u0440\\u0430\\u0441\\u043d\\u043e\\u044f\\u0440\\u0441\\u043a\"], \"xaxis\": \"x\", \"y\": [11.580645161290322], \"yaxis\": \"y\"}, {\"alignmentgroup\": \"True\", \"hovertemplate\": \"city=%{x}<br>average_flights=%{y}<extra></extra>\", \"legendgroup\": \"\\u0415\\u043a\\u0430\\u0442\\u0435\\u0440\\u0438\\u043d\\u0431\\u0443\\u0440\\u0433\", \"marker\": {\"color\": \"#FFA15A\"}, \"name\": \"\\u0415\\u043a\\u0430\\u0442\\u0435\\u0440\\u0438\\u043d\\u0431\\u0443\\u0440\\u0433\", \"offsetgroup\": \"\\u0415\\u043a\\u0430\\u0442\\u0435\\u0440\\u0438\\u043d\\u0431\\u0443\\u0440\\u0433\", \"orientation\": \"v\", \"showlegend\": true, \"textposition\": \"auto\", \"type\": \"bar\", \"x\": [\"\\u0415\\u043a\\u0430\\u0442\\u0435\\u0440\\u0438\\u043d\\u0431\\u0443\\u0440\\u0433\"], \"xaxis\": \"x\", \"y\": [11.32258064516129], \"yaxis\": \"y\"}, {\"alignmentgroup\": \"True\", \"hovertemplate\": \"city=%{x}<br>average_flights=%{y}<extra></extra>\", \"legendgroup\": \"\\u0420\\u043e\\u0441\\u0442\\u043e\\u0432-\\u043d\\u0430-\\u0414\\u043e\\u043d\\u0443\", \"marker\": {\"color\": \"#19d3f3\"}, \"name\": \"\\u0420\\u043e\\u0441\\u0442\\u043e\\u0432-\\u043d\\u0430-\\u0414\\u043e\\u043d\\u0443\", \"offsetgroup\": \"\\u0420\\u043e\\u0441\\u0442\\u043e\\u0432-\\u043d\\u0430-\\u0414\\u043e\\u043d\\u0443\", \"orientation\": \"v\", \"showlegend\": true, \"textposition\": \"auto\", \"type\": \"bar\", \"x\": [\"\\u0420\\u043e\\u0441\\u0442\\u043e\\u0432-\\u043d\\u0430-\\u0414\\u043e\\u043d\\u0443\"], \"xaxis\": \"x\", \"y\": [10.193548387096774], \"yaxis\": \"y\"}, {\"alignmentgroup\": \"True\", \"hovertemplate\": \"city=%{x}<br>average_flights=%{y}<extra></extra>\", \"legendgroup\": \"\\u041f\\u0435\\u0440\\u043c\\u044c\", \"marker\": {\"color\": \"#FF6692\"}, \"name\": \"\\u041f\\u0435\\u0440\\u043c\\u044c\", \"offsetgroup\": \"\\u041f\\u0435\\u0440\\u043c\\u044c\", \"orientation\": \"v\", \"showlegend\": true, \"textposition\": \"auto\", \"type\": \"bar\", \"x\": [\"\\u041f\\u0435\\u0440\\u043c\\u044c\"], \"xaxis\": \"x\", \"y\": [10.129032258064516], \"yaxis\": \"y\"}, {\"alignmentgroup\": \"True\", \"hovertemplate\": \"city=%{x}<br>average_flights=%{y}<extra></extra>\", \"legendgroup\": \"\\u0411\\u0440\\u044f\\u043d\\u0441\\u043a\", \"marker\": {\"color\": \"#B6E880\"}, \"name\": \"\\u0411\\u0440\\u044f\\u043d\\u0441\\u043a\", \"offsetgroup\": \"\\u0411\\u0440\\u044f\\u043d\\u0441\\u043a\", \"orientation\": \"v\", \"showlegend\": true, \"textposition\": \"auto\", \"type\": \"bar\", \"x\": [\"\\u0411\\u0440\\u044f\\u043d\\u0441\\u043a\"], \"xaxis\": \"x\", \"y\": [10.0], \"yaxis\": \"y\"}, {\"alignmentgroup\": \"True\", \"hovertemplate\": \"city=%{x}<br>average_flights=%{y}<extra></extra>\", \"legendgroup\": \"\\u0421\\u043e\\u0447\\u0438\", \"marker\": {\"color\": \"#FF97FF\"}, \"name\": \"\\u0421\\u043e\\u0447\\u0438\", \"offsetgroup\": \"\\u0421\\u043e\\u0447\\u0438\", \"orientation\": \"v\", \"showlegend\": true, \"textposition\": \"auto\", \"type\": \"bar\", \"x\": [\"\\u0421\\u043e\\u0447\\u0438\"], \"xaxis\": \"x\", \"y\": [9.612903225806452], \"yaxis\": \"y\"}, {\"alignmentgroup\": \"True\", \"hovertemplate\": \"city=%{x}<br>average_flights=%{y}<extra></extra>\", \"legendgroup\": \"\\u0423\\u043b\\u044c\\u044f\\u043d\\u043e\\u0432\\u0441\\u043a\", \"marker\": {\"color\": \"#FECB52\"}, \"name\": \"\\u0423\\u043b\\u044c\\u044f\\u043d\\u043e\\u0432\\u0441\\u043a\", \"offsetgroup\": \"\\u0423\\u043b\\u044c\\u044f\\u043d\\u043e\\u0432\\u0441\\u043a\", \"orientation\": \"v\", \"showlegend\": true, \"textposition\": \"auto\", \"type\": \"bar\", \"x\": [\"\\u0423\\u043b\\u044c\\u044f\\u043d\\u043e\\u0432\\u0441\\u043a\"], \"xaxis\": \"x\", \"y\": [9.580645161290322], \"yaxis\": \"y\"}],\n",
       "                        {\"barmode\": \"relative\", \"height\": 400, \"legend\": {\"title\": {\"text\": \"city\"}, \"tracegroupgap\": 0}, \"template\": {\"data\": {\"bar\": [{\"error_x\": {\"color\": \"#2a3f5f\"}, \"error_y\": {\"color\": \"#2a3f5f\"}, \"marker\": {\"line\": {\"color\": \"#E5ECF6\", \"width\": 0.5}}, \"type\": \"bar\"}], \"barpolar\": [{\"marker\": {\"line\": {\"color\": \"#E5ECF6\", \"width\": 0.5}}, \"type\": \"barpolar\"}], \"carpet\": [{\"aaxis\": {\"endlinecolor\": \"#2a3f5f\", \"gridcolor\": \"white\", \"linecolor\": \"white\", \"minorgridcolor\": \"white\", \"startlinecolor\": \"#2a3f5f\"}, \"baxis\": {\"endlinecolor\": \"#2a3f5f\", \"gridcolor\": \"white\", \"linecolor\": \"white\", \"minorgridcolor\": \"white\", \"startlinecolor\": \"#2a3f5f\"}, \"type\": \"carpet\"}], \"choropleth\": [{\"colorbar\": {\"outlinewidth\": 0, \"ticks\": \"\"}, \"type\": \"choropleth\"}], \"contour\": [{\"colorbar\": {\"outlinewidth\": 0, \"ticks\": \"\"}, \"colorscale\": [[0.0, \"#0d0887\"], [0.1111111111111111, \"#46039f\"], [0.2222222222222222, \"#7201a8\"], [0.3333333333333333, \"#9c179e\"], [0.4444444444444444, \"#bd3786\"], [0.5555555555555556, \"#d8576b\"], [0.6666666666666666, \"#ed7953\"], [0.7777777777777778, \"#fb9f3a\"], [0.8888888888888888, \"#fdca26\"], [1.0, \"#f0f921\"]], \"type\": \"contour\"}], \"contourcarpet\": [{\"colorbar\": {\"outlinewidth\": 0, \"ticks\": \"\"}, \"type\": \"contourcarpet\"}], \"heatmap\": [{\"colorbar\": {\"outlinewidth\": 0, \"ticks\": \"\"}, \"colorscale\": [[0.0, \"#0d0887\"], [0.1111111111111111, \"#46039f\"], [0.2222222222222222, \"#7201a8\"], [0.3333333333333333, \"#9c179e\"], [0.4444444444444444, \"#bd3786\"], [0.5555555555555556, \"#d8576b\"], [0.6666666666666666, \"#ed7953\"], [0.7777777777777778, \"#fb9f3a\"], [0.8888888888888888, \"#fdca26\"], [1.0, \"#f0f921\"]], \"type\": \"heatmap\"}], \"heatmapgl\": [{\"colorbar\": {\"outlinewidth\": 0, \"ticks\": \"\"}, \"colorscale\": [[0.0, \"#0d0887\"], [0.1111111111111111, \"#46039f\"], [0.2222222222222222, \"#7201a8\"], [0.3333333333333333, \"#9c179e\"], [0.4444444444444444, \"#bd3786\"], [0.5555555555555556, \"#d8576b\"], [0.6666666666666666, \"#ed7953\"], [0.7777777777777778, \"#fb9f3a\"], [0.8888888888888888, \"#fdca26\"], [1.0, \"#f0f921\"]], \"type\": \"heatmapgl\"}], \"histogram\": [{\"marker\": {\"colorbar\": {\"outlinewidth\": 0, \"ticks\": \"\"}}, \"type\": \"histogram\"}], \"histogram2d\": [{\"colorbar\": {\"outlinewidth\": 0, \"ticks\": \"\"}, \"colorscale\": [[0.0, \"#0d0887\"], [0.1111111111111111, \"#46039f\"], [0.2222222222222222, \"#7201a8\"], [0.3333333333333333, \"#9c179e\"], [0.4444444444444444, \"#bd3786\"], [0.5555555555555556, \"#d8576b\"], [0.6666666666666666, \"#ed7953\"], [0.7777777777777778, \"#fb9f3a\"], [0.8888888888888888, \"#fdca26\"], [1.0, \"#f0f921\"]], \"type\": \"histogram2d\"}], \"histogram2dcontour\": [{\"colorbar\": {\"outlinewidth\": 0, \"ticks\": \"\"}, \"colorscale\": [[0.0, \"#0d0887\"], [0.1111111111111111, \"#46039f\"], [0.2222222222222222, \"#7201a8\"], [0.3333333333333333, \"#9c179e\"], [0.4444444444444444, \"#bd3786\"], [0.5555555555555556, \"#d8576b\"], [0.6666666666666666, \"#ed7953\"], [0.7777777777777778, \"#fb9f3a\"], [0.8888888888888888, \"#fdca26\"], [1.0, \"#f0f921\"]], \"type\": \"histogram2dcontour\"}], \"mesh3d\": [{\"colorbar\": {\"outlinewidth\": 0, \"ticks\": \"\"}, \"type\": \"mesh3d\"}], \"parcoords\": [{\"line\": {\"colorbar\": {\"outlinewidth\": 0, \"ticks\": \"\"}}, \"type\": \"parcoords\"}], \"pie\": [{\"automargin\": true, \"type\": \"pie\"}], \"scatter\": [{\"marker\": {\"colorbar\": {\"outlinewidth\": 0, \"ticks\": \"\"}}, \"type\": \"scatter\"}], \"scatter3d\": [{\"line\": {\"colorbar\": {\"outlinewidth\": 0, \"ticks\": \"\"}}, \"marker\": {\"colorbar\": {\"outlinewidth\": 0, \"ticks\": \"\"}}, \"type\": \"scatter3d\"}], \"scattercarpet\": [{\"marker\": {\"colorbar\": {\"outlinewidth\": 0, \"ticks\": \"\"}}, \"type\": \"scattercarpet\"}], \"scattergeo\": [{\"marker\": {\"colorbar\": {\"outlinewidth\": 0, \"ticks\": \"\"}}, \"type\": \"scattergeo\"}], \"scattergl\": [{\"marker\": {\"colorbar\": {\"outlinewidth\": 0, \"ticks\": \"\"}}, \"type\": \"scattergl\"}], \"scattermapbox\": [{\"marker\": {\"colorbar\": {\"outlinewidth\": 0, \"ticks\": \"\"}}, \"type\": \"scattermapbox\"}], \"scatterpolar\": [{\"marker\": {\"colorbar\": {\"outlinewidth\": 0, \"ticks\": \"\"}}, \"type\": \"scatterpolar\"}], \"scatterpolargl\": [{\"marker\": {\"colorbar\": {\"outlinewidth\": 0, \"ticks\": \"\"}}, \"type\": \"scatterpolargl\"}], \"scatterternary\": [{\"marker\": {\"colorbar\": {\"outlinewidth\": 0, \"ticks\": \"\"}}, \"type\": \"scatterternary\"}], \"surface\": [{\"colorbar\": {\"outlinewidth\": 0, \"ticks\": \"\"}, \"colorscale\": [[0.0, \"#0d0887\"], [0.1111111111111111, \"#46039f\"], [0.2222222222222222, \"#7201a8\"], [0.3333333333333333, \"#9c179e\"], [0.4444444444444444, \"#bd3786\"], [0.5555555555555556, \"#d8576b\"], [0.6666666666666666, \"#ed7953\"], [0.7777777777777778, \"#fb9f3a\"], [0.8888888888888888, \"#fdca26\"], [1.0, \"#f0f921\"]], \"type\": \"surface\"}], \"table\": [{\"cells\": {\"fill\": {\"color\": \"#EBF0F8\"}, \"line\": {\"color\": \"white\"}}, \"header\": {\"fill\": {\"color\": \"#C8D4E3\"}, \"line\": {\"color\": \"white\"}}, \"type\": \"table\"}]}, \"layout\": {\"annotationdefaults\": {\"arrowcolor\": \"#2a3f5f\", \"arrowhead\": 0, \"arrowwidth\": 1}, \"coloraxis\": {\"colorbar\": {\"outlinewidth\": 0, \"ticks\": \"\"}}, \"colorscale\": {\"diverging\": [[0, \"#8e0152\"], [0.1, \"#c51b7d\"], [0.2, \"#de77ae\"], [0.3, \"#f1b6da\"], [0.4, \"#fde0ef\"], [0.5, \"#f7f7f7\"], [0.6, \"#e6f5d0\"], [0.7, \"#b8e186\"], [0.8, \"#7fbc41\"], [0.9, \"#4d9221\"], [1, \"#276419\"]], \"sequential\": [[0.0, \"#0d0887\"], [0.1111111111111111, \"#46039f\"], [0.2222222222222222, \"#7201a8\"], [0.3333333333333333, \"#9c179e\"], [0.4444444444444444, \"#bd3786\"], [0.5555555555555556, \"#d8576b\"], [0.6666666666666666, \"#ed7953\"], [0.7777777777777778, \"#fb9f3a\"], [0.8888888888888888, \"#fdca26\"], [1.0, \"#f0f921\"]], \"sequentialminus\": [[0.0, \"#0d0887\"], [0.1111111111111111, \"#46039f\"], [0.2222222222222222, \"#7201a8\"], [0.3333333333333333, \"#9c179e\"], [0.4444444444444444, \"#bd3786\"], [0.5555555555555556, \"#d8576b\"], [0.6666666666666666, \"#ed7953\"], [0.7777777777777778, \"#fb9f3a\"], [0.8888888888888888, \"#fdca26\"], [1.0, \"#f0f921\"]]}, \"colorway\": [\"#636efa\", \"#EF553B\", \"#00cc96\", \"#ab63fa\", \"#FFA15A\", \"#19d3f3\", \"#FF6692\", \"#B6E880\", \"#FF97FF\", \"#FECB52\"], \"font\": {\"color\": \"#2a3f5f\"}, \"geo\": {\"bgcolor\": \"white\", \"lakecolor\": \"white\", \"landcolor\": \"#E5ECF6\", \"showlakes\": true, \"showland\": true, \"subunitcolor\": \"white\"}, \"hoverlabel\": {\"align\": \"left\"}, \"hovermode\": \"closest\", \"mapbox\": {\"style\": \"light\"}, \"paper_bgcolor\": \"white\", \"plot_bgcolor\": \"#E5ECF6\", \"polar\": {\"angularaxis\": {\"gridcolor\": \"white\", \"linecolor\": \"white\", \"ticks\": \"\"}, \"bgcolor\": \"#E5ECF6\", \"radialaxis\": {\"gridcolor\": \"white\", \"linecolor\": \"white\", \"ticks\": \"\"}}, \"scene\": {\"xaxis\": {\"backgroundcolor\": \"#E5ECF6\", \"gridcolor\": \"white\", \"gridwidth\": 2, \"linecolor\": \"white\", \"showbackground\": true, \"ticks\": \"\", \"zerolinecolor\": \"white\"}, \"yaxis\": {\"backgroundcolor\": \"#E5ECF6\", \"gridcolor\": \"white\", \"gridwidth\": 2, \"linecolor\": \"white\", \"showbackground\": true, \"ticks\": \"\", \"zerolinecolor\": \"white\"}, \"zaxis\": {\"backgroundcolor\": \"#E5ECF6\", \"gridcolor\": \"white\", \"gridwidth\": 2, \"linecolor\": \"white\", \"showbackground\": true, \"ticks\": \"\", \"zerolinecolor\": \"white\"}}, \"shapedefaults\": {\"line\": {\"color\": \"#2a3f5f\"}}, \"ternary\": {\"aaxis\": {\"gridcolor\": \"white\", \"linecolor\": \"white\", \"ticks\": \"\"}, \"baxis\": {\"gridcolor\": \"white\", \"linecolor\": \"white\", \"ticks\": \"\"}, \"bgcolor\": \"#E5ECF6\", \"caxis\": {\"gridcolor\": \"white\", \"linecolor\": \"white\", \"ticks\": \"\"}}, \"title\": {\"x\": 0.05}, \"xaxis\": {\"automargin\": true, \"gridcolor\": \"white\", \"linecolor\": \"white\", \"ticks\": \"\", \"title\": {\"standoff\": 15}, \"zerolinecolor\": \"white\", \"zerolinewidth\": 2}, \"yaxis\": {\"automargin\": true, \"gridcolor\": \"white\", \"linecolor\": \"white\", \"ticks\": \"\", \"title\": {\"standoff\": 15}, \"zerolinecolor\": \"white\", \"zerolinewidth\": 2}}}, \"title\": {\"text\": \"\\u0422\\u041e\\u041f 10 \\u0433\\u043e\\u0440\\u043e\\u0434\\u043e\\u0432 \\u043f\\u043e \\u043a\\u043e\\u043b\\u0438\\u0447\\u0435\\u0441\\u0442\\u0432\\u0443 \\u043f\\u0440\\u0438\\u0431\\u044b\\u0432\\u0430\\u044e\\u0449\\u0438\\u0445 \\u0440\\u0435\\u0439\\u0441\\u043e\\u0432\"}, \"xaxis\": {\"anchor\": \"y\", \"categoryarray\": [\"\\u041c\\u043e\\u0441\\u043a\\u0432\\u0430\", \"\\u0421\\u0430\\u043d\\u043a\\u0442-\\u041f\\u0435\\u0442\\u0435\\u0440\\u0431\\u0443\\u0440\\u0433\", \"\\u041d\\u043e\\u0432\\u043e\\u0441\\u0438\\u0431\\u0438\\u0440\\u0441\\u043a\", \"\\u041a\\u0440\\u0430\\u0441\\u043d\\u043e\\u044f\\u0440\\u0441\\u043a\", \"\\u0415\\u043a\\u0430\\u0442\\u0435\\u0440\\u0438\\u043d\\u0431\\u0443\\u0440\\u0433\", \"\\u0420\\u043e\\u0441\\u0442\\u043e\\u0432-\\u043d\\u0430-\\u0414\\u043e\\u043d\\u0443\", \"\\u041f\\u0435\\u0440\\u043c\\u044c\", \"\\u0411\\u0440\\u044f\\u043d\\u0441\\u043a\", \"\\u0421\\u043e\\u0447\\u0438\", \"\\u0423\\u043b\\u044c\\u044f\\u043d\\u043e\\u0432\\u0441\\u043a\"], \"categoryorder\": \"array\", \"domain\": [0.0, 1.0], \"title\": {\"text\": \"city\"}}, \"yaxis\": {\"anchor\": \"x\", \"domain\": [0.0, 1.0], \"title\": {\"text\": \"average_flights\"}}},\n",
       "                        {\"responsive\": true}\n",
       "                    ).then(function(){\n",
       "                            \n",
       "var gd = document.getElementById('62e69fb9-763f-4d41-8db6-2622c235910e');\n",
       "var x = new MutationObserver(function (mutations, observer) {{\n",
       "        var display = window.getComputedStyle(gd).display;\n",
       "        if (!display || display === 'none') {{\n",
       "            console.log([gd, 'removed!']);\n",
       "            Plotly.purge(gd);\n",
       "            observer.disconnect();\n",
       "        }}\n",
       "}});\n",
       "\n",
       "// Listen for the removal of the full notebook cells\n",
       "var notebookContainer = gd.closest('#notebook-container');\n",
       "if (notebookContainer) {{\n",
       "    x.observe(notebookContainer, {childList: true});\n",
       "}}\n",
       "\n",
       "// Listen for the clearing of the current output cell\n",
       "var outputEl = gd.closest('.output');\n",
       "if (outputEl) {{\n",
       "    x.observe(outputEl, {childList: true});\n",
       "}}\n",
       "\n",
       "                        })\n",
       "                };\n",
       "                });\n",
       "            </script>\n",
       "        </div>"
      ]
     },
     "metadata": {},
     "output_type": "display_data"
    }
   ],
   "source": [
    "#Построим график топ-10 городов и количества рейсов\n",
    "model_flights\n",
    "fig = px.bar(top_10_city, x='city', y='average_flights',\n",
    "             title=\"ТОП 10 городов по количеству прибывающих рейсов\",\n",
    "              color='city',\n",
    "              height=400)\n",
    "fig.show()"
   ]
  },
  {
   "cell_type": "markdown",
   "metadata": {},
   "source": [
    "Из полученного графика видно, что чем крупнее город и чем более транспортно важным он является, тем большее количество рейсов в него прибывает."
   ]
  },
  {
   "cell_type": "markdown",
   "metadata": {},
   "source": [
    "# 3. Проверка гипотезы"
   ]
  },
  {
   "cell_type": "markdown",
   "metadata": {},
   "source": [
    "## Задача\n",
    "Средний спрос на билеты во время фестивалей не отличается от среднего спроса на билеты в обычное время\n",
    "\n",
    "Составим гипотезы:\n",
    "\n",
    "##### Н0 - спрос на билеты во время фестивалей не отличается от среднего спроса в обычные дни\n",
    "##### Н1 - спрос на билеты во время фестивалей отличается от среднего спроса в обычные дни\n",
    "\n",
    "Для решения задачи возьмём две выборки, первую с пассажирами в недели проведения фестивалей, вторую когда фестивали не проводились. Т.к. мы проверяем средние значения у двух независимых выборок потребуется критерий стьюдента.\n",
    "\n",
    "Пороговое значение установим равное 0.05"
   ]
  },
  {
   "cell_type": "code",
   "execution_count": 11,
   "metadata": {},
   "outputs": [],
   "source": [
    "festival = last[last['festival_week'] >0]['ticket_amount']\n",
    "non_festival = last[last['festival_week'] == 0]['ticket_amount']"
   ]
  },
  {
   "cell_type": "code",
   "execution_count": 12,
   "metadata": {},
   "outputs": [
    {
     "name": "stdout",
     "output_type": "stream",
     "text": [
      "P-val = 0.37743 \n",
      "Альтернативная гипотеза отклонена. Скорее всего средний спрос не отличается.\n"
     ]
    }
   ],
   "source": [
    "alpha = .05\n",
    "\n",
    "result = st.ttest_ind(festival,non_festival, equal_var = False)\n",
    "\n",
    "if result.pvalue >= alpha:\n",
    "    print(\"P-val =\", round(result.pvalue, 5),\"\\nАльтернативная гипотеза отклонена. Скорее всего средний спрос не отличается.\")\n",
    "else:\n",
    "    print(\"P-val =\", round(result.pvalue, 5), \"\\Нулевая гипотеза отклонена. Скорее всего средний спрос отличается.\")"
   ]
  },
  {
   "cell_type": "markdown",
   "metadata": {},
   "source": [
    "## Общий вывод\n",
    "\n",
    "В результате анализа полученных данных можно сделать следующие выводы:\n",
    "- Большинство рейсов выполняется малыми самолётами для осуществления локальных перелётов.\n",
    "- Абсолютное большинство рейсов осуществляется в Москву.\n",
    "- Средний спрос на билеты во время проведения фестивалей не отличается от обычного."
   ]
  }
 ],
 "metadata": {
  "kernelspec": {
   "display_name": "Python 3",
   "language": "python",
   "name": "python3"
  },
  "language_info": {
   "codemirror_mode": {
    "name": "ipython",
    "version": 3
   },
   "file_extension": ".py",
   "mimetype": "text/x-python",
   "name": "python",
   "nbconvert_exporter": "python",
   "pygments_lexer": "ipython3",
   "version": "3.7.6"
  }
 },
 "nbformat": 4,
 "nbformat_minor": 2
}
