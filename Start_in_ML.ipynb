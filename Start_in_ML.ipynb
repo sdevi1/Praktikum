{
 "cells": [
  {
   "cell_type": "markdown",
   "metadata": {},
   "source": [
    "# Рекомендация тарифов"
   ]
  },
  {
   "cell_type": "markdown",
   "metadata": {},
   "source": [
    "В вашем распоряжении данные о поведении клиентов. Нужно построить модель для задачи классификации, которая выберет подходящий тариф. \n",
    "\n",
    "Постройте модель с максимально большим значением *accuracy*. Чтобы сдать проект успешно, нужно довести долю правильных ответов по крайней мере до 0.75."
   ]
  },
  {
   "cell_type": "markdown",
   "metadata": {},
   "source": [
    "## 1. Откройте и изучите файл"
   ]
  },
  {
   "cell_type": "code",
   "execution_count": 56,
   "metadata": {},
   "outputs": [],
   "source": [
    "#Импортируем необходимые библиотеки\n",
    "import pandas as pd\n",
    "\n",
    "from sklearn.model_selection import train_test_split\n",
    "from sklearn.ensemble import RandomForestClassifier\n",
    "from sklearn.tree import DecisionTreeClassifier\n",
    "from sklearn.linear_model import LogisticRegression\n",
    "from sklearn.dummy import DummyClassifier\n",
    "from sklearn.neighbors import KNeighborsClassifier\n",
    "from sklearn.metrics import f1_score, accuracy_score\n",
    "from sklearn.model_selection import RandomizedSearchCV\n",
    "\n",
    "from scipy.stats import randint\n",
    "import warnings \n",
    "warnings.filterwarnings(\"ignore\") "
   ]
  },
  {
   "cell_type": "code",
   "execution_count": 8,
   "metadata": {},
   "outputs": [
    {
     "data": {
      "text/html": [
       "<div>\n",
       "<style scoped>\n",
       "    .dataframe tbody tr th:only-of-type {\n",
       "        vertical-align: middle;\n",
       "    }\n",
       "\n",
       "    .dataframe tbody tr th {\n",
       "        vertical-align: top;\n",
       "    }\n",
       "\n",
       "    .dataframe thead th {\n",
       "        text-align: right;\n",
       "    }\n",
       "</style>\n",
       "<table border=\"1\" class=\"dataframe\">\n",
       "  <thead>\n",
       "    <tr style=\"text-align: right;\">\n",
       "      <th></th>\n",
       "      <th>calls</th>\n",
       "      <th>minutes</th>\n",
       "      <th>messages</th>\n",
       "      <th>mb_used</th>\n",
       "      <th>is_ultra</th>\n",
       "    </tr>\n",
       "  </thead>\n",
       "  <tbody>\n",
       "    <tr>\n",
       "      <th>0</th>\n",
       "      <td>40.0</td>\n",
       "      <td>311.90</td>\n",
       "      <td>83.0</td>\n",
       "      <td>19915.42</td>\n",
       "      <td>0</td>\n",
       "    </tr>\n",
       "    <tr>\n",
       "      <th>1</th>\n",
       "      <td>85.0</td>\n",
       "      <td>516.75</td>\n",
       "      <td>56.0</td>\n",
       "      <td>22696.96</td>\n",
       "      <td>0</td>\n",
       "    </tr>\n",
       "    <tr>\n",
       "      <th>2</th>\n",
       "      <td>77.0</td>\n",
       "      <td>467.66</td>\n",
       "      <td>86.0</td>\n",
       "      <td>21060.45</td>\n",
       "      <td>0</td>\n",
       "    </tr>\n",
       "    <tr>\n",
       "      <th>3</th>\n",
       "      <td>106.0</td>\n",
       "      <td>745.53</td>\n",
       "      <td>81.0</td>\n",
       "      <td>8437.39</td>\n",
       "      <td>1</td>\n",
       "    </tr>\n",
       "    <tr>\n",
       "      <th>4</th>\n",
       "      <td>66.0</td>\n",
       "      <td>418.74</td>\n",
       "      <td>1.0</td>\n",
       "      <td>14502.75</td>\n",
       "      <td>0</td>\n",
       "    </tr>\n",
       "  </tbody>\n",
       "</table>\n",
       "</div>"
      ],
      "text/plain": [
       "   calls  minutes  messages   mb_used  is_ultra\n",
       "0   40.0   311.90      83.0  19915.42         0\n",
       "1   85.0   516.75      56.0  22696.96         0\n",
       "2   77.0   467.66      86.0  21060.45         0\n",
       "3  106.0   745.53      81.0   8437.39         1\n",
       "4   66.0   418.74       1.0  14502.75         0"
      ]
     },
     "execution_count": 8,
     "metadata": {},
     "output_type": "execute_result"
    }
   ],
   "source": [
    "#откроем файл с данными \n",
    "df = pd.read_csv('/home/andrey/Datasets/users_behavior.csv')\n",
    "df.head()"
   ]
  },
  {
   "cell_type": "code",
   "execution_count": 9,
   "metadata": {},
   "outputs": [
    {
     "name": "stdout",
     "output_type": "stream",
     "text": [
      "<class 'pandas.core.frame.DataFrame'>\n",
      "RangeIndex: 3214 entries, 0 to 3213\n",
      "Data columns (total 5 columns):\n",
      " #   Column    Non-Null Count  Dtype  \n",
      "---  ------    --------------  -----  \n",
      " 0   calls     3214 non-null   float64\n",
      " 1   minutes   3214 non-null   float64\n",
      " 2   messages  3214 non-null   float64\n",
      " 3   mb_used   3214 non-null   float64\n",
      " 4   is_ultra  3214 non-null   int64  \n",
      "dtypes: float64(4), int64(1)\n",
      "memory usage: 125.7 KB\n"
     ]
    }
   ],
   "source": [
    "df.info()"
   ]
  },
  {
   "cell_type": "markdown",
   "metadata": {},
   "source": [
    "Каждый объект в наборе данных — это информация о поведении одного пользователя за месяц. Известно:\n",
    "- сalls — количество звонков,\n",
    "- minutes — суммарная длительность звонков в минутах,\n",
    "- messages — количество sms-сообщений,\n",
    "- mb_used — израсходованный интернет-трафик в Мб,\n",
    "- is_ultra — каким тарифом пользовался в течение месяца («Ультра» — 1, «Смарт» — 0)."
   ]
  },
  {
   "cell_type": "markdown",
   "metadata": {},
   "source": [
    "Необходимые библиотеки загружены, файл открыт. Данные уже предобработанны."
   ]
  },
  {
   "cell_type": "markdown",
   "metadata": {},
   "source": [
    "## 2. Обучите модели"
   ]
  },
  {
   "cell_type": "code",
   "execution_count": 14,
   "metadata": {},
   "outputs": [],
   "source": [
    "#разобьём данные на train и test\n",
    "\n",
    "y = df['is_ultra']\n",
    "X = df.drop('is_ultra', axis = 1)\n",
    "\n",
    "\n",
    "from sklearn.model_selection import train_test_split\n",
    "\n",
    "X_train,X_test,y_train,y_test=train_test_split(X,y,test_size=0.25, random_state = 12345)"
   ]
  },
  {
   "cell_type": "markdown",
   "metadata": {},
   "source": [
    "Используем следующие модели для обучения:\n",
    "\n",
    "- Decision Tree\n",
    "- Random Forest\n",
    "- Logistic Regression\n",
    "- KNN"
   ]
  },
  {
   "cell_type": "code",
   "execution_count": 42,
   "metadata": {
    "scrolled": true
   },
   "outputs": [
    {
     "name": "stdout",
     "output_type": "stream",
     "text": [
      "Лучшие гиперпараметры для модели дерева решений\n",
      "\n",
      "{'ccp_alpha': 0.0, 'class_weight': None, 'criterion': 'entropy', 'max_depth': 7, 'max_features': 3, 'max_leaf_nodes': None, 'min_impurity_decrease': 0.0, 'min_impurity_split': None, 'min_samples_leaf': 7, 'min_samples_split': 2, 'min_weight_fraction_leaf': 0.0, 'presort': 'deprecated', 'random_state': 12345, 'splitter': 'best'}\n",
      "\n",
      "Accuracy = 0.7810945273631841\n",
      "CPU times: user 2.15 s, sys: 32 ms, total: 2.19 s\n",
      "Wall time: 2.39 s\n"
     ]
    }
   ],
   "source": [
    "%%time\n",
    "#decision tree\n",
    "model = DecisionTreeClassifier(random_state = 12345)\n",
    "\n",
    "#подберём гиперпараметры с помощью RandomizedSearchCV\n",
    "param = {\"max_depth\": [3, 4, 5, 6, 7, 8, 9], \n",
    "         \"max_features\": randint(1, 9),\n",
    "         \"min_samples_leaf\": randint(1, 9),\n",
    "         \"criterion\": [\"gini\", \"entropy\"],\n",
    "        \"splitter\" : [\"best\", \"random\"],\n",
    "        \"class_weight\" : [\"balanced\", None]}\n",
    "\n",
    "model_rscv = RandomizedSearchCV(model, param_distributions = param, scoring = \"accuracy\",\n",
    "                             cv = 2, verbose = 0, random_state = 12345, n_jobs = -1, n_iter = 1000)\n",
    "\n",
    "model_tree = model_rscv.fit(X_train, y_train)\n",
    "\n",
    "print(\"Лучшие гиперпараметры для модели дерева решений\")\n",
    "print()\n",
    "print(model_tree.best_estimator_.get_params())\n",
    "\n",
    "pred = model_tree.predict(X_test)\n",
    "print()\n",
    "print(\"Accuracy = {}\".format(accuracy_score(y_test, pred)))"
   ]
  },
  {
   "cell_type": "markdown",
   "metadata": {},
   "source": [
    "С помощью подбора гиперпараметров удалось достичь значения accuracy 0.7898"
   ]
  },
  {
   "cell_type": "code",
   "execution_count": 43,
   "metadata": {},
   "outputs": [
    {
     "name": "stdout",
     "output_type": "stream",
     "text": [
      "Лучшие гиперпараметры для модели случайного леса\n",
      "\n",
      "{'bootstrap': True, 'ccp_alpha': 0.0, 'class_weight': None, 'criterion': 'gini', 'max_depth': 11, 'max_features': 'auto', 'max_leaf_nodes': None, 'max_samples': None, 'min_impurity_decrease': 0.0, 'min_impurity_split': None, 'min_samples_leaf': 3, 'min_samples_split': 3, 'min_weight_fraction_leaf': 0.0, 'n_estimators': 2734, 'n_jobs': None, 'oob_score': False, 'random_state': 12345, 'verbose': 0, 'warm_start': False}\n",
      "\n",
      "Accuracy = 0.804726368159204\n",
      "CPU times: user 8.68 s, sys: 47.4 ms, total: 8.73 s\n",
      "Wall time: 2min 54s\n"
     ]
    }
   ],
   "source": [
    "%%time\n",
    "#random_forest\n",
    "model = RandomForestClassifier(random_state = 12345)\n",
    "\n",
    "#подберём гиперпараметры с помощью RandomizedSearchCV\n",
    "param = {\"max_depth\": [3, 4, 5, 6, 7, 8, 9, 11, 13, 15, 17, 19, 21],\n",
    "         \"n_estimators\" : randint(500, 4000),\n",
    "         \"min_samples_split\" : randint(1,10),\n",
    "         \"min_samples_leaf\": randint(1, 9),\n",
    "         \"criterion\": [\"gini\", \"entropy\"],\n",
    "        \"class_weight\" : [\"balanced\", None]}\n",
    "\n",
    "model_rscv = RandomizedSearchCV(model, param_distributions = param, scoring = \"accuracy\",\n",
    "                             cv = 2, verbose = 0, random_state = 12345, n_jobs = -1, n_iter = 200)\n",
    "\n",
    "model_forest = model_rscv.fit(X_train, y_train)\n",
    "\n",
    "print(\"Лучшие гиперпараметры для модели случайного леса\")\n",
    "print()\n",
    "print(model_forest.best_estimator_.get_params())\n",
    "\n",
    "pred = model_forest.predict(X_test)\n",
    "print()\n",
    "print(\"Accuracy = {}\".format(accuracy_score(y_test, pred)))"
   ]
  },
  {
   "cell_type": "markdown",
   "metadata": {},
   "source": [
    "В модели слуайного леса удалось увеличить значение accuracy до 0.8047"
   ]
  },
  {
   "cell_type": "code",
   "execution_count": 47,
   "metadata": {},
   "outputs": [
    {
     "name": "stdout",
     "output_type": "stream",
     "text": [
      "Лучшие гиперпараметры для модели логистической регрессии\n",
      "\n",
      "{'C': 1.0, 'class_weight': None, 'dual': False, 'fit_intercept': True, 'intercept_scaling': 1, 'l1_ratio': None, 'max_iter': 100, 'multi_class': 'auto', 'n_jobs': None, 'penalty': 'l2', 'random_state': 12345, 'solver': 'lbfgs', 'tol': 0.0001, 'verbose': 0, 'warm_start': False}\n",
      "\n",
      "Accuracy = 0.7039800995024875\n",
      "CPU times: user 82.1 ms, sys: 0 ns, total: 82.1 ms\n",
      "Wall time: 86.8 ms\n"
     ]
    }
   ],
   "source": [
    "%%time\n",
    "#logistic regression\n",
    "model = LogisticRegression(random_state=12345)\n",
    "\n",
    "param = {\"class_weight\" : ['balanced', None],\n",
    "         \"penalty\" : [\"l1\", \"l2\", \"elasticnet\", \"None\"],\n",
    "         \"solver\" : [\"liblinear\", \"lbfgs\"]\n",
    "        }\n",
    "\n",
    "model_rscv = RandomizedSearchCV(model, param_distributions = param, scoring = \"accuracy\",\n",
    "                             cv = 2, verbose = 0, random_state = 12345, n_jobs = -1, n_iter = 100)\n",
    "\n",
    "model_lr = model_rscv.fit(X_train, y_train)\n",
    "\n",
    "print(\"Лучшие гиперпараметры для модели логистической регрессии\")\n",
    "print()\n",
    "print(model_lr.best_estimator_.get_params())\n",
    "\n",
    "pred = model_lr.predict(X_test)\n",
    "print()\n",
    "print(\"Accuracy = {}\".format(accuracy_score(y_test, pred)))"
   ]
  },
  {
   "cell_type": "markdown",
   "metadata": {},
   "source": [
    "Модель логистической регрессии показала самое низкое качество по метрике accuracy 0.7039"
   ]
  },
  {
   "cell_type": "code",
   "execution_count": 55,
   "metadata": {},
   "outputs": [
    {
     "name": "stdout",
     "output_type": "stream",
     "text": [
      "Лучшие гиперпараметры для KNN\n",
      "\n",
      "{'algorithm': 'auto', 'leaf_size': 30, 'metric': 'minkowski', 'metric_params': None, 'n_jobs': None, 'n_neighbors': 9, 'p': 2, 'weights': 'distance'}\n",
      "\n",
      "Accuracy = 0.7736318407960199\n",
      "CPU times: user 391 ms, sys: 57.2 ms, total: 449 ms\n",
      "Wall time: 1.23 s\n"
     ]
    }
   ],
   "source": [
    "%%time\n",
    "#KNN\n",
    "model = KNeighborsClassifier()\n",
    "\n",
    "param = {\"n_neighbors\" : randint(1 , 10),\n",
    "         \"weights\" : [\"uniform\", \"distance\"],\n",
    "         \"algorithm\" : [\"auto\", \"ball_tree\", \"kd_tree\", \"brute\"]}\n",
    "         \n",
    "model_KNN = RandomizedSearchCV(model, param_distributions = param, scoring = \"accuracy\",\n",
    "                             cv = 2, verbose = 0, random_state = 12345, n_jobs = -1, n_iter = 100)\n",
    "\n",
    "model_KNN = model_KNN.fit(X_train, y_train)\n",
    "\n",
    "print(\"Лучшие гиперпараметры для KNN\")\n",
    "print()\n",
    "print(model_KNN.best_estimator_.get_params())\n",
    "\n",
    "pred = model_KNN.predict(X_test)\n",
    "print()\n",
    "print(\"Accuracy = {}\".format(accuracy_score(y_test, pred)))"
   ]
  },
  {
   "cell_type": "markdown",
   "metadata": {},
   "source": [
    "Accuracy в KNN составил 0.7736"
   ]
  },
  {
   "cell_type": "markdown",
   "metadata": {},
   "source": [
    "Лучший accuracy с тюнингом гиперпараметров показала модель случайного леса."
   ]
  },
  {
   "cell_type": "markdown",
   "metadata": {},
   "source": [
    "## 3. Проверьте модели на адекватность"
   ]
  },
  {
   "cell_type": "code",
   "execution_count": 53,
   "metadata": {},
   "outputs": [
    {
     "name": "stdout",
     "output_type": "stream",
     "text": [
      "accuracy на cлучайной выборке: 0.49129353233830847\n"
     ]
    }
   ],
   "source": [
    "#проверим модель на адекватность с помощью DummyClassifier\n",
    "dummy_clf = DummyClassifier(strategy=\"uniform\")\n",
    "dummy_clf.fit(X_train, y_train)\n",
    "predict_dummy = dummy_clf.predict(y_test)\n",
    "accuracy_dummy = accuracy_score(y_test, predict_dummy)\n",
    "print('accuracy на cлучайной выборке:' ,accuracy_dummy)\n",
    "\n"
   ]
  },
  {
   "cell_type": "markdown",
   "metadata": {},
   "source": [
    "С помощью DummyClassifier модель random forest была проверена на адекватность, результат DummyClassifier оказался ниже чем у всех примененных моделях."
   ]
  },
  {
   "cell_type": "markdown",
   "metadata": {},
   "source": [
    "## 4. Вывод"
   ]
  },
  {
   "cell_type": "markdown",
   "metadata": {},
   "source": [
    "В ходе работы было построено несколько различных рекомендательных моделей машинного обучения с перебором гиперпараметров.\n",
    "\n",
    "Было применено 4 модели:\n",
    "- Decision Tree\n",
    "- Random Forest\n",
    "- Logistic Regression\n",
    "- KNN\n",
    "\n",
    "Лучший результат показала модель случайного леса с точностью 80%, следом за ней идёт модель дерева решений с точностью 78%. \n",
    "\n",
    "Так же стоит отметить, что при не большой разности в качестве метрик у обоих моделей, модель дерева решений работает намного быстрее случайного леса. Поэтому для скорости стоит применять именного дерево решений. а для большей точности случайный лес."
   ]
  }
 ],
 "metadata": {
  "kernelspec": {
   "display_name": "Python 3",
   "language": "python",
   "name": "python3"
  },
  "language_info": {
   "codemirror_mode": {
    "name": "ipython",
    "version": 3
   },
   "file_extension": ".py",
   "mimetype": "text/x-python",
   "name": "python",
   "nbconvert_exporter": "python",
   "pygments_lexer": "ipython3",
   "version": "3.7.6"
  }
 },
 "nbformat": 4,
 "nbformat_minor": 2
}
