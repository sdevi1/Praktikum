{
 "cells": [
  {
   "cell_type": "markdown",
   "metadata": {},
   "source": [
    "# Определение перспективного тарифа для телеком компании\n",
    "\n",
    "## Описание проекта\n",
    "Предстоит сделать предварительный анализ тарифов на небольшой выборке клиентов. Нужно проанализировать поведение клиентов и сделать вывод — какой тариф лучше.\n",
    "\n",
    "#### Описание тарифов\n",
    "\n",
    "Тариф «Смарт»\n",
    "\n",
    "- Ежемесячная плата: 550 рублей\n",
    "\n",
    "- Включено 500 минут разговора, 50 сообщений и 15 Гб интернет-трафика\n",
    "\n",
    "- Стоимость услуг сверх тарифного пакета:\n",
    " - минута разговора: 3 рубля («Мегалайн» всегда округляет вверх значения минут и мегабайтов. Если пользователь проговорил всего 1 секунду, в тарифе засчитывается целая минута.)\n",
    " - сообщение: 3 рубля\n",
    " - 1 Гб интернет-трафика: 200 рублей\n",
    " \n",
    "Тариф «Ультра»\n",
    "\n",
    "- Ежемесячная плата: 1950 рублей\n",
    "- Включено 3000 минут разговора, 1000 сообщений и 30 Гб интернет-трафика\n",
    "- Стоимость услуг сверх тарифного пакета:\n",
    " - минута разговора: 1 рубль\n",
    " - сообщение: 1 рубль\n",
    " - 1 Гб интернет-трафика: 150 рублей"
   ]
  },
  {
   "cell_type": "markdown",
   "metadata": {},
   "source": [
    "### Описание данных\n",
    "\n",
    "#### Таблица users (информация о пользователях):\n",
    "- user_id — уникальный идентификатор пользователя\n",
    "- first_name — имя пользователя\n",
    "- last_name — фамилия пользователя\n",
    "- age — возраст пользователя (годы)\n",
    "- reg_date — дата подключения тарифа (день, месяц, год)\n",
    "- churn_date — дата прекращения пользования тарифом (если значение пропущено, то тариф ещё действовал на момент выгрузки данных)\n",
    "- city — город проживания пользователя\n",
    "- tariff — название тарифного плана\n",
    "\n",
    "#### Таблица calls (информация о звонках):\n",
    "- id — уникальный номер звонка\n",
    "- call_date — дата звонка\n",
    "- duration — длительность звонка в минутах\n",
    "- user_id — идентификатор пользователя, сделавшего звонок\n",
    "\n",
    "#### Таблица messages (информация о сообщениях):\n",
    "- id — уникальный номер сообщения\n",
    "- message_date — дата сообщения\n",
    "- user_id — идентификатор пользователя, отправившего сообщение\n",
    "\n",
    "#### Таблица internet (информация об интернет-сессиях):\n",
    "- id — уникальный номер сессии\n",
    "- mb_used — объём потраченного за сессию интернет-трафика (в мегабайтах)\n",
    "- session_date — дата интернет-сессии\n",
    "- user_id — идентификатор пользователя\n",
    "\n",
    "#### Таблица tariffs (информация о тарифах):\n",
    "- tariff_name — название тарифа\n",
    "- rub_monthly_fee — ежемесячная абонентская плата в рублях\n",
    "- minutes_included — количество минут разговора в месяц, включённых в абонентскую плату\n",
    "- messages_included — количество сообщений в месяц, включённых в абонентскую плату\n",
    "- mb_per_month_included — объём интернет-трафика, включённого в абонентскую плату (в мегабайтах)\n",
    "- rub_per_minute — стоимость минуты разговора сверх тарифного пакета (например, если в тарифе 100 минут разговора в месяц, то со 101 минуты будет взиматься плата)\n",
    "- rub_per_message — стоимость отправки сообщения сверх тарифного пакета\n",
    "- rub_per_gb — стоимость дополнительного гигабайта интернет-трафика сверх тарифного пакета (1 гигабайт = 1024 мегабайта)"
   ]
  },
  {
   "cell_type": "markdown",
   "metadata": {},
   "source": [
    "## Изучение общей информации"
   ]
  },
  {
   "cell_type": "code",
   "execution_count": 1,
   "metadata": {},
   "outputs": [],
   "source": [
    "#импортируем библиотеки и методы\n",
    "import numpy as np\n",
    "import pandas as pd\n",
    "import matplotlib.pyplot as plt\n",
    "from scipy import stats as st\n",
    "from math import factorial\n",
    "\n",
    "import warnings \n",
    "warnings.filterwarnings(\"ignore\") "
   ]
  },
  {
   "cell_type": "code",
   "execution_count": 2,
   "metadata": {},
   "outputs": [],
   "source": [
    "#загружаем датасеты\n",
    "calls = pd.read_csv('/home/andrey/Datasets/calls.csv')\n",
    "internet = pd.read_csv('/home/andrey/Datasets/internet.csv')\n",
    "messages = pd.read_csv('/home/andrey/Datasets/messages.csv')\n",
    "tariffs = pd.read_csv('/home/andrey/Datasets/tariffs.csv')\n",
    "users = pd.read_csv('/home/andrey/Datasets/users.csv')"
   ]
  },
  {
   "cell_type": "code",
   "execution_count": 3,
   "metadata": {
    "scrolled": false
   },
   "outputs": [
    {
     "name": "stdout",
     "output_type": "stream",
     "text": [
      "<class 'pandas.core.frame.DataFrame'>\n",
      "RangeIndex: 202607 entries, 0 to 202606\n",
      "Data columns (total 4 columns):\n",
      " #   Column     Non-Null Count   Dtype  \n",
      "---  ------     --------------   -----  \n",
      " 0   id         202607 non-null  object \n",
      " 1   call_date  202607 non-null  object \n",
      " 2   duration   202607 non-null  float64\n",
      " 3   user_id    202607 non-null  int64  \n",
      "dtypes: float64(1), int64(1), object(2)\n",
      "memory usage: 6.2+ MB\n",
      "None\n",
      "__________________\n",
      "count    202607.000000\n",
      "mean          6.755887\n",
      "std           5.843365\n",
      "min           0.000000\n",
      "25%           1.300000\n",
      "50%           6.000000\n",
      "75%          10.700000\n",
      "max          38.000000\n",
      "Name: duration, dtype: float64\n",
      "__________________\n",
      "0.00     39613\n",
      "4.49       142\n",
      "5.50       142\n",
      "6.15       141\n",
      "6.38       141\n",
      "         ...  \n",
      "27.02        1\n",
      "26.19        1\n",
      "25.34        1\n",
      "27.13        1\n",
      "24.28        1\n",
      "Name: duration, Length: 2871, dtype: int64\n",
      "__________________\n"
     ]
    },
    {
     "data": {
      "text/html": [
       "<div>\n",
       "<style scoped>\n",
       "    .dataframe tbody tr th:only-of-type {\n",
       "        vertical-align: middle;\n",
       "    }\n",
       "\n",
       "    .dataframe tbody tr th {\n",
       "        vertical-align: top;\n",
       "    }\n",
       "\n",
       "    .dataframe thead th {\n",
       "        text-align: right;\n",
       "    }\n",
       "</style>\n",
       "<table border=\"1\" class=\"dataframe\">\n",
       "  <thead>\n",
       "    <tr style=\"text-align: right;\">\n",
       "      <th></th>\n",
       "      <th>id</th>\n",
       "      <th>call_date</th>\n",
       "      <th>duration</th>\n",
       "      <th>user_id</th>\n",
       "    </tr>\n",
       "  </thead>\n",
       "  <tbody>\n",
       "    <tr>\n",
       "      <th>0</th>\n",
       "      <td>1000_0</td>\n",
       "      <td>2018-07-25</td>\n",
       "      <td>0.00</td>\n",
       "      <td>1000</td>\n",
       "    </tr>\n",
       "    <tr>\n",
       "      <th>1</th>\n",
       "      <td>1000_1</td>\n",
       "      <td>2018-08-17</td>\n",
       "      <td>0.00</td>\n",
       "      <td>1000</td>\n",
       "    </tr>\n",
       "    <tr>\n",
       "      <th>2</th>\n",
       "      <td>1000_2</td>\n",
       "      <td>2018-06-11</td>\n",
       "      <td>2.85</td>\n",
       "      <td>1000</td>\n",
       "    </tr>\n",
       "    <tr>\n",
       "      <th>3</th>\n",
       "      <td>1000_3</td>\n",
       "      <td>2018-09-21</td>\n",
       "      <td>13.80</td>\n",
       "      <td>1000</td>\n",
       "    </tr>\n",
       "    <tr>\n",
       "      <th>4</th>\n",
       "      <td>1000_4</td>\n",
       "      <td>2018-12-15</td>\n",
       "      <td>5.18</td>\n",
       "      <td>1000</td>\n",
       "    </tr>\n",
       "    <tr>\n",
       "      <th>5</th>\n",
       "      <td>1000_5</td>\n",
       "      <td>2018-11-02</td>\n",
       "      <td>0.00</td>\n",
       "      <td>1000</td>\n",
       "    </tr>\n",
       "    <tr>\n",
       "      <th>6</th>\n",
       "      <td>1000_6</td>\n",
       "      <td>2018-10-18</td>\n",
       "      <td>0.00</td>\n",
       "      <td>1000</td>\n",
       "    </tr>\n",
       "    <tr>\n",
       "      <th>7</th>\n",
       "      <td>1000_7</td>\n",
       "      <td>2018-08-22</td>\n",
       "      <td>18.31</td>\n",
       "      <td>1000</td>\n",
       "    </tr>\n",
       "    <tr>\n",
       "      <th>8</th>\n",
       "      <td>1000_8</td>\n",
       "      <td>2018-09-15</td>\n",
       "      <td>18.44</td>\n",
       "      <td>1000</td>\n",
       "    </tr>\n",
       "    <tr>\n",
       "      <th>9</th>\n",
       "      <td>1000_9</td>\n",
       "      <td>2018-08-15</td>\n",
       "      <td>0.00</td>\n",
       "      <td>1000</td>\n",
       "    </tr>\n",
       "  </tbody>\n",
       "</table>\n",
       "</div>"
      ],
      "text/plain": [
       "       id   call_date  duration  user_id\n",
       "0  1000_0  2018-07-25      0.00     1000\n",
       "1  1000_1  2018-08-17      0.00     1000\n",
       "2  1000_2  2018-06-11      2.85     1000\n",
       "3  1000_3  2018-09-21     13.80     1000\n",
       "4  1000_4  2018-12-15      5.18     1000\n",
       "5  1000_5  2018-11-02      0.00     1000\n",
       "6  1000_6  2018-10-18      0.00     1000\n",
       "7  1000_7  2018-08-22     18.31     1000\n",
       "8  1000_8  2018-09-15     18.44     1000\n",
       "9  1000_9  2018-08-15      0.00     1000"
      ]
     },
     "execution_count": 3,
     "metadata": {},
     "output_type": "execute_result"
    }
   ],
   "source": [
    "#изучим calls\n",
    "print(calls.info())\n",
    "print('__________________')\n",
    "print(calls['duration'].describe())\n",
    "print('__________________')\n",
    "print(calls['duration'].value_counts())\n",
    "print('__________________')\n",
    "calls.head(10)"
   ]
  },
  {
   "cell_type": "markdown",
   "metadata": {},
   "source": [
    "Необходимо изменить тип данных в столбце call_date.\n",
    "Видно что есть звонки длительностью в 0 минут, необходимо исправить данную ошибку. Количество 'нулевых' звонков составляет почти 20% от общего количества значений."
   ]
  },
  {
   "cell_type": "code",
   "execution_count": 4,
   "metadata": {
    "scrolled": true
   },
   "outputs": [
    {
     "name": "stdout",
     "output_type": "stream",
     "text": [
      "<class 'pandas.core.frame.DataFrame'>\n",
      "RangeIndex: 149396 entries, 0 to 149395\n",
      "Data columns (total 5 columns):\n",
      " #   Column        Non-Null Count   Dtype  \n",
      "---  ------        --------------   -----  \n",
      " 0   Unnamed: 0    149396 non-null  int64  \n",
      " 1   id            149396 non-null  object \n",
      " 2   mb_used       149396 non-null  float64\n",
      " 3   session_date  149396 non-null  object \n",
      " 4   user_id       149396 non-null  int64  \n",
      "dtypes: float64(1), int64(2), object(2)\n",
      "memory usage: 5.7+ MB\n",
      "None\n",
      "__________________\n",
      "          Unnamed: 0        mb_used        user_id\n",
      "count  149396.000000  149396.000000  149396.000000\n",
      "mean    74697.500000     370.192426    1252.099842\n",
      "std     43127.054745     278.300951     144.050823\n",
      "min         0.000000       0.000000    1000.000000\n",
      "25%     37348.750000     138.187500    1130.000000\n",
      "50%     74697.500000     348.015000    1251.000000\n",
      "75%    112046.250000     559.552500    1380.000000\n",
      "max    149395.000000    1724.830000    1499.000000\n",
      "__________________\n",
      "0.00      19598\n",
      "197.56        9\n",
      "447.30        9\n",
      "335.91        9\n",
      "108.95        8\n",
      "          ...  \n",
      "72.49         1\n",
      "846.22        1\n",
      "429.17        1\n",
      "899.03        1\n",
      "483.87        1\n",
      "Name: mb_used, Length: 70003, dtype: int64\n",
      "__________________\n"
     ]
    },
    {
     "data": {
      "text/html": [
       "<div>\n",
       "<style scoped>\n",
       "    .dataframe tbody tr th:only-of-type {\n",
       "        vertical-align: middle;\n",
       "    }\n",
       "\n",
       "    .dataframe tbody tr th {\n",
       "        vertical-align: top;\n",
       "    }\n",
       "\n",
       "    .dataframe thead th {\n",
       "        text-align: right;\n",
       "    }\n",
       "</style>\n",
       "<table border=\"1\" class=\"dataframe\">\n",
       "  <thead>\n",
       "    <tr style=\"text-align: right;\">\n",
       "      <th></th>\n",
       "      <th>Unnamed: 0</th>\n",
       "      <th>id</th>\n",
       "      <th>mb_used</th>\n",
       "      <th>session_date</th>\n",
       "      <th>user_id</th>\n",
       "    </tr>\n",
       "  </thead>\n",
       "  <tbody>\n",
       "    <tr>\n",
       "      <th>0</th>\n",
       "      <td>0</td>\n",
       "      <td>1000_0</td>\n",
       "      <td>112.95</td>\n",
       "      <td>2018-11-25</td>\n",
       "      <td>1000</td>\n",
       "    </tr>\n",
       "    <tr>\n",
       "      <th>1</th>\n",
       "      <td>1</td>\n",
       "      <td>1000_1</td>\n",
       "      <td>1052.81</td>\n",
       "      <td>2018-09-07</td>\n",
       "      <td>1000</td>\n",
       "    </tr>\n",
       "    <tr>\n",
       "      <th>2</th>\n",
       "      <td>2</td>\n",
       "      <td>1000_2</td>\n",
       "      <td>1197.26</td>\n",
       "      <td>2018-06-25</td>\n",
       "      <td>1000</td>\n",
       "    </tr>\n",
       "    <tr>\n",
       "      <th>3</th>\n",
       "      <td>3</td>\n",
       "      <td>1000_3</td>\n",
       "      <td>550.27</td>\n",
       "      <td>2018-08-22</td>\n",
       "      <td>1000</td>\n",
       "    </tr>\n",
       "    <tr>\n",
       "      <th>4</th>\n",
       "      <td>4</td>\n",
       "      <td>1000_4</td>\n",
       "      <td>302.56</td>\n",
       "      <td>2018-09-24</td>\n",
       "      <td>1000</td>\n",
       "    </tr>\n",
       "    <tr>\n",
       "      <th>5</th>\n",
       "      <td>5</td>\n",
       "      <td>1000_5</td>\n",
       "      <td>399.97</td>\n",
       "      <td>2018-10-02</td>\n",
       "      <td>1000</td>\n",
       "    </tr>\n",
       "    <tr>\n",
       "      <th>6</th>\n",
       "      <td>6</td>\n",
       "      <td>1000_6</td>\n",
       "      <td>540.08</td>\n",
       "      <td>2018-09-07</td>\n",
       "      <td>1000</td>\n",
       "    </tr>\n",
       "    <tr>\n",
       "      <th>7</th>\n",
       "      <td>7</td>\n",
       "      <td>1000_7</td>\n",
       "      <td>415.70</td>\n",
       "      <td>2018-07-11</td>\n",
       "      <td>1000</td>\n",
       "    </tr>\n",
       "    <tr>\n",
       "      <th>8</th>\n",
       "      <td>8</td>\n",
       "      <td>1000_8</td>\n",
       "      <td>505.40</td>\n",
       "      <td>2018-10-08</td>\n",
       "      <td>1000</td>\n",
       "    </tr>\n",
       "    <tr>\n",
       "      <th>9</th>\n",
       "      <td>9</td>\n",
       "      <td>1000_9</td>\n",
       "      <td>345.54</td>\n",
       "      <td>2018-09-03</td>\n",
       "      <td>1000</td>\n",
       "    </tr>\n",
       "  </tbody>\n",
       "</table>\n",
       "</div>"
      ],
      "text/plain": [
       "   Unnamed: 0      id  mb_used session_date  user_id\n",
       "0           0  1000_0   112.95   2018-11-25     1000\n",
       "1           1  1000_1  1052.81   2018-09-07     1000\n",
       "2           2  1000_2  1197.26   2018-06-25     1000\n",
       "3           3  1000_3   550.27   2018-08-22     1000\n",
       "4           4  1000_4   302.56   2018-09-24     1000\n",
       "5           5  1000_5   399.97   2018-10-02     1000\n",
       "6           6  1000_6   540.08   2018-09-07     1000\n",
       "7           7  1000_7   415.70   2018-07-11     1000\n",
       "8           8  1000_8   505.40   2018-10-08     1000\n",
       "9           9  1000_9   345.54   2018-09-03     1000"
      ]
     },
     "execution_count": 4,
     "metadata": {},
     "output_type": "execute_result"
    }
   ],
   "source": [
    "#изучим internet\n",
    "print(internet.info())\n",
    "print('__________________')\n",
    "print(internet.describe())\n",
    "print('__________________')\n",
    "print(internet['mb_used'].value_counts())\n",
    "print('__________________')\n",
    "internet.head(10)"
   ]
  },
  {
   "cell_type": "markdown",
   "metadata": {},
   "source": [
    "В данном df анологичная ситуация с датой и нулевым количеством потраченных мегабайт трафика."
   ]
  },
  {
   "cell_type": "code",
   "execution_count": 5,
   "metadata": {
    "scrolled": true
   },
   "outputs": [
    {
     "name": "stdout",
     "output_type": "stream",
     "text": [
      "<class 'pandas.core.frame.DataFrame'>\n",
      "RangeIndex: 123036 entries, 0 to 123035\n",
      "Data columns (total 3 columns):\n",
      " #   Column        Non-Null Count   Dtype \n",
      "---  ------        --------------   ----- \n",
      " 0   id            123036 non-null  object\n",
      " 1   message_date  123036 non-null  object\n",
      " 2   user_id       123036 non-null  int64 \n",
      "dtypes: int64(1), object(2)\n",
      "memory usage: 2.8+ MB\n",
      "None\n",
      "__________________\n",
      "             user_id\n",
      "count  123036.000000\n",
      "mean     1256.989410\n",
      "std       143.523967\n",
      "min      1000.000000\n",
      "25%      1134.000000\n",
      "50%      1271.000000\n",
      "75%      1381.000000\n",
      "max      1499.000000\n",
      "__________________\n"
     ]
    },
    {
     "data": {
      "text/html": [
       "<div>\n",
       "<style scoped>\n",
       "    .dataframe tbody tr th:only-of-type {\n",
       "        vertical-align: middle;\n",
       "    }\n",
       "\n",
       "    .dataframe tbody tr th {\n",
       "        vertical-align: top;\n",
       "    }\n",
       "\n",
       "    .dataframe thead th {\n",
       "        text-align: right;\n",
       "    }\n",
       "</style>\n",
       "<table border=\"1\" class=\"dataframe\">\n",
       "  <thead>\n",
       "    <tr style=\"text-align: right;\">\n",
       "      <th></th>\n",
       "      <th>id</th>\n",
       "      <th>message_date</th>\n",
       "      <th>user_id</th>\n",
       "    </tr>\n",
       "  </thead>\n",
       "  <tbody>\n",
       "    <tr>\n",
       "      <th>0</th>\n",
       "      <td>1000_0</td>\n",
       "      <td>2018-06-27</td>\n",
       "      <td>1000</td>\n",
       "    </tr>\n",
       "    <tr>\n",
       "      <th>1</th>\n",
       "      <td>1000_1</td>\n",
       "      <td>2018-10-08</td>\n",
       "      <td>1000</td>\n",
       "    </tr>\n",
       "    <tr>\n",
       "      <th>2</th>\n",
       "      <td>1000_2</td>\n",
       "      <td>2018-08-04</td>\n",
       "      <td>1000</td>\n",
       "    </tr>\n",
       "    <tr>\n",
       "      <th>3</th>\n",
       "      <td>1000_3</td>\n",
       "      <td>2018-06-16</td>\n",
       "      <td>1000</td>\n",
       "    </tr>\n",
       "    <tr>\n",
       "      <th>4</th>\n",
       "      <td>1000_4</td>\n",
       "      <td>2018-12-05</td>\n",
       "      <td>1000</td>\n",
       "    </tr>\n",
       "    <tr>\n",
       "      <th>5</th>\n",
       "      <td>1000_5</td>\n",
       "      <td>2018-06-20</td>\n",
       "      <td>1000</td>\n",
       "    </tr>\n",
       "    <tr>\n",
       "      <th>6</th>\n",
       "      <td>1000_6</td>\n",
       "      <td>2018-11-19</td>\n",
       "      <td>1000</td>\n",
       "    </tr>\n",
       "    <tr>\n",
       "      <th>7</th>\n",
       "      <td>1000_7</td>\n",
       "      <td>2018-10-29</td>\n",
       "      <td>1000</td>\n",
       "    </tr>\n",
       "    <tr>\n",
       "      <th>8</th>\n",
       "      <td>1000_8</td>\n",
       "      <td>2018-06-25</td>\n",
       "      <td>1000</td>\n",
       "    </tr>\n",
       "    <tr>\n",
       "      <th>9</th>\n",
       "      <td>1000_9</td>\n",
       "      <td>2018-12-18</td>\n",
       "      <td>1000</td>\n",
       "    </tr>\n",
       "  </tbody>\n",
       "</table>\n",
       "</div>"
      ],
      "text/plain": [
       "       id message_date  user_id\n",
       "0  1000_0   2018-06-27     1000\n",
       "1  1000_1   2018-10-08     1000\n",
       "2  1000_2   2018-08-04     1000\n",
       "3  1000_3   2018-06-16     1000\n",
       "4  1000_4   2018-12-05     1000\n",
       "5  1000_5   2018-06-20     1000\n",
       "6  1000_6   2018-11-19     1000\n",
       "7  1000_7   2018-10-29     1000\n",
       "8  1000_8   2018-06-25     1000\n",
       "9  1000_9   2018-12-18     1000"
      ]
     },
     "execution_count": 5,
     "metadata": {},
     "output_type": "execute_result"
    }
   ],
   "source": [
    "#изучим messages\n",
    "print(messages.info())\n",
    "print('__________________')\n",
    "print(messages.describe())\n",
    "print('__________________')\n",
    "messages.head(10)"
   ]
  },
  {
   "cell_type": "markdown",
   "metadata": {},
   "source": [
    "В таблице messages столбец message_date так же необходимо привести к типу данных datetime"
   ]
  },
  {
   "cell_type": "code",
   "execution_count": 6,
   "metadata": {},
   "outputs": [
    {
     "name": "stdout",
     "output_type": "stream",
     "text": [
      "<class 'pandas.core.frame.DataFrame'>\n",
      "RangeIndex: 2 entries, 0 to 1\n",
      "Data columns (total 8 columns):\n",
      " #   Column                 Non-Null Count  Dtype \n",
      "---  ------                 --------------  ----- \n",
      " 0   messages_included      2 non-null      int64 \n",
      " 1   mb_per_month_included  2 non-null      int64 \n",
      " 2   minutes_included       2 non-null      int64 \n",
      " 3   rub_monthly_fee        2 non-null      int64 \n",
      " 4   rub_per_gb             2 non-null      int64 \n",
      " 5   rub_per_message        2 non-null      int64 \n",
      " 6   rub_per_minute         2 non-null      int64 \n",
      " 7   tariff_name            2 non-null      object\n",
      "dtypes: int64(7), object(1)\n",
      "memory usage: 256.0+ bytes\n",
      "None\n",
      "__________________\n"
     ]
    },
    {
     "data": {
      "text/html": [
       "<div>\n",
       "<style scoped>\n",
       "    .dataframe tbody tr th:only-of-type {\n",
       "        vertical-align: middle;\n",
       "    }\n",
       "\n",
       "    .dataframe tbody tr th {\n",
       "        vertical-align: top;\n",
       "    }\n",
       "\n",
       "    .dataframe thead th {\n",
       "        text-align: right;\n",
       "    }\n",
       "</style>\n",
       "<table border=\"1\" class=\"dataframe\">\n",
       "  <thead>\n",
       "    <tr style=\"text-align: right;\">\n",
       "      <th></th>\n",
       "      <th>messages_included</th>\n",
       "      <th>mb_per_month_included</th>\n",
       "      <th>minutes_included</th>\n",
       "      <th>rub_monthly_fee</th>\n",
       "      <th>rub_per_gb</th>\n",
       "      <th>rub_per_message</th>\n",
       "      <th>rub_per_minute</th>\n",
       "      <th>tariff_name</th>\n",
       "    </tr>\n",
       "  </thead>\n",
       "  <tbody>\n",
       "    <tr>\n",
       "      <th>0</th>\n",
       "      <td>50</td>\n",
       "      <td>15360</td>\n",
       "      <td>500</td>\n",
       "      <td>550</td>\n",
       "      <td>200</td>\n",
       "      <td>3</td>\n",
       "      <td>3</td>\n",
       "      <td>smart</td>\n",
       "    </tr>\n",
       "    <tr>\n",
       "      <th>1</th>\n",
       "      <td>1000</td>\n",
       "      <td>30720</td>\n",
       "      <td>3000</td>\n",
       "      <td>1950</td>\n",
       "      <td>150</td>\n",
       "      <td>1</td>\n",
       "      <td>1</td>\n",
       "      <td>ultra</td>\n",
       "    </tr>\n",
       "  </tbody>\n",
       "</table>\n",
       "</div>"
      ],
      "text/plain": [
       "   messages_included  mb_per_month_included  minutes_included  \\\n",
       "0                 50                  15360               500   \n",
       "1               1000                  30720              3000   \n",
       "\n",
       "   rub_monthly_fee  rub_per_gb  rub_per_message  rub_per_minute tariff_name  \n",
       "0              550         200                3               3       smart  \n",
       "1             1950         150                1               1       ultra  "
      ]
     },
     "execution_count": 6,
     "metadata": {},
     "output_type": "execute_result"
    }
   ],
   "source": [
    "#изучим tariffs\n",
    "print(tariffs.info())\n",
    "print('__________________')\n",
    "tariffs"
   ]
  },
  {
   "cell_type": "code",
   "execution_count": 7,
   "metadata": {
    "scrolled": true
   },
   "outputs": [
    {
     "name": "stdout",
     "output_type": "stream",
     "text": [
      "<class 'pandas.core.frame.DataFrame'>\n",
      "RangeIndex: 500 entries, 0 to 499\n",
      "Data columns (total 8 columns):\n",
      " #   Column      Non-Null Count  Dtype \n",
      "---  ------      --------------  ----- \n",
      " 0   user_id     500 non-null    int64 \n",
      " 1   age         500 non-null    int64 \n",
      " 2   churn_date  38 non-null     object\n",
      " 3   city        500 non-null    object\n",
      " 4   first_name  500 non-null    object\n",
      " 5   last_name   500 non-null    object\n",
      " 6   reg_date    500 non-null    object\n",
      " 7   tariff      500 non-null    object\n",
      "dtypes: int64(2), object(6)\n",
      "memory usage: 31.4+ KB\n",
      "None\n",
      "__________________\n",
      "           user_id        age\n",
      "count   500.000000  500.00000\n",
      "mean   1249.500000   46.58800\n",
      "std     144.481833   16.66763\n",
      "min    1000.000000   18.00000\n",
      "25%    1124.750000   32.00000\n",
      "50%    1249.500000   46.00000\n",
      "75%    1374.250000   62.00000\n",
      "max    1499.000000   75.00000\n",
      "__________________\n"
     ]
    },
    {
     "data": {
      "text/html": [
       "<div>\n",
       "<style scoped>\n",
       "    .dataframe tbody tr th:only-of-type {\n",
       "        vertical-align: middle;\n",
       "    }\n",
       "\n",
       "    .dataframe tbody tr th {\n",
       "        vertical-align: top;\n",
       "    }\n",
       "\n",
       "    .dataframe thead th {\n",
       "        text-align: right;\n",
       "    }\n",
       "</style>\n",
       "<table border=\"1\" class=\"dataframe\">\n",
       "  <thead>\n",
       "    <tr style=\"text-align: right;\">\n",
       "      <th></th>\n",
       "      <th>user_id</th>\n",
       "      <th>age</th>\n",
       "      <th>churn_date</th>\n",
       "      <th>city</th>\n",
       "      <th>first_name</th>\n",
       "      <th>last_name</th>\n",
       "      <th>reg_date</th>\n",
       "      <th>tariff</th>\n",
       "    </tr>\n",
       "  </thead>\n",
       "  <tbody>\n",
       "    <tr>\n",
       "      <th>0</th>\n",
       "      <td>1000</td>\n",
       "      <td>52</td>\n",
       "      <td>NaN</td>\n",
       "      <td>Краснодар</td>\n",
       "      <td>Рафаил</td>\n",
       "      <td>Верещагин</td>\n",
       "      <td>2018-05-25</td>\n",
       "      <td>ultra</td>\n",
       "    </tr>\n",
       "    <tr>\n",
       "      <th>1</th>\n",
       "      <td>1001</td>\n",
       "      <td>41</td>\n",
       "      <td>NaN</td>\n",
       "      <td>Москва</td>\n",
       "      <td>Иван</td>\n",
       "      <td>Ежов</td>\n",
       "      <td>2018-11-01</td>\n",
       "      <td>smart</td>\n",
       "    </tr>\n",
       "    <tr>\n",
       "      <th>2</th>\n",
       "      <td>1002</td>\n",
       "      <td>59</td>\n",
       "      <td>NaN</td>\n",
       "      <td>Стерлитамак</td>\n",
       "      <td>Евгений</td>\n",
       "      <td>Абрамович</td>\n",
       "      <td>2018-06-17</td>\n",
       "      <td>smart</td>\n",
       "    </tr>\n",
       "    <tr>\n",
       "      <th>3</th>\n",
       "      <td>1003</td>\n",
       "      <td>23</td>\n",
       "      <td>NaN</td>\n",
       "      <td>Москва</td>\n",
       "      <td>Белла</td>\n",
       "      <td>Белякова</td>\n",
       "      <td>2018-08-17</td>\n",
       "      <td>ultra</td>\n",
       "    </tr>\n",
       "    <tr>\n",
       "      <th>4</th>\n",
       "      <td>1004</td>\n",
       "      <td>68</td>\n",
       "      <td>NaN</td>\n",
       "      <td>Новокузнецк</td>\n",
       "      <td>Татьяна</td>\n",
       "      <td>Авдеенко</td>\n",
       "      <td>2018-05-14</td>\n",
       "      <td>ultra</td>\n",
       "    </tr>\n",
       "    <tr>\n",
       "      <th>5</th>\n",
       "      <td>1005</td>\n",
       "      <td>67</td>\n",
       "      <td>NaN</td>\n",
       "      <td>Набережные Челны</td>\n",
       "      <td>Афанасий</td>\n",
       "      <td>Горлов</td>\n",
       "      <td>2018-01-25</td>\n",
       "      <td>smart</td>\n",
       "    </tr>\n",
       "    <tr>\n",
       "      <th>6</th>\n",
       "      <td>1006</td>\n",
       "      <td>21</td>\n",
       "      <td>NaN</td>\n",
       "      <td>Ульяновск</td>\n",
       "      <td>Леонид</td>\n",
       "      <td>Ермолаев</td>\n",
       "      <td>2018-02-26</td>\n",
       "      <td>smart</td>\n",
       "    </tr>\n",
       "    <tr>\n",
       "      <th>7</th>\n",
       "      <td>1007</td>\n",
       "      <td>65</td>\n",
       "      <td>NaN</td>\n",
       "      <td>Москва</td>\n",
       "      <td>Юна</td>\n",
       "      <td>Березина</td>\n",
       "      <td>2018-04-19</td>\n",
       "      <td>smart</td>\n",
       "    </tr>\n",
       "    <tr>\n",
       "      <th>8</th>\n",
       "      <td>1008</td>\n",
       "      <td>63</td>\n",
       "      <td>NaN</td>\n",
       "      <td>Челябинск</td>\n",
       "      <td>Рустэм</td>\n",
       "      <td>Пономарёв</td>\n",
       "      <td>2018-12-19</td>\n",
       "      <td>smart</td>\n",
       "    </tr>\n",
       "    <tr>\n",
       "      <th>9</th>\n",
       "      <td>1009</td>\n",
       "      <td>24</td>\n",
       "      <td>NaN</td>\n",
       "      <td>Пермь</td>\n",
       "      <td>Василиса</td>\n",
       "      <td>Блинова</td>\n",
       "      <td>2018-03-22</td>\n",
       "      <td>smart</td>\n",
       "    </tr>\n",
       "  </tbody>\n",
       "</table>\n",
       "</div>"
      ],
      "text/plain": [
       "   user_id  age churn_date              city first_name  last_name  \\\n",
       "0     1000   52        NaN         Краснодар     Рафаил  Верещагин   \n",
       "1     1001   41        NaN            Москва       Иван       Ежов   \n",
       "2     1002   59        NaN       Стерлитамак    Евгений  Абрамович   \n",
       "3     1003   23        NaN            Москва      Белла   Белякова   \n",
       "4     1004   68        NaN       Новокузнецк    Татьяна   Авдеенко   \n",
       "5     1005   67        NaN  Набережные Челны   Афанасий     Горлов   \n",
       "6     1006   21        NaN         Ульяновск     Леонид   Ермолаев   \n",
       "7     1007   65        NaN            Москва        Юна   Березина   \n",
       "8     1008   63        NaN         Челябинск     Рустэм  Пономарёв   \n",
       "9     1009   24        NaN             Пермь   Василиса    Блинова   \n",
       "\n",
       "     reg_date tariff  \n",
       "0  2018-05-25  ultra  \n",
       "1  2018-11-01  smart  \n",
       "2  2018-06-17  smart  \n",
       "3  2018-08-17  ultra  \n",
       "4  2018-05-14  ultra  \n",
       "5  2018-01-25  smart  \n",
       "6  2018-02-26  smart  \n",
       "7  2018-04-19  smart  \n",
       "8  2018-12-19  smart  \n",
       "9  2018-03-22  smart  "
      ]
     },
     "execution_count": 7,
     "metadata": {},
     "output_type": "execute_result"
    }
   ],
   "source": [
    "#изучим users\n",
    "print(users.info())\n",
    "print('__________________')\n",
    "print(users.describe())\n",
    "print('__________________')\n",
    "users.head(10)\n"
   ]
  },
  {
   "cell_type": "markdown",
   "metadata": {},
   "source": [
    "Так же столбец churn_date необходимо привести к типу datetime"
   ]
  },
  {
   "cell_type": "markdown",
   "metadata": {},
   "source": [
    "Необходимо привести столбцы с датами к формату datetime.\n",
    "\n",
    "Нулевые значения и значения менее 1 минуты и менее 1 мб необходимо заменить на 1 минуты и 1 мб соответственно. Т.к. оператор тарифицирует это как полную минуты и потраченный мб. Так же данные необходимо \"округлить\" в большую сторону для соответствия рассчётов тарификации оператора.\n",
    "\n",
    "Нулевые значения в минутах могли появится из за того, что время в минутах рассчитывается в столбце с точностью до двух знаков после запятой, поэтому разговоры продлившеся примерно менее половины секунды были округлены до значения 0.00\n",
    "Такая же логика применима к потраченным мб трафика."
   ]
  },
  {
   "cell_type": "markdown",
   "metadata": {},
   "source": [
    "## Подготовка данных"
   ]
  },
  {
   "cell_type": "code",
   "execution_count": 8,
   "metadata": {},
   "outputs": [],
   "source": [
    "#изменим тип данных object на datetime где это необходимо с помощью функции\n",
    "def todatetime(column):\n",
    "    column = pd.to_datetime(column, format= '%Y-%m-%d')\n",
    "    \n",
    "todatetime(calls['call_date'])\n",
    "todatetime(internet['session_date'])\n",
    "todatetime(messages['message_date'])\n",
    "todatetime(users['churn_date'])"
   ]
  },
  {
   "cell_type": "code",
   "execution_count": 9,
   "metadata": {},
   "outputs": [],
   "source": [
    "#добавим столбец тариф в df calls, internet, messages\n",
    "\n",
    "calls = calls.merge(users[['user_id','tariff']], how = 'left', on='user_id')\n",
    "internet = internet.merge(users[['user_id','tariff']], how = 'left', on='user_id')\n",
    "messages = messages.merge(users[['user_id','tariff']], how = 'left', on='user_id')\n"
   ]
  },
  {
   "cell_type": "code",
   "execution_count": 10,
   "metadata": {},
   "outputs": [
    {
     "data": {
      "text/html": [
       "<div>\n",
       "<style scoped>\n",
       "    .dataframe tbody tr th:only-of-type {\n",
       "        vertical-align: middle;\n",
       "    }\n",
       "\n",
       "    .dataframe tbody tr th {\n",
       "        vertical-align: top;\n",
       "    }\n",
       "\n",
       "    .dataframe thead th {\n",
       "        text-align: right;\n",
       "    }\n",
       "</style>\n",
       "<table border=\"1\" class=\"dataframe\">\n",
       "  <thead>\n",
       "    <tr style=\"text-align: right;\">\n",
       "      <th></th>\n",
       "      <th>id</th>\n",
       "      <th>call_date</th>\n",
       "      <th>duration</th>\n",
       "      <th>user_id</th>\n",
       "      <th>tariff</th>\n",
       "    </tr>\n",
       "  </thead>\n",
       "  <tbody>\n",
       "  </tbody>\n",
       "</table>\n",
       "</div>"
      ],
      "text/plain": [
       "Empty DataFrame\n",
       "Columns: [id, call_date, duration, user_id, tariff]\n",
       "Index: []"
      ]
     },
     "execution_count": 10,
     "metadata": {},
     "output_type": "execute_result"
    }
   ],
   "source": [
    "#Проверим предположение, сделаем срез данных с временем разговора менее 0.5 секунды (примерно 0.009 минуты) и не равные 0.\n",
    "calls.query('duration < 0.009 & duration != 0')"
   ]
  },
  {
   "cell_type": "markdown",
   "metadata": {},
   "source": [
    "Таких значений нет, поэтому:\n",
    "- заменим нули и разгоовры менее минуты на 1 минуту, \n",
    "- все остальные разговоры округлим в большую сторону для соответствия тарификации оператора\n",
    "- для этого прибавим ко всем значениям 1 минуту и переведём в int который округялет в меньшую сторону"
   ]
  },
  {
   "cell_type": "code",
   "execution_count": 11,
   "metadata": {},
   "outputs": [],
   "source": [
    "calls['duration'] = (calls['duration']//1 + 1)\n",
    "\n",
    "#проделаем тоже самое с трафиком\n",
    "internet['mb_used'] = (internet['mb_used']//1 + 1)"
   ]
  },
  {
   "cell_type": "code",
   "execution_count": 12,
   "metadata": {},
   "outputs": [],
   "source": [
    "#Добавим месяц звонка/смс/интернета\n",
    "calls['month'] = pd.DatetimeIndex(calls['call_date']).month\n",
    "messages['month'] = pd.DatetimeIndex(messages['message_date']).month\n",
    "internet['month'] = pd.DatetimeIndex(internet['session_date']).month"
   ]
  },
  {
   "cell_type": "code",
   "execution_count": 13,
   "metadata": {},
   "outputs": [],
   "source": [
    "#объявим переменные по пакетам тарифов\n",
    "ultra_messages_incl = 1000\n",
    "ultra_minutes_incl = 3000\n",
    "ultra_internet_incl = 30720\n",
    "\n",
    "smart_messages_incl = 50\n",
    "smart_minutes_incl = 500\n",
    "smart_internet_incl = 15360\n",
    "\n",
    "smart_fee = 550\n",
    "ultra_fee = 1950\n",
    "\n",
    "rf_gb_ultra = 150\n",
    "rf_gb_smart = 200\n",
    "\n",
    "rf_message_ultra = 1\n",
    "rf_message_smart = 3\n",
    "\n",
    "rf_minute_ultra = 1\n",
    "rf_minute_smart = 3"
   ]
  },
  {
   "cell_type": "markdown",
   "metadata": {},
   "source": [
    "## Произведение рассчётов"
   ]
  },
  {
   "cell_type": "markdown",
   "metadata": {},
   "source": [
    "#### Количество сделанных звонков и израсходованных минут разговора по месяцам."
   ]
  },
  {
   "cell_type": "code",
   "execution_count": 14,
   "metadata": {},
   "outputs": [
    {
     "data": {
      "text/html": [
       "<div>\n",
       "<style scoped>\n",
       "    .dataframe tbody tr th:only-of-type {\n",
       "        vertical-align: middle;\n",
       "    }\n",
       "\n",
       "    .dataframe tbody tr th {\n",
       "        vertical-align: top;\n",
       "    }\n",
       "\n",
       "    .dataframe thead th {\n",
       "        text-align: right;\n",
       "    }\n",
       "</style>\n",
       "<table border=\"1\" class=\"dataframe\">\n",
       "  <thead>\n",
       "    <tr style=\"text-align: right;\">\n",
       "      <th></th>\n",
       "      <th>user_id</th>\n",
       "      <th>tariff</th>\n",
       "      <th>month</th>\n",
       "      <th>duration</th>\n",
       "    </tr>\n",
       "  </thead>\n",
       "  <tbody>\n",
       "    <tr>\n",
       "      <th>0</th>\n",
       "      <td>1000</td>\n",
       "      <td>ultra</td>\n",
       "      <td>5</td>\n",
       "      <td>164.0</td>\n",
       "    </tr>\n",
       "    <tr>\n",
       "      <th>1</th>\n",
       "      <td>1000</td>\n",
       "      <td>ultra</td>\n",
       "      <td>6</td>\n",
       "      <td>187.0</td>\n",
       "    </tr>\n",
       "    <tr>\n",
       "      <th>2</th>\n",
       "      <td>1000</td>\n",
       "      <td>ultra</td>\n",
       "      <td>7</td>\n",
       "      <td>346.0</td>\n",
       "    </tr>\n",
       "    <tr>\n",
       "      <th>3</th>\n",
       "      <td>1000</td>\n",
       "      <td>ultra</td>\n",
       "      <td>8</td>\n",
       "      <td>419.0</td>\n",
       "    </tr>\n",
       "    <tr>\n",
       "      <th>4</th>\n",
       "      <td>1000</td>\n",
       "      <td>ultra</td>\n",
       "      <td>9</td>\n",
       "      <td>479.0</td>\n",
       "    </tr>\n",
       "  </tbody>\n",
       "</table>\n",
       "</div>"
      ],
      "text/plain": [
       "   user_id tariff  month  duration\n",
       "0     1000  ultra      5     164.0\n",
       "1     1000  ultra      6     187.0\n",
       "2     1000  ultra      7     346.0\n",
       "3     1000  ultra      8     419.0\n",
       "4     1000  ultra      9     479.0"
      ]
     },
     "execution_count": 14,
     "metadata": {},
     "output_type": "execute_result"
    }
   ],
   "source": [
    "calls_pivot = calls.pivot_table(index = ('user_id','tariff','month'),\n",
    "                                values = 'duration',\n",
    "                                aggfunc = ('sum')).fillna(0).reset_index()\n",
    "\n",
    "calls_pivot.head()"
   ]
  },
  {
   "cell_type": "markdown",
   "metadata": {},
   "source": [
    "#### Количество отправленных сообщений по месяцам."
   ]
  },
  {
   "cell_type": "code",
   "execution_count": 15,
   "metadata": {},
   "outputs": [
    {
     "data": {
      "text/html": [
       "<div>\n",
       "<style scoped>\n",
       "    .dataframe tbody tr th:only-of-type {\n",
       "        vertical-align: middle;\n",
       "    }\n",
       "\n",
       "    .dataframe tbody tr th {\n",
       "        vertical-align: top;\n",
       "    }\n",
       "\n",
       "    .dataframe thead th {\n",
       "        text-align: right;\n",
       "    }\n",
       "</style>\n",
       "<table border=\"1\" class=\"dataframe\">\n",
       "  <thead>\n",
       "    <tr style=\"text-align: right;\">\n",
       "      <th></th>\n",
       "      <th>user_id</th>\n",
       "      <th>tariff</th>\n",
       "      <th>month</th>\n",
       "      <th>id</th>\n",
       "    </tr>\n",
       "  </thead>\n",
       "  <tbody>\n",
       "    <tr>\n",
       "      <th>0</th>\n",
       "      <td>1000</td>\n",
       "      <td>ultra</td>\n",
       "      <td>5</td>\n",
       "      <td>22</td>\n",
       "    </tr>\n",
       "    <tr>\n",
       "      <th>1</th>\n",
       "      <td>1000</td>\n",
       "      <td>ultra</td>\n",
       "      <td>6</td>\n",
       "      <td>60</td>\n",
       "    </tr>\n",
       "    <tr>\n",
       "      <th>2</th>\n",
       "      <td>1000</td>\n",
       "      <td>ultra</td>\n",
       "      <td>7</td>\n",
       "      <td>75</td>\n",
       "    </tr>\n",
       "    <tr>\n",
       "      <th>3</th>\n",
       "      <td>1000</td>\n",
       "      <td>ultra</td>\n",
       "      <td>8</td>\n",
       "      <td>81</td>\n",
       "    </tr>\n",
       "    <tr>\n",
       "      <th>4</th>\n",
       "      <td>1000</td>\n",
       "      <td>ultra</td>\n",
       "      <td>9</td>\n",
       "      <td>57</td>\n",
       "    </tr>\n",
       "  </tbody>\n",
       "</table>\n",
       "</div>"
      ],
      "text/plain": [
       "   user_id tariff  month  id\n",
       "0     1000  ultra      5  22\n",
       "1     1000  ultra      6  60\n",
       "2     1000  ultra      7  75\n",
       "3     1000  ultra      8  81\n",
       "4     1000  ultra      9  57"
      ]
     },
     "execution_count": 15,
     "metadata": {},
     "output_type": "execute_result"
    }
   ],
   "source": [
    "messages_pivot = messages.pivot_table(index = ('user_id','tariff','month'),\n",
    "                                values = 'id',\n",
    "                                aggfunc = 'count').fillna(0).reset_index()\n",
    "\n",
    "messages_pivot.head()"
   ]
  },
  {
   "cell_type": "markdown",
   "metadata": {},
   "source": [
    "#### Объем израсходованного интернет-трафика по месяцам."
   ]
  },
  {
   "cell_type": "code",
   "execution_count": 16,
   "metadata": {},
   "outputs": [
    {
     "data": {
      "text/html": [
       "<div>\n",
       "<style scoped>\n",
       "    .dataframe tbody tr th:only-of-type {\n",
       "        vertical-align: middle;\n",
       "    }\n",
       "\n",
       "    .dataframe tbody tr th {\n",
       "        vertical-align: top;\n",
       "    }\n",
       "\n",
       "    .dataframe thead th {\n",
       "        text-align: right;\n",
       "    }\n",
       "</style>\n",
       "<table border=\"1\" class=\"dataframe\">\n",
       "  <thead>\n",
       "    <tr style=\"text-align: right;\">\n",
       "      <th></th>\n",
       "      <th>user_id</th>\n",
       "      <th>tariff</th>\n",
       "      <th>month</th>\n",
       "      <th>mb_used</th>\n",
       "    </tr>\n",
       "  </thead>\n",
       "  <tbody>\n",
       "    <tr>\n",
       "      <th>0</th>\n",
       "      <td>1000</td>\n",
       "      <td>ultra</td>\n",
       "      <td>5</td>\n",
       "      <td>2257.0</td>\n",
       "    </tr>\n",
       "    <tr>\n",
       "      <th>1</th>\n",
       "      <td>1000</td>\n",
       "      <td>ultra</td>\n",
       "      <td>6</td>\n",
       "      <td>23262.0</td>\n",
       "    </tr>\n",
       "    <tr>\n",
       "      <th>2</th>\n",
       "      <td>1000</td>\n",
       "      <td>ultra</td>\n",
       "      <td>7</td>\n",
       "      <td>14017.0</td>\n",
       "    </tr>\n",
       "    <tr>\n",
       "      <th>3</th>\n",
       "      <td>1000</td>\n",
       "      <td>ultra</td>\n",
       "      <td>8</td>\n",
       "      <td>14072.0</td>\n",
       "    </tr>\n",
       "    <tr>\n",
       "      <th>4</th>\n",
       "      <td>1000</td>\n",
       "      <td>ultra</td>\n",
       "      <td>9</td>\n",
       "      <td>14583.0</td>\n",
       "    </tr>\n",
       "  </tbody>\n",
       "</table>\n",
       "</div>"
      ],
      "text/plain": [
       "   user_id tariff  month  mb_used\n",
       "0     1000  ultra      5   2257.0\n",
       "1     1000  ultra      6  23262.0\n",
       "2     1000  ultra      7  14017.0\n",
       "3     1000  ultra      8  14072.0\n",
       "4     1000  ultra      9  14583.0"
      ]
     },
     "execution_count": 16,
     "metadata": {},
     "output_type": "execute_result"
    }
   ],
   "source": [
    "internet_pivot = internet.pivot_table(index = ('user_id','tariff', 'month'),\n",
    "                                values = 'mb_used',\n",
    "                                aggfunc = 'sum').fillna(0).reset_index()\n",
    "\n",
    "internet_pivot.head()"
   ]
  },
  {
   "cell_type": "markdown",
   "metadata": {},
   "source": [
    "##### Помесячную выручку с каждого пользователя (вычтите бесплатный лимит из суммарного количества звонков, сообщений и интернет-трафика; остаток умножьте на значение из тарифного плана; прибавьте абонентскую плату, соответствующую тарифному плану)."
   ]
  },
  {
   "cell_type": "code",
   "execution_count": 17,
   "metadata": {},
   "outputs": [
    {
     "data": {
      "text/html": [
       "<div>\n",
       "<style scoped>\n",
       "    .dataframe tbody tr th:only-of-type {\n",
       "        vertical-align: middle;\n",
       "    }\n",
       "\n",
       "    .dataframe tbody tr th {\n",
       "        vertical-align: top;\n",
       "    }\n",
       "\n",
       "    .dataframe thead th {\n",
       "        text-align: right;\n",
       "    }\n",
       "</style>\n",
       "<table border=\"1\" class=\"dataframe\">\n",
       "  <thead>\n",
       "    <tr style=\"text-align: right;\">\n",
       "      <th></th>\n",
       "      <th>user_id</th>\n",
       "      <th>tariff</th>\n",
       "      <th>month</th>\n",
       "      <th>mb_used</th>\n",
       "      <th>duration</th>\n",
       "      <th>messages_send</th>\n",
       "      <th>city</th>\n",
       "    </tr>\n",
       "  </thead>\n",
       "  <tbody>\n",
       "    <tr>\n",
       "      <th>0</th>\n",
       "      <td>1000</td>\n",
       "      <td>ultra</td>\n",
       "      <td>5</td>\n",
       "      <td>2257.0</td>\n",
       "      <td>164.0</td>\n",
       "      <td>22.0</td>\n",
       "      <td>Краснодар</td>\n",
       "    </tr>\n",
       "    <tr>\n",
       "      <th>1</th>\n",
       "      <td>1000</td>\n",
       "      <td>ultra</td>\n",
       "      <td>6</td>\n",
       "      <td>23262.0</td>\n",
       "      <td>187.0</td>\n",
       "      <td>60.0</td>\n",
       "      <td>Краснодар</td>\n",
       "    </tr>\n",
       "    <tr>\n",
       "      <th>2</th>\n",
       "      <td>1000</td>\n",
       "      <td>ultra</td>\n",
       "      <td>7</td>\n",
       "      <td>14017.0</td>\n",
       "      <td>346.0</td>\n",
       "      <td>75.0</td>\n",
       "      <td>Краснодар</td>\n",
       "    </tr>\n",
       "    <tr>\n",
       "      <th>3</th>\n",
       "      <td>1000</td>\n",
       "      <td>ultra</td>\n",
       "      <td>8</td>\n",
       "      <td>14072.0</td>\n",
       "      <td>419.0</td>\n",
       "      <td>81.0</td>\n",
       "      <td>Краснодар</td>\n",
       "    </tr>\n",
       "    <tr>\n",
       "      <th>4</th>\n",
       "      <td>1000</td>\n",
       "      <td>ultra</td>\n",
       "      <td>9</td>\n",
       "      <td>14583.0</td>\n",
       "      <td>479.0</td>\n",
       "      <td>57.0</td>\n",
       "      <td>Краснодар</td>\n",
       "    </tr>\n",
       "    <tr>\n",
       "      <th>...</th>\n",
       "      <td>...</td>\n",
       "      <td>...</td>\n",
       "      <td>...</td>\n",
       "      <td>...</td>\n",
       "      <td>...</td>\n",
       "      <td>...</td>\n",
       "      <td>...</td>\n",
       "    </tr>\n",
       "    <tr>\n",
       "      <th>3198</th>\n",
       "      <td>1498</td>\n",
       "      <td>smart</td>\n",
       "      <td>10</td>\n",
       "      <td>20614.0</td>\n",
       "      <td>259.0</td>\n",
       "      <td>42.0</td>\n",
       "      <td>Владикавказ</td>\n",
       "    </tr>\n",
       "    <tr>\n",
       "      <th>3199</th>\n",
       "      <td>1499</td>\n",
       "      <td>smart</td>\n",
       "      <td>9</td>\n",
       "      <td>1849.0</td>\n",
       "      <td>71.0</td>\n",
       "      <td>11.0</td>\n",
       "      <td>Пермь</td>\n",
       "    </tr>\n",
       "    <tr>\n",
       "      <th>3200</th>\n",
       "      <td>1499</td>\n",
       "      <td>smart</td>\n",
       "      <td>10</td>\n",
       "      <td>17824.0</td>\n",
       "      <td>474.0</td>\n",
       "      <td>48.0</td>\n",
       "      <td>Пермь</td>\n",
       "    </tr>\n",
       "    <tr>\n",
       "      <th>3201</th>\n",
       "      <td>1499</td>\n",
       "      <td>smart</td>\n",
       "      <td>11</td>\n",
       "      <td>17994.0</td>\n",
       "      <td>624.0</td>\n",
       "      <td>59.0</td>\n",
       "      <td>Пермь</td>\n",
       "    </tr>\n",
       "    <tr>\n",
       "      <th>3202</th>\n",
       "      <td>1499</td>\n",
       "      <td>smart</td>\n",
       "      <td>12</td>\n",
       "      <td>13082.0</td>\n",
       "      <td>505.0</td>\n",
       "      <td>66.0</td>\n",
       "      <td>Пермь</td>\n",
       "    </tr>\n",
       "  </tbody>\n",
       "</table>\n",
       "<p>3203 rows × 7 columns</p>\n",
       "</div>"
      ],
      "text/plain": [
       "      user_id tariff  month  mb_used  duration  messages_send         city\n",
       "0        1000  ultra      5   2257.0     164.0           22.0    Краснодар\n",
       "1        1000  ultra      6  23262.0     187.0           60.0    Краснодар\n",
       "2        1000  ultra      7  14017.0     346.0           75.0    Краснодар\n",
       "3        1000  ultra      8  14072.0     419.0           81.0    Краснодар\n",
       "4        1000  ultra      9  14583.0     479.0           57.0    Краснодар\n",
       "...       ...    ...    ...      ...       ...            ...          ...\n",
       "3198     1498  smart     10  20614.0     259.0           42.0  Владикавказ\n",
       "3199     1499  smart      9   1849.0      71.0           11.0        Пермь\n",
       "3200     1499  smart     10  17824.0     474.0           48.0        Пермь\n",
       "3201     1499  smart     11  17994.0     624.0           59.0        Пермь\n",
       "3202     1499  smart     12  13082.0     505.0           66.0        Пермь\n",
       "\n",
       "[3203 rows x 7 columns]"
      ]
     },
     "execution_count": 17,
     "metadata": {},
     "output_type": "execute_result"
    }
   ],
   "source": [
    "#объединим всё траты вместе и добавим город \n",
    "all_pivot = internet_pivot.merge(calls_pivot[['user_id','duration','month']], how = 'left', on=('user_id','month')).merge(\n",
    "    messages_pivot[['user_id','id','month']], how = 'left', on=('user_id','month')).merge(\n",
    "    users[['city','user_id']], how= 'left', on=('user_id'))\n",
    "all_pivot.rename(columns=lambda x: x.replace('id', 'messages_send'), inplace=True)  \n",
    "all_pivot.rename(columns=lambda x: x.replace('user_messages_send', 'user_id'), inplace=True)\n",
    "    \n",
    "all_pivot"
   ]
  },
  {
   "cell_type": "code",
   "execution_count": 18,
   "metadata": {},
   "outputs": [
    {
     "data": {
      "text/html": [
       "<div>\n",
       "<style scoped>\n",
       "    .dataframe tbody tr th:only-of-type {\n",
       "        vertical-align: middle;\n",
       "    }\n",
       "\n",
       "    .dataframe tbody tr th {\n",
       "        vertical-align: top;\n",
       "    }\n",
       "\n",
       "    .dataframe thead th {\n",
       "        text-align: right;\n",
       "    }\n",
       "</style>\n",
       "<table border=\"1\" class=\"dataframe\">\n",
       "  <thead>\n",
       "    <tr style=\"text-align: right;\">\n",
       "      <th></th>\n",
       "      <th>user_id</th>\n",
       "      <th>tariff</th>\n",
       "      <th>month</th>\n",
       "      <th>mb_used</th>\n",
       "      <th>duration</th>\n",
       "      <th>messages_send</th>\n",
       "      <th>city</th>\n",
       "      <th>internet_profit</th>\n",
       "      <th>messages_profit</th>\n",
       "      <th>calls_profit</th>\n",
       "      <th>total_profit</th>\n",
       "    </tr>\n",
       "  </thead>\n",
       "  <tbody>\n",
       "    <tr>\n",
       "      <th>0</th>\n",
       "      <td>1000</td>\n",
       "      <td>ultra</td>\n",
       "      <td>5</td>\n",
       "      <td>2257.0</td>\n",
       "      <td>164.0</td>\n",
       "      <td>22.0</td>\n",
       "      <td>Краснодар</td>\n",
       "      <td>0.0</td>\n",
       "      <td>0</td>\n",
       "      <td>0</td>\n",
       "      <td>1950.0</td>\n",
       "    </tr>\n",
       "    <tr>\n",
       "      <th>1</th>\n",
       "      <td>1000</td>\n",
       "      <td>ultra</td>\n",
       "      <td>6</td>\n",
       "      <td>23262.0</td>\n",
       "      <td>187.0</td>\n",
       "      <td>60.0</td>\n",
       "      <td>Краснодар</td>\n",
       "      <td>0.0</td>\n",
       "      <td>0</td>\n",
       "      <td>0</td>\n",
       "      <td>1950.0</td>\n",
       "    </tr>\n",
       "    <tr>\n",
       "      <th>2</th>\n",
       "      <td>1000</td>\n",
       "      <td>ultra</td>\n",
       "      <td>7</td>\n",
       "      <td>14017.0</td>\n",
       "      <td>346.0</td>\n",
       "      <td>75.0</td>\n",
       "      <td>Краснодар</td>\n",
       "      <td>0.0</td>\n",
       "      <td>0</td>\n",
       "      <td>0</td>\n",
       "      <td>1950.0</td>\n",
       "    </tr>\n",
       "    <tr>\n",
       "      <th>3</th>\n",
       "      <td>1000</td>\n",
       "      <td>ultra</td>\n",
       "      <td>8</td>\n",
       "      <td>14072.0</td>\n",
       "      <td>419.0</td>\n",
       "      <td>81.0</td>\n",
       "      <td>Краснодар</td>\n",
       "      <td>0.0</td>\n",
       "      <td>0</td>\n",
       "      <td>0</td>\n",
       "      <td>1950.0</td>\n",
       "    </tr>\n",
       "    <tr>\n",
       "      <th>4</th>\n",
       "      <td>1000</td>\n",
       "      <td>ultra</td>\n",
       "      <td>9</td>\n",
       "      <td>14583.0</td>\n",
       "      <td>479.0</td>\n",
       "      <td>57.0</td>\n",
       "      <td>Краснодар</td>\n",
       "      <td>0.0</td>\n",
       "      <td>0</td>\n",
       "      <td>0</td>\n",
       "      <td>1950.0</td>\n",
       "    </tr>\n",
       "    <tr>\n",
       "      <th>...</th>\n",
       "      <td>...</td>\n",
       "      <td>...</td>\n",
       "      <td>...</td>\n",
       "      <td>...</td>\n",
       "      <td>...</td>\n",
       "      <td>...</td>\n",
       "      <td>...</td>\n",
       "      <td>...</td>\n",
       "      <td>...</td>\n",
       "      <td>...</td>\n",
       "      <td>...</td>\n",
       "    </tr>\n",
       "    <tr>\n",
       "      <th>3175</th>\n",
       "      <td>1495</td>\n",
       "      <td>ultra</td>\n",
       "      <td>8</td>\n",
       "      <td>2616.0</td>\n",
       "      <td>96.0</td>\n",
       "      <td>13.0</td>\n",
       "      <td>Иркутск</td>\n",
       "      <td>0.0</td>\n",
       "      <td>0</td>\n",
       "      <td>0</td>\n",
       "      <td>1950.0</td>\n",
       "    </tr>\n",
       "    <tr>\n",
       "      <th>3176</th>\n",
       "      <td>1495</td>\n",
       "      <td>ultra</td>\n",
       "      <td>9</td>\n",
       "      <td>33109.0</td>\n",
       "      <td>833.0</td>\n",
       "      <td>82.0</td>\n",
       "      <td>Иркутск</td>\n",
       "      <td>450.0</td>\n",
       "      <td>0</td>\n",
       "      <td>0</td>\n",
       "      <td>2400.0</td>\n",
       "    </tr>\n",
       "    <tr>\n",
       "      <th>3177</th>\n",
       "      <td>1495</td>\n",
       "      <td>ultra</td>\n",
       "      <td>10</td>\n",
       "      <td>29399.0</td>\n",
       "      <td>1057.0</td>\n",
       "      <td>82.0</td>\n",
       "      <td>Иркутск</td>\n",
       "      <td>0.0</td>\n",
       "      <td>0</td>\n",
       "      <td>0</td>\n",
       "      <td>1950.0</td>\n",
       "    </tr>\n",
       "    <tr>\n",
       "      <th>3178</th>\n",
       "      <td>1495</td>\n",
       "      <td>ultra</td>\n",
       "      <td>11</td>\n",
       "      <td>38974.0</td>\n",
       "      <td>972.0</td>\n",
       "      <td>79.0</td>\n",
       "      <td>Иркутск</td>\n",
       "      <td>1350.0</td>\n",
       "      <td>0</td>\n",
       "      <td>0</td>\n",
       "      <td>3300.0</td>\n",
       "    </tr>\n",
       "    <tr>\n",
       "      <th>3179</th>\n",
       "      <td>1495</td>\n",
       "      <td>ultra</td>\n",
       "      <td>12</td>\n",
       "      <td>23451.0</td>\n",
       "      <td>1069.0</td>\n",
       "      <td>84.0</td>\n",
       "      <td>Иркутск</td>\n",
       "      <td>0.0</td>\n",
       "      <td>0</td>\n",
       "      <td>0</td>\n",
       "      <td>1950.0</td>\n",
       "    </tr>\n",
       "  </tbody>\n",
       "</table>\n",
       "<p>975 rows × 11 columns</p>\n",
       "</div>"
      ],
      "text/plain": [
       "      user_id tariff  month  mb_used  duration  messages_send       city  \\\n",
       "0        1000  ultra      5   2257.0     164.0           22.0  Краснодар   \n",
       "1        1000  ultra      6  23262.0     187.0           60.0  Краснодар   \n",
       "2        1000  ultra      7  14017.0     346.0           75.0  Краснодар   \n",
       "3        1000  ultra      8  14072.0     419.0           81.0  Краснодар   \n",
       "4        1000  ultra      9  14583.0     479.0           57.0  Краснодар   \n",
       "...       ...    ...    ...      ...       ...            ...        ...   \n",
       "3175     1495  ultra      8   2616.0      96.0           13.0    Иркутск   \n",
       "3176     1495  ultra      9  33109.0     833.0           82.0    Иркутск   \n",
       "3177     1495  ultra     10  29399.0    1057.0           82.0    Иркутск   \n",
       "3178     1495  ultra     11  38974.0     972.0           79.0    Иркутск   \n",
       "3179     1495  ultra     12  23451.0    1069.0           84.0    Иркутск   \n",
       "\n",
       "      internet_profit  messages_profit  calls_profit  total_profit  \n",
       "0                 0.0                0             0        1950.0  \n",
       "1                 0.0                0             0        1950.0  \n",
       "2                 0.0                0             0        1950.0  \n",
       "3                 0.0                0             0        1950.0  \n",
       "4                 0.0                0             0        1950.0  \n",
       "...               ...              ...           ...           ...  \n",
       "3175              0.0                0             0        1950.0  \n",
       "3176            450.0                0             0        2400.0  \n",
       "3177              0.0                0             0        1950.0  \n",
       "3178           1350.0                0             0        3300.0  \n",
       "3179              0.0                0             0        1950.0  \n",
       "\n",
       "[975 rows x 11 columns]"
      ]
     },
     "execution_count": 18,
     "metadata": {},
     "output_type": "execute_result"
    }
   ],
   "source": [
    "#Рассчитаем помесячный доход по тарифу ультра\n",
    "all_ultra = all_pivot.query('tariff == \"ultra\"').fillna(0)\n",
    "\n",
    "#сделаем функцию для рассчёта свехлимитов по тарифу\n",
    "def profit_ultra_i(mci):\n",
    "    if mci < ultra_internet_incl:\n",
    "        return 0\n",
    "    else:\n",
    "        return ((mci - ultra_internet_incl)//1024 + 1)*rf_gb_ultra\n",
    "\n",
    "#добавим столбец с тратами больше лимита\n",
    "all_ultra['internet_profit'] = all_ultra['mb_used'].apply(profit_ultra_i)\n",
    "\n",
    "def profit_ultra_m(mci):\n",
    "    if mci < ultra_messages_incl:\n",
    "        return 0\n",
    "    else:\n",
    "        return (mci - ultra_messages_incl)*rf_message_ultra\n",
    "    \n",
    "all_ultra['messages_profit'] = all_ultra['messages_send'].apply(profit_ultra_m)\n",
    "\n",
    "def profit_ultra_c(mci):\n",
    "    if mci < ultra_minutes_incl:\n",
    "        return 0\n",
    "    else:\n",
    "        return (mci - ultra_minutes_incl)*rf_minute_ultra \n",
    "    \n",
    "all_ultra['calls_profit'] = all_ultra['duration'].apply(profit_ultra_c)\n",
    "\n",
    "#соединим все расходы клиента\n",
    "all_ultra['total_profit'] = all_ultra['calls_profit'] + all_ultra['messages_profit'] + all_ultra['internet_profit'] + ultra_fee\n",
    "\n",
    "all_ultra"
   ]
  },
  {
   "cell_type": "code",
   "execution_count": 19,
   "metadata": {},
   "outputs": [
    {
     "data": {
      "text/html": [
       "<div>\n",
       "<style scoped>\n",
       "    .dataframe tbody tr th:only-of-type {\n",
       "        vertical-align: middle;\n",
       "    }\n",
       "\n",
       "    .dataframe tbody tr th {\n",
       "        vertical-align: top;\n",
       "    }\n",
       "\n",
       "    .dataframe thead th {\n",
       "        text-align: right;\n",
       "    }\n",
       "</style>\n",
       "<table border=\"1\" class=\"dataframe\">\n",
       "  <thead>\n",
       "    <tr style=\"text-align: right;\">\n",
       "      <th></th>\n",
       "      <th>user_id</th>\n",
       "      <th>tariff</th>\n",
       "      <th>month</th>\n",
       "      <th>mb_used</th>\n",
       "      <th>duration</th>\n",
       "      <th>messages_send</th>\n",
       "      <th>city</th>\n",
       "      <th>internet_profit</th>\n",
       "      <th>messages_profit</th>\n",
       "      <th>calls_profit</th>\n",
       "      <th>total_profit</th>\n",
       "    </tr>\n",
       "  </thead>\n",
       "  <tbody>\n",
       "    <tr>\n",
       "      <th>8</th>\n",
       "      <td>1001</td>\n",
       "      <td>smart</td>\n",
       "      <td>11</td>\n",
       "      <td>18460.0</td>\n",
       "      <td>444.0</td>\n",
       "      <td>0.0</td>\n",
       "      <td>Москва</td>\n",
       "      <td>800.0</td>\n",
       "      <td>0.0</td>\n",
       "      <td>0.0</td>\n",
       "      <td>1350.0</td>\n",
       "    </tr>\n",
       "    <tr>\n",
       "      <th>9</th>\n",
       "      <td>1001</td>\n",
       "      <td>smart</td>\n",
       "      <td>12</td>\n",
       "      <td>14059.0</td>\n",
       "      <td>430.0</td>\n",
       "      <td>0.0</td>\n",
       "      <td>Москва</td>\n",
       "      <td>0.0</td>\n",
       "      <td>0.0</td>\n",
       "      <td>0.0</td>\n",
       "      <td>550.0</td>\n",
       "    </tr>\n",
       "    <tr>\n",
       "      <th>10</th>\n",
       "      <td>1002</td>\n",
       "      <td>smart</td>\n",
       "      <td>6</td>\n",
       "      <td>10878.0</td>\n",
       "      <td>118.0</td>\n",
       "      <td>4.0</td>\n",
       "      <td>Стерлитамак</td>\n",
       "      <td>0.0</td>\n",
       "      <td>0.0</td>\n",
       "      <td>0.0</td>\n",
       "      <td>550.0</td>\n",
       "    </tr>\n",
       "    <tr>\n",
       "      <th>11</th>\n",
       "      <td>1002</td>\n",
       "      <td>smart</td>\n",
       "      <td>7</td>\n",
       "      <td>17615.0</td>\n",
       "      <td>219.0</td>\n",
       "      <td>11.0</td>\n",
       "      <td>Стерлитамак</td>\n",
       "      <td>600.0</td>\n",
       "      <td>0.0</td>\n",
       "      <td>0.0</td>\n",
       "      <td>1150.0</td>\n",
       "    </tr>\n",
       "    <tr>\n",
       "      <th>12</th>\n",
       "      <td>1002</td>\n",
       "      <td>smart</td>\n",
       "      <td>8</td>\n",
       "      <td>20358.0</td>\n",
       "      <td>296.0</td>\n",
       "      <td>13.0</td>\n",
       "      <td>Стерлитамак</td>\n",
       "      <td>1000.0</td>\n",
       "      <td>0.0</td>\n",
       "      <td>0.0</td>\n",
       "      <td>1550.0</td>\n",
       "    </tr>\n",
       "    <tr>\n",
       "      <th>...</th>\n",
       "      <td>...</td>\n",
       "      <td>...</td>\n",
       "      <td>...</td>\n",
       "      <td>...</td>\n",
       "      <td>...</td>\n",
       "      <td>...</td>\n",
       "      <td>...</td>\n",
       "      <td>...</td>\n",
       "      <td>...</td>\n",
       "      <td>...</td>\n",
       "      <td>...</td>\n",
       "    </tr>\n",
       "    <tr>\n",
       "      <th>3198</th>\n",
       "      <td>1498</td>\n",
       "      <td>smart</td>\n",
       "      <td>10</td>\n",
       "      <td>20614.0</td>\n",
       "      <td>259.0</td>\n",
       "      <td>42.0</td>\n",
       "      <td>Владикавказ</td>\n",
       "      <td>1200.0</td>\n",
       "      <td>0.0</td>\n",
       "      <td>0.0</td>\n",
       "      <td>1750.0</td>\n",
       "    </tr>\n",
       "    <tr>\n",
       "      <th>3199</th>\n",
       "      <td>1499</td>\n",
       "      <td>smart</td>\n",
       "      <td>9</td>\n",
       "      <td>1849.0</td>\n",
       "      <td>71.0</td>\n",
       "      <td>11.0</td>\n",
       "      <td>Пермь</td>\n",
       "      <td>0.0</td>\n",
       "      <td>0.0</td>\n",
       "      <td>0.0</td>\n",
       "      <td>550.0</td>\n",
       "    </tr>\n",
       "    <tr>\n",
       "      <th>3200</th>\n",
       "      <td>1499</td>\n",
       "      <td>smart</td>\n",
       "      <td>10</td>\n",
       "      <td>17824.0</td>\n",
       "      <td>474.0</td>\n",
       "      <td>48.0</td>\n",
       "      <td>Пермь</td>\n",
       "      <td>600.0</td>\n",
       "      <td>0.0</td>\n",
       "      <td>0.0</td>\n",
       "      <td>1150.0</td>\n",
       "    </tr>\n",
       "    <tr>\n",
       "      <th>3201</th>\n",
       "      <td>1499</td>\n",
       "      <td>smart</td>\n",
       "      <td>11</td>\n",
       "      <td>17994.0</td>\n",
       "      <td>624.0</td>\n",
       "      <td>59.0</td>\n",
       "      <td>Пермь</td>\n",
       "      <td>600.0</td>\n",
       "      <td>27.0</td>\n",
       "      <td>372.0</td>\n",
       "      <td>1549.0</td>\n",
       "    </tr>\n",
       "    <tr>\n",
       "      <th>3202</th>\n",
       "      <td>1499</td>\n",
       "      <td>smart</td>\n",
       "      <td>12</td>\n",
       "      <td>13082.0</td>\n",
       "      <td>505.0</td>\n",
       "      <td>66.0</td>\n",
       "      <td>Пермь</td>\n",
       "      <td>0.0</td>\n",
       "      <td>48.0</td>\n",
       "      <td>15.0</td>\n",
       "      <td>613.0</td>\n",
       "    </tr>\n",
       "  </tbody>\n",
       "</table>\n",
       "<p>2228 rows × 11 columns</p>\n",
       "</div>"
      ],
      "text/plain": [
       "      user_id tariff  month  mb_used  duration  messages_send         city  \\\n",
       "8        1001  smart     11  18460.0     444.0            0.0       Москва   \n",
       "9        1001  smart     12  14059.0     430.0            0.0       Москва   \n",
       "10       1002  smart      6  10878.0     118.0            4.0  Стерлитамак   \n",
       "11       1002  smart      7  17615.0     219.0           11.0  Стерлитамак   \n",
       "12       1002  smart      8  20358.0     296.0           13.0  Стерлитамак   \n",
       "...       ...    ...    ...      ...       ...            ...          ...   \n",
       "3198     1498  smart     10  20614.0     259.0           42.0  Владикавказ   \n",
       "3199     1499  smart      9   1849.0      71.0           11.0        Пермь   \n",
       "3200     1499  smart     10  17824.0     474.0           48.0        Пермь   \n",
       "3201     1499  smart     11  17994.0     624.0           59.0        Пермь   \n",
       "3202     1499  smart     12  13082.0     505.0           66.0        Пермь   \n",
       "\n",
       "      internet_profit  messages_profit  calls_profit  total_profit  \n",
       "8               800.0              0.0           0.0        1350.0  \n",
       "9                 0.0              0.0           0.0         550.0  \n",
       "10                0.0              0.0           0.0         550.0  \n",
       "11              600.0              0.0           0.0        1150.0  \n",
       "12             1000.0              0.0           0.0        1550.0  \n",
       "...               ...              ...           ...           ...  \n",
       "3198           1200.0              0.0           0.0        1750.0  \n",
       "3199              0.0              0.0           0.0         550.0  \n",
       "3200            600.0              0.0           0.0        1150.0  \n",
       "3201            600.0             27.0         372.0        1549.0  \n",
       "3202              0.0             48.0          15.0         613.0  \n",
       "\n",
       "[2228 rows x 11 columns]"
      ]
     },
     "execution_count": 19,
     "metadata": {},
     "output_type": "execute_result"
    }
   ],
   "source": [
    "#Рассчитаем помесячный доход по тарифу смарт\n",
    "\n",
    "all_smart = all_pivot.query('tariff == \"smart\"').fillna(0)\n",
    "\n",
    "def profit_smart_i(mci):\n",
    "    if mci < smart_internet_incl:\n",
    "        return 0\n",
    "    else:\n",
    "        return ((mci - smart_internet_incl)//1024 + 1)*rf_gb_smart\n",
    "    \n",
    "all_smart['internet_profit'] = all_smart['mb_used'].apply(profit_smart_i)\n",
    "\n",
    "def profit_smart_m(mci):\n",
    "    if mci < smart_messages_incl:\n",
    "        return 0\n",
    "    else:\n",
    "        return (mci - smart_messages_incl)*rf_message_smart\n",
    "    \n",
    "all_smart['messages_profit'] = all_smart['messages_send'].apply(profit_smart_m)\n",
    "\n",
    "def profit_smart_c(mci):\n",
    "    if mci < smart_minutes_incl:\n",
    "        return 0\n",
    "    else:\n",
    "        return (mci - smart_minutes_incl)*rf_minute_smart\n",
    "\n",
    "all_smart['calls_profit'] = all_smart['duration'].apply(profit_smart_c)\n",
    "\n",
    "#соединим все расходы клиента\n",
    "\n",
    "all_smart['total_profit'] = all_smart['calls_profit'] + all_smart['messages_profit'] + all_smart['internet_profit'] + smart_fee\n",
    "all_smart"
   ]
  },
  {
   "cell_type": "code",
   "execution_count": 20,
   "metadata": {},
   "outputs": [],
   "source": [
    "#уберём из резульатов месяц подключения и месяц отключения пакета \n",
    "all_smart = all_smart.query('duration > 15')\n",
    "all_ultra = all_ultra.query('duration > 15')"
   ]
  },
  {
   "cell_type": "markdown",
   "metadata": {},
   "source": [
    "## Анализ данных"
   ]
  },
  {
   "cell_type": "markdown",
   "metadata": {},
   "source": [
    "Опишите поведение клиентов оператора, исходя из выборки. Сколько минут разговора, сколько сообщений и какой объём интернет-трафика требуется пользователям каждого тарифа в месяц? Посчитайте среднее количество, дисперсию и стандартное отклонение. Постройте гистограммы. Опишите распределения."
   ]
  },
  {
   "cell_type": "code",
   "execution_count": 21,
   "metadata": {},
   "outputs": [
    {
     "name": "stdout",
     "output_type": "stream",
     "text": [
      "Тариф Ультра\n",
      "count     929.000000\n",
      "mean      571.397201\n",
      "std       310.228386\n",
      "min        16.000000\n",
      "25%       333.000000\n",
      "50%       551.000000\n",
      "75%       780.000000\n",
      "max      1728.000000\n",
      "Name: duration, dtype: float64\n",
      "----------------------\n",
      "\n",
      "Тариф смарт\n"
     ]
    },
    {
     "data": {
      "text/plain": [
       "count    2206.000000\n",
       "mean      434.307797\n",
       "std       191.228057\n",
       "min        16.000000\n",
       "25%       297.000000\n",
       "50%       438.000000\n",
       "75%       562.000000\n",
       "max      1473.000000\n",
       "Name: duration, dtype: float64"
      ]
     },
     "execution_count": 21,
     "metadata": {},
     "output_type": "execute_result"
    }
   ],
   "source": [
    "#проанализируем время разговора.\n",
    "\n",
    "print('Тариф Ультра')\n",
    "print(all_ultra['duration'].describe())\n",
    "print('----------------------')\n",
    "print('')\n",
    "print('Тариф смарт')\n",
    "all_smart['duration'].describe()"
   ]
  },
  {
   "cell_type": "code",
   "execution_count": 22,
   "metadata": {},
   "outputs": [
    {
     "name": "stdout",
     "output_type": "stream",
     "text": [
      "Среднее значение потраченных минут в тарифе ультра составляет: 571\n",
      "Среднее значение потраченных минут в тарифе смарт составляет: 434\n",
      "\n",
      "Стандартное отклонение в потраченных минутах в тарифе ультра: 310.228386\n",
      "Стандартное отклонение в потраченных минутах в тарифе смарт: 191.228057\n",
      "\n",
      "Дисперсия в потраченных минутах в тарифе ультра 96241.65148016499\n",
      "Дисперсия в потраченных минутах в тарифе смарт 36568.169783995254\n"
     ]
    }
   ],
   "source": [
    "calls_ultra_mean = 571\n",
    "calls_smart_mean = 434\n",
    "calls_ultra_std = 310.228386\n",
    "calls_smart_std = 191.228057\n",
    "print('Среднее значение потраченных минут в тарифе ультра составляет:', calls_ultra_mean)\n",
    "print('Среднее значение потраченных минут в тарифе смарт составляет:', calls_smart_mean)\n",
    "print()\n",
    "print('Стандартное отклонение в потраченных минутах в тарифе ультра:', calls_ultra_std)\n",
    "print('Стандартное отклонение в потраченных минутах в тарифе смарт:', calls_smart_std)\n",
    "print()\n",
    "print('Дисперсия в потраченных минутах в тарифе ультра', calls_ultra_std**2)\n",
    "print('Дисперсия в потраченных минутах в тарифе смарт', calls_smart_std**2)"
   ]
  },
  {
   "cell_type": "code",
   "execution_count": 23,
   "metadata": {},
   "outputs": [
    {
     "data": {
      "text/plain": [
       "<matplotlib.axes._subplots.AxesSubplot at 0x7fa71a92cd90>"
      ]
     },
     "execution_count": 23,
     "metadata": {},
     "output_type": "execute_result"
    },
    {
     "data": {
      "image/png": "[encoded data removed]",
      "text/plain": [
       "<Figure size 432x288 with 1 Axes>"
      ]
     },
     "metadata": {
      "needs_background": "light"
     },
     "output_type": "display_data"
    }
   ],
   "source": [
    "#Построим гистограммы\n",
    "all_ultra['duration'].hist(bins=30)"
   ]
  },
  {
   "cell_type": "markdown",
   "metadata": {},
   "source": [
    "Исходя из гистограммы потраченного времени на разговоры в тарифе \"Ультра\", можно сделать вывод, что клиенты в среднем тратя на разговоры по 571 минуте в месяц, а клиентов тратящих более 1500 минут из 3000 выделенных практичесик нет."
   ]
  },
  {
   "cell_type": "code",
   "execution_count": 24,
   "metadata": {},
   "outputs": [
    {
     "data": {
      "text/plain": [
       "<matplotlib.axes._subplots.AxesSubplot at 0x7fa7193af550>"
      ]
     },
     "execution_count": 24,
     "metadata": {},
     "output_type": "execute_result"
    },
    {
     "data": {
      "image/png": "[encoded data removed]",
      "text/plain": [
       "<Figure size 432x288 with 1 Axes>"
      ]
     },
     "metadata": {
      "needs_background": "light"
     },
     "output_type": "display_data"
    }
   ],
   "source": [
    "all_smart['duration'].hist(bins=30)"
   ]
  },
  {
   "cell_type": "markdown",
   "metadata": {},
   "source": [
    "Время потраченное на разговоры у клиентов в тарифе \"Смарт\" в среднем меньше чем у клиентов которые используют тариф \"Ультра\", при этом практически 40% клиентов выходят за предосталвенный лимит в 500 минут в месяц."
   ]
  },
  {
   "cell_type": "code",
   "execution_count": 25,
   "metadata": {},
   "outputs": [
    {
     "name": "stdout",
     "output_type": "stream",
     "text": [
      "Тариф Ультра\n",
      "count    929.000000\n",
      "mean      48.916039\n",
      "std       46.692449\n",
      "min        0.000000\n",
      "25%        5.000000\n",
      "50%       40.000000\n",
      "75%       79.000000\n",
      "max      224.000000\n",
      "Name: messages_send, dtype: float64\n",
      "----------------------\n",
      "\n",
      "Тариф смарт\n"
     ]
    },
    {
     "data": {
      "text/plain": [
       "count    2206.000000\n",
       "mean       33.495920\n",
       "std        28.276986\n",
       "min         0.000000\n",
       "25%        10.000000\n",
       "50%        28.000000\n",
       "75%        51.000000\n",
       "max       143.000000\n",
       "Name: messages_send, dtype: float64"
      ]
     },
     "execution_count": 25,
     "metadata": {},
     "output_type": "execute_result"
    }
   ],
   "source": [
    "#проанализируем отправленные клиентами смс сообщения.\n",
    "\n",
    "print('Тариф Ультра')\n",
    "print(all_ultra['messages_send'].describe())\n",
    "print('----------------------')\n",
    "print('')\n",
    "print('Тариф смарт')\n",
    "all_smart['messages_send'].describe()"
   ]
  },
  {
   "cell_type": "code",
   "execution_count": 26,
   "metadata": {},
   "outputs": [
    {
     "name": "stdout",
     "output_type": "stream",
     "text": [
      "Среднее значение потраченных минут в тарифе ультра составляет: 48\n",
      "Среднее значение потраченных минут в тарифе смарт составляет: 33\n",
      "\n",
      "Стандартное отклонение в потраченных минутах в тарифе ультра: 46.692449\n",
      "Стандартное отклонение в потраченных минутах в тарифе смарт: 28.276986\n",
      "\n",
      "Дисперсия в потраченных минутах в тарифе ультра 2180.1847936176014\n",
      "Дисперсия в потраченных минутах в тарифе смарт 799.587937244196\n"
     ]
    }
   ],
   "source": [
    "messages_ultra_mean = 48\n",
    "messages_smart_mean = 33\n",
    "messages_ultra_std = 46.692449\n",
    "messages_smart_std = 28.276986\n",
    "print('Среднее значение потраченных минут в тарифе ультра составляет:', messages_ultra_mean)\n",
    "print('Среднее значение потраченных минут в тарифе смарт составляет:', messages_smart_mean)\n",
    "print()\n",
    "print('Стандартное отклонение в потраченных минутах в тарифе ультра:', messages_ultra_std)\n",
    "print('Стандартное отклонение в потраченных минутах в тарифе смарт:', messages_smart_std)\n",
    "print()\n",
    "print('Дисперсия в потраченных минутах в тарифе ультра', messages_ultra_std**2)\n",
    "print('Дисперсия в потраченных минутах в тарифе смарт', messages_smart_std**2)"
   ]
  },
  {
   "cell_type": "code",
   "execution_count": 27,
   "metadata": {},
   "outputs": [
    {
     "data": {
      "text/plain": [
       "<matplotlib.axes._subplots.AxesSubplot at 0x7fa7181eb1d0>"
      ]
     },
     "execution_count": 27,
     "metadata": {},
     "output_type": "execute_result"
    },
    {
     "data": {
      "image/png": "[encoded data removed]",
      "text/plain": [
       "<Figure size 432x288 with 1 Axes>"
      ]
     },
     "metadata": {
      "needs_background": "light"
     },
     "output_type": "display_data"
    }
   ],
   "source": [
    "#Построим гистограммы\n",
    "all_ultra['messages_send'].hist(bins=50)"
   ]
  },
  {
   "cell_type": "markdown",
   "metadata": {},
   "source": [
    "Большое количество клиентов не отправляет СМС сообщения, либо отправляет крайне мало смс в среднем, однако пользователи тарифа \"ультра\" в среднем отправляют сообщений больше чем пользователи тарифа \"смарт\"."
   ]
  },
  {
   "cell_type": "code",
   "execution_count": 28,
   "metadata": {},
   "outputs": [
    {
     "data": {
      "text/plain": [
       "<matplotlib.axes._subplots.AxesSubplot at 0x7fa7180f9dd0>"
      ]
     },
     "execution_count": 28,
     "metadata": {},
     "output_type": "execute_result"
    },
    {
     "data": {
      "image/png": "[encoded data removed]",
      "text/plain": [
       "<Figure size 432x288 with 1 Axes>"
      ]
     },
     "metadata": {
      "needs_background": "light"
     },
     "output_type": "display_data"
    }
   ],
   "source": [
    "all_smart['messages_send'].hist(bins=50)"
   ]
  },
  {
   "cell_type": "markdown",
   "metadata": {},
   "source": [
    "Гистограмма распределения количества отправленных смс сообщений пользователями тарифа \"смарт\", распределена так же как и у пользователей тарифа \"ультра\", но в среднем они отправляют меньше сообщений в месяц."
   ]
  },
  {
   "cell_type": "code",
   "execution_count": 29,
   "metadata": {},
   "outputs": [
    {
     "name": "stdout",
     "output_type": "stream",
     "text": [
      "Тариф Ультра\n",
      "count      929.000000\n",
      "mean     19752.625404\n",
      "std       9948.908230\n",
      "min          1.000000\n",
      "25%      12064.000000\n",
      "50%      19447.000000\n",
      "75%      26954.000000\n",
      "max      49793.000000\n",
      "Name: mb_used, dtype: float64\n",
      "----------------------\n",
      "\n",
      "Тариф смарт\n"
     ]
    },
    {
     "data": {
      "text/plain": [
       "count     2206.000000\n",
       "mean     16289.607434\n",
       "std       5814.658744\n",
       "min          1.000000\n",
       "25%      12753.250000\n",
       "50%      16551.500000\n",
       "75%      20080.500000\n",
       "max      38628.000000\n",
       "Name: mb_used, dtype: float64"
      ]
     },
     "execution_count": 29,
     "metadata": {},
     "output_type": "execute_result"
    }
   ],
   "source": [
    "#проанализируем количество потраченных мб интернет трафика\n",
    "\n",
    "print('Тариф Ультра')\n",
    "print(all_ultra['mb_used'].describe())\n",
    "print('----------------------')\n",
    "print('')\n",
    "print('Тариф смарт')\n",
    "all_smart['mb_used'].describe()"
   ]
  },
  {
   "cell_type": "code",
   "execution_count": 30,
   "metadata": {},
   "outputs": [
    {
     "name": "stdout",
     "output_type": "stream",
     "text": [
      "Среднее значение потраченных минут в тарифе ультра составляет: 19753\n",
      "Среднее значение потраченных минут в тарифе смарт составляет: 16290\n",
      "\n",
      "Стандартное отклонение в потраченных минутах в тарифе ультра: 9948.90823\n",
      "Стандартное отклонение в потраченных минутах в тарифе смарт: 5814.658744\n",
      "\n",
      "Дисперсия в потраченных минутах в тарифе ультра 98980774.96896172\n",
      "Дисперсия в потраченных минутах в тарифе смарт 33810256.30917566\n"
     ]
    }
   ],
   "source": [
    "internet_ultra_mean = 19753\n",
    "internet_smart_mean = 16290\n",
    "internet_ultra_std = 9948.908230\n",
    "internet_smart_std = 5814.658744\n",
    "print('Среднее значение потраченных минут в тарифе ультра составляет:', internet_ultra_mean)\n",
    "print('Среднее значение потраченных минут в тарифе смарт составляет:', internet_smart_mean)\n",
    "print()\n",
    "print('Стандартное отклонение в потраченных минутах в тарифе ультра:', internet_ultra_std)\n",
    "print('Стандартное отклонение в потраченных минутах в тарифе смарт:', internet_smart_std)\n",
    "print()\n",
    "print('Дисперсия в потраченных минутах в тарифе ультра', internet_ultra_std**2)\n",
    "print('Дисперсия в потраченных минутах в тарифе смарт', internet_smart_std**2)"
   ]
  },
  {
   "cell_type": "code",
   "execution_count": 31,
   "metadata": {},
   "outputs": [
    {
     "data": {
      "text/plain": [
       "<matplotlib.axes._subplots.AxesSubplot at 0x7fa717f84910>"
      ]
     },
     "execution_count": 31,
     "metadata": {},
     "output_type": "execute_result"
    },
    {
     "data": {
      "image/png": "[encoded data removed]",
      "text/plain": [
       "<Figure size 432x288 with 1 Axes>"
      ]
     },
     "metadata": {
      "needs_background": "light"
     },
     "output_type": "display_data"
    }
   ],
   "source": [
    "#Построим гистограммы\n",
    "all_ultra['mb_used'].hist(bins=30)"
   ]
  },
  {
   "cell_type": "markdown",
   "metadata": {},
   "source": [
    "У клиентов тарифа ульра гистограмма потраченного трафика распределена слегка скошена в право. Клиенты в данном тарифе реже уходят за лимит предоплаченного трафика."
   ]
  },
  {
   "cell_type": "code",
   "execution_count": 32,
   "metadata": {},
   "outputs": [
    {
     "data": {
      "text/plain": [
       "<matplotlib.axes._subplots.AxesSubplot at 0x7fa71424d5d0>"
      ]
     },
     "execution_count": 32,
     "metadata": {},
     "output_type": "execute_result"
    },
    {
     "data": {
      "image/png": "[encoded data removed]",
      "text/plain": [
       "<Figure size 432x288 with 1 Axes>"
      ]
     },
     "metadata": {
      "needs_background": "light"
     },
     "output_type": "display_data"
    }
   ],
   "source": [
    "all_smart['mb_used'].hist(bins=30)"
   ]
  },
  {
   "cell_type": "markdown",
   "metadata": {},
   "source": [
    "Гистограмма по тарифу смарт распределена нормально. Однако, клиенты подключившие данный тариф более чем в 55% случаев уходят за предоставленный лимит трафика."
   ]
  },
  {
   "cell_type": "markdown",
   "metadata": {},
   "source": [
    "Проанализировав поведение клиентов, можно сделать вывод, что клиенты в тарифе \"ультра\" в достаточно редко уходят за лимиты предоставленные в тарфие(только по тратам интернет трафика). \n",
    "Клиенты тарифа \"смарт\", напротив, чаще выходят за лимит предоставленный тарифом(за звонки примерно 40% пользователей, за интернет примерно 55%)"
   ]
  },
  {
   "cell_type": "markdown",
   "metadata": {},
   "source": [
    "## Проверьте гипотезы:"
   ]
  },
  {
   "cell_type": "markdown",
   "metadata": {},
   "source": [
    "#### средняя выручка пользователей тарифов «Ультра» и «Смарт» различается\n",
    "\n",
    "- проверим гипотезу о равенстве средних двух генеральных совокупностей\n",
    "- нулевая гипотеза: средняя выручка не отличается\n",
    "- альтернативная гипотеза: средняя выручка различается"
   ]
  },
  {
   "cell_type": "code",
   "execution_count": 33,
   "metadata": {},
   "outputs": [
    {
     "name": "stdout",
     "output_type": "stream",
     "text": [
      "p-значение: 1.0075660231274727e-140\n",
      "Отвергаем нулевую гипотезу\n"
     ]
    }
   ],
   "source": [
    "#критический уровень статистической значимости\n",
    "alpha = .05\n",
    "\n",
    "result = st.ttest_ind(\n",
    "    all_smart['total_profit'], \n",
    "    all_ultra['total_profit'])\n",
    "\n",
    "print('p-значение:', result.pvalue)\n",
    "\n",
    "if (result.pvalue < alpha):\n",
    "    print(\"Отвергаем нулевую гипотезу\")\n",
    "else:\n",
    "    print(\"Не получилось отвергнуть нулевую гипотезу\")"
   ]
  },
  {
   "cell_type": "markdown",
   "metadata": {},
   "source": [
    "Исходя из полученных данных, из выборки клиентов, можно предположить, что средняя выручка от пользователей, в зависимости от тарифа различается."
   ]
  },
  {
   "cell_type": "markdown",
   "metadata": {},
   "source": [
    "####  Средняя выручка пользователей из Москвы отличается от выручки пользователей из других регионов.\n",
    "\n",
    "- проверим гипотезу о равенстве средних двух генеральных совокупностей\n",
    "- нулевая гипотеза: средняя выручка не отличается\n",
    "- альтернативная гипотеза: средняя выручка различается"
   ]
  },
  {
   "cell_type": "code",
   "execution_count": 34,
   "metadata": {},
   "outputs": [],
   "source": [
    "moscow_smart = all_smart.query('city == \"Москва\"')\n",
    "moscow_ultra = all_ultra.query('city == \"Москва\"')\n",
    "\n",
    "other_smart = all_smart.query('city != \"Москва\"')\n",
    "other_ultra = all_ultra.query('city != \"Москва\"')\n"
   ]
  },
  {
   "cell_type": "code",
   "execution_count": 35,
   "metadata": {},
   "outputs": [
    {
     "name": "stdout",
     "output_type": "stream",
     "text": [
      "p-значение: 0.1916483028528539\n",
      "Не получилось отвергнуть нулевую гипотезу\n"
     ]
    }
   ],
   "source": [
    "# для тарифа смарт\n",
    "\n",
    "result = st.ttest_ind(\n",
    "    moscow_smart['total_profit'], \n",
    "    other_smart['total_profit'])\n",
    "\n",
    "print('p-значение:', result.pvalue)\n",
    "\n",
    "if (result.pvalue < alpha):\n",
    "    print(\"Отвергаем нулевую гипотезу\")\n",
    "else:\n",
    "    print(\"Не получилось отвергнуть нулевую гипотезу\")"
   ]
  },
  {
   "cell_type": "code",
   "execution_count": 36,
   "metadata": {},
   "outputs": [
    {
     "name": "stdout",
     "output_type": "stream",
     "text": [
      "p-значение: 0.9819911217540285\n",
      "Не получилось отвергнуть нулевую гипотезу\n"
     ]
    }
   ],
   "source": [
    "# для тарифа ультра\n",
    "result = st.ttest_ind(\n",
    "    moscow_ultra['total_profit'], \n",
    "    other_ultra['total_profit'])\n",
    "\n",
    "print('p-значение:', result.pvalue)\n",
    "\n",
    "if (result.pvalue < alpha):\n",
    "    print(\"Отвергаем нулевую гипотезу\")\n",
    "else:\n",
    "    print(\"Не получилось отвергнуть нулевую гипотезу\")"
   ]
  },
  {
   "cell_type": "markdown",
   "metadata": {},
   "source": [
    "Вне зависимости от тарифного плана, можно предположить, что средняя выручка на одного клиента не различается у пользователей из Москвы и пользователей из других городов."
   ]
  },
  {
   "cell_type": "markdown",
   "metadata": {},
   "source": [
    "## Общий вывод"
   ]
  },
  {
   "cell_type": "markdown",
   "metadata": {},
   "source": [
    "Проанализировав и изучив выборку клиентов можно сделать следующие выводы:\n",
    "Клиенты которые используют тариф \"Смарт\" практически в половине случаев несут дополнительные расходы, на оплату минут или гб интернета. \n",
    "Клиенты в тарифе \"Ультра\", напротив достаточно редко тратят больше чем оплата за тарифный план. (Только за дополнительные гб интернета)\n",
    "\n",
    "Средняя выручка от разных тарифов предположительно различается. При этом, не имеет значения в каком городе подключен тариф, клиенты, приносят прибыль, примерно одинакого, независимо от того находятся они в Москве или в каком то другом городе."
   ]
  }
 ],
 "metadata": {
  "kernelspec": {
   "display_name": "Python 3",
   "language": "python",
   "name": "python3"
  },
  "language_info": {
   "codemirror_mode": {
    "name": "ipython",
    "version": 3
   },
   "file_extension": ".py",
   "mimetype": "text/x-python",
   "name": "python",
   "nbconvert_exporter": "python",
   "pygments_lexer": "ipython3",
   "version": "3.7.6"
  }
 },
 "nbformat": 4,
 "nbformat_minor": 2
}
