{
 "cells": [
  {
   "cell_type": "markdown",
   "metadata": {},
   "source": [
    "# Финальный проект"
   ]
  },
  {
   "cell_type": "markdown",
   "metadata": {},
   "source": [
    "## Условие задачи\n",
    "\n",
    "Чтобы оптимизировать производственные расходы, металлургический комбинат ООО «Так закаляем сталь» решил уменьшить потребление электроэнергии на этапе обработки стали. Вам предстоит построить модель, которая предскажет температуру стали."
   ]
  },
  {
   "cell_type": "markdown",
   "metadata": {},
   "source": [
    "### Описание этапа обработки\n",
    "\n",
    "Сталь обрабатывают в металлическом ковше вместимостью около 100 тонн. Чтобы ковш выдерживал высокие температуры, изнутри его облицовывают огнеупорным кирпичом. Расплавленную сталь заливают в ковш и подогревают до нужной температуры графитовыми электродами. Они установлены в крышке ковша. \n",
    "\n",
    "Из сплава выводится сера (десульфурация), добавлением примесей корректируется химический состав и отбираются пробы. Сталь легируют — изменяют её состав — подавая куски сплава из бункера для сыпучих материалов или проволоку через специальный трайб-аппарат (англ. tribe, «масса»).\n",
    "\n",
    "Перед тем как первый раз ввести легирующие добавки, измеряют температуру стали и производят её химический анализ. Потом температуру на несколько минут повышают, добавляют легирующие материалы и продувают сплав инертным газом. Затем его перемешивают и снова проводят измерения. Такой цикл повторяется до достижения целевого химического состава и оптимальной температуры плавки.\n",
    "\n",
    "Тогда расплавленная сталь отправляется на доводку металла или поступает в машину непрерывной разливки. Оттуда готовый продукт выходит в виде заготовок-слябов (англ. *slab*, «плита»)."
   ]
  },
  {
   "cell_type": "markdown",
   "metadata": {},
   "source": [
    "### Описание данных\n",
    "\n",
    "Данные состоят из файлов, полученных из разных источников:\n",
    "\n",
    "- `data_arc.csv` — данные об электродах;\n",
    "- `data_bulk.csv` — данные о подаче сыпучих материалов (объём);\n",
    "- `data_bulk_time.csv` *—* данные о подаче сыпучих материалов (время);\n",
    "- `data_gas.csv` — данные о продувке сплава газом;\n",
    "- `data_temp.csv` — результаты измерения температуры;\n",
    "- `data_wire.csv` — данные о проволочных материалах (объём);\n",
    "- `data_wire_time.csv` — данные о проволочных материалах (время)."
   ]
  },
  {
   "cell_type": "markdown",
   "metadata": {},
   "source": [
    "### План работы\n",
    "\n",
    "- Подготовка и анализ данных\n",
    "- Удаление аномалий в данных\n",
    "- Создание и обучение моделей\n",
    "- Проверка модели на адекватность\n",
    "- Отчёт"
   ]
  },
  {
   "cell_type": "markdown",
   "metadata": {},
   "source": [
    "## Подготовка  и анализ данных"
   ]
  },
  {
   "cell_type": "markdown",
   "metadata": {},
   "source": [
    "Импортируем библиотеки"
   ]
  },
  {
   "cell_type": "code",
   "execution_count": 60,
   "metadata": {},
   "outputs": [],
   "source": [
    "import pandas as pd\n",
    "import matplotlib.pyplot as plt\n",
    "import numpy as np\n",
    "import seaborn as sns\n",
    "\n",
    "from scipy.stats import randint\n",
    "import scipy.stats as stats\n",
    "\n",
    "import pylab\n",
    "pd.set_option('display.max_columns', None)\n",
    "\n",
    "import warnings \n",
    "warnings.filterwarnings(\"ignore\") "
   ]
  },
  {
   "cell_type": "code",
   "execution_count": 66,
   "metadata": {},
   "outputs": [],
   "source": [
    "from sklearn.model_selection import RandomizedSearchCV\n",
    "from sklearn.model_selection import train_test_split\n",
    "from sklearn.dummy import DummyRegressor\n",
    "from sklearn.preprocessing import StandardScaler\n",
    "from sklearn.preprocessing import LabelEncoder\n",
    "from sklearn.tree import DecisionTreeRegressor\n",
    "\n",
    "from sklearn.metrics import mean_absolute_error\n",
    "\n",
    "import xgboost as xgb\n",
    "from catboost import CatBoostRegressor"
   ]
  },
  {
   "cell_type": "markdown",
   "metadata": {},
   "source": [
    "Загрузим датасеты"
   ]
  },
  {
   "cell_type": "code",
   "execution_count": 3,
   "metadata": {},
   "outputs": [],
   "source": [
    "data_arc = pd.read_csv('/home/andrey/Datasets/final/data_arc.csv',  parse_dates=[1,2])\n",
    "data_bulk = pd.read_csv('/home/andrey/Datasets/final/data_bulk.csv', index_col= 'key')\n",
    "data_bulk_time = pd.read_csv('/home/andrey/Datasets/final/data_bulk_time.csv', index_col= 'key')\n",
    "data_gas = pd.read_csv('/home/andrey/Datasets/final/data_gas.csv', index_col= 'key')\n",
    "data_temp = pd.read_csv('/home/andrey/Datasets/final/data_temp.csv')\n",
    "data_wire = pd.read_csv('/home/andrey/Datasets/final/data_wire.csv', index_col= 'key')\n",
    "data_wire_time = pd.read_csv('/home/andrey/Datasets/final/data_wire_time.csv', index_col= 'key')"
   ]
  },
  {
   "cell_type": "markdown",
   "metadata": {},
   "source": [
    "#### У нас есть следующие файлы с данными:\n",
    "\n",
    "- `data_arc` — данные об электродах;\n",
    "- `data_bulk` — данные о подаче сыпучих материалов (объём);\n",
    "- `data_bulk_time` *—* данные о подаче сыпучих материалов (время);\n",
    "- `data_gas` — данные о продувке сплава газом;\n",
    "- `data_temp` — результаты измерения температуры;\n",
    "- `data_wire` — данные о проволочных материалах (объём);\n",
    "- `data_wire_time` — данные о проволочных материалах (время)."
   ]
  },
  {
   "cell_type": "markdown",
   "metadata": {},
   "source": [
    "Посмотрим на размер датасетов"
   ]
  },
  {
   "cell_type": "code",
   "execution_count": 4,
   "metadata": {},
   "outputs": [
    {
     "name": "stdout",
     "output_type": "stream",
     "text": [
      "(14876, 5)\n",
      "(3129, 15)\n",
      "(3129, 15)\n",
      "(3239, 1)\n",
      "(15907, 3)\n",
      "(3081, 9)\n",
      "(3081, 9)\n"
     ]
    }
   ],
   "source": [
    "data = [data_arc, data_bulk, data_bulk_time, data_gas, data_temp, data_wire, data_wire_time]\n",
    "for x in data:\n",
    "    print(x.shape)"
   ]
  },
  {
   "cell_type": "markdown",
   "metadata": {},
   "source": [
    "#### Изучим подробнее датасет с данными о подаче сыпучих материалов `data_bulk` "
   ]
  },
  {
   "cell_type": "code",
   "execution_count": 5,
   "metadata": {},
   "outputs": [
    {
     "data": {
      "text/html": [
       "<div>\n",
       "<style scoped>\n",
       "    .dataframe tbody tr th:only-of-type {\n",
       "        vertical-align: middle;\n",
       "    }\n",
       "\n",
       "    .dataframe tbody tr th {\n",
       "        vertical-align: top;\n",
       "    }\n",
       "\n",
       "    .dataframe thead th {\n",
       "        text-align: right;\n",
       "    }\n",
       "</style>\n",
       "<table border=\"1\" class=\"dataframe\">\n",
       "  <thead>\n",
       "    <tr style=\"text-align: right;\">\n",
       "      <th></th>\n",
       "      <th>Bulk 1</th>\n",
       "      <th>Bulk 2</th>\n",
       "      <th>Bulk 3</th>\n",
       "      <th>Bulk 4</th>\n",
       "      <th>Bulk 5</th>\n",
       "      <th>Bulk 6</th>\n",
       "      <th>Bulk 7</th>\n",
       "      <th>Bulk 8</th>\n",
       "      <th>Bulk 9</th>\n",
       "      <th>Bulk 10</th>\n",
       "      <th>Bulk 11</th>\n",
       "      <th>Bulk 12</th>\n",
       "      <th>Bulk 13</th>\n",
       "      <th>Bulk 14</th>\n",
       "      <th>Bulk 15</th>\n",
       "    </tr>\n",
       "    <tr>\n",
       "      <th>key</th>\n",
       "      <th></th>\n",
       "      <th></th>\n",
       "      <th></th>\n",
       "      <th></th>\n",
       "      <th></th>\n",
       "      <th></th>\n",
       "      <th></th>\n",
       "      <th></th>\n",
       "      <th></th>\n",
       "      <th></th>\n",
       "      <th></th>\n",
       "      <th></th>\n",
       "      <th></th>\n",
       "      <th></th>\n",
       "      <th></th>\n",
       "    </tr>\n",
       "  </thead>\n",
       "  <tbody>\n",
       "    <tr>\n",
       "      <th>1</th>\n",
       "      <td>NaN</td>\n",
       "      <td>NaN</td>\n",
       "      <td>NaN</td>\n",
       "      <td>43.0</td>\n",
       "      <td>NaN</td>\n",
       "      <td>NaN</td>\n",
       "      <td>NaN</td>\n",
       "      <td>NaN</td>\n",
       "      <td>NaN</td>\n",
       "      <td>NaN</td>\n",
       "      <td>NaN</td>\n",
       "      <td>206.0</td>\n",
       "      <td>NaN</td>\n",
       "      <td>150.0</td>\n",
       "      <td>154.0</td>\n",
       "    </tr>\n",
       "    <tr>\n",
       "      <th>2</th>\n",
       "      <td>NaN</td>\n",
       "      <td>NaN</td>\n",
       "      <td>NaN</td>\n",
       "      <td>73.0</td>\n",
       "      <td>NaN</td>\n",
       "      <td>NaN</td>\n",
       "      <td>NaN</td>\n",
       "      <td>NaN</td>\n",
       "      <td>NaN</td>\n",
       "      <td>NaN</td>\n",
       "      <td>NaN</td>\n",
       "      <td>206.0</td>\n",
       "      <td>NaN</td>\n",
       "      <td>149.0</td>\n",
       "      <td>154.0</td>\n",
       "    </tr>\n",
       "    <tr>\n",
       "      <th>3</th>\n",
       "      <td>NaN</td>\n",
       "      <td>NaN</td>\n",
       "      <td>NaN</td>\n",
       "      <td>34.0</td>\n",
       "      <td>NaN</td>\n",
       "      <td>NaN</td>\n",
       "      <td>NaN</td>\n",
       "      <td>NaN</td>\n",
       "      <td>NaN</td>\n",
       "      <td>NaN</td>\n",
       "      <td>NaN</td>\n",
       "      <td>205.0</td>\n",
       "      <td>NaN</td>\n",
       "      <td>152.0</td>\n",
       "      <td>153.0</td>\n",
       "    </tr>\n",
       "    <tr>\n",
       "      <th>4</th>\n",
       "      <td>NaN</td>\n",
       "      <td>NaN</td>\n",
       "      <td>NaN</td>\n",
       "      <td>81.0</td>\n",
       "      <td>NaN</td>\n",
       "      <td>NaN</td>\n",
       "      <td>NaN</td>\n",
       "      <td>NaN</td>\n",
       "      <td>NaN</td>\n",
       "      <td>NaN</td>\n",
       "      <td>NaN</td>\n",
       "      <td>207.0</td>\n",
       "      <td>NaN</td>\n",
       "      <td>153.0</td>\n",
       "      <td>154.0</td>\n",
       "    </tr>\n",
       "    <tr>\n",
       "      <th>5</th>\n",
       "      <td>NaN</td>\n",
       "      <td>NaN</td>\n",
       "      <td>NaN</td>\n",
       "      <td>78.0</td>\n",
       "      <td>NaN</td>\n",
       "      <td>NaN</td>\n",
       "      <td>NaN</td>\n",
       "      <td>NaN</td>\n",
       "      <td>NaN</td>\n",
       "      <td>NaN</td>\n",
       "      <td>NaN</td>\n",
       "      <td>203.0</td>\n",
       "      <td>NaN</td>\n",
       "      <td>151.0</td>\n",
       "      <td>152.0</td>\n",
       "    </tr>\n",
       "  </tbody>\n",
       "</table>\n",
       "</div>"
      ],
      "text/plain": [
       "     Bulk 1  Bulk 2  Bulk 3  Bulk 4  Bulk 5  Bulk 6  Bulk 7  Bulk 8  Bulk 9  \\\n",
       "key                                                                           \n",
       "1       NaN     NaN     NaN    43.0     NaN     NaN     NaN     NaN     NaN   \n",
       "2       NaN     NaN     NaN    73.0     NaN     NaN     NaN     NaN     NaN   \n",
       "3       NaN     NaN     NaN    34.0     NaN     NaN     NaN     NaN     NaN   \n",
       "4       NaN     NaN     NaN    81.0     NaN     NaN     NaN     NaN     NaN   \n",
       "5       NaN     NaN     NaN    78.0     NaN     NaN     NaN     NaN     NaN   \n",
       "\n",
       "     Bulk 10  Bulk 11  Bulk 12  Bulk 13  Bulk 14  Bulk 15  \n",
       "key                                                        \n",
       "1        NaN      NaN    206.0      NaN    150.0    154.0  \n",
       "2        NaN      NaN    206.0      NaN    149.0    154.0  \n",
       "3        NaN      NaN    205.0      NaN    152.0    153.0  \n",
       "4        NaN      NaN    207.0      NaN    153.0    154.0  \n",
       "5        NaN      NaN    203.0      NaN    151.0    152.0  "
      ]
     },
     "execution_count": 5,
     "metadata": {},
     "output_type": "execute_result"
    }
   ],
   "source": [
    "data_bulk.head()"
   ]
  },
  {
   "cell_type": "code",
   "execution_count": 6,
   "metadata": {},
   "outputs": [
    {
     "name": "stdout",
     "output_type": "stream",
     "text": [
      "<class 'pandas.core.frame.DataFrame'>\n",
      "Int64Index: 3129 entries, 1 to 3241\n",
      "Data columns (total 15 columns):\n",
      " #   Column   Non-Null Count  Dtype  \n",
      "---  ------   --------------  -----  \n",
      " 0   Bulk 1   252 non-null    float64\n",
      " 1   Bulk 2   22 non-null     float64\n",
      " 2   Bulk 3   1298 non-null   float64\n",
      " 3   Bulk 4   1014 non-null   float64\n",
      " 4   Bulk 5   77 non-null     float64\n",
      " 5   Bulk 6   576 non-null    float64\n",
      " 6   Bulk 7   25 non-null     float64\n",
      " 7   Bulk 8   1 non-null      float64\n",
      " 8   Bulk 9   19 non-null     float64\n",
      " 9   Bulk 10  176 non-null    float64\n",
      " 10  Bulk 11  177 non-null    float64\n",
      " 11  Bulk 12  2450 non-null   float64\n",
      " 12  Bulk 13  18 non-null     float64\n",
      " 13  Bulk 14  2806 non-null   float64\n",
      " 14  Bulk 15  2248 non-null   float64\n",
      "dtypes: float64(15)\n",
      "memory usage: 391.1 KB\n"
     ]
    }
   ],
   "source": [
    "data_bulk.info()"
   ]
  },
  {
   "cell_type": "markdown",
   "metadata": {},
   "source": [
    "Сразу бросается в глаза, что некоторые сыпучие материалы добавляют чаще чем другие, посмотрим сколько % пропущенных значений в различны столбцах датасета `data_bulk`"
   ]
  },
  {
   "cell_type": "code",
   "execution_count": 7,
   "metadata": {},
   "outputs": [
    {
     "data": {
      "image/png": "[encoded data removed]",
      "text/plain": [
       "<Figure size 720x360 with 1 Axes>"
      ]
     },
     "metadata": {
      "needs_background": "light"
     },
     "output_type": "display_data"
    },
    {
     "name": "stdout",
     "output_type": "stream",
     "text": [
      "Bulk 8     99.968041\n",
      "Bulk 13    99.424736\n",
      "Bulk 9     99.392777\n",
      "Bulk 2     99.296900\n",
      "Bulk 7     99.201023\n",
      "Bulk 5     97.539150\n",
      "Bulk 10    94.375200\n",
      "Bulk 11    94.343241\n",
      "Bulk 1     91.946309\n",
      "Bulk 6     81.591563\n",
      "Bulk 4     67.593480\n",
      "Bulk 3     58.517098\n",
      "Bulk 15    28.155960\n",
      "Bulk 12    21.700224\n",
      "Bulk 14    10.322787\n",
      "dtype: float64\n"
     ]
    }
   ],
   "source": [
    "def missing(df):\n",
    "    missing_scores = pd.DataFrame(((df.isna().sum())/3129).sort_values(ascending=False)*100\n",
    "                              , columns=['Пропущенные значения %'])\n",
    "    missing_scores = missing_scores[(missing_scores.T != 0).any()]\n",
    "    plt.figure(figsize=(10,5))\n",
    "    ax =sns.barplot(data = missing_scores,x = missing_scores.index\n",
    "                , y = 'Пропущенные значения %', orient='v')\n",
    "    ax.set_xticklabels(ax.get_xticklabels(), rotation=40, ha=\"right\")\n",
    "    plt.tight_layout()\n",
    "    plt.show()\n",
    "    print((df.isna().sum()/3129).sort_values(ascending=False)*100)\n",
    "missing(data_bulk)"
   ]
  },
  {
   "cell_type": "markdown",
   "metadata": {},
   "source": [
    "Много сыпучих материалов добавляют достоточно редко (только в 6 процентах случаев и реже)\n",
    "\n",
    "Удалим столбец bulk 8 т.к. эта добавка практически не используется."
   ]
  },
  {
   "cell_type": "code",
   "execution_count": 8,
   "metadata": {},
   "outputs": [],
   "source": [
    "data_bulk = data_bulk.drop(['Bulk 8'], axis = 1)"
   ]
  },
  {
   "cell_type": "markdown",
   "metadata": {},
   "source": [
    "#### Таким же образом изучим датафрейм `data_wire` "
   ]
  },
  {
   "cell_type": "code",
   "execution_count": 9,
   "metadata": {},
   "outputs": [
    {
     "data": {
      "text/html": [
       "<div>\n",
       "<style scoped>\n",
       "    .dataframe tbody tr th:only-of-type {\n",
       "        vertical-align: middle;\n",
       "    }\n",
       "\n",
       "    .dataframe tbody tr th {\n",
       "        vertical-align: top;\n",
       "    }\n",
       "\n",
       "    .dataframe thead th {\n",
       "        text-align: right;\n",
       "    }\n",
       "</style>\n",
       "<table border=\"1\" class=\"dataframe\">\n",
       "  <thead>\n",
       "    <tr style=\"text-align: right;\">\n",
       "      <th></th>\n",
       "      <th>Wire 1</th>\n",
       "      <th>Wire 2</th>\n",
       "      <th>Wire 3</th>\n",
       "      <th>Wire 4</th>\n",
       "      <th>Wire 5</th>\n",
       "      <th>Wire 6</th>\n",
       "      <th>Wire 7</th>\n",
       "      <th>Wire 8</th>\n",
       "      <th>Wire 9</th>\n",
       "    </tr>\n",
       "    <tr>\n",
       "      <th>key</th>\n",
       "      <th></th>\n",
       "      <th></th>\n",
       "      <th></th>\n",
       "      <th></th>\n",
       "      <th></th>\n",
       "      <th></th>\n",
       "      <th></th>\n",
       "      <th></th>\n",
       "      <th></th>\n",
       "    </tr>\n",
       "  </thead>\n",
       "  <tbody>\n",
       "    <tr>\n",
       "      <th>1</th>\n",
       "      <td>60.059998</td>\n",
       "      <td>NaN</td>\n",
       "      <td>NaN</td>\n",
       "      <td>NaN</td>\n",
       "      <td>NaN</td>\n",
       "      <td>NaN</td>\n",
       "      <td>NaN</td>\n",
       "      <td>NaN</td>\n",
       "      <td>NaN</td>\n",
       "    </tr>\n",
       "    <tr>\n",
       "      <th>2</th>\n",
       "      <td>96.052315</td>\n",
       "      <td>NaN</td>\n",
       "      <td>NaN</td>\n",
       "      <td>NaN</td>\n",
       "      <td>NaN</td>\n",
       "      <td>NaN</td>\n",
       "      <td>NaN</td>\n",
       "      <td>NaN</td>\n",
       "      <td>NaN</td>\n",
       "    </tr>\n",
       "    <tr>\n",
       "      <th>3</th>\n",
       "      <td>91.160157</td>\n",
       "      <td>NaN</td>\n",
       "      <td>NaN</td>\n",
       "      <td>NaN</td>\n",
       "      <td>NaN</td>\n",
       "      <td>NaN</td>\n",
       "      <td>NaN</td>\n",
       "      <td>NaN</td>\n",
       "      <td>NaN</td>\n",
       "    </tr>\n",
       "    <tr>\n",
       "      <th>4</th>\n",
       "      <td>89.063515</td>\n",
       "      <td>NaN</td>\n",
       "      <td>NaN</td>\n",
       "      <td>NaN</td>\n",
       "      <td>NaN</td>\n",
       "      <td>NaN</td>\n",
       "      <td>NaN</td>\n",
       "      <td>NaN</td>\n",
       "      <td>NaN</td>\n",
       "    </tr>\n",
       "    <tr>\n",
       "      <th>5</th>\n",
       "      <td>89.238236</td>\n",
       "      <td>9.11456</td>\n",
       "      <td>NaN</td>\n",
       "      <td>NaN</td>\n",
       "      <td>NaN</td>\n",
       "      <td>NaN</td>\n",
       "      <td>NaN</td>\n",
       "      <td>NaN</td>\n",
       "      <td>NaN</td>\n",
       "    </tr>\n",
       "  </tbody>\n",
       "</table>\n",
       "</div>"
      ],
      "text/plain": [
       "        Wire 1   Wire 2  Wire 3  Wire 4  Wire 5  Wire 6  Wire 7  Wire 8  \\\n",
       "key                                                                       \n",
       "1    60.059998      NaN     NaN     NaN     NaN     NaN     NaN     NaN   \n",
       "2    96.052315      NaN     NaN     NaN     NaN     NaN     NaN     NaN   \n",
       "3    91.160157      NaN     NaN     NaN     NaN     NaN     NaN     NaN   \n",
       "4    89.063515      NaN     NaN     NaN     NaN     NaN     NaN     NaN   \n",
       "5    89.238236  9.11456     NaN     NaN     NaN     NaN     NaN     NaN   \n",
       "\n",
       "     Wire 9  \n",
       "key          \n",
       "1       NaN  \n",
       "2       NaN  \n",
       "3       NaN  \n",
       "4       NaN  \n",
       "5       NaN  "
      ]
     },
     "execution_count": 9,
     "metadata": {},
     "output_type": "execute_result"
    }
   ],
   "source": [
    "data_wire.head()"
   ]
  },
  {
   "cell_type": "code",
   "execution_count": 10,
   "metadata": {},
   "outputs": [
    {
     "name": "stdout",
     "output_type": "stream",
     "text": [
      "<class 'pandas.core.frame.DataFrame'>\n",
      "Int64Index: 3081 entries, 1 to 3241\n",
      "Data columns (total 9 columns):\n",
      " #   Column  Non-Null Count  Dtype \n",
      "---  ------  --------------  ----- \n",
      " 0   Wire 1  3055 non-null   object\n",
      " 1   Wire 2  1079 non-null   object\n",
      " 2   Wire 3  63 non-null     object\n",
      " 3   Wire 4  14 non-null     object\n",
      " 4   Wire 5  1 non-null      object\n",
      " 5   Wire 6  73 non-null     object\n",
      " 6   Wire 7  11 non-null     object\n",
      " 7   Wire 8  19 non-null     object\n",
      " 8   Wire 9  29 non-null     object\n",
      "dtypes: object(9)\n",
      "memory usage: 240.7+ KB\n"
     ]
    }
   ],
   "source": [
    "data_wire_time.info()"
   ]
  },
  {
   "cell_type": "markdown",
   "metadata": {},
   "source": [
    "Так же видно, что одни проволочные материалы используются чаще чем другие, посомтрим насколько:"
   ]
  },
  {
   "cell_type": "code",
   "execution_count": 11,
   "metadata": {},
   "outputs": [
    {
     "data": {
      "image/png": "[encoded data removed]",
      "text/plain": [
       "<Figure size 720x360 with 1 Axes>"
      ]
     },
     "metadata": {
      "needs_background": "light"
     },
     "output_type": "display_data"
    },
    {
     "name": "stdout",
     "output_type": "stream",
     "text": [
      "Wire 5    98.434004\n",
      "Wire 7    98.114414\n",
      "Wire 4    98.018536\n",
      "Wire 8    97.858741\n",
      "Wire 9    97.539150\n",
      "Wire 3    96.452541\n",
      "Wire 6    96.132950\n",
      "Wire 2    63.982103\n",
      "Wire 1     0.830936\n",
      "dtype: float64\n"
     ]
    }
   ],
   "source": [
    "missing(data_wire)"
   ]
  },
  {
   "cell_type": "markdown",
   "metadata": {},
   "source": [
    "Аналогично с датафреймом `data_bulk`, есть активно используемые проволочные материалы `Wire 1` и `Wire 2`. Остальные материалы используются крайне редко, только в 2-3% случаев."
   ]
  },
  {
   "cell_type": "markdown",
   "metadata": {},
   "source": [
    "Объединим датафреймы `data_bulk`, `data_wire`"
   ]
  },
  {
   "cell_type": "code",
   "execution_count": 12,
   "metadata": {},
   "outputs": [],
   "source": [
    "data_bw = data_bulk.join(data_wire)"
   ]
  },
  {
   "cell_type": "code",
   "execution_count": 13,
   "metadata": {},
   "outputs": [
    {
     "data": {
      "text/html": [
       "<div>\n",
       "<style scoped>\n",
       "    .dataframe tbody tr th:only-of-type {\n",
       "        vertical-align: middle;\n",
       "    }\n",
       "\n",
       "    .dataframe tbody tr th {\n",
       "        vertical-align: top;\n",
       "    }\n",
       "\n",
       "    .dataframe thead th {\n",
       "        text-align: right;\n",
       "    }\n",
       "</style>\n",
       "<table border=\"1\" class=\"dataframe\">\n",
       "  <thead>\n",
       "    <tr style=\"text-align: right;\">\n",
       "      <th></th>\n",
       "      <th>Bulk 1</th>\n",
       "      <th>Bulk 2</th>\n",
       "      <th>Bulk 3</th>\n",
       "      <th>Bulk 4</th>\n",
       "      <th>Bulk 5</th>\n",
       "      <th>Bulk 6</th>\n",
       "      <th>Bulk 7</th>\n",
       "      <th>Bulk 9</th>\n",
       "      <th>Bulk 10</th>\n",
       "      <th>Bulk 11</th>\n",
       "      <th>Bulk 12</th>\n",
       "      <th>Bulk 13</th>\n",
       "      <th>Bulk 14</th>\n",
       "      <th>Bulk 15</th>\n",
       "      <th>Wire 1</th>\n",
       "      <th>Wire 2</th>\n",
       "      <th>Wire 3</th>\n",
       "      <th>Wire 4</th>\n",
       "      <th>Wire 5</th>\n",
       "      <th>Wire 6</th>\n",
       "      <th>Wire 7</th>\n",
       "      <th>Wire 8</th>\n",
       "      <th>Wire 9</th>\n",
       "    </tr>\n",
       "    <tr>\n",
       "      <th>key</th>\n",
       "      <th></th>\n",
       "      <th></th>\n",
       "      <th></th>\n",
       "      <th></th>\n",
       "      <th></th>\n",
       "      <th></th>\n",
       "      <th></th>\n",
       "      <th></th>\n",
       "      <th></th>\n",
       "      <th></th>\n",
       "      <th></th>\n",
       "      <th></th>\n",
       "      <th></th>\n",
       "      <th></th>\n",
       "      <th></th>\n",
       "      <th></th>\n",
       "      <th></th>\n",
       "      <th></th>\n",
       "      <th></th>\n",
       "      <th></th>\n",
       "      <th></th>\n",
       "      <th></th>\n",
       "      <th></th>\n",
       "    </tr>\n",
       "  </thead>\n",
       "  <tbody>\n",
       "    <tr>\n",
       "      <th>1</th>\n",
       "      <td>NaN</td>\n",
       "      <td>NaN</td>\n",
       "      <td>NaN</td>\n",
       "      <td>43.0</td>\n",
       "      <td>NaN</td>\n",
       "      <td>NaN</td>\n",
       "      <td>NaN</td>\n",
       "      <td>NaN</td>\n",
       "      <td>NaN</td>\n",
       "      <td>NaN</td>\n",
       "      <td>206.0</td>\n",
       "      <td>NaN</td>\n",
       "      <td>150.0</td>\n",
       "      <td>154.0</td>\n",
       "      <td>60.059998</td>\n",
       "      <td>NaN</td>\n",
       "      <td>NaN</td>\n",
       "      <td>NaN</td>\n",
       "      <td>NaN</td>\n",
       "      <td>NaN</td>\n",
       "      <td>NaN</td>\n",
       "      <td>NaN</td>\n",
       "      <td>NaN</td>\n",
       "    </tr>\n",
       "    <tr>\n",
       "      <th>2</th>\n",
       "      <td>NaN</td>\n",
       "      <td>NaN</td>\n",
       "      <td>NaN</td>\n",
       "      <td>73.0</td>\n",
       "      <td>NaN</td>\n",
       "      <td>NaN</td>\n",
       "      <td>NaN</td>\n",
       "      <td>NaN</td>\n",
       "      <td>NaN</td>\n",
       "      <td>NaN</td>\n",
       "      <td>206.0</td>\n",
       "      <td>NaN</td>\n",
       "      <td>149.0</td>\n",
       "      <td>154.0</td>\n",
       "      <td>96.052315</td>\n",
       "      <td>NaN</td>\n",
       "      <td>NaN</td>\n",
       "      <td>NaN</td>\n",
       "      <td>NaN</td>\n",
       "      <td>NaN</td>\n",
       "      <td>NaN</td>\n",
       "      <td>NaN</td>\n",
       "      <td>NaN</td>\n",
       "    </tr>\n",
       "    <tr>\n",
       "      <th>3</th>\n",
       "      <td>NaN</td>\n",
       "      <td>NaN</td>\n",
       "      <td>NaN</td>\n",
       "      <td>34.0</td>\n",
       "      <td>NaN</td>\n",
       "      <td>NaN</td>\n",
       "      <td>NaN</td>\n",
       "      <td>NaN</td>\n",
       "      <td>NaN</td>\n",
       "      <td>NaN</td>\n",
       "      <td>205.0</td>\n",
       "      <td>NaN</td>\n",
       "      <td>152.0</td>\n",
       "      <td>153.0</td>\n",
       "      <td>91.160157</td>\n",
       "      <td>NaN</td>\n",
       "      <td>NaN</td>\n",
       "      <td>NaN</td>\n",
       "      <td>NaN</td>\n",
       "      <td>NaN</td>\n",
       "      <td>NaN</td>\n",
       "      <td>NaN</td>\n",
       "      <td>NaN</td>\n",
       "    </tr>\n",
       "    <tr>\n",
       "      <th>4</th>\n",
       "      <td>NaN</td>\n",
       "      <td>NaN</td>\n",
       "      <td>NaN</td>\n",
       "      <td>81.0</td>\n",
       "      <td>NaN</td>\n",
       "      <td>NaN</td>\n",
       "      <td>NaN</td>\n",
       "      <td>NaN</td>\n",
       "      <td>NaN</td>\n",
       "      <td>NaN</td>\n",
       "      <td>207.0</td>\n",
       "      <td>NaN</td>\n",
       "      <td>153.0</td>\n",
       "      <td>154.0</td>\n",
       "      <td>89.063515</td>\n",
       "      <td>NaN</td>\n",
       "      <td>NaN</td>\n",
       "      <td>NaN</td>\n",
       "      <td>NaN</td>\n",
       "      <td>NaN</td>\n",
       "      <td>NaN</td>\n",
       "      <td>NaN</td>\n",
       "      <td>NaN</td>\n",
       "    </tr>\n",
       "    <tr>\n",
       "      <th>5</th>\n",
       "      <td>NaN</td>\n",
       "      <td>NaN</td>\n",
       "      <td>NaN</td>\n",
       "      <td>78.0</td>\n",
       "      <td>NaN</td>\n",
       "      <td>NaN</td>\n",
       "      <td>NaN</td>\n",
       "      <td>NaN</td>\n",
       "      <td>NaN</td>\n",
       "      <td>NaN</td>\n",
       "      <td>203.0</td>\n",
       "      <td>NaN</td>\n",
       "      <td>151.0</td>\n",
       "      <td>152.0</td>\n",
       "      <td>89.238236</td>\n",
       "      <td>9.11456</td>\n",
       "      <td>NaN</td>\n",
       "      <td>NaN</td>\n",
       "      <td>NaN</td>\n",
       "      <td>NaN</td>\n",
       "      <td>NaN</td>\n",
       "      <td>NaN</td>\n",
       "      <td>NaN</td>\n",
       "    </tr>\n",
       "  </tbody>\n",
       "</table>\n",
       "</div>"
      ],
      "text/plain": [
       "     Bulk 1  Bulk 2  Bulk 3  Bulk 4  Bulk 5  Bulk 6  Bulk 7  Bulk 9  Bulk 10  \\\n",
       "key                                                                            \n",
       "1       NaN     NaN     NaN    43.0     NaN     NaN     NaN     NaN      NaN   \n",
       "2       NaN     NaN     NaN    73.0     NaN     NaN     NaN     NaN      NaN   \n",
       "3       NaN     NaN     NaN    34.0     NaN     NaN     NaN     NaN      NaN   \n",
       "4       NaN     NaN     NaN    81.0     NaN     NaN     NaN     NaN      NaN   \n",
       "5       NaN     NaN     NaN    78.0     NaN     NaN     NaN     NaN      NaN   \n",
       "\n",
       "     Bulk 11  Bulk 12  Bulk 13  Bulk 14  Bulk 15     Wire 1   Wire 2  Wire 3  \\\n",
       "key                                                                            \n",
       "1        NaN    206.0      NaN    150.0    154.0  60.059998      NaN     NaN   \n",
       "2        NaN    206.0      NaN    149.0    154.0  96.052315      NaN     NaN   \n",
       "3        NaN    205.0      NaN    152.0    153.0  91.160157      NaN     NaN   \n",
       "4        NaN    207.0      NaN    153.0    154.0  89.063515      NaN     NaN   \n",
       "5        NaN    203.0      NaN    151.0    152.0  89.238236  9.11456     NaN   \n",
       "\n",
       "     Wire 4  Wire 5  Wire 6  Wire 7  Wire 8  Wire 9  \n",
       "key                                                  \n",
       "1       NaN     NaN     NaN     NaN     NaN     NaN  \n",
       "2       NaN     NaN     NaN     NaN     NaN     NaN  \n",
       "3       NaN     NaN     NaN     NaN     NaN     NaN  \n",
       "4       NaN     NaN     NaN     NaN     NaN     NaN  \n",
       "5       NaN     NaN     NaN     NaN     NaN     NaN  "
      ]
     },
     "execution_count": 13,
     "metadata": {},
     "output_type": "execute_result"
    }
   ],
   "source": [
    "data_bw.head()"
   ]
  },
  {
   "cell_type": "markdown",
   "metadata": {},
   "source": [
    "#### Изучим датафрейм `data_arc`"
   ]
  },
  {
   "cell_type": "code",
   "execution_count": 14,
   "metadata": {},
   "outputs": [
    {
     "data": {
      "text/html": [
       "<div>\n",
       "<style scoped>\n",
       "    .dataframe tbody tr th:only-of-type {\n",
       "        vertical-align: middle;\n",
       "    }\n",
       "\n",
       "    .dataframe tbody tr th {\n",
       "        vertical-align: top;\n",
       "    }\n",
       "\n",
       "    .dataframe thead th {\n",
       "        text-align: right;\n",
       "    }\n",
       "</style>\n",
       "<table border=\"1\" class=\"dataframe\">\n",
       "  <thead>\n",
       "    <tr style=\"text-align: right;\">\n",
       "      <th></th>\n",
       "      <th>key</th>\n",
       "      <th>Начало нагрева дугой</th>\n",
       "      <th>Конец нагрева дугой</th>\n",
       "      <th>Активная мощность</th>\n",
       "      <th>Реактивная мощность</th>\n",
       "    </tr>\n",
       "  </thead>\n",
       "  <tbody>\n",
       "    <tr>\n",
       "      <th>0</th>\n",
       "      <td>1</td>\n",
       "      <td>2019-05-03 11:02:14</td>\n",
       "      <td>2019-05-03 11:06:02</td>\n",
       "      <td>0.976059</td>\n",
       "      <td>0.687084</td>\n",
       "    </tr>\n",
       "    <tr>\n",
       "      <th>1</th>\n",
       "      <td>1</td>\n",
       "      <td>2019-05-03 11:07:28</td>\n",
       "      <td>2019-05-03 11:10:33</td>\n",
       "      <td>0.805607</td>\n",
       "      <td>0.520285</td>\n",
       "    </tr>\n",
       "    <tr>\n",
       "      <th>2</th>\n",
       "      <td>1</td>\n",
       "      <td>2019-05-03 11:11:44</td>\n",
       "      <td>2019-05-03 11:14:36</td>\n",
       "      <td>0.744363</td>\n",
       "      <td>0.498805</td>\n",
       "    </tr>\n",
       "    <tr>\n",
       "      <th>3</th>\n",
       "      <td>1</td>\n",
       "      <td>2019-05-03 11:18:14</td>\n",
       "      <td>2019-05-03 11:24:19</td>\n",
       "      <td>1.659363</td>\n",
       "      <td>1.062669</td>\n",
       "    </tr>\n",
       "    <tr>\n",
       "      <th>4</th>\n",
       "      <td>1</td>\n",
       "      <td>2019-05-03 11:26:09</td>\n",
       "      <td>2019-05-03 11:28:37</td>\n",
       "      <td>0.692755</td>\n",
       "      <td>0.414397</td>\n",
       "    </tr>\n",
       "  </tbody>\n",
       "</table>\n",
       "</div>"
      ],
      "text/plain": [
       "   key Начало нагрева дугой Конец нагрева дугой  Активная мощность  \\\n",
       "0    1  2019-05-03 11:02:14 2019-05-03 11:06:02           0.976059   \n",
       "1    1  2019-05-03 11:07:28 2019-05-03 11:10:33           0.805607   \n",
       "2    1  2019-05-03 11:11:44 2019-05-03 11:14:36           0.744363   \n",
       "3    1  2019-05-03 11:18:14 2019-05-03 11:24:19           1.659363   \n",
       "4    1  2019-05-03 11:26:09 2019-05-03 11:28:37           0.692755   \n",
       "\n",
       "   Реактивная мощность  \n",
       "0             0.687084  \n",
       "1             0.520285  \n",
       "2             0.498805  \n",
       "3             1.062669  \n",
       "4             0.414397  "
      ]
     },
     "execution_count": 14,
     "metadata": {},
     "output_type": "execute_result"
    }
   ],
   "source": [
    "data_arc.head()"
   ]
  },
  {
   "cell_type": "code",
   "execution_count": 15,
   "metadata": {},
   "outputs": [
    {
     "name": "stdout",
     "output_type": "stream",
     "text": [
      "<class 'pandas.core.frame.DataFrame'>\n",
      "RangeIndex: 14876 entries, 0 to 14875\n",
      "Data columns (total 5 columns):\n",
      " #   Column                Non-Null Count  Dtype         \n",
      "---  ------                --------------  -----         \n",
      " 0   key                   14876 non-null  int64         \n",
      " 1   Начало нагрева дугой  14876 non-null  datetime64[ns]\n",
      " 2   Конец нагрева дугой   14876 non-null  datetime64[ns]\n",
      " 3   Активная мощность     14876 non-null  float64       \n",
      " 4   Реактивная мощность   14876 non-null  float64       \n",
      "dtypes: datetime64[ns](2), float64(2), int64(1)\n",
      "memory usage: 581.2 KB\n"
     ]
    }
   ],
   "source": [
    "data_arc.info()"
   ]
  },
  {
   "cell_type": "markdown",
   "metadata": {},
   "source": [
    "- Из датафрейма видно, что есть время начала и окончания нагрева, из него можно рассчитать время которое было затрачено на подачу энергии. \n",
    "\n",
    "- Так же есть два столбца с активной и реактивной мощностью."
   ]
  },
  {
   "cell_type": "markdown",
   "metadata": {},
   "source": [
    "Посмотрим как распределены данные активной и реактивной мощности"
   ]
  },
  {
   "cell_type": "code",
   "execution_count": 16,
   "metadata": {},
   "outputs": [
    {
     "data": {
      "image/png": "[encoded data removed]",
      "text/plain": [
       "<Figure size 432x288 with 1 Axes>"
      ]
     },
     "metadata": {
      "needs_background": "light"
     },
     "output_type": "display_data"
    },
    {
     "data": {
      "image/png": "[encoded data removed]",
      "text/plain": [
       "<Figure size 432x288 with 1 Axes>"
      ]
     },
     "metadata": {
      "needs_background": "light"
     },
     "output_type": "display_data"
    }
   ],
   "source": [
    "def  boxplotpower():\n",
    "    #построим boxplot реактивной\n",
    "    sns.boxplot(data_arc['Реактивная мощность'])\n",
    "    plt.show()\n",
    "\n",
    "    #и активной мощности\n",
    "    sns.boxplot(data_arc['Активная мощность'])\n",
    "    plt.show()\n",
    "\n",
    "boxplotpower()"
   ]
  },
  {
   "cell_type": "markdown",
   "metadata": {},
   "source": [
    "Есть явный выброс в реактивной мощности (значение -700) и выброс в активной мощности(значение более 3.5), сразу избавимся от выбросов и посмотроим график распределения реактивной мощности ещё раз, что бы убедится, что больше выбросов нет."
   ]
  },
  {
   "cell_type": "code",
   "execution_count": 17,
   "metadata": {},
   "outputs": [
    {
     "data": {
      "image/png": "[encoded data removed]",
      "text/plain": [
       "<Figure size 432x288 with 1 Axes>"
      ]
     },
     "metadata": {
      "needs_background": "light"
     },
     "output_type": "display_data"
    },
    {
     "data": {
      "image/png": "[encoded data removed]",
      "text/plain": [
       "<Figure size 432x288 with 1 Axes>"
      ]
     },
     "metadata": {
      "needs_background": "light"
     },
     "output_type": "display_data"
    }
   ],
   "source": [
    "data_arc = data_arc[data_arc['Активная мощность'] < 3.5]\n",
    "data_arc = data_arc[data_arc['Реактивная мощность'] > 0]\n",
    "boxplotpower()"
   ]
  },
  {
   "cell_type": "markdown",
   "metadata": {},
   "source": [
    "С данными всё в порядке, больше явных выбросов нет."
   ]
  },
  {
   "cell_type": "markdown",
   "metadata": {},
   "source": [
    "#### Т.к. у нас есть данные по времени замера, мы можем рассчитать потребление в кВт/ч\n",
    "\n",
    "Формула для расчёта потребления:\n",
    "\n",
    "$$\n",
    "kWh = Wt\n",
    "$$\n",
    "\n",
    "Где:\n",
    "\n",
    "- W - мощность\n",
    "- t - время\n",
    "\n",
    "Найдём общее время замера в часах"
   ]
  },
  {
   "cell_type": "code",
   "execution_count": 18,
   "metadata": {},
   "outputs": [],
   "source": [
    "data_arc['Общее время'] = (data_arc['Конец нагрева дугой'] - data_arc['Начало нагрева дугой']\n",
    "                          ).dt.seconds.astype(int)/3600"
   ]
  },
  {
   "cell_type": "markdown",
   "metadata": {},
   "source": [
    "Расчитаем потребление для активной и реактивной мощности."
   ]
  },
  {
   "cell_type": "code",
   "execution_count": 19,
   "metadata": {},
   "outputs": [],
   "source": [
    "data_arc['Реактивное потребление'] = data_arc['Общее время']*data_arc['Реактивная мощность']\n",
    "data_arc['Активное потребление'] = data_arc['Общее время']*data_arc['Активная мощность']"
   ]
  },
  {
   "cell_type": "markdown",
   "metadata": {},
   "source": [
    "Удалим признаки со временем, они нам больше не понадобятся"
   ]
  },
  {
   "cell_type": "code",
   "execution_count": 20,
   "metadata": {},
   "outputs": [],
   "source": [
    "data_arc = data_arc.drop(['Начало нагрева дугой', 'Конец нагрева дугой'], axis = 1)"
   ]
  },
  {
   "cell_type": "markdown",
   "metadata": {},
   "source": [
    "Создадим признаки:\n",
    "- с общим количеством операций с каждым отдельным сплавом\n",
    "- с суммарной полной мощностью и потреблением \n",
    "- суммарным временем."
   ]
  },
  {
   "cell_type": "code",
   "execution_count": 21,
   "metadata": {},
   "outputs": [],
   "source": [
    "operations = []\n",
    "a_power = []\n",
    "r_power = []\n",
    "time = []\n",
    "a_consumption = []\n",
    "r_consumption = []\n",
    "\n",
    "\n",
    "for i in range(1, 3242): #сделаем цикл для создания целевого признака\n",
    "    operations.append(len(data_arc[data_arc['key'] == i]))\n",
    "    a_power.append((data_arc[data_arc['key'] == i])['Активная мощность'].sum())\n",
    "    r_power.append((data_arc[data_arc['key'] == i])['Реактивная мощность'].sum())\n",
    "    time.append((data_arc[data_arc['key'] == i])['Общее время'].sum())\n",
    "    a_consumption.append((data_arc[data_arc['key'] == i])['Активное потребление'].sum())\n",
    "    r_consumption.append((data_arc[data_arc['key'] == i])['Реактивное потребление'].sum())\n",
    "final_arc = pd.DataFrame(index = range(1, len(operations)+1)) "
   ]
  },
  {
   "cell_type": "code",
   "execution_count": 22,
   "metadata": {},
   "outputs": [],
   "source": [
    "final_arc['operations'] = operations\n",
    "final_arc['a_power'] = a_power\n",
    "final_arc['r_power'] = r_power\n",
    "final_arc['time'] = time\n",
    "final_arc['a_consumption'] = a_consumption\n",
    "final_arc['r_consumption'] = r_consumption"
   ]
  },
  {
   "cell_type": "code",
   "execution_count": 23,
   "metadata": {},
   "outputs": [
    {
     "data": {
      "text/plain": [
       "(3241, 6)"
      ]
     },
     "execution_count": 23,
     "metadata": {},
     "output_type": "execute_result"
    }
   ],
   "source": [
    "final_arc.shape"
   ]
  },
  {
   "cell_type": "markdown",
   "metadata": {},
   "source": [
    "#### Изучим датафрейм `data_gas`"
   ]
  },
  {
   "cell_type": "code",
   "execution_count": 24,
   "metadata": {},
   "outputs": [
    {
     "data": {
      "text/html": [
       "<div>\n",
       "<style scoped>\n",
       "    .dataframe tbody tr th:only-of-type {\n",
       "        vertical-align: middle;\n",
       "    }\n",
       "\n",
       "    .dataframe tbody tr th {\n",
       "        vertical-align: top;\n",
       "    }\n",
       "\n",
       "    .dataframe thead th {\n",
       "        text-align: right;\n",
       "    }\n",
       "</style>\n",
       "<table border=\"1\" class=\"dataframe\">\n",
       "  <thead>\n",
       "    <tr style=\"text-align: right;\">\n",
       "      <th></th>\n",
       "      <th>Газ 1</th>\n",
       "    </tr>\n",
       "    <tr>\n",
       "      <th>key</th>\n",
       "      <th></th>\n",
       "    </tr>\n",
       "  </thead>\n",
       "  <tbody>\n",
       "    <tr>\n",
       "      <th>1</th>\n",
       "      <td>29.749986</td>\n",
       "    </tr>\n",
       "    <tr>\n",
       "      <th>2</th>\n",
       "      <td>12.555561</td>\n",
       "    </tr>\n",
       "    <tr>\n",
       "      <th>3</th>\n",
       "      <td>28.554793</td>\n",
       "    </tr>\n",
       "    <tr>\n",
       "      <th>4</th>\n",
       "      <td>18.841219</td>\n",
       "    </tr>\n",
       "    <tr>\n",
       "      <th>5</th>\n",
       "      <td>5.413692</td>\n",
       "    </tr>\n",
       "  </tbody>\n",
       "</table>\n",
       "</div>"
      ],
      "text/plain": [
       "         Газ 1\n",
       "key           \n",
       "1    29.749986\n",
       "2    12.555561\n",
       "3    28.554793\n",
       "4    18.841219\n",
       "5     5.413692"
      ]
     },
     "execution_count": 24,
     "metadata": {},
     "output_type": "execute_result"
    }
   ],
   "source": [
    "data_gas.head()"
   ]
  },
  {
   "cell_type": "code",
   "execution_count": 25,
   "metadata": {},
   "outputs": [
    {
     "name": "stdout",
     "output_type": "stream",
     "text": [
      "<class 'pandas.core.frame.DataFrame'>\n",
      "Int64Index: 3239 entries, 1 to 3241\n",
      "Data columns (total 1 columns):\n",
      " #   Column  Non-Null Count  Dtype  \n",
      "---  ------  --------------  -----  \n",
      " 0   Газ 1   3239 non-null   float64\n",
      "dtypes: float64(1)\n",
      "memory usage: 50.6 KB\n"
     ]
    }
   ],
   "source": [
    "data_gas.info()"
   ]
  },
  {
   "cell_type": "markdown",
   "metadata": {},
   "source": [
    "- здесь у нас только один признак, это информация о продувке сплава газом"
   ]
  },
  {
   "cell_type": "markdown",
   "metadata": {},
   "source": [
    "Построим boxplot"
   ]
  },
  {
   "cell_type": "code",
   "execution_count": 26,
   "metadata": {},
   "outputs": [
    {
     "data": {
      "image/png": "[encoded data removed]",
      "text/plain": [
       "<Figure size 432x288 with 1 Axes>"
      ]
     },
     "metadata": {
      "needs_background": "light"
     },
     "output_type": "display_data"
    }
   ],
   "source": [
    "sns.boxplot(data_gas['Газ 1'])\n",
    "plt.show()"
   ]
  },
  {
   "cell_type": "markdown",
   "metadata": {},
   "source": [
    "Есть явный выброс в значениях более 70, в дальнейшем удалим его."
   ]
  },
  {
   "cell_type": "markdown",
   "metadata": {},
   "source": [
    "Объединим датафреймы `data_bw` и `data_gas`"
   ]
  },
  {
   "cell_type": "code",
   "execution_count": 27,
   "metadata": {},
   "outputs": [],
   "source": [
    "data_bwg = data_gas.join(data_bw)"
   ]
  },
  {
   "cell_type": "code",
   "execution_count": 28,
   "metadata": {},
   "outputs": [
    {
     "data": {
      "text/plain": [
       "(3239, 24)"
      ]
     },
     "execution_count": 28,
     "metadata": {},
     "output_type": "execute_result"
    }
   ],
   "source": [
    "data_bwg.shape"
   ]
  },
  {
   "cell_type": "markdown",
   "metadata": {},
   "source": [
    "Проверим на дубликаты"
   ]
  },
  {
   "cell_type": "code",
   "execution_count": 29,
   "metadata": {},
   "outputs": [
    {
     "data": {
      "text/plain": [
       "0"
      ]
     },
     "execution_count": 29,
     "metadata": {},
     "output_type": "execute_result"
    }
   ],
   "source": [
    "data_bwg.duplicated().sum()"
   ]
  },
  {
   "cell_type": "markdown",
   "metadata": {},
   "source": [
    "#### Изучим датафрейм `data_temp`"
   ]
  },
  {
   "cell_type": "code",
   "execution_count": 30,
   "metadata": {},
   "outputs": [
    {
     "data": {
      "text/html": [
       "<div>\n",
       "<style scoped>\n",
       "    .dataframe tbody tr th:only-of-type {\n",
       "        vertical-align: middle;\n",
       "    }\n",
       "\n",
       "    .dataframe tbody tr th {\n",
       "        vertical-align: top;\n",
       "    }\n",
       "\n",
       "    .dataframe thead th {\n",
       "        text-align: right;\n",
       "    }\n",
       "</style>\n",
       "<table border=\"1\" class=\"dataframe\">\n",
       "  <thead>\n",
       "    <tr style=\"text-align: right;\">\n",
       "      <th></th>\n",
       "      <th>key</th>\n",
       "      <th>Время замера</th>\n",
       "      <th>Температура</th>\n",
       "    </tr>\n",
       "  </thead>\n",
       "  <tbody>\n",
       "    <tr>\n",
       "      <th>0</th>\n",
       "      <td>1</td>\n",
       "      <td>2019-05-03 11:16:18</td>\n",
       "      <td>1571.0</td>\n",
       "    </tr>\n",
       "    <tr>\n",
       "      <th>1</th>\n",
       "      <td>1</td>\n",
       "      <td>2019-05-03 11:25:53</td>\n",
       "      <td>1604.0</td>\n",
       "    </tr>\n",
       "    <tr>\n",
       "      <th>2</th>\n",
       "      <td>1</td>\n",
       "      <td>2019-05-03 11:29:11</td>\n",
       "      <td>1618.0</td>\n",
       "    </tr>\n",
       "    <tr>\n",
       "      <th>3</th>\n",
       "      <td>1</td>\n",
       "      <td>2019-05-03 11:30:01</td>\n",
       "      <td>1601.0</td>\n",
       "    </tr>\n",
       "    <tr>\n",
       "      <th>4</th>\n",
       "      <td>1</td>\n",
       "      <td>2019-05-03 11:30:39</td>\n",
       "      <td>1613.0</td>\n",
       "    </tr>\n",
       "  </tbody>\n",
       "</table>\n",
       "</div>"
      ],
      "text/plain": [
       "   key         Время замера  Температура\n",
       "0    1  2019-05-03 11:16:18       1571.0\n",
       "1    1  2019-05-03 11:25:53       1604.0\n",
       "2    1  2019-05-03 11:29:11       1618.0\n",
       "3    1  2019-05-03 11:30:01       1601.0\n",
       "4    1  2019-05-03 11:30:39       1613.0"
      ]
     },
     "execution_count": 30,
     "metadata": {},
     "output_type": "execute_result"
    }
   ],
   "source": [
    "data_temp.head()"
   ]
  },
  {
   "cell_type": "markdown",
   "metadata": {},
   "source": [
    "Последний экземпляр стали был под номером 3241, он нам понадобится, для взятия последней температуры в образце как целевого признака."
   ]
  },
  {
   "cell_type": "code",
   "execution_count": 31,
   "metadata": {},
   "outputs": [
    {
     "name": "stdout",
     "output_type": "stream",
     "text": [
      "<class 'pandas.core.frame.DataFrame'>\n",
      "RangeIndex: 15907 entries, 0 to 15906\n",
      "Data columns (total 3 columns):\n",
      " #   Column        Non-Null Count  Dtype  \n",
      "---  ------        --------------  -----  \n",
      " 0   key           15907 non-null  int64  \n",
      " 1   Время замера  15907 non-null  object \n",
      " 2   Температура   13006 non-null  float64\n",
      "dtypes: float64(1), int64(1), object(1)\n",
      "memory usage: 372.9+ KB\n"
     ]
    }
   ],
   "source": [
    "data_temp.info()"
   ]
  },
  {
   "cell_type": "markdown",
   "metadata": {},
   "source": [
    "**Есть пропущенные значения в измерениях температуры, скорее всего это произошло из-за неисправности датчика.**"
   ]
  },
  {
   "cell_type": "markdown",
   "metadata": {},
   "source": [
    "Создадим признак с первым измерением температуры, если замер всего 1 установим значение как nan."
   ]
  },
  {
   "cell_type": "code",
   "execution_count": 32,
   "metadata": {},
   "outputs": [],
   "source": [
    "first_temp = []\n",
    "\n",
    "for i in range(1, 3242): #сделаем цикл для создания целевого признака\n",
    "    if len(data_temp[data_temp['key'] == i]) < 2: #если по образцу есть  1 замер температуры, заменим его на Nan\n",
    "        first_temp.append(np.nan)\n",
    "    else:   #для остальных возьмём первое\n",
    "        first_temp.append((data_temp[data_temp['key'] == i].head(1)['Температура'].values)[0])"
   ]
  },
  {
   "cell_type": "markdown",
   "metadata": {},
   "source": [
    "### Выделим целевой признак\n",
    "\n",
    "Целевым признаком по условиям задачи, является температура образца стали на последнем этапе обработки."
   ]
  },
  {
   "cell_type": "code",
   "execution_count": 33,
   "metadata": {},
   "outputs": [],
   "source": [
    "temp = []\n",
    "\n",
    "for i in range(1, 3242): #сделаем цикл для создания целевого признака\n",
    "    if len(data_temp[data_temp['key'] == i]) < 2: #если по образцу есть  1 замер температуры, заменим его на Nan\n",
    "        temp.append(np.nan)\n",
    "    else:   #для остальных возьмём последнее значение\n",
    "        temp.append((data_temp[data_temp['key'] == i].tail(1)['Температура'].values)[0])\n",
    "        \n",
    "final_temp = pd.DataFrame(temp, columns = ['temp'], index = range(1, len(temp)+1)) \n",
    "final_temp['first_temp'] = first_temp"
   ]
  },
  {
   "cell_type": "code",
   "execution_count": 34,
   "metadata": {},
   "outputs": [
    {
     "data": {
      "text/plain": [
       "(3241, 2)"
      ]
     },
     "execution_count": 34,
     "metadata": {},
     "output_type": "execute_result"
    }
   ],
   "source": [
    "final_temp.shape"
   ]
  },
  {
   "cell_type": "markdown",
   "metadata": {},
   "source": [
    "Посмотрим на распределение целевого признака:"
   ]
  },
  {
   "cell_type": "code",
   "execution_count": 35,
   "metadata": {},
   "outputs": [
    {
     "data": {
      "image/png": "[encoded data removed]",
      "text/plain": [
       "<Figure size 432x288 with 1 Axes>"
      ]
     },
     "metadata": {
      "needs_background": "light"
     },
     "output_type": "display_data"
    },
    {
     "data": {
      "image/png": "[encoded data removed]",
      "text/plain": [
       "<Figure size 432x288 with 1 Axes>"
      ]
     },
     "metadata": {
      "needs_background": "light"
     },
     "output_type": "display_data"
    }
   ],
   "source": [
    "dna = final_temp.dropna()\n",
    "\n",
    "stats.probplot(dna['temp'], dist=\"norm\", plot=pylab)\n",
    "pylab.show()\n",
    "\n",
    "sns.boxplot(final_temp['temp'])\n",
    "plt.show()"
   ]
  },
  {
   "cell_type": "markdown",
   "metadata": {},
   "source": [
    "В распределении целевого признака явных выбросов нет, т.к. у нас нет возможности уточнить какие температуры являются ошибочными в процессе обработки стали, что- то удалять из целевого признака не будем."
   ]
  },
  {
   "cell_type": "markdown",
   "metadata": {},
   "source": [
    "## Объединение данных"
   ]
  },
  {
   "cell_type": "markdown",
   "metadata": {},
   "source": [
    "Объединим все полученные датафреймы в один"
   ]
  },
  {
   "cell_type": "code",
   "execution_count": 36,
   "metadata": {},
   "outputs": [],
   "source": [
    "df = final_temp.join(final_arc).join(data_bwg)"
   ]
  },
  {
   "cell_type": "code",
   "execution_count": 37,
   "metadata": {},
   "outputs": [
    {
     "data": {
      "text/html": [
       "<div>\n",
       "<style scoped>\n",
       "    .dataframe tbody tr th:only-of-type {\n",
       "        vertical-align: middle;\n",
       "    }\n",
       "\n",
       "    .dataframe tbody tr th {\n",
       "        vertical-align: top;\n",
       "    }\n",
       "\n",
       "    .dataframe thead th {\n",
       "        text-align: right;\n",
       "    }\n",
       "</style>\n",
       "<table border=\"1\" class=\"dataframe\">\n",
       "  <thead>\n",
       "    <tr style=\"text-align: right;\">\n",
       "      <th></th>\n",
       "      <th>temp</th>\n",
       "      <th>first_temp</th>\n",
       "      <th>operations</th>\n",
       "      <th>a_power</th>\n",
       "      <th>r_power</th>\n",
       "      <th>time</th>\n",
       "      <th>a_consumption</th>\n",
       "      <th>r_consumption</th>\n",
       "      <th>Газ 1</th>\n",
       "      <th>Bulk 1</th>\n",
       "      <th>Bulk 2</th>\n",
       "      <th>Bulk 3</th>\n",
       "      <th>Bulk 4</th>\n",
       "      <th>Bulk 5</th>\n",
       "      <th>Bulk 6</th>\n",
       "      <th>Bulk 7</th>\n",
       "      <th>Bulk 9</th>\n",
       "      <th>Bulk 10</th>\n",
       "      <th>Bulk 11</th>\n",
       "      <th>Bulk 12</th>\n",
       "      <th>Bulk 13</th>\n",
       "      <th>Bulk 14</th>\n",
       "      <th>Bulk 15</th>\n",
       "      <th>Wire 1</th>\n",
       "      <th>Wire 2</th>\n",
       "      <th>Wire 3</th>\n",
       "      <th>Wire 4</th>\n",
       "      <th>Wire 5</th>\n",
       "      <th>Wire 6</th>\n",
       "      <th>Wire 7</th>\n",
       "      <th>Wire 8</th>\n",
       "      <th>Wire 9</th>\n",
       "    </tr>\n",
       "  </thead>\n",
       "  <tbody>\n",
       "    <tr>\n",
       "      <th>1</th>\n",
       "      <td>1613.0</td>\n",
       "      <td>1571.0</td>\n",
       "      <td>5</td>\n",
       "      <td>4.878147</td>\n",
       "      <td>3.183241</td>\n",
       "      <td>0.305000</td>\n",
       "      <td>0.335501</td>\n",
       "      <td>0.218863</td>\n",
       "      <td>29.749986</td>\n",
       "      <td>NaN</td>\n",
       "      <td>NaN</td>\n",
       "      <td>NaN</td>\n",
       "      <td>43.0</td>\n",
       "      <td>NaN</td>\n",
       "      <td>NaN</td>\n",
       "      <td>NaN</td>\n",
       "      <td>NaN</td>\n",
       "      <td>NaN</td>\n",
       "      <td>NaN</td>\n",
       "      <td>206.0</td>\n",
       "      <td>NaN</td>\n",
       "      <td>150.0</td>\n",
       "      <td>154.0</td>\n",
       "      <td>60.059998</td>\n",
       "      <td>NaN</td>\n",
       "      <td>NaN</td>\n",
       "      <td>NaN</td>\n",
       "      <td>NaN</td>\n",
       "      <td>NaN</td>\n",
       "      <td>NaN</td>\n",
       "      <td>NaN</td>\n",
       "      <td>NaN</td>\n",
       "    </tr>\n",
       "    <tr>\n",
       "      <th>2</th>\n",
       "      <td>1602.0</td>\n",
       "      <td>1581.0</td>\n",
       "      <td>4</td>\n",
       "      <td>3.052598</td>\n",
       "      <td>1.998112</td>\n",
       "      <td>0.225278</td>\n",
       "      <td>0.203838</td>\n",
       "      <td>0.135442</td>\n",
       "      <td>12.555561</td>\n",
       "      <td>NaN</td>\n",
       "      <td>NaN</td>\n",
       "      <td>NaN</td>\n",
       "      <td>73.0</td>\n",
       "      <td>NaN</td>\n",
       "      <td>NaN</td>\n",
       "      <td>NaN</td>\n",
       "      <td>NaN</td>\n",
       "      <td>NaN</td>\n",
       "      <td>NaN</td>\n",
       "      <td>206.0</td>\n",
       "      <td>NaN</td>\n",
       "      <td>149.0</td>\n",
       "      <td>154.0</td>\n",
       "      <td>96.052315</td>\n",
       "      <td>NaN</td>\n",
       "      <td>NaN</td>\n",
       "      <td>NaN</td>\n",
       "      <td>NaN</td>\n",
       "      <td>NaN</td>\n",
       "      <td>NaN</td>\n",
       "      <td>NaN</td>\n",
       "      <td>NaN</td>\n",
       "    </tr>\n",
       "    <tr>\n",
       "      <th>3</th>\n",
       "      <td>1599.0</td>\n",
       "      <td>1596.0</td>\n",
       "      <td>5</td>\n",
       "      <td>2.525882</td>\n",
       "      <td>1.599076</td>\n",
       "      <td>0.181944</td>\n",
       "      <td>0.123218</td>\n",
       "      <td>0.078038</td>\n",
       "      <td>28.554793</td>\n",
       "      <td>NaN</td>\n",
       "      <td>NaN</td>\n",
       "      <td>NaN</td>\n",
       "      <td>34.0</td>\n",
       "      <td>NaN</td>\n",
       "      <td>NaN</td>\n",
       "      <td>NaN</td>\n",
       "      <td>NaN</td>\n",
       "      <td>NaN</td>\n",
       "      <td>NaN</td>\n",
       "      <td>205.0</td>\n",
       "      <td>NaN</td>\n",
       "      <td>152.0</td>\n",
       "      <td>153.0</td>\n",
       "      <td>91.160157</td>\n",
       "      <td>NaN</td>\n",
       "      <td>NaN</td>\n",
       "      <td>NaN</td>\n",
       "      <td>NaN</td>\n",
       "      <td>NaN</td>\n",
       "      <td>NaN</td>\n",
       "      <td>NaN</td>\n",
       "      <td>NaN</td>\n",
       "    </tr>\n",
       "    <tr>\n",
       "      <th>4</th>\n",
       "      <td>1625.0</td>\n",
       "      <td>1601.0</td>\n",
       "      <td>4</td>\n",
       "      <td>3.209250</td>\n",
       "      <td>2.060298</td>\n",
       "      <td>0.205833</td>\n",
       "      <td>0.186295</td>\n",
       "      <td>0.119427</td>\n",
       "      <td>18.841219</td>\n",
       "      <td>NaN</td>\n",
       "      <td>NaN</td>\n",
       "      <td>NaN</td>\n",
       "      <td>81.0</td>\n",
       "      <td>NaN</td>\n",
       "      <td>NaN</td>\n",
       "      <td>NaN</td>\n",
       "      <td>NaN</td>\n",
       "      <td>NaN</td>\n",
       "      <td>NaN</td>\n",
       "      <td>207.0</td>\n",
       "      <td>NaN</td>\n",
       "      <td>153.0</td>\n",
       "      <td>154.0</td>\n",
       "      <td>89.063515</td>\n",
       "      <td>NaN</td>\n",
       "      <td>NaN</td>\n",
       "      <td>NaN</td>\n",
       "      <td>NaN</td>\n",
       "      <td>NaN</td>\n",
       "      <td>NaN</td>\n",
       "      <td>NaN</td>\n",
       "      <td>NaN</td>\n",
       "    </tr>\n",
       "    <tr>\n",
       "      <th>5</th>\n",
       "      <td>1602.0</td>\n",
       "      <td>1576.0</td>\n",
       "      <td>4</td>\n",
       "      <td>3.347173</td>\n",
       "      <td>2.252643</td>\n",
       "      <td>0.241389</td>\n",
       "      <td>0.277082</td>\n",
       "      <td>0.184706</td>\n",
       "      <td>5.413692</td>\n",
       "      <td>NaN</td>\n",
       "      <td>NaN</td>\n",
       "      <td>NaN</td>\n",
       "      <td>78.0</td>\n",
       "      <td>NaN</td>\n",
       "      <td>NaN</td>\n",
       "      <td>NaN</td>\n",
       "      <td>NaN</td>\n",
       "      <td>NaN</td>\n",
       "      <td>NaN</td>\n",
       "      <td>203.0</td>\n",
       "      <td>NaN</td>\n",
       "      <td>151.0</td>\n",
       "      <td>152.0</td>\n",
       "      <td>89.238236</td>\n",
       "      <td>9.11456</td>\n",
       "      <td>NaN</td>\n",
       "      <td>NaN</td>\n",
       "      <td>NaN</td>\n",
       "      <td>NaN</td>\n",
       "      <td>NaN</td>\n",
       "      <td>NaN</td>\n",
       "      <td>NaN</td>\n",
       "    </tr>\n",
       "  </tbody>\n",
       "</table>\n",
       "</div>"
      ],
      "text/plain": [
       "     temp  first_temp  operations   a_power   r_power      time  \\\n",
       "1  1613.0      1571.0           5  4.878147  3.183241  0.305000   \n",
       "2  1602.0      1581.0           4  3.052598  1.998112  0.225278   \n",
       "3  1599.0      1596.0           5  2.525882  1.599076  0.181944   \n",
       "4  1625.0      1601.0           4  3.209250  2.060298  0.205833   \n",
       "5  1602.0      1576.0           4  3.347173  2.252643  0.241389   \n",
       "\n",
       "   a_consumption  r_consumption      Газ 1  Bulk 1  Bulk 2  Bulk 3  Bulk 4  \\\n",
       "1       0.335501       0.218863  29.749986     NaN     NaN     NaN    43.0   \n",
       "2       0.203838       0.135442  12.555561     NaN     NaN     NaN    73.0   \n",
       "3       0.123218       0.078038  28.554793     NaN     NaN     NaN    34.0   \n",
       "4       0.186295       0.119427  18.841219     NaN     NaN     NaN    81.0   \n",
       "5       0.277082       0.184706   5.413692     NaN     NaN     NaN    78.0   \n",
       "\n",
       "   Bulk 5  Bulk 6  Bulk 7  Bulk 9  Bulk 10  Bulk 11  Bulk 12  Bulk 13  \\\n",
       "1     NaN     NaN     NaN     NaN      NaN      NaN    206.0      NaN   \n",
       "2     NaN     NaN     NaN     NaN      NaN      NaN    206.0      NaN   \n",
       "3     NaN     NaN     NaN     NaN      NaN      NaN    205.0      NaN   \n",
       "4     NaN     NaN     NaN     NaN      NaN      NaN    207.0      NaN   \n",
       "5     NaN     NaN     NaN     NaN      NaN      NaN    203.0      NaN   \n",
       "\n",
       "   Bulk 14  Bulk 15     Wire 1   Wire 2  Wire 3  Wire 4  Wire 5  Wire 6  \\\n",
       "1    150.0    154.0  60.059998      NaN     NaN     NaN     NaN     NaN   \n",
       "2    149.0    154.0  96.052315      NaN     NaN     NaN     NaN     NaN   \n",
       "3    152.0    153.0  91.160157      NaN     NaN     NaN     NaN     NaN   \n",
       "4    153.0    154.0  89.063515      NaN     NaN     NaN     NaN     NaN   \n",
       "5    151.0    152.0  89.238236  9.11456     NaN     NaN     NaN     NaN   \n",
       "\n",
       "   Wire 7  Wire 8  Wire 9  \n",
       "1     NaN     NaN     NaN  \n",
       "2     NaN     NaN     NaN  \n",
       "3     NaN     NaN     NaN  \n",
       "4     NaN     NaN     NaN  \n",
       "5     NaN     NaN     NaN  "
      ]
     },
     "execution_count": 37,
     "metadata": {},
     "output_type": "execute_result"
    }
   ],
   "source": [
    "df.head()"
   ]
  },
  {
   "cell_type": "code",
   "execution_count": 38,
   "metadata": {},
   "outputs": [
    {
     "data": {
      "text/plain": [
       "(3241, 32)"
      ]
     },
     "execution_count": 38,
     "metadata": {},
     "output_type": "execute_result"
    }
   ],
   "source": [
    "df.shape"
   ]
  },
  {
   "cell_type": "markdown",
   "metadata": {},
   "source": [
    "Избавимся от строк с nan в целевом признаке"
   ]
  },
  {
   "cell_type": "code",
   "execution_count": 39,
   "metadata": {},
   "outputs": [],
   "source": [
    "df['temp'] = df['temp'].replace(np.nan, 0)\n",
    "df = df.query('temp != 0')"
   ]
  },
  {
   "cell_type": "markdown",
   "metadata": {},
   "source": [
    "Как ранее заметили удалим выбросы в стобце gas"
   ]
  },
  {
   "cell_type": "code",
   "execution_count": 40,
   "metadata": {},
   "outputs": [],
   "source": [
    "df = df[df['Газ 1'] < 70]"
   ]
  },
  {
   "cell_type": "markdown",
   "metadata": {},
   "source": [
    "Проверим, есть ли сильные выбросы в сыпучих и проволочных материалах."
   ]
  },
  {
   "cell_type": "code",
   "execution_count": 41,
   "metadata": {},
   "outputs": [
    {
     "data": {
      "image/png": "[encoded data removed]",
      "text/plain": [
       "<Figure size 1440x720 with 1 Axes>"
      ]
     },
     "metadata": {
      "needs_background": "light"
     },
     "output_type": "display_data"
    }
   ],
   "source": [
    "plt.figure(figsize=(20,10))\n",
    "ax = sns.boxplot(data=df.iloc[:,9:22])\n",
    "ax.set_title('wire')\n",
    "plt.show()"
   ]
  },
  {
   "cell_type": "code",
   "execution_count": 42,
   "metadata": {},
   "outputs": [
    {
     "data": {
      "image/png": "[encoded data removed]",
      "text/plain": [
       "<Figure size 1440x720 with 1 Axes>"
      ]
     },
     "metadata": {
      "needs_background": "light"
     },
     "output_type": "display_data"
    }
   ],
   "source": [
    "plt.figure(figsize=(20,10))\n",
    "ax = sns.boxplot(data=df.iloc[:,24:33])\n",
    "ax.set_title('wire')\n",
    "plt.show()"
   ]
  },
  {
   "cell_type": "markdown",
   "metadata": {},
   "source": [
    "Явных выбросов нет, удалим признак `Wire 5`, т.к. в нём остались только nan"
   ]
  },
  {
   "cell_type": "code",
   "execution_count": 43,
   "metadata": {},
   "outputs": [],
   "source": [
    "df = df.drop(['Wire 5'], axis = 1)"
   ]
  },
  {
   "cell_type": "markdown",
   "metadata": {},
   "source": [
    "По результатам анализа и подготовки данных можно сказать следующее:\n",
    "\n",
    "- Некоторые сыпучие и проволочные материалы используются значительно чаще чем другие.\n",
    "- Удалось выделить изначальную температуру образца стали.\n",
    "- Получилось создать ряд дополнительных признаков из датасета `data_arc`"
   ]
  },
  {
   "cell_type": "markdown",
   "metadata": {},
   "source": [
    "## Обучение моделей"
   ]
  },
  {
   "cell_type": "markdown",
   "metadata": {},
   "source": [
    "Разделим выборку на train и test, кросс валидацию для обучения моделей будем проводить с помощью RandomizedSearchCV"
   ]
  },
  {
   "cell_type": "code",
   "execution_count": 44,
   "metadata": {},
   "outputs": [],
   "source": [
    "y = df['temp']\n",
    "X = df.drop(['temp'], axis = 1)\n",
    "\n",
    "X_train, X_test, y_train, y_test = train_test_split(\n",
    "    X, y, test_size=0.2, random_state=12345)"
   ]
  },
  {
   "cell_type": "markdown",
   "metadata": {},
   "source": [
    "- Decision Tree"
   ]
  },
  {
   "cell_type": "code",
   "execution_count": 45,
   "metadata": {},
   "outputs": [
    {
     "name": "stdout",
     "output_type": "stream",
     "text": [
      "Fitting 4 folds for each of 20 candidates, totalling 80 fits\n"
     ]
    },
    {
     "name": "stderr",
     "output_type": "stream",
     "text": [
      "[Parallel(n_jobs=-1)]: Using backend LokyBackend with 12 concurrent workers.\n",
      "[Parallel(n_jobs=-1)]: Done  26 tasks      | elapsed:    0.8s\n",
      "[Parallel(n_jobs=-1)]: Done  80 out of  80 | elapsed:    1.0s finished\n"
     ]
    },
    {
     "name": "stdout",
     "output_type": "stream",
     "text": [
      "Лучшие гиперпараметры для дерева решений\n",
      "\n",
      "{'ccp_alpha': 0.0, 'criterion': 'mae', 'max_depth': 6, 'max_features': None, 'max_leaf_nodes': None, 'min_impurity_decrease': 0.0, 'min_impurity_split': None, 'min_samples_leaf': 1, 'min_samples_split': 2, 'min_weight_fraction_leaf': 0.0, 'presort': 'deprecated', 'random_state': None, 'splitter': 'best'}\n",
      "MAE 7.77979797979798\n",
      "CPU times: user 354 ms, sys: 68.1 ms, total: 423 ms\n",
      "Wall time: 1.18 s\n"
     ]
    }
   ],
   "source": [
    "%%time\n",
    "\n",
    "X_train_tree = X_train.iloc[:,0:10].fillna(0)\n",
    "X_test_tree = X_test.iloc[:,0:10].fillna(0)\n",
    "\n",
    "dt_clf = DecisionTreeRegressor()\n",
    "\n",
    "parameters = { \n",
    "              'criterion': ['mse', 'friedman_mse', 'mae'],\n",
    "              'max_depth': [2, 3, 4, 5, 6, 7, 8],\n",
    "              'min_samples_split': [2, 3, 4, 5, 6, 7, 8, 9, 10],\n",
    "                                       }\n",
    "\n",
    "\n",
    "dt_rscv = RandomizedSearchCV(dt_clf, param_distributions = parameters, scoring = \"neg_mean_absolute_error\",\n",
    "                             cv = 4, verbose = 1, random_state = 12345, n_jobs = -1, n_iter = 20)\n",
    "\n",
    "\n",
    "\n",
    "dt = dt_rscv.fit(X_train_tree, y_train)\n",
    "\n",
    "best_par = dt.best_estimator_.get_params()\n",
    "\n",
    "preds = dt.predict(X_test_tree)\n",
    "print(\"Лучшие гиперпараметры для дерева решений\")\n",
    "print()\n",
    "print(dt.best_estimator_.get_params())\n",
    "print(\"MAE\", (mean_absolute_error(y_test, preds)))"
   ]
  },
  {
   "cell_type": "markdown",
   "metadata": {},
   "source": [
    "- XGBoost"
   ]
  },
  {
   "cell_type": "code",
   "execution_count": 68,
   "metadata": {},
   "outputs": [
    {
     "name": "stdout",
     "output_type": "stream",
     "text": [
      "Fitting 3 folds for each of 30 candidates, totalling 90 fits\n"
     ]
    },
    {
     "name": "stderr",
     "output_type": "stream",
     "text": [
      "[Parallel(n_jobs=-1)]: Using backend LokyBackend with 12 concurrent workers.\n",
      "[Parallel(n_jobs=-1)]: Done  26 tasks      | elapsed:   12.4s\n",
      "[Parallel(n_jobs=-1)]: Done  90 out of  90 | elapsed:   36.9s finished\n"
     ]
    },
    {
     "name": "stdout",
     "output_type": "stream",
     "text": [
      "Лучшие гиперпараметры XGBoost\n",
      "\n",
      "{'objective': 'reg:squarederror', 'base_score': 0.5, 'booster': 'gbtree', 'colsample_bylevel': 1, 'colsample_bynode': 1, 'colsample_bytree': 1, 'gamma': 0, 'gpu_id': -1, 'importance_type': 'gain', 'interaction_constraints': '', 'learning_rate': 0.1, 'max_delta_step': 0, 'max_depth': 124, 'min_child_weight': 4, 'missing': nan, 'monotone_constraints': '()', 'n_estimators': 9632, 'n_jobs': 0, 'num_parallel_tree': 1, 'random_state': 0, 'reg_alpha': 0.1, 'reg_lambda': 1, 'scale_pos_weight': 1, 'subsample': 1, 'tree_method': 'exact', 'validate_parameters': 1, 'verbosity': None, 'sampling_method': 'gradient_based'}\n",
      "MAE 6.1514858053188135\n",
      "CPU times: user 38.9 s, sys: 302 ms, total: 39.2 s\n",
      "Wall time: 40.2 s\n"
     ]
    }
   ],
   "source": [
    "%%time\n",
    "xgb_r = xgb.XGBRegressor()\n",
    "\n",
    "parameters = { \n",
    "              'learning_rate': [0, .1, .2, .3, .4, .5, .6, .7, .8, .9, 1],\n",
    "              'max_depth': randint(2,200),\n",
    "              'n_estimators': randint(100, 10000),\n",
    "              'min_child_weight' : randint(1,10),\n",
    "              'sampling_method' : ['uniform', 'gradient_based'], \n",
    "              'reg_alpha':[1e-5, 1e-2, 0.1, 1, 100]\n",
    "                                       }\n",
    "\n",
    "\n",
    "xgb_rscv = RandomizedSearchCV(xgb_r, param_distributions = parameters, scoring = \"neg_mean_absolute_error\",\n",
    "                             cv = 3, verbose = 1, random_state = 12345, n_jobs = -1, n_iter = 30)\n",
    "\n",
    "\n",
    "\n",
    "model_xgboost = xgb_rscv.fit(X_train, y_train)\n",
    "\n",
    "best_par = model_xgboost.best_estimator_.get_params()\n",
    "\n",
    "preds = model_xgboost.predict(X_test)\n",
    "print(\"Лучшие гиперпараметры XGBoost\")\n",
    "print()\n",
    "print(model_xgboost.best_estimator_.get_params())\n",
    "print(\"MAE\", (mean_absolute_error(y_test, preds)))"
   ]
  },
  {
   "cell_type": "markdown",
   "metadata": {},
   "source": [
    "- CatBoost"
   ]
  },
  {
   "cell_type": "code",
   "execution_count": 58,
   "metadata": {},
   "outputs": [
    {
     "name": "stdout",
     "output_type": "stream",
     "text": [
      "0:\tlearn: 9.4900344\ttotal: 1.11ms\tremaining: 242ms\n",
      "1:\tlearn: 9.2008893\ttotal: 2.1ms\tremaining: 227ms\n",
      "2:\tlearn: 8.9538119\ttotal: 3.49ms\tremaining: 250ms\n",
      "3:\tlearn: 8.6919137\ttotal: 4.33ms\tremaining: 232ms\n",
      "4:\tlearn: 8.5113623\ttotal: 5.39ms\tremaining: 230ms\n",
      "5:\tlearn: 8.4090522\ttotal: 6.22ms\tremaining: 220ms\n",
      "6:\tlearn: 8.2784062\ttotal: 7.55ms\tremaining: 228ms\n",
      "7:\tlearn: 8.1353441\ttotal: 8.73ms\tremaining: 229ms\n",
      "8:\tlearn: 8.1032073\ttotal: 9.34ms\tremaining: 217ms\n",
      "9:\tlearn: 8.0107628\ttotal: 10.6ms\tremaining: 221ms\n",
      "10:\tlearn: 7.9179225\ttotal: 12.1ms\tremaining: 228ms\n",
      "11:\tlearn: 7.8259968\ttotal: 12.9ms\tremaining: 221ms\n",
      "12:\tlearn: 7.7725114\ttotal: 13.8ms\tremaining: 218ms\n",
      "13:\tlearn: 7.7143959\ttotal: 14.4ms\tremaining: 209ms\n",
      "14:\tlearn: 7.5865825\ttotal: 15.1ms\tremaining: 205ms\n",
      "15:\tlearn: 7.5229914\ttotal: 15.7ms\tremaining: 198ms\n",
      "16:\tlearn: 7.4932161\ttotal: 16.3ms\tremaining: 193ms\n",
      "17:\tlearn: 7.4534538\ttotal: 16.9ms\tremaining: 188ms\n",
      "18:\tlearn: 7.4164211\ttotal: 17.7ms\tremaining: 185ms\n",
      "19:\tlearn: 7.3964014\ttotal: 18.6ms\tremaining: 184ms\n",
      "20:\tlearn: 7.3593505\ttotal: 19.4ms\tremaining: 182ms\n",
      "21:\tlearn: 7.3355269\ttotal: 20ms\tremaining: 178ms\n",
      "22:\tlearn: 7.3013046\ttotal: 20.7ms\tremaining: 176ms\n",
      "23:\tlearn: 7.2874838\ttotal: 21.5ms\tremaining: 174ms\n",
      "24:\tlearn: 7.1537920\ttotal: 22.3ms\tremaining: 172ms\n",
      "25:\tlearn: 7.1277582\ttotal: 23.1ms\tremaining: 170ms\n",
      "26:\tlearn: 7.0213097\ttotal: 23.6ms\tremaining: 167ms\n",
      "27:\tlearn: 6.9290845\ttotal: 24.5ms\tremaining: 166ms\n",
      "28:\tlearn: 6.9141599\ttotal: 25.3ms\tremaining: 165ms\n",
      "29:\tlearn: 6.9034801\ttotal: 26.7ms\tremaining: 167ms\n",
      "30:\tlearn: 6.8608854\ttotal: 27.2ms\tremaining: 164ms\n",
      "31:\tlearn: 6.8388435\ttotal: 28ms\tremaining: 163ms\n",
      "32:\tlearn: 6.8176073\ttotal: 28.7ms\tremaining: 161ms\n",
      "33:\tlearn: 6.8092670\ttotal: 29.4ms\tremaining: 159ms\n",
      "34:\tlearn: 6.6912489\ttotal: 30.2ms\tremaining: 158ms\n",
      "35:\tlearn: 6.6755547\ttotal: 30.8ms\tremaining: 156ms\n",
      "36:\tlearn: 6.6020304\ttotal: 31.5ms\tremaining: 154ms\n",
      "37:\tlearn: 6.5783683\ttotal: 32.3ms\tremaining: 153ms\n",
      "38:\tlearn: 6.5445159\ttotal: 33.1ms\tremaining: 152ms\n",
      "39:\tlearn: 6.4675167\ttotal: 33.7ms\tremaining: 150ms\n",
      "40:\tlearn: 6.4403729\ttotal: 34.2ms\tremaining: 148ms\n",
      "41:\tlearn: 6.4194848\ttotal: 34.8ms\tremaining: 146ms\n",
      "42:\tlearn: 6.4079400\ttotal: 35.8ms\tremaining: 146ms\n",
      "43:\tlearn: 6.3541077\ttotal: 36.4ms\tremaining: 144ms\n",
      "44:\tlearn: 6.3421757\ttotal: 37.1ms\tremaining: 143ms\n",
      "45:\tlearn: 6.3161187\ttotal: 37.7ms\tremaining: 141ms\n",
      "46:\tlearn: 6.3104307\ttotal: 38.3ms\tremaining: 139ms\n",
      "47:\tlearn: 6.2995954\ttotal: 39.4ms\tremaining: 139ms\n",
      "48:\tlearn: 6.2838606\ttotal: 40ms\tremaining: 138ms\n",
      "49:\tlearn: 6.2316749\ttotal: 40.5ms\tremaining: 136ms\n",
      "50:\tlearn: 6.2141498\ttotal: 41.1ms\tremaining: 134ms\n",
      "51:\tlearn: 6.1928274\ttotal: 42.5ms\tremaining: 136ms\n",
      "52:\tlearn: 6.1051208\ttotal: 43.4ms\tremaining: 135ms\n",
      "53:\tlearn: 6.0697181\ttotal: 44.2ms\tremaining: 134ms\n",
      "54:\tlearn: 6.0619974\ttotal: 44.9ms\tremaining: 133ms\n",
      "55:\tlearn: 6.0345016\ttotal: 45.5ms\tremaining: 131ms\n",
      "56:\tlearn: 6.0284351\ttotal: 46ms\tremaining: 130ms\n",
      "57:\tlearn: 6.0065116\ttotal: 46.8ms\tremaining: 129ms\n",
      "58:\tlearn: 5.9886569\ttotal: 47.8ms\tremaining: 129ms\n",
      "59:\tlearn: 5.9652217\ttotal: 48.3ms\tremaining: 127ms\n",
      "60:\tlearn: 5.9107564\ttotal: 49.3ms\tremaining: 127ms\n",
      "61:\tlearn: 5.8630751\ttotal: 49.9ms\tremaining: 126ms\n",
      "62:\tlearn: 5.8473590\ttotal: 50.7ms\tremaining: 125ms\n",
      "63:\tlearn: 5.8369452\ttotal: 51.9ms\tremaining: 125ms\n",
      "64:\tlearn: 5.8201200\ttotal: 52.8ms\tremaining: 124ms\n",
      "65:\tlearn: 5.8123009\ttotal: 53.7ms\tremaining: 124ms\n",
      "66:\tlearn: 5.7965421\ttotal: 54.6ms\tremaining: 123ms\n",
      "67:\tlearn: 5.7657453\ttotal: 55.6ms\tremaining: 123ms\n",
      "68:\tlearn: 5.7593456\ttotal: 56.5ms\tremaining: 122ms\n",
      "69:\tlearn: 5.7471682\ttotal: 57.1ms\tremaining: 121ms\n",
      "70:\tlearn: 5.7366584\ttotal: 57.8ms\tremaining: 120ms\n",
      "71:\tlearn: 5.7307382\ttotal: 58.6ms\tremaining: 119ms\n",
      "72:\tlearn: 5.6897454\ttotal: 59.4ms\tremaining: 118ms\n",
      "73:\tlearn: 5.6856279\ttotal: 60.3ms\tremaining: 117ms\n",
      "74:\tlearn: 5.6736710\ttotal: 61ms\tremaining: 116ms\n",
      "75:\tlearn: 5.6627945\ttotal: 61.5ms\tremaining: 115ms\n",
      "76:\tlearn: 5.6529197\ttotal: 62.3ms\tremaining: 114ms\n",
      "77:\tlearn: 5.6442704\ttotal: 63.1ms\tremaining: 113ms\n",
      "78:\tlearn: 5.6369459\ttotal: 63.8ms\tremaining: 112ms\n",
      "79:\tlearn: 5.6262625\ttotal: 64.4ms\tremaining: 111ms\n",
      "80:\tlearn: 5.6173867\ttotal: 64.9ms\tremaining: 110ms\n",
      "81:\tlearn: 5.6119398\ttotal: 65.7ms\tremaining: 109ms\n",
      "82:\tlearn: 5.6056738\ttotal: 66.4ms\tremaining: 108ms\n",
      "83:\tlearn: 5.5978500\ttotal: 67.2ms\tremaining: 107ms\n",
      "84:\tlearn: 5.5906393\ttotal: 67.8ms\tremaining: 106ms\n",
      "85:\tlearn: 5.5763677\ttotal: 68.4ms\tremaining: 105ms\n",
      "86:\tlearn: 5.5519660\ttotal: 69ms\tremaining: 104ms\n",
      "87:\tlearn: 5.5378574\ttotal: 69.6ms\tremaining: 103ms\n",
      "88:\tlearn: 5.5277832\ttotal: 70.5ms\tremaining: 102ms\n",
      "89:\tlearn: 5.5086867\ttotal: 71.1ms\tremaining: 101ms\n",
      "90:\tlearn: 5.5005664\ttotal: 71.7ms\tremaining: 100ms\n",
      "91:\tlearn: 5.4951326\ttotal: 72.5ms\tremaining: 99.3ms\n",
      "92:\tlearn: 5.4870495\ttotal: 73.5ms\tremaining: 98.7ms\n",
      "93:\tlearn: 5.4681866\ttotal: 74.5ms\tremaining: 98.2ms\n",
      "94:\tlearn: 5.4532732\ttotal: 75ms\tremaining: 97.1ms\n",
      "95:\tlearn: 5.4458405\ttotal: 75.8ms\tremaining: 96.4ms\n",
      "96:\tlearn: 5.4388222\ttotal: 76.6ms\tremaining: 95.6ms\n",
      "97:\tlearn: 5.4338878\ttotal: 77.4ms\tremaining: 94.7ms\n",
      "98:\tlearn: 5.4266998\ttotal: 78.2ms\tremaining: 94ms\n",
      "99:\tlearn: 5.4160593\ttotal: 78.7ms\tremaining: 92.9ms\n",
      "100:\tlearn: 5.4117318\ttotal: 79.5ms\tremaining: 92.1ms\n",
      "101:\tlearn: 5.4083036\ttotal: 80.2ms\tremaining: 91.3ms\n",
      "102:\tlearn: 5.4007862\ttotal: 80.8ms\tremaining: 90.2ms\n",
      "103:\tlearn: 5.3950320\ttotal: 81.8ms\tremaining: 89.6ms\n",
      "104:\tlearn: 5.3916712\ttotal: 82.3ms\tremaining: 88.6ms\n",
      "105:\tlearn: 5.3865217\ttotal: 83.3ms\tremaining: 88ms\n",
      "106:\tlearn: 5.3801472\ttotal: 83.8ms\tremaining: 87ms\n",
      "107:\tlearn: 5.3715069\ttotal: 84.4ms\tremaining: 86ms\n",
      "108:\tlearn: 5.3674168\ttotal: 85.2ms\tremaining: 85.2ms\n",
      "109:\tlearn: 5.3633876\ttotal: 85.8ms\tremaining: 84.2ms\n",
      "110:\tlearn: 5.3607471\ttotal: 86.6ms\tremaining: 83.4ms\n",
      "111:\tlearn: 5.3581526\ttotal: 87.2ms\tremaining: 82.5ms\n",
      "112:\tlearn: 5.3559428\ttotal: 87.9ms\tremaining: 81.7ms\n",
      "113:\tlearn: 5.3525229\ttotal: 88.9ms\tremaining: 81.1ms\n",
      "114:\tlearn: 5.3437126\ttotal: 89.5ms\tremaining: 80.1ms\n",
      "115:\tlearn: 5.3407471\ttotal: 90.2ms\tremaining: 79.3ms\n",
      "116:\tlearn: 5.3365595\ttotal: 90.8ms\tremaining: 78.4ms\n",
      "117:\tlearn: 5.3319362\ttotal: 92ms\tremaining: 77.9ms\n",
      "118:\tlearn: 5.3275019\ttotal: 92.6ms\tremaining: 77ms\n",
      "119:\tlearn: 5.3257954\ttotal: 93.1ms\tremaining: 76.1ms\n",
      "120:\tlearn: 5.3232006\ttotal: 93.7ms\tremaining: 75.1ms\n",
      "121:\tlearn: 5.3058372\ttotal: 94.5ms\tremaining: 74.4ms\n",
      "122:\tlearn: 5.2996436\ttotal: 95.3ms\tremaining: 73.6ms\n",
      "123:\tlearn: 5.2955957\ttotal: 96ms\tremaining: 72.8ms\n",
      "124:\tlearn: 5.2926848\ttotal: 96.6ms\tremaining: 71.9ms\n",
      "125:\tlearn: 5.2780338\ttotal: 97.4ms\tremaining: 71.1ms\n",
      "126:\tlearn: 5.2730616\ttotal: 98.5ms\tremaining: 70.6ms\n",
      "127:\tlearn: 5.2689860\ttotal: 99.1ms\tremaining: 69.7ms\n",
      "128:\tlearn: 5.2666479\ttotal: 99.9ms\tremaining: 68.9ms\n",
      "129:\tlearn: 5.2642457\ttotal: 101ms\tremaining: 68.2ms\n",
      "130:\tlearn: 5.2620639\ttotal: 101ms\tremaining: 67.4ms\n",
      "131:\tlearn: 5.2576802\ttotal: 102ms\tremaining: 66.6ms\n",
      "132:\tlearn: 5.2516520\ttotal: 103ms\tremaining: 65.8ms\n",
      "133:\tlearn: 5.2451900\ttotal: 104ms\tremaining: 64.9ms\n",
      "134:\tlearn: 5.2423700\ttotal: 104ms\tremaining: 64ms\n",
      "135:\tlearn: 5.2331717\ttotal: 105ms\tremaining: 63.1ms\n",
      "136:\tlearn: 5.2286901\ttotal: 106ms\tremaining: 62.6ms\n",
      "137:\tlearn: 5.2255405\ttotal: 106ms\tremaining: 61.7ms\n",
      "138:\tlearn: 5.2183414\ttotal: 107ms\tremaining: 60.9ms\n",
      "139:\tlearn: 5.2169667\ttotal: 108ms\tremaining: 60.2ms\n",
      "140:\tlearn: 5.2079042\ttotal: 109ms\tremaining: 59.3ms\n",
      "141:\tlearn: 5.1994283\ttotal: 110ms\tremaining: 58.6ms\n",
      "142:\tlearn: 5.1940536\ttotal: 110ms\tremaining: 57.9ms\n",
      "143:\tlearn: 5.1903841\ttotal: 111ms\tremaining: 57.1ms\n",
      "144:\tlearn: 5.1860018\ttotal: 112ms\tremaining: 56.4ms\n",
      "145:\tlearn: 5.1829000\ttotal: 113ms\tremaining: 55.5ms\n",
      "146:\tlearn: 5.1732056\ttotal: 113ms\tremaining: 54.7ms\n",
      "147:\tlearn: 5.1693169\ttotal: 114ms\tremaining: 53.9ms\n",
      "148:\tlearn: 5.1664408\ttotal: 115ms\tremaining: 53.1ms\n",
      "149:\tlearn: 5.1625848\ttotal: 115ms\tremaining: 52.3ms\n",
      "150:\tlearn: 5.1577827\ttotal: 116ms\tremaining: 51.6ms\n",
      "151:\tlearn: 5.1545407\ttotal: 117ms\tremaining: 50.8ms\n",
      "152:\tlearn: 5.1438765\ttotal: 118ms\tremaining: 49.9ms\n",
      "153:\tlearn: 5.1373026\ttotal: 118ms\tremaining: 49.2ms\n",
      "154:\tlearn: 5.1350887\ttotal: 119ms\tremaining: 48.3ms\n",
      "155:\tlearn: 5.1328982\ttotal: 120ms\tremaining: 47.7ms\n",
      "156:\tlearn: 5.1289769\ttotal: 121ms\tremaining: 47ms\n",
      "157:\tlearn: 5.1271191\ttotal: 122ms\tremaining: 46.2ms\n",
      "158:\tlearn: 5.1225935\ttotal: 122ms\tremaining: 45.4ms\n",
      "159:\tlearn: 5.1176757\ttotal: 123ms\tremaining: 44.5ms\n",
      "160:\tlearn: 5.1153594\ttotal: 123ms\tremaining: 43.7ms\n",
      "161:\tlearn: 5.1135235\ttotal: 124ms\tremaining: 42.8ms\n",
      "162:\tlearn: 5.1096829\ttotal: 125ms\tremaining: 42.1ms\n",
      "163:\tlearn: 5.1066642\ttotal: 125ms\tremaining: 41.2ms\n",
      "164:\tlearn: 5.1042708\ttotal: 126ms\tremaining: 40.5ms\n",
      "165:\tlearn: 5.1017480\ttotal: 127ms\tremaining: 39.8ms\n",
      "166:\tlearn: 5.0928184\ttotal: 128ms\tremaining: 39.1ms\n",
      "167:\tlearn: 5.0902489\ttotal: 129ms\tremaining: 38.3ms\n",
      "168:\tlearn: 5.0841584\ttotal: 129ms\tremaining: 37.5ms\n",
      "169:\tlearn: 5.0768009\ttotal: 130ms\tremaining: 36.8ms\n",
      "170:\tlearn: 5.0720657\ttotal: 131ms\tremaining: 36ms\n",
      "171:\tlearn: 5.0689634\ttotal: 132ms\tremaining: 35.2ms\n",
      "172:\tlearn: 5.0667071\ttotal: 132ms\tremaining: 34.4ms\n",
      "173:\tlearn: 5.0604436\ttotal: 133ms\tremaining: 33.7ms\n",
      "174:\tlearn: 5.0566562\ttotal: 134ms\tremaining: 32.9ms\n",
      "175:\tlearn: 5.0550441\ttotal: 135ms\tremaining: 32.2ms\n",
      "176:\tlearn: 5.0481246\ttotal: 136ms\tremaining: 31.5ms\n",
      "177:\tlearn: 5.0446459\ttotal: 137ms\tremaining: 30.7ms\n",
      "178:\tlearn: 5.0419468\ttotal: 137ms\tremaining: 29.9ms\n",
      "179:\tlearn: 5.0392724\ttotal: 138ms\tremaining: 29.2ms\n",
      "180:\tlearn: 5.0352623\ttotal: 139ms\tremaining: 28.4ms\n",
      "181:\tlearn: 5.0328453\ttotal: 140ms\tremaining: 27.6ms\n",
      "182:\tlearn: 5.0244314\ttotal: 140ms\tremaining: 26.8ms\n",
      "183:\tlearn: 5.0217102\ttotal: 141ms\tremaining: 26.1ms\n",
      "184:\tlearn: 5.0167700\ttotal: 142ms\tremaining: 25.3ms\n",
      "185:\tlearn: 5.0101651\ttotal: 143ms\tremaining: 24.6ms\n",
      "186:\tlearn: 5.0093955\ttotal: 144ms\tremaining: 23.8ms\n",
      "187:\tlearn: 5.0075618\ttotal: 145ms\tremaining: 23.1ms\n",
      "188:\tlearn: 5.0062262\ttotal: 145ms\tremaining: 22.3ms\n",
      "189:\tlearn: 5.0046984\ttotal: 146ms\tremaining: 21.5ms\n",
      "190:\tlearn: 4.9983341\ttotal: 147ms\tremaining: 20.7ms\n",
      "191:\tlearn: 4.9928987\ttotal: 147ms\tremaining: 19.9ms\n",
      "192:\tlearn: 4.9897283\ttotal: 148ms\tremaining: 19.2ms\n",
      "193:\tlearn: 4.9874274\ttotal: 149ms\tremaining: 18.4ms\n",
      "194:\tlearn: 4.9838270\ttotal: 149ms\tremaining: 17.6ms\n",
      "195:\tlearn: 4.9808237\ttotal: 150ms\tremaining: 16.8ms\n",
      "196:\tlearn: 4.9789950\ttotal: 151ms\tremaining: 16.1ms\n",
      "197:\tlearn: 4.9766957\ttotal: 152ms\tremaining: 15.3ms\n",
      "198:\tlearn: 4.9738998\ttotal: 152ms\tremaining: 14.5ms\n",
      "199:\tlearn: 4.9678686\ttotal: 153ms\tremaining: 13.8ms\n",
      "200:\tlearn: 4.9635497\ttotal: 154ms\tremaining: 13ms\n",
      "201:\tlearn: 4.9598994\ttotal: 154ms\tremaining: 12.2ms\n",
      "202:\tlearn: 4.9489248\ttotal: 155ms\tremaining: 11.4ms\n",
      "203:\tlearn: 4.9431550\ttotal: 156ms\tremaining: 10.7ms\n",
      "204:\tlearn: 4.9422002\ttotal: 156ms\tremaining: 9.9ms\n",
      "205:\tlearn: 4.9364202\ttotal: 157ms\tremaining: 9.15ms\n",
      "206:\tlearn: 4.9302364\ttotal: 158ms\tremaining: 8.37ms\n",
      "207:\tlearn: 4.9297265\ttotal: 158ms\tremaining: 7.6ms\n",
      "208:\tlearn: 4.9285671\ttotal: 159ms\tremaining: 6.84ms\n",
      "209:\tlearn: 4.9242612\ttotal: 159ms\tremaining: 6.07ms\n",
      "210:\tlearn: 4.9216549\ttotal: 160ms\tremaining: 5.32ms\n",
      "211:\tlearn: 4.9189982\ttotal: 161ms\tremaining: 4.55ms\n",
      "212:\tlearn: 4.9170830\ttotal: 162ms\tremaining: 3.79ms\n",
      "213:\tlearn: 4.9155533\ttotal: 162ms\tremaining: 3.04ms\n",
      "214:\tlearn: 4.9092977\ttotal: 163ms\tremaining: 2.28ms\n",
      "215:\tlearn: 4.9061937\ttotal: 164ms\tremaining: 1.52ms\n",
      "216:\tlearn: 4.9031427\ttotal: 165ms\tremaining: 759us\n",
      "217:\tlearn: 4.9002118\ttotal: 166ms\tremaining: 0us\n",
      "Лучшие гиперпараметры CatBoost\n",
      "\n",
      "{'learning_rate': 0.2, 'loss_function': 'MAE', 'bootstrap_type': 'Bernoulli', 'max_depth': 3, 'n_estimators': 218}\n",
      "MAE 6.673581423449884\n",
      "CPU times: user 1.86 s, sys: 93.4 ms, total: 1.96 s\n",
      "Wall time: 8min 31s\n"
     ]
    }
   ],
   "source": [
    "%%time\n",
    "cb = CatBoostRegressor()\n",
    "\n",
    "parameters = { \n",
    "              'learning_rate': [0, .1, .2, .3, .4, .5, .6, .7, .8, .9, 1],\n",
    "              'max_depth': randint(2,30),\n",
    "              'n_estimators': randint(100, 500),\n",
    "              'loss_function': ['MAE'],\n",
    "              'bootstrap_type': ['Bayesian', 'Bernoulli', 'MVS'],\n",
    "                                       }\n",
    "\n",
    "\n",
    "cb_rscv = RandomizedSearchCV(cb, param_distributions = parameters, scoring = \"neg_mean_absolute_error\",\n",
    "                             cv = 3, verbose = 0, random_state = 12345, n_jobs = -1, n_iter = 20)\n",
    "\n",
    "\n",
    "\n",
    "model_cb = cb_rscv.fit(X_train, y_train)\n",
    "\n",
    "best_par = model_cb.best_estimator_.get_params()\n",
    "\n",
    "preds = model_cb.predict(X_test)\n",
    "print(\"Лучшие гиперпараметры CatBoost\")\n",
    "print()\n",
    "print(model_cb.best_estimator_.get_params())\n",
    "print(\"MAE\", (mean_absolute_error(y_test, preds)))"
   ]
  },
  {
   "cell_type": "markdown",
   "metadata": {},
   "source": [
    "Лучший MAE на тестовой выборке у модели XGBoost 6.151"
   ]
  },
  {
   "cell_type": "markdown",
   "metadata": {},
   "source": [
    "## Проверка модели на адекватность."
   ]
  },
  {
   "cell_type": "markdown",
   "metadata": {},
   "source": [
    "Проверим модель на адекватность с помощью DummyRegressor"
   ]
  },
  {
   "cell_type": "code",
   "execution_count": 48,
   "metadata": {},
   "outputs": [
    {
     "name": "stdout",
     "output_type": "stream",
     "text": [
      "MAE на cлучайной выборке: 10.266411203588719\n"
     ]
    }
   ],
   "source": [
    "dummy = DummyRegressor(strategy=\"mean\")\n",
    "dummy.fit(X_train, y_train)\n",
    "predict_dummy = dummy.predict(y_test)\n",
    "mae_dummy = mean_absolute_error(y_test, predict_dummy)\n",
    "print('MAE на cлучайной выборке:' ,mae_dummy)"
   ]
  },
  {
   "cell_type": "markdown",
   "metadata": {},
   "source": [
    "Все модели прошли проверку на адекватность."
   ]
  },
  {
   "cell_type": "markdown",
   "metadata": {},
   "source": [
    "## Отчёт"
   ]
  },
  {
   "cell_type": "markdown",
   "metadata": {},
   "source": [
    "Заказчиком была поставлена задача предсказания температуры стали на производстве.\n",
    "\n",
    "Целевым признаком является столбец `temp` в датасете `data_temp`\n",
    "\n",
    "Ключевой метрикой является MAE с целевым значением менее 8.7\n",
    "\n",
    "В ходе выполнения работы все пункты изначального плана были выполнены, а именно:\n",
    "- Подготовка и анализ данных\n",
    "- Удаление аномалий в данных\n",
    "- Создание и обучение моделей\n",
    "- Проверка модели на адекватность\n",
    "- Отчёт\n",
    "\n",
    "В ходе выполнения работы были следующие трудности:\n",
    "\n",
    "- Целевой признак был смешан с остальными(промежуточными замерами температуры)\n",
    "    - решение проблемы: выделение последнего замера температуры в каждом образце.\n",
    "- Часть данных имела явные аномалии.\n",
    "    - решение проблемы: построеные графиков boxplot, определение аномалий и их удаление.\n",
    "    \n",
    "Ключевыми шагами в решении задачи можно назвать:\n",
    "\n",
    "- Изучение каждого датафрема по отдельности, анализ данных, генерация фичей.\n",
    "- Удаление аномалий из данных\n",
    "- Выделение целевого признака.\n",
    "- Объединение данных в единый датасет.\n",
    "- Подготовка и обучения моделей.\n",
    "\n",
    "Лучшей оказалась модель градиентного бустинга XGBoost, обучение происходило с подбором гиперпараметров randomizedsearchsv и кросс валидацией на 3 фолдах.\n",
    "\n",
    "Качество модели по метрике **MAE** на тестовоей выборке составило **6.151**\n",
    "\n"
   ]
  }
 ],
 "metadata": {
  "kernelspec": {
   "display_name": "Python 3",
   "language": "python",
   "name": "python3"
  },
  "language_info": {
   "codemirror_mode": {
    "name": "ipython",
    "version": 3
   },
   "file_extension": ".py",
   "mimetype": "text/x-python",
   "name": "python",
   "nbconvert_exporter": "python",
   "pygments_lexer": "ipython3",
   "version": "3.7.6"
  }
 },
 "nbformat": 4,
 "nbformat_minor": 4
}
