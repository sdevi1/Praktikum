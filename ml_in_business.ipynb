{
 "cells": [
  {
   "cell_type": "markdown",
   "metadata": {},
   "source": [
    "# Описание проекта"
   ]
  },
  {
   "cell_type": "markdown",
   "metadata": {},
   "source": [
    "Вам предоставлены пробы нефти в трёх регионах: в каждом 10 000 месторождений, где измерили качество нефти и объём её запасов. Постройте модель машинного обучения, которая поможет определить регион, где добыча принесёт наибольшую прибыль. Проанализируйте возможную прибыль и риски техникой *Bootstrap.*\n",
    "\n",
    "Шаги для выбора локации:\n",
    "\n",
    "- В избранном регионе ищут месторождения, для каждого определяют значения признаков;\n",
    "- Строят модель и оценивают объём запасов;\n",
    "- Выбирают месторождения с самым высокими оценками значений. Количество месторождений зависит от бюджета компании и стоимости разработки одной скважины;\n",
    "- Прибыль равна суммарной прибыли отобранных месторождений."
   ]
  },
  {
   "cell_type": "markdown",
   "metadata": {},
   "source": [
    "### Описание данных\n",
    "\n",
    "\n",
    "В таблицах находится информация по 100 000 месторождениям в каждом регионе. У нас имеется следующая информация:\n",
    "- id — уникальный идентификатор скважины;\n",
    "- f0, f1, f2 — три признака точек (неважно, что они означают, но сами признаки значимы);\n",
    "- product — объём запасов в скважине (тыс. баррелей)."
   ]
  },
  {
   "cell_type": "markdown",
   "metadata": {},
   "source": [
    "# 1. Загрузка и подготовка данных"
   ]
  },
  {
   "cell_type": "code",
   "execution_count": 1,
   "metadata": {},
   "outputs": [],
   "source": [
    "#импортируем необходимые библиотеки\n",
    "import pandas as pd\n",
    "import numpy as np\n",
    "from scipy import stats as st\n",
    "from scipy.stats import t\n",
    "from sklearn.model_selection import train_test_split\n",
    "from sklearn.model_selection import cross_val_score\n",
    "from sklearn.linear_model import LinearRegression\n",
    "from sklearn.metrics import mean_squared_error, r2_score, mean_absolute_error\n",
    "from sklearn.utils import shuffle\n",
    "import statistics as stat\n",
    "\n",
    "import matplotlib.pyplot as plt\n",
    "import warnings \n",
    "warnings.filterwarnings(\"ignore\") \n",
    "import seaborn as sns "
   ]
  },
  {
   "cell_type": "code",
   "execution_count": 2,
   "metadata": {},
   "outputs": [],
   "source": [
    "#откроем файлы с данными:\n",
    "df_0 = pd.read_csv('/home/andrey/Datasets/geo_data_0.csv')\n",
    "df_1 = pd.read_csv('/home/andrey/Datasets/geo_data_1.csv')\n",
    "df_2 = pd.read_csv('/home/andrey/Datasets/geo_data_2.csv')"
   ]
  },
  {
   "cell_type": "code",
   "execution_count": 3,
   "metadata": {},
   "outputs": [
    {
     "name": "stdout",
     "output_type": "stream",
     "text": [
      "<class 'pandas.core.frame.DataFrame'>\n",
      "RangeIndex: 100000 entries, 0 to 99999\n",
      "Data columns (total 5 columns):\n",
      " #   Column   Non-Null Count   Dtype  \n",
      "---  ------   --------------   -----  \n",
      " 0   id       100000 non-null  object \n",
      " 1   f0       100000 non-null  float64\n",
      " 2   f1       100000 non-null  float64\n",
      " 3   f2       100000 non-null  float64\n",
      " 4   product  100000 non-null  float64\n",
      "dtypes: float64(4), object(1)\n",
      "memory usage: 3.8+ MB\n",
      "None\n",
      "<class 'pandas.core.frame.DataFrame'>\n",
      "RangeIndex: 100000 entries, 0 to 99999\n",
      "Data columns (total 5 columns):\n",
      " #   Column   Non-Null Count   Dtype  \n",
      "---  ------   --------------   -----  \n",
      " 0   id       100000 non-null  object \n",
      " 1   f0       100000 non-null  float64\n",
      " 2   f1       100000 non-null  float64\n",
      " 3   f2       100000 non-null  float64\n",
      " 4   product  100000 non-null  float64\n",
      "dtypes: float64(4), object(1)\n",
      "memory usage: 3.8+ MB\n",
      "None\n",
      "<class 'pandas.core.frame.DataFrame'>\n",
      "RangeIndex: 100000 entries, 0 to 99999\n",
      "Data columns (total 5 columns):\n",
      " #   Column   Non-Null Count   Dtype  \n",
      "---  ------   --------------   -----  \n",
      " 0   id       100000 non-null  object \n",
      " 1   f0       100000 non-null  float64\n",
      " 2   f1       100000 non-null  float64\n",
      " 3   f2       100000 non-null  float64\n",
      " 4   product  100000 non-null  float64\n",
      "dtypes: float64(4), object(1)\n",
      "memory usage: 3.8+ MB\n",
      "None\n"
     ]
    },
    {
     "data": {
      "text/plain": [
       "[None, None, None]"
      ]
     },
     "execution_count": 3,
     "metadata": {},
     "output_type": "execute_result"
    }
   ],
   "source": [
    "#изучим данные\n",
    "df = [df_0,df_1,df_2]\n",
    "\n",
    "[print(d.info()) for d in df]"
   ]
  },
  {
   "cell_type": "markdown",
   "metadata": {},
   "source": [
    "Пропусков в данных нет."
   ]
  },
  {
   "cell_type": "code",
   "execution_count": 4,
   "metadata": {},
   "outputs": [],
   "source": [
    "#Удалим столбец id во всех датасетах\n",
    "df0 = df_0.drop('id', axis=1)\n",
    "df1 = df_1.drop('id', axis=1)\n",
    "df2 = df_2.drop('id', axis=1)"
   ]
  },
  {
   "cell_type": "markdown",
   "metadata": {},
   "source": [
    "# 2. Обучение и проверка модели"
   ]
  },
  {
   "cell_type": "code",
   "execution_count": 7,
   "metadata": {},
   "outputs": [],
   "source": [
    "model = LinearRegression()\n",
    "#создадим функцию для обучения и проверки модели\n",
    "def log_reg(df):\n",
    "    target = df['product']\n",
    "    features = df.drop('product', axis=1)\n",
    "    \n",
    "    features_train, features_valid, target_train, target_valid = train_test_split(\n",
    "        features, target, test_size=0.25, random_state=12345)\n",
    "    \n",
    "    model.fit(features_train, target_train)\n",
    "    predicted_valid = model.predict(features_valid)\n",
    "    \n",
    "    mean = df['product'].mean()\n",
    "    r2 = r2_score(target_valid, predicted_valid)\n",
    "    rmse = (mean_squared_error(target_valid, predicted_valid))**0.5\n",
    "    cvs = stat.mean(cross_val_score(model, features, target, cv=5))\n",
    "    mae = mean_absolute_error(target_valid, predicted_valid)\n",
    "    print('Средний запас сырья в регионе:', round(mean, 2))\n",
    "    print('')\n",
    "    print('Средняя оценка качества модели:', cvs)\n",
    "    print('')\n",
    "    print('rmse:', rmse)\n",
    "    print('r2', r2)\n",
    "    print('mae', mae)\n",
    "    return target_valid, predicted_valid, mean, rmse, r2"
   ]
  },
  {
   "cell_type": "code",
   "execution_count": 8,
   "metadata": {
    "scrolled": false
   },
   "outputs": [
    {
     "name": "stdout",
     "output_type": "stream",
     "text": [
      "Регион 0\n",
      "\n",
      "Средний запас сырья в регионе: 92.5\n",
      "\n",
      "Средняя оценка качества модели: 0.2754913072690447\n",
      "\n",
      "rmse: 37.5794217150813\n",
      "r2 0.27994321524487786\n",
      "mae 30.919600777151313\n"
     ]
    }
   ],
   "source": [
    "print('Регион 0')\n",
    "print('')\n",
    "target_valid_0, predicted_valid_0, mean_0, rmse_0, r2_0= log_reg(df0)"
   ]
  },
  {
   "cell_type": "code",
   "execution_count": 9,
   "metadata": {
    "scrolled": true
   },
   "outputs": [
    {
     "name": "stdout",
     "output_type": "stream",
     "text": [
      "Регион 1\n",
      "\n",
      "Средний запас сырья в регионе: 68.83\n",
      "\n",
      "Средняя оценка качества модели: 0.9996243728923551\n",
      "\n",
      "rmse: 0.893099286775616\n",
      "r2 0.9996233978805127\n",
      "mae 0.718766244212475\n"
     ]
    }
   ],
   "source": [
    "print('Регион 1')\n",
    "print('')\n",
    "target_valid_1, predicted_valid_1, mean_1, rmse_1, r2_1= log_reg(df1)"
   ]
  },
  {
   "cell_type": "code",
   "execution_count": 10,
   "metadata": {},
   "outputs": [
    {
     "name": "stdout",
     "output_type": "stream",
     "text": [
      "Регион 2\n",
      "\n",
      "Средний запас сырья в регионе: 95.0\n",
      "\n",
      "Средняя оценка качества модели: 0.1987156246205129\n",
      "\n",
      "rmse: 40.02970873393434\n",
      "r2 0.20524758386040443\n",
      "mae 32.792652105481814\n"
     ]
    }
   ],
   "source": [
    "print('Регион 2')\n",
    "print('')\n",
    "target_valid_2, predicted_valid_2, mean_2, rmse_2, r2_2= log_reg(df2)"
   ]
  },
  {
   "cell_type": "markdown",
   "metadata": {},
   "source": [
    "Модель в регионе 1 показала лучший результат по метрикам, однако средний запас сырья в регионе меньше чем в других."
   ]
  },
  {
   "cell_type": "markdown",
   "metadata": {},
   "source": [
    "# 3. Подготовка к расчёту прибыли"
   ]
  },
  {
   "cell_type": "markdown",
   "metadata": {},
   "source": [
    "### Сохраните в коде все ключевые значения для расчётов."
   ]
  },
  {
   "cell_type": "code",
   "execution_count": 12,
   "metadata": {},
   "outputs": [],
   "source": [
    "#объявим необходимые переменные\n",
    "dots= 500 #количество точек для иследования\n",
    "budget = 10**10 #бюджет проекта\n",
    "one_well_price = 5*10**7 #стоимость одной скважины\n",
    "wells_count = budget/one_well_price #количество скважин\n",
    "one_barrel_profit = 4500 #прибыль с одного барреля\n",
    "th_barrel_profit = one_barrel_profit*1000 #прибыль с 1 тысячи бареллей"
   ]
  },
  {
   "cell_type": "markdown",
   "metadata": {},
   "source": [
    "<span style=\"color:green\">  Понятные размерности! Ура!! </span>"
   ]
  },
  {
   "cell_type": "markdown",
   "metadata": {},
   "source": [
    "###  Посчитайте минимальный средний объём сырья в месторождениях региона, достаточный для его разработки. Напишите выводы."
   ]
  },
  {
   "cell_type": "code",
   "execution_count": 13,
   "metadata": {},
   "outputs": [
    {
     "data": {
      "text/plain": [
       "11.11111111111111"
      ]
     },
     "execution_count": 13,
     "metadata": {},
     "output_type": "execute_result"
    }
   ],
   "source": [
    "#рассчитаем минимальный средний объём сырья в месторождениях региона, достаточный для его разработки.\n",
    "#допустим, что этот показатель мы рассчитываем при нулевой операционной прибыле\n",
    "min_mean_product = (budget/th_barrel_profit)/wells_count\n",
    "min_mean_product"
   ]
  },
  {
   "cell_type": "markdown",
   "metadata": {},
   "source": [
    "Исходя из полученных данных, можно сделать вывод, что необходимо минимум в среднем 11.11 тысяч баррелей нефти в месторождениях."
   ]
  },
  {
   "cell_type": "markdown",
   "metadata": {},
   "source": [
    "<span style=\"color:purple\"> </span>"
   ]
  },
  {
   "cell_type": "markdown",
   "metadata": {},
   "source": [
    "### Напишите функцию для расчёта прибыли по набору отобранных месторождений и предсказаний модели.\n"
   ]
  },
  {
   "cell_type": "code",
   "execution_count": 14,
   "metadata": {},
   "outputs": [],
   "source": [
    "#Напишем функцию для расчёта прибыли по набору отобранных месторождений и предсказаний модели.\n",
    "def profit(target_valid, predicted_valid):\n",
    "    predicted_valid_sort = pd.Series(predicted_valid)\n",
    "    predicted_valid_sort = predicted_valid_sort.sort_values(ascending=False)\n",
    "    target_valid = target_valid.reset_index(drop = True)\n",
    "    top =  target_valid[predicted_valid_sort.index][:200]\n",
    "    return top.sum()*th_barrel_profit - budget"
   ]
  },
  {
   "cell_type": "code",
   "execution_count": 15,
   "metadata": {},
   "outputs": [
    {
     "name": "stdout",
     "output_type": "stream",
     "text": [
      "операционная прибыль в 0 регионе(млрд.): 123.20826043139853\n"
     ]
    }
   ],
   "source": [
    "df0_max_profit = profit(target_valid_0, predicted_valid_0)\n",
    "print('операционная прибыль в 0 регионе(млрд.):' , df0_max_profit/1000000000)"
   ]
  },
  {
   "cell_type": "code",
   "execution_count": 16,
   "metadata": {},
   "outputs": [
    {
     "name": "stdout",
     "output_type": "stream",
     "text": [
      "операционная прибыль в 1 регионе(млрд.): 114.15086696681512\n"
     ]
    }
   ],
   "source": [
    "df1_max_profit = profit(target_valid_1, predicted_valid_1)\n",
    "print('операционная прибыль в 1 регионе(млрд.):', df1_max_profit/1000000000)"
   ]
  },
  {
   "cell_type": "code",
   "execution_count": 17,
   "metadata": {},
   "outputs": [
    {
     "name": "stdout",
     "output_type": "stream",
     "text": [
      "операционная прибыль в 2 регионе(млрд.): 117.10349963599832\n"
     ]
    }
   ],
   "source": [
    "df2_max_profit = profit(target_valid_2, predicted_valid_2)\n",
    "print('операционная прибыль в 2 регионе(млрд.):' , df2_max_profit/1000000000)"
   ]
  },
  {
   "cell_type": "markdown",
   "metadata": {},
   "source": [
    "По топ 200 скважин, самая большая прибыль прогнозирыется в 0 регионе (123 млрд.), на втором месте идёт регион 2 (117 млрд.) и на последнем 1 регион с прибылью 114 млрд."
   ]
  },
  {
   "cell_type": "markdown",
   "metadata": {},
   "source": [
    "# 4. Расчёт прибыли и рисков "
   ]
  },
  {
   "cell_type": "markdown",
   "metadata": {},
   "source": [
    "### Примените технику Bootstrap с 1000 выборок, чтобы найти распределение прибыли."
   ]
  },
  {
   "cell_type": "markdown",
   "metadata": {},
   "source": [
    "### Найдите среднюю прибыль, 95%-й доверительный интервал и риск убытков."
   ]
  },
  {
   "cell_type": "code",
   "execution_count": 22,
   "metadata": {
    "scrolled": true
   },
   "outputs": [],
   "source": [
    "state = np.random.RandomState(12345)\n",
    "\n",
    "#создадим функцию для bootstrap и нахождения средней прибыли, 95% интервала и риска убытков.\n",
    "def bootstrap(target_valid, predicted_valid):    \n",
    "    values = []\n",
    "    for i in range(1000):\n",
    "        target_valid = target_valid.reset_index(drop = True)\n",
    "        target_subsample = target_valid.sample(n = dots, replace = True, random_state = state)\n",
    "        predicted_subsample = predicted_valid[target_subsample.index]\n",
    "        values.append(profit(target_subsample, predicted_subsample))\n",
    "    \n",
    "    values = pd.Series(values)\n",
    "    mean = values.mean() #среднее\n",
    "    confidence_interval = st.t.interval(0.95, len(values)-1, values.mean(), values.sem()) #дов. интервал\n",
    "    risk_of_loss = st.percentileofscore(values, 0) #риск убытков\n",
    "        \n",
    "    return values, mean, confidence_interval, risk_of_loss\n"
   ]
  },
  {
   "cell_type": "code",
   "execution_count": 23,
   "metadata": {},
   "outputs": [],
   "source": [
    "values_0, mean_0, confidence_interval_0, risk_of_loss_0 = bootstrap(target_valid_0, predicted_valid_0)\n",
    "values_1, mean_1, confidence_interval_1, risk_of_loss_1 = bootstrap(target_valid_1, predicted_valid_1)\n",
    "values_2, mean_2, confidence_interval_2, risk_of_loss_2 = bootstrap(target_valid_2, predicted_valid_2)"
   ]
  },
  {
   "cell_type": "code",
   "execution_count": 24,
   "metadata": {
    "scrolled": true
   },
   "outputs": [
    {
     "name": "stdout",
     "output_type": "stream",
     "text": [
      "Регион 0: 93961649.8480237\n",
      "Регион 1: 94611558.1727724\n",
      "Регион 2: 93929504.75170603\n"
     ]
    }
   ],
   "source": [
    "#сравним среднюю прибыль в тыс.\n",
    "print('Регион 0:', mean_0/1000)\n",
    "print('Регион 1:', mean_1/1000)\n",
    "print('Регион 2:', mean_2/1000)"
   ]
  },
  {
   "cell_type": "code",
   "execution_count": 18,
   "metadata": {},
   "outputs": [
    {
     "name": "stdout",
     "output_type": "stream",
     "text": [
      "Регион 0: (93796203151.4797, 94127096544.56769)\n",
      "Регион 1: (94488289364.8158, 94734826980.729)\n",
      "Регион 2: (93761642253.29549, 94097367250.1166)\n"
     ]
    }
   ],
   "source": [
    "#сравним доверительные интервалы\n",
    "print('Регион 0:', confidence_interval_0)\n",
    "print('Регион 1:', confidence_interval_1)\n",
    "print('Регион 2:', confidence_interval_2)"
   ]
  },
  {
   "cell_type": "code",
   "execution_count": 19,
   "metadata": {},
   "outputs": [
    {
     "name": "stdout",
     "output_type": "stream",
     "text": [
      "Регион 0: 0.0\n",
      "Регион 1: 0.0\n",
      "Регион 2: 0.0\n"
     ]
    }
   ],
   "source": [
    "#и риски убытков\n",
    "print('Регион 0:', risk_of_loss_0)\n",
    "print('Регион 1:', risk_of_loss_1)\n",
    "print('Регион 2:', risk_of_loss_2)"
   ]
  },
  {
   "cell_type": "markdown",
   "metadata": {},
   "source": [
    "Во всех трёх регионах риск убытков составил 0%, самое высокое среднее и лучший доверительный интервал 95% показал регион номер 1. Исходя из этого рекомендуемым регионом к разарботке стоит выбрать 'регион 1'."
   ]
  }
 ],
 "metadata": {
  "kernelspec": {
   "display_name": "Python 3",
   "language": "python",
   "name": "python3"
  },
  "language_info": {
   "codemirror_mode": {
    "name": "ipython",
    "version": 3
   },
   "file_extension": ".py",
   "mimetype": "text/x-python",
   "name": "python",
   "nbconvert_exporter": "python",
   "pygments_lexer": "ipython3",
   "version": "3.7.6"
  }
 },
 "nbformat": 4,
 "nbformat_minor": 2
}
