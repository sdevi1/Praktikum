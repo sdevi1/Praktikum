{
 "cells": [
  {
   "cell_type": "markdown",
   "metadata": {},
   "source": [
    "## Исследование надёжности заёмщиков\n",
    "\n",
    "Заказчик — кредитный отдел банка. Нужно разобраться, влияет ли семейное положение и количество детей клиента на факт погашения кредита в срок. Входные данные от банка — статистика о платёжеспособности клиентов."
   ]
  },
  {
   "cell_type": "markdown",
   "metadata": {},
   "source": [
    "Описание данных\n",
    "- children — количество детей в семье\n",
    "- days_employed — общий трудовой стаж в днях\n",
    "- dob_years — возраст клиента в годах\n",
    "- education — уровень образования клиента\n",
    "- education_id — идентификатор уровня образования\n",
    "- family_status — семейное положение\n",
    "- family_status_id — идентификатор семейного положения\n",
    "- gender — пол клиента\n",
    "- income_type — тип занятости\n",
    "- debt — имел ли задолженность по возврату кредитов\n",
    "- total_income — ежемесячный доход\n",
    "- purpose — цель получения кредита"
   ]
  },
  {
   "cell_type": "code",
   "execution_count": 1,
   "metadata": {
    "scrolled": true
   },
   "outputs": [],
   "source": [
    "#загрузка данных и библиотек которые потребуются в проектной работе\n",
    "import numpy as np\n",
    "import pandas as pd\n",
    "from pymystem3 import Mystem\n",
    "m = Mystem()\n",
    "from collections import Counter"
   ]
  },
  {
   "cell_type": "code",
   "execution_count": 2,
   "metadata": {},
   "outputs": [
    {
     "data": {
      "text/html": [
       "<div>\n",
       "<style scoped>\n",
       "    .dataframe tbody tr th:only-of-type {\n",
       "        vertical-align: middle;\n",
       "    }\n",
       "\n",
       "    .dataframe tbody tr th {\n",
       "        vertical-align: top;\n",
       "    }\n",
       "\n",
       "    .dataframe thead th {\n",
       "        text-align: right;\n",
       "    }\n",
       "</style>\n",
       "<table border=\"1\" class=\"dataframe\">\n",
       "  <thead>\n",
       "    <tr style=\"text-align: right;\">\n",
       "      <th></th>\n",
       "      <th>children</th>\n",
       "      <th>days_employed</th>\n",
       "      <th>dob_years</th>\n",
       "      <th>education</th>\n",
       "      <th>education_id</th>\n",
       "      <th>family_status</th>\n",
       "      <th>family_status_id</th>\n",
       "      <th>gender</th>\n",
       "      <th>income_type</th>\n",
       "      <th>debt</th>\n",
       "      <th>total_income</th>\n",
       "      <th>purpose</th>\n",
       "    </tr>\n",
       "  </thead>\n",
       "  <tbody>\n",
       "    <tr>\n",
       "      <th>0</th>\n",
       "      <td>1</td>\n",
       "      <td>-8437.673028</td>\n",
       "      <td>42</td>\n",
       "      <td>высшее</td>\n",
       "      <td>0</td>\n",
       "      <td>женат / замужем</td>\n",
       "      <td>0</td>\n",
       "      <td>F</td>\n",
       "      <td>сотрудник</td>\n",
       "      <td>0</td>\n",
       "      <td>253875.639453</td>\n",
       "      <td>покупка жилья</td>\n",
       "    </tr>\n",
       "    <tr>\n",
       "      <th>1</th>\n",
       "      <td>1</td>\n",
       "      <td>-4024.803754</td>\n",
       "      <td>36</td>\n",
       "      <td>среднее</td>\n",
       "      <td>1</td>\n",
       "      <td>женат / замужем</td>\n",
       "      <td>0</td>\n",
       "      <td>F</td>\n",
       "      <td>сотрудник</td>\n",
       "      <td>0</td>\n",
       "      <td>112080.014102</td>\n",
       "      <td>приобретение автомобиля</td>\n",
       "    </tr>\n",
       "    <tr>\n",
       "      <th>2</th>\n",
       "      <td>0</td>\n",
       "      <td>-5623.422610</td>\n",
       "      <td>33</td>\n",
       "      <td>Среднее</td>\n",
       "      <td>1</td>\n",
       "      <td>женат / замужем</td>\n",
       "      <td>0</td>\n",
       "      <td>M</td>\n",
       "      <td>сотрудник</td>\n",
       "      <td>0</td>\n",
       "      <td>145885.952297</td>\n",
       "      <td>покупка жилья</td>\n",
       "    </tr>\n",
       "    <tr>\n",
       "      <th>3</th>\n",
       "      <td>3</td>\n",
       "      <td>-4124.747207</td>\n",
       "      <td>32</td>\n",
       "      <td>среднее</td>\n",
       "      <td>1</td>\n",
       "      <td>женат / замужем</td>\n",
       "      <td>0</td>\n",
       "      <td>M</td>\n",
       "      <td>сотрудник</td>\n",
       "      <td>0</td>\n",
       "      <td>267628.550329</td>\n",
       "      <td>дополнительное образование</td>\n",
       "    </tr>\n",
       "    <tr>\n",
       "      <th>4</th>\n",
       "      <td>0</td>\n",
       "      <td>340266.072047</td>\n",
       "      <td>53</td>\n",
       "      <td>среднее</td>\n",
       "      <td>1</td>\n",
       "      <td>гражданский брак</td>\n",
       "      <td>1</td>\n",
       "      <td>F</td>\n",
       "      <td>пенсионер</td>\n",
       "      <td>0</td>\n",
       "      <td>158616.077870</td>\n",
       "      <td>сыграть свадьбу</td>\n",
       "    </tr>\n",
       "  </tbody>\n",
       "</table>\n",
       "</div>"
      ],
      "text/plain": [
       "   children  days_employed  dob_years education  education_id  \\\n",
       "0         1   -8437.673028         42    высшее             0   \n",
       "1         1   -4024.803754         36   среднее             1   \n",
       "2         0   -5623.422610         33   Среднее             1   \n",
       "3         3   -4124.747207         32   среднее             1   \n",
       "4         0  340266.072047         53   среднее             1   \n",
       "\n",
       "      family_status  family_status_id gender income_type  debt   total_income  \\\n",
       "0   женат / замужем                 0      F   сотрудник     0  253875.639453   \n",
       "1   женат / замужем                 0      F   сотрудник     0  112080.014102   \n",
       "2   женат / замужем                 0      M   сотрудник     0  145885.952297   \n",
       "3   женат / замужем                 0      M   сотрудник     0  267628.550329   \n",
       "4  гражданский брак                 1      F   пенсионер     0  158616.077870   \n",
       "\n",
       "                      purpose  \n",
       "0               покупка жилья  \n",
       "1     приобретение автомобиля  \n",
       "2               покупка жилья  \n",
       "3  дополнительное образование  \n",
       "4             сыграть свадьбу  "
      ]
     },
     "execution_count": 2,
     "metadata": {},
     "output_type": "execute_result"
    }
   ],
   "source": [
    "#изучение информации\n",
    "df = pd.read_csv('/home/andrey/Загрузки/data.csv')\n",
    "df.head()"
   ]
  },
  {
   "cell_type": "code",
   "execution_count": 3,
   "metadata": {},
   "outputs": [
    {
     "name": "stdout",
     "output_type": "stream",
     "text": [
      "<class 'pandas.core.frame.DataFrame'>\n",
      "RangeIndex: 21525 entries, 0 to 21524\n",
      "Data columns (total 12 columns):\n",
      " #   Column            Non-Null Count  Dtype  \n",
      "---  ------            --------------  -----  \n",
      " 0   children          21525 non-null  int64  \n",
      " 1   days_employed     19351 non-null  float64\n",
      " 2   dob_years         21525 non-null  int64  \n",
      " 3   education         21525 non-null  object \n",
      " 4   education_id      21525 non-null  int64  \n",
      " 5   family_status     21525 non-null  object \n",
      " 6   family_status_id  21525 non-null  int64  \n",
      " 7   gender            21525 non-null  object \n",
      " 8   income_type       21525 non-null  object \n",
      " 9   debt              21525 non-null  int64  \n",
      " 10  total_income      19351 non-null  float64\n",
      " 11  purpose           21525 non-null  object \n",
      "dtypes: float64(2), int64(5), object(5)\n",
      "memory usage: 2.0+ MB\n"
     ]
    }
   ],
   "source": [
    "df.info()"
   ]
  },
  {
   "cell_type": "code",
   "execution_count": 4,
   "metadata": {},
   "outputs": [
    {
     "data": {
      "text/plain": [
       "F      14236\n",
       "M       7288\n",
       "XNA        1\n",
       "Name: gender, dtype: int64"
      ]
     },
     "execution_count": 4,
     "metadata": {},
     "output_type": "execute_result"
    }
   ],
   "source": [
    "df['gender'].value_counts()"
   ]
  },
  {
   "cell_type": "markdown",
   "metadata": {},
   "source": [
    "Было произведено ознакомление с данными и получено предарительное понимание в каких столбцах датафрейма необходимо внести изменения и корректировки. \n",
    "В столбцах 'days_employed' и 'total_income' присутствует достаточно большое количество пропущенных значений.\n",
    "В некоторых столбцах (напр. пол) есть аномальные значения которые тоже потребуется обработать.\n",
    "Данные в столбце 'purpose' необходимо будет лемматизировать."
   ]
  },
  {
   "cell_type": "markdown",
   "metadata": {},
   "source": [
    "### Обработка пропусков"
   ]
  },
  {
   "cell_type": "code",
   "execution_count": 5,
   "metadata": {
    "scrolled": true
   },
   "outputs": [],
   "source": [
    "df = df.drop(df[df[\"gender\"] == 'XNA'].index) #удалим аномальное значение из пола клиента\n",
    "df = df.drop(df[df[\"dob_years\"] == 0].index) #удалим клиентов с возрастом 0 лет. Т.к. их количество незначительно.\n",
    "df['children'] = abs(df['children']) #уберём отрицательное значение в количестве детей\n",
    "df = df.drop(df[df[\"children\"] == 20].index) #удалим аномальные значения с 20 детьми"
   ]
  },
  {
   "cell_type": "code",
   "execution_count": 6,
   "metadata": {},
   "outputs": [],
   "source": [
    "#приведём к единому регистру и сгрупиируем уровни образования\n",
    "df['education'] = df['education'].str.lower()\n",
    "df = df.replace('ученая степень' , 'высшее')\n",
    "df['education_id'] = df['education_id'].replace(4 , 0)\n",
    "df = df.replace('начальное' , 'среднее')\n",
    "df['education_id'] = df['education_id'].replace(3 , 1)\n"
   ]
  },
  {
   "cell_type": "code",
   "execution_count": 7,
   "metadata": {},
   "outputs": [],
   "source": [
    "#убираем типы занятости встречающиеся 1-2 раза.\n",
    "df = df.replace('в декрете' , 'сотрудник')\n",
    "df = df.replace('предприниматель' , 'компаньон')\n",
    "df = df.drop(df[df[\"income_type\"] == 'студент'].index)\n",
    "df = df.drop(df[df[\"income_type\"] == 'безработный'].index)"
   ]
  },
  {
   "cell_type": "code",
   "execution_count": 8,
   "metadata": {},
   "outputs": [],
   "source": [
    "#рассчитаем медианные значения дохода сгруппированные по типу занятости и образованию. \n",
    "#заполним ими пропущенные значения.\n",
    "\n",
    "df['total_income'] = df.groupby(['income_type'\n",
    "                                 ,'education'])['total_income'].transform(lambda x: x.fillna(x.median()))"
   ]
  },
  {
   "cell_type": "code",
   "execution_count": 9,
   "metadata": {},
   "outputs": [],
   "source": [
    "#уберём отрицательное значение в трудовом стаже\n",
    "df['days_employed'] = abs(df['days_employed'])  "
   ]
  },
  {
   "cell_type": "code",
   "execution_count": 10,
   "metadata": {},
   "outputs": [],
   "source": [
    "#заполним нулями пропуски в трудовом стаже\n",
    "df['days_employed'] = df['days_employed'].fillna(0) "
   ]
  },
  {
   "cell_type": "code",
   "execution_count": 11,
   "metadata": {},
   "outputs": [],
   "source": [
    "#заменим аномальный трудовой стаж более 60 лет на нули\n",
    "for i in df['days_employed']:\n",
    "    if i > 21600:\n",
    "        i = 0"
   ]
  },
  {
   "cell_type": "code",
   "execution_count": 12,
   "metadata": {},
   "outputs": [],
   "source": [
    "#заменим нули на NA\n",
    "df['days_employed'] = df['days_employed'].replace(0, np.nan)\n",
    "\n",
    "#сгруппируем NA по возрасту и заменим на медианные значения для каждого возраста.\n",
    "df['days_employed'] = df.groupby(['dob_years'])['days_employed'].transform(lambda x: x.fillna(x.median()))"
   ]
  },
  {
   "cell_type": "markdown",
   "metadata": {},
   "source": [
    "Пропуски есть только в столбцах 'days_employed' и 'total_income'. При чём если пропущено значение о трудовом стаже, то так же пропущено значение и о текущем доходе. Из этого следует, что данные отсутсвуют из-за того, что клиент ранее по какой либо причине не предоставлял в банк информацию о своих доходах и занятоси. \n",
    "В связи с этим, и невозможностью выяснить доход, строки с отсутствующим значением дохода были заменены на медианные значения сгруппированные по типу занятости и уровню образования.\n",
    "В столбце 'days_employed' аномальные значения и пропущенные значения были заменены на медианные в зависимости от возвраста клиента."
   ]
  },
  {
   "cell_type": "code",
   "execution_count": 13,
   "metadata": {},
   "outputs": [
    {
     "name": "stdout",
     "output_type": "stream",
     "text": [
      "<class 'pandas.core.frame.DataFrame'>\n",
      "Int64Index: 21345 entries, 0 to 21524\n",
      "Data columns (total 12 columns):\n",
      " #   Column            Non-Null Count  Dtype  \n",
      "---  ------            --------------  -----  \n",
      " 0   children          21345 non-null  int64  \n",
      " 1   days_employed     21345 non-null  int64  \n",
      " 2   dob_years         21345 non-null  int64  \n",
      " 3   education         21345 non-null  object \n",
      " 4   education_id      21345 non-null  int64  \n",
      " 5   family_status     21345 non-null  object \n",
      " 6   family_status_id  21345 non-null  int64  \n",
      " 7   gender            21345 non-null  object \n",
      " 8   income_type       21345 non-null  object \n",
      " 9   debt              21345 non-null  int64  \n",
      " 10  total_income      21345 non-null  float64\n",
      " 11  purpose           21345 non-null  object \n",
      "dtypes: float64(1), int64(6), object(5)\n",
      "memory usage: 2.1+ MB\n",
      "None\n"
     ]
    }
   ],
   "source": [
    "#заменим тим данных float64 на int64\n",
    "df['days_employed'] = df['days_employed'].astype(int)\n",
    "print(df.info())"
   ]
  },
  {
   "cell_type": "markdown",
   "metadata": {},
   "source": [
    "Для лучшей визуализации и из-за отcутствия влияния на результат тип данных float64 меняем на int64, в столбце 'days_employed'"
   ]
  },
  {
   "cell_type": "code",
   "execution_count": 14,
   "metadata": {},
   "outputs": [
    {
     "name": "stdout",
     "output_type": "stream",
     "text": [
      "Дубликатов нет\n"
     ]
    }
   ],
   "source": [
    "#удаляем дубликаты\n",
    "df = df.drop_duplicates().reset_index(drop = True)\n",
    "\n",
    "#проверяем, что дубликаты удалены\n",
    "if df.duplicated().sum() == 0:\n",
    "    print('Дубликатов нет')\n",
    "else:\n",
    "    print('Не все дубликаты удалены')"
   ]
  },
  {
   "cell_type": "markdown",
   "metadata": {},
   "source": [
    "Убираем дубликаты данных. Причиной появления дубликатов данных могут быть \"задвоенные\" заявки от клиентов, например отправленные с сайта банка и из приложения."
   ]
  },
  {
   "cell_type": "code",
   "execution_count": 15,
   "metadata": {
    "scrolled": false
   },
   "outputs": [
    {
     "name": "stdout",
     "output_type": "stream",
     "text": [
      "Counter({'автомобиль \\n': 964, 'свадьба \\n': 785, 'на   проведение   свадьба \\n': 760, 'сыграть   свадьба \\n': 756, 'операция   с   недвижимость \\n': 671, 'покупка   коммерческий   недвижимость \\n': 655, 'покупка   жилье   для   сдача \\n': 647, 'операция   с   коммерческий   недвижимость \\n': 644, 'операция   с   жилье \\n': 642, 'покупка   жилье \\n': 636, 'покупка   жилье   для   семья \\n': 636, 'жилье \\n': 636, 'недвижимость \\n': 628, 'строительство   собственный   недвижимость \\n': 626, 'операция   со   свой   недвижимость \\n': 626, 'строительство   жилой   недвижимость \\n': 620, 'строительство   недвижимость \\n': 619, 'покупка   свой   жилье \\n': 619, 'покупка   недвижимость \\n': 615, 'ремонт   жилье \\n': 602, 'покупка   жилой   недвижимость \\n': 601, 'на   покупка   свой   автомобиль \\n': 502, 'заниматься   высокий   образование \\n': 493, 'сделка   с   подержанный   автомобиль \\n': 480, 'на   покупка   подержать   автомобиль \\n': 472, 'свой   автомобиль \\n': 472, 'на   покупка   автомобиль \\n': 466, 'приобретение   автомобиль \\n': 459, 'дополнительный   образование \\n': 455, 'сделка   с   автомобиль \\n': 454, 'высокий   образование \\n': 444, 'получение   дополнительный   образование \\n': 443, 'образование \\n': 442, 'получение   образование \\n': 440, 'профильный   образование \\n': 433, 'получение   высокий   образование \\n': 423, 'заниматься   образование \\n': 407})\n",
      "\n",
      "Не все дубликаты удалены\n"
     ]
    }
   ],
   "source": [
    "#определим основаные лемматезированные цели получения кредита\n",
    "lemmas_words = []\n",
    "for i in df['purpose']:\n",
    "    lemmas = ' '.join(m.lemmatize(i))\n",
    "    lemmas_words.append(lemmas)\n",
    "lemmas_counts = Counter(lemmas_words)\n",
    "print(lemmas_counts)\n",
    "\n",
    "\n",
    "#изменим данные в столбце purpose исходя из полученной информации\n",
    "lemmas_words_column = []\n",
    "for i in lemmas_words:\n",
    "    if 'свадьба' in i:\n",
    "        lemmas_words_column.append('свадьба') \n",
    "    elif 'образование' in i:\n",
    "        lemmas_words_column.append('образование') \n",
    "    elif 'автомобиль' in i:\n",
    "        lemmas_words_column.append('автомобиль') \n",
    "    elif 'жилье' in i  or 'недвижимость' in i:\n",
    "        lemmas_words_column.append('недвижимость') \n",
    "df['purpose'] = lemmas_words_column\n",
    "\n",
    "#проверяем, появились ли новые дубликаты после лемматизации\n",
    "print()\n",
    "if df.duplicated().sum() == 0:\n",
    "    print('Дубликатов нет')\n",
    "else:\n",
    "    print('Не все дубликаты удалены')\n",
    "\n",
    "    \n",
    "#удаляем новые дубликаты\n",
    "df = df.drop_duplicates().reset_index(drop = True)    "
   ]
  },
  {
   "cell_type": "markdown",
   "metadata": {},
   "source": [
    "С помощью pymystem3 произвели лемматизацию столбца 'purpose' и с её помощью выделили 4 цели получения кредита."
   ]
  },
  {
   "cell_type": "markdown",
   "metadata": {},
   "source": [
    "### Категоризация данных."
   ]
  },
  {
   "cell_type": "markdown",
   "metadata": {},
   "source": [
    "Добавим дополнительные столбцы, разбив клиентов на группы по доходу, возрасту и наличию детей. Для лучшей категоризации данных и создания сводных таблиц."
   ]
  },
  {
   "cell_type": "code",
   "execution_count": 16,
   "metadata": {},
   "outputs": [],
   "source": [
    "#создадим функцию для категоризации количества детей\n",
    "def children_group(children):\n",
    "    if children < 1:\n",
    "        return 'бездетный'\n",
    "    return 'с детьми'\n",
    "#добавим столбец в df\n",
    "df['children_group'] = df['children'].apply(children_group)\n",
    "\n",
    "#разделим уровни дохода на 4 группы: до 1/2 медианной, от 1/2 до медианной, от медианной да 1,5 медианных и от 1,5 медианных, присвоим этим значениям дохода переменные\n",
    "median_income = df['total_income'].median()\n",
    "\n",
    "#создадим функцию для определения уровня дохода\n",
    "def income_group(income):\n",
    "    if income < median_income/2:\n",
    "        return 'низкий'\n",
    "    if income < median_income:\n",
    "        return 'средний'\n",
    "    if income < median_income*1.5:\n",
    "        return 'выше среднего'\n",
    "    return 'высокий'\n",
    "\n",
    "df['income_group'] = df['total_income'].apply(income_group)\n",
    "\n",
    "#разделим клиентов на возрастные группы\n",
    "def age_group(age):\n",
    "        if age < 35:\n",
    "                return 'молодой'\n",
    "        if age <= 64:\n",
    "                return 'средний возраст'\n",
    "        return 'пенсионер'\n",
    "    \n",
    "df['age_group'] = df['dob_years'].apply(age_group)"
   ]
  },
  {
   "cell_type": "markdown",
   "metadata": {},
   "source": [
    "#### Есть ли зависимость между наличием детей и возвратом кредита в срок?"
   ]
  },
  {
   "cell_type": "code",
   "execution_count": 17,
   "metadata": {
    "scrolled": false
   },
   "outputs": [
    {
     "data": {
      "text/html": [
       "<div>\n",
       "<style scoped>\n",
       "    .dataframe tbody tr th:only-of-type {\n",
       "        vertical-align: middle;\n",
       "    }\n",
       "\n",
       "    .dataframe tbody tr th {\n",
       "        vertical-align: top;\n",
       "    }\n",
       "\n",
       "    .dataframe thead th {\n",
       "        text-align: right;\n",
       "    }\n",
       "</style>\n",
       "<table border=\"1\" class=\"dataframe\">\n",
       "  <thead>\n",
       "    <tr style=\"text-align: right;\">\n",
       "      <th>age_group</th>\n",
       "      <th>молодой</th>\n",
       "      <th>пенсионер</th>\n",
       "      <th>средний возраст</th>\n",
       "    </tr>\n",
       "    <tr>\n",
       "      <th>children_group</th>\n",
       "      <th></th>\n",
       "      <th></th>\n",
       "      <th></th>\n",
       "    </tr>\n",
       "  </thead>\n",
       "  <tbody>\n",
       "    <tr>\n",
       "      <th>бездетный</th>\n",
       "      <td>0.109463</td>\n",
       "      <td>0.055952</td>\n",
       "      <td>0.06855</td>\n",
       "    </tr>\n",
       "    <tr>\n",
       "      <th>с детьми</th>\n",
       "      <td>0.110371</td>\n",
       "      <td>0.050000</td>\n",
       "      <td>0.08139</td>\n",
       "    </tr>\n",
       "  </tbody>\n",
       "</table>\n",
       "</div>"
      ],
      "text/plain": [
       "age_group        молодой  пенсионер  средний возраст\n",
       "children_group                                      \n",
       "бездетный       0.109463   0.055952          0.06855\n",
       "с детьми        0.110371   0.050000          0.08139"
      ]
     },
     "execution_count": 17,
     "metadata": {},
     "output_type": "execute_result"
    }
   ],
   "source": [
    "df.pivot_table(index=['children_group'], columns= 'age_group', values='debt')"
   ]
  },
  {
   "cell_type": "markdown",
   "metadata": {},
   "source": [
    "Просроченные платежи по кредиту у клиентов возрастом до 35 лет возникают независимо от наличия детей.\n",
    "\n",
    "У клиентов возраст которых от 35 до 64 лет, наличие детей увеличивает риск просрочек по кредиту практически на 1,5%. Это связано с тем, что клиенты данной возрастной группы, как правило являются достаточно сильно закредитованными, и дополнительные расходы на подрастающих детей увеличивают риск просрочки платежа.\n",
    "\n",
    "Клиенты пенсионного возраста с детьми наоборот, менее подвержены риску дефолта, т.к. дети скорее всего трудоспособного возраста и могут оказать финансовую поддержку заёмщику в случае непредвиденных ситуаций."
   ]
  },
  {
   "cell_type": "markdown",
   "metadata": {},
   "source": [
    "#### Есть ли зависимость между семейным положением и возвратом кредита в срок?"
   ]
  },
  {
   "cell_type": "code",
   "execution_count": 18,
   "metadata": {},
   "outputs": [
    {
     "data": {
      "text/html": [
       "<div>\n",
       "<style scoped>\n",
       "    .dataframe tbody tr th:only-of-type {\n",
       "        vertical-align: middle;\n",
       "    }\n",
       "\n",
       "    .dataframe tbody tr th {\n",
       "        vertical-align: top;\n",
       "    }\n",
       "\n",
       "    .dataframe thead th {\n",
       "        text-align: right;\n",
       "    }\n",
       "</style>\n",
       "<table border=\"1\" class=\"dataframe\">\n",
       "  <thead>\n",
       "    <tr style=\"text-align: right;\">\n",
       "      <th>gender</th>\n",
       "      <th>F</th>\n",
       "      <th>M</th>\n",
       "      <th>мean</th>\n",
       "    </tr>\n",
       "    <tr>\n",
       "      <th>family_status</th>\n",
       "      <th></th>\n",
       "      <th></th>\n",
       "      <th></th>\n",
       "    </tr>\n",
       "  </thead>\n",
       "  <tbody>\n",
       "    <tr>\n",
       "      <th>Не женат / не замужем</th>\n",
       "      <td>0.069412</td>\n",
       "      <td>0.145695</td>\n",
       "      <td>0.107554</td>\n",
       "    </tr>\n",
       "    <tr>\n",
       "      <th>в разводе</th>\n",
       "      <td>0.066017</td>\n",
       "      <td>0.089494</td>\n",
       "      <td>0.077756</td>\n",
       "    </tr>\n",
       "    <tr>\n",
       "      <th>вдовец / вдова</th>\n",
       "      <td>0.058153</td>\n",
       "      <td>0.200000</td>\n",
       "      <td>0.129076</td>\n",
       "    </tr>\n",
       "    <tr>\n",
       "      <th>гражданский брак</th>\n",
       "      <td>0.082677</td>\n",
       "      <td>0.117465</td>\n",
       "      <td>0.100071</td>\n",
       "    </tr>\n",
       "    <tr>\n",
       "      <th>женат / замужем</th>\n",
       "      <td>0.069696</td>\n",
       "      <td>0.089058</td>\n",
       "      <td>0.079377</td>\n",
       "    </tr>\n",
       "  </tbody>\n",
       "</table>\n",
       "</div>"
      ],
      "text/plain": [
       "gender                        F         M      мean\n",
       "family_status                                      \n",
       "Не женат / не замужем  0.069412  0.145695  0.107554\n",
       "в разводе              0.066017  0.089494  0.077756\n",
       "вдовец / вдова         0.058153  0.200000  0.129076\n",
       "гражданский брак       0.082677  0.117465  0.100071\n",
       "женат / замужем        0.069696  0.089058  0.079377"
      ]
     },
     "execution_count": 18,
     "metadata": {},
     "output_type": "execute_result"
    }
   ],
   "source": [
    "df_familystatus_pivot = (df.pivot_table(index=['family_status'], columns= 'gender', values='debt'))\n",
    "df_familystatus_pivot['мean'] =  (df_familystatus_pivot['F'] + df_familystatus_pivot['M'])/2\n",
    "df_familystatus_pivot"
   ]
  },
  {
   "cell_type": "markdown",
   "metadata": {},
   "source": [
    "Процент просроченных кредитов выше у клиентов не состоящих в браке либо у вдов/вдовцов. При чём мужчины более подвержены риску дефолта кредита чем женщины."
   ]
  },
  {
   "cell_type": "markdown",
   "metadata": {},
   "source": [
    "#### Есть ли зависимость между уровнем дохода и возвратом кредита в срок?"
   ]
  },
  {
   "cell_type": "code",
   "execution_count": 19,
   "metadata": {
    "scrolled": true
   },
   "outputs": [
    {
     "data": {
      "text/html": [
       "<div>\n",
       "<style scoped>\n",
       "    .dataframe tbody tr th:only-of-type {\n",
       "        vertical-align: middle;\n",
       "    }\n",
       "\n",
       "    .dataframe tbody tr th {\n",
       "        vertical-align: top;\n",
       "    }\n",
       "\n",
       "    .dataframe thead th {\n",
       "        text-align: right;\n",
       "    }\n",
       "</style>\n",
       "<table border=\"1\" class=\"dataframe\">\n",
       "  <thead>\n",
       "    <tr style=\"text-align: right;\">\n",
       "      <th>income_type</th>\n",
       "      <th>госслужащий</th>\n",
       "      <th>компаньон</th>\n",
       "      <th>пенсионер</th>\n",
       "      <th>сотрудник</th>\n",
       "    </tr>\n",
       "    <tr>\n",
       "      <th>income_group</th>\n",
       "      <th></th>\n",
       "      <th></th>\n",
       "      <th></th>\n",
       "      <th></th>\n",
       "    </tr>\n",
       "  </thead>\n",
       "  <tbody>\n",
       "    <tr>\n",
       "      <th>высокий</th>\n",
       "      <td>0.046667</td>\n",
       "      <td>0.062124</td>\n",
       "      <td>0.062356</td>\n",
       "      <td>0.083507</td>\n",
       "    </tr>\n",
       "    <tr>\n",
       "      <th>выше среднего</th>\n",
       "      <td>0.044444</td>\n",
       "      <td>0.078515</td>\n",
       "      <td>0.061224</td>\n",
       "      <td>0.095761</td>\n",
       "    </tr>\n",
       "    <tr>\n",
       "      <th>низкий</th>\n",
       "      <td>0.059406</td>\n",
       "      <td>0.078947</td>\n",
       "      <td>0.050420</td>\n",
       "      <td>0.081395</td>\n",
       "    </tr>\n",
       "    <tr>\n",
       "      <th>средний</th>\n",
       "      <td>0.077966</td>\n",
       "      <td>0.082305</td>\n",
       "      <td>0.058215</td>\n",
       "      <td>0.105605</td>\n",
       "    </tr>\n",
       "  </tbody>\n",
       "</table>\n",
       "</div>"
      ],
      "text/plain": [
       "income_type    госслужащий  компаньон  пенсионер  сотрудник\n",
       "income_group                                               \n",
       "высокий           0.046667   0.062124   0.062356   0.083507\n",
       "выше среднего     0.044444   0.078515   0.061224   0.095761\n",
       "низкий            0.059406   0.078947   0.050420   0.081395\n",
       "средний           0.077966   0.082305   0.058215   0.105605"
      ]
     },
     "execution_count": 19,
     "metadata": {},
     "output_type": "execute_result"
    }
   ],
   "source": [
    "df.pivot_table(index=['income_group'], columns= 'income_type', values='debt')"
   ]
  },
  {
   "cell_type": "markdown",
   "metadata": {},
   "source": [
    "Клиенты с доходом 'средний' и 'выше среднего' наиболее подвержены риску просрочки по кредиту. При этом наиболее часто просрочку допускают клиенты с типом занятости 'сотрудник'"
   ]
  },
  {
   "cell_type": "markdown",
   "metadata": {},
   "source": [
    "#### Как разные цели кредита влияют на его возврат в срок?"
   ]
  },
  {
   "cell_type": "code",
   "execution_count": 20,
   "metadata": {},
   "outputs": [
    {
     "data": {
      "text/html": [
       "<div>\n",
       "<style scoped>\n",
       "    .dataframe tbody tr th:only-of-type {\n",
       "        vertical-align: middle;\n",
       "    }\n",
       "\n",
       "    .dataframe tbody tr th {\n",
       "        vertical-align: top;\n",
       "    }\n",
       "\n",
       "    .dataframe thead th {\n",
       "        text-align: right;\n",
       "    }\n",
       "</style>\n",
       "<table border=\"1\" class=\"dataframe\">\n",
       "  <thead>\n",
       "    <tr style=\"text-align: right;\">\n",
       "      <th>education</th>\n",
       "      <th>высшее</th>\n",
       "      <th>неоконченное высшее</th>\n",
       "      <th>среднее</th>\n",
       "    </tr>\n",
       "    <tr>\n",
       "      <th>purpose</th>\n",
       "      <th></th>\n",
       "      <th></th>\n",
       "      <th></th>\n",
       "    </tr>\n",
       "  </thead>\n",
       "  <tbody>\n",
       "    <tr>\n",
       "      <th>автомобиль</th>\n",
       "      <td>0.064390</td>\n",
       "      <td>0.104575</td>\n",
       "      <td>0.103076</td>\n",
       "    </tr>\n",
       "    <tr>\n",
       "      <th>недвижимость</th>\n",
       "      <td>0.049049</td>\n",
       "      <td>0.090186</td>\n",
       "      <td>0.081829</td>\n",
       "    </tr>\n",
       "    <tr>\n",
       "      <th>образование</th>\n",
       "      <td>0.059913</td>\n",
       "      <td>0.091603</td>\n",
       "      <td>0.104861</td>\n",
       "    </tr>\n",
       "    <tr>\n",
       "      <th>свадьба</th>\n",
       "      <td>0.045455</td>\n",
       "      <td>0.076923</td>\n",
       "      <td>0.091925</td>\n",
       "    </tr>\n",
       "  </tbody>\n",
       "</table>\n",
       "</div>"
      ],
      "text/plain": [
       "education       высшее  неоконченное высшее   среднее\n",
       "purpose                                              \n",
       "автомобиль    0.064390             0.104575  0.103076\n",
       "недвижимость  0.049049             0.090186  0.081829\n",
       "образование   0.059913             0.091603  0.104861\n",
       "свадьба       0.045455             0.076923  0.091925"
      ]
     },
     "execution_count": 20,
     "metadata": {},
     "output_type": "execute_result"
    }
   ],
   "source": [
    "df.pivot_table(index=['purpose'], columns= 'education', values='debt')"
   ]
  },
  {
   "cell_type": "markdown",
   "metadata": {},
   "source": [
    "Наибольший процент просроченных кредитов приходится на кредиты взятые на образование и на покупку автомобиля. При чём клиенты не имеющие высшего образования имеют больший риск просрочки по кредиту"
   ]
  },
  {
   "cell_type": "markdown",
   "metadata": {},
   "source": [
    "###  Общий вывод"
   ]
  },
  {
   "cell_type": "markdown",
   "metadata": {},
   "source": [
    "Исходя из проведенного анализа, можно сделать следующие выводы:\n",
    "Наличие детей влияет на риск невозврата кредита. Причём для клиентов среднего возраста (от 35 до 64 лет) наличие детей увеличивает процент просроченных платежей по кредиту с 6.9%п.п. до 8.1% . А у клиентов \"пенсионного\" возраста(от 64 лет) наоборот незначительно уменьшает на 0,6%.\n",
    "\n",
    "Тип сеймейного положения клиента также имеет влияние на процент просроченных платежей по кредиту. Клиенты, состоящие в гражданском браке и клиенты потерявшие супруга/супругу, более склонны к допущению просроченных платежей.\n",
    "\n",
    "Клиенты со средним и выше среднего доходами чаще остальных допускают просроченные платежи по кредитам. Скорее всего это связано с хорошей одобряемостью кредитов со стороны банков (в отличии от клиентов с низким доходом), что влечёт под собой сильную кредитную нагрузку, но в случае непредвиденных обстоятельств, они менее защищены в отличие от клиентов с высоким доходом. Причём клиенты работающие по найму наиболее подвержены просрочкам по кредиту.\n",
    "\n",
    "Цели кредита на образование и на покупку автомобиля более рисковые в плане вероятности допущения просрочек нежели кредиты взятые на покупку недвижимости(как правило обеспеченные) и на свадьбу. Причём риск невозврата кредита во всех категориях является максимальным у клиентов со средним образованием и уменьшается у клиентов с высшим.\n",
    "\n",
    "По результатам проведенного анализа, рекомендуется учесть вышестоящие выводы при построении скоринговой модели.\n",
    "\n"
   ]
  }
 ],
 "metadata": {
  "kernelspec": {
   "display_name": "Python 3",
   "language": "python",
   "name": "python3"
  },
  "language_info": {
   "codemirror_mode": {
    "name": "ipython",
    "version": 3
   },
   "file_extension": ".py",
   "mimetype": "text/x-python",
   "name": "python",
   "nbconvert_exporter": "python",
   "pygments_lexer": "ipython3",
   "version": "3.7.6"
  }
 },
 "nbformat": 4,
 "nbformat_minor": 2
}
